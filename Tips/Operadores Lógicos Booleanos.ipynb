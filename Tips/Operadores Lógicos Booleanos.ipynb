{
 "cells": [
  {
   "cell_type": "markdown",
   "id": "e5bf09d3-64a4-4bf5-9216-dc0d2f8d4e7b",
   "metadata": {},
   "source": [
    "# <CENTER> OPERADORES BOOLEANOS\n",
    "| TRUE  | FALSE |\n",
    "|-------|-------|\n",
    "| ✔️   | ❌    |"
   ]
  },
  {
   "cell_type": "markdown",
   "id": "d8d77f08-e539-44a6-81ee-70b943f58dfa",
   "metadata": {
    "jp-MarkdownHeadingCollapsed": true
   },
   "source": [
    "## AND (Y)\n",
    "El operador AND devuelve `true` solo si todos operandos son `true`, en los demas casos es siempre `false`.\n",
    "\n",
    "| A     | B     | C     | A AND B AND C | Ejemplo en Python                   |\n",
    "|-------|-------|-------|----------------|-------------------------------------|\n",
    "| ✔️     | ✔️     | ✔️     | ✔️             | `True and True and True   # True`   |\n",
    "| ✔️     | ✔️     | ❌     | ❌             | `True and True and False  # False`  |\n",
    "| ✔️     | ❌     | ✔️     | ❌             | `True and False and True  # False`  |\n",
    "| ✔️     | ❌     | ❌     | ❌             | `True and False and False # False`  |\n",
    "| ❌     | ✔️     | ✔️     | ❌             | `False and True and True  # False`  |\n",
    "| ❌     | ✔️     | ❌     | ❌             | `False and True and False # False`  |\n",
    "| ❌     | ❌     | ✔️     | ❌             | `False and False and True # False`  |\n",
    "| ❌     | ❌     | ❌     | ❌             | `False and False and False # False` |"
   ]
  },
  {
   "cell_type": "markdown",
   "id": "ae4c15cc-9304-491b-b8a6-96f54bad4780",
   "metadata": {},
   "source": [
    "## NAND (NO Y)\n",
    "El operador NAND devuelve `false` solo si todos los operandos son `true`, en los demas casos es siempre `true`.\n",
    "\n",
    "| A     | B     | C     | NOT (A AND B AND C) | Ejemplo en Python                        |\n",
    "|-------|-------|-------|---------------------|------------------------------------------|\n",
    "| ✔️     | ✔️     | ✔️     | ❌                 | `not (True and True and True)  # False`  |\n",
    "| ✔️     | ✔️     | ❌     | ✔️                 | `not (True and True and False) # True`   |\n",
    "| ✔️     | ❌     | ✔️     | ✔️                 | `not (True and False and True) # True`   |\n",
    "| ✔️     | ❌     | ❌     | ✔️                 | `not (True and False and False) # True`  |\n",
    "| ❌     | ✔️     | ✔️     | ✔️                 | `not (False and True and True) # True`   |\n",
    "| ❌     | ✔️     | ❌     | ✔️                 | `not (False and True and False) # True`  |\n",
    "| ❌     | ❌     | ✔️     | ✔️                 | `not (False and False and True) # True`  |\n",
    "| ❌     | ❌     | ❌     | ✔️                 | `not (False and False and False) # True` |"
   ]
  },
  {
   "cell_type": "markdown",
   "id": "213940a8-ba5a-44b7-9e66-afe87ee04a75",
   "metadata": {},
   "source": [
    "## OR (O)\n",
    "El operador OR devuelve `true` si al menos uno de los operandos es `true`, solo si todos son `false` se retorna `false`.\n",
    "\n",
    "| A     | B     | C     | A OR B OR C   | Ejemplo en Python                   |\n",
    "|-------|-------|-------|----------------|-------------------------------------|\n",
    "| ✔️     | ✔️     | ✔️     | ✔️             | `True or True or True    # True`    |\n",
    "| ✔️     | ✔️     | ❌     | ✔️             | `True or True or False   # True`    |\n",
    "| ✔️     | ❌     | ✔️     | ✔️             | `True or False or True   # True`    |\n",
    "| ✔️     | ❌     | ❌     | ✔️             | `True or False or False  # True`    |\n",
    "| ❌     | ✔️     | ✔️     | ✔️             | `False or True or True   # True`    |\n",
    "| ❌     | ✔️     | ❌     | ✔️             | `False or True or False  # True`    |\n",
    "| ❌     | ❌     | ✔️     | ✔️             | `False or False or True  # True`    |\n",
    "| ❌     | ❌     | ❌     | ❌             | `False or False or False # False`   |"
   ]
  },
  {
   "cell_type": "markdown",
   "id": "d3ae3c99-50dc-4879-a0b1-d528d5799443",
   "metadata": {},
   "source": [
    "## NOR (NO O)\n",
    "El operador NOR devuelve `true` solo si todos los operandos son `false`, en los demas casos es siempre `false`.\n",
    "\n",
    "| A     | B     | C     | NOT (A OR B OR C)   | Ejemplo en Python                        |\n",
    "|-------|-------|-------|---------------------|------------------------------------------|\n",
    "| ✔️     | ✔️     | ✔️     | ❌                 | `not (True or True or True)   # False`   |\n",
    "| ✔️     | ✔️     | ❌     | ❌                 | `not (True or True or False)  # False`   |\n",
    "| ✔️     | ❌     | ✔️     | ❌                 | `not (True or False or True)  # False`   |\n",
    "| ✔️     | ❌     | ❌     | ❌                 | `not (True or False or False) # False`   |\n",
    "| ❌     | ✔️     | ✔️     | ❌                 | `not (False or True or True)  # False`   |\n",
    "| ❌     | ✔️     | ❌     | ❌                 | `not (False or True or False) # False`   |\n",
    "| ❌     | ❌     | ✔️     | ❌                 | `not (False or False or True)  # False`  |\n",
    "| ❌     | ❌     | ❌     | ✔️                 | `not (False or False or False) # True`   |"
   ]
  },
  {
   "cell_type": "markdown",
   "id": "fe183809-d541-4eb0-a113-0288db6cc111",
   "metadata": {},
   "source": [
    "## NOT (NO)\n",
    "El operador NOT invierte el valor de un booleano; retorna `true` si el valor es `false` y retorna `false` si el valor es `true`.\n",
    "\n",
    "| A     | NOT A | Ejemplo en Python         |\n",
    "|-------|-------|---------------------------|\n",
    "| ✔️     | ❌     | `not True  # False`       |\n",
    "| ❌     | ✔️     | `not False # True`        |"
   ]
  },
  {
   "cell_type": "markdown",
   "id": "10250b50-ebd0-468c-b1a2-13e45ab7be16",
   "metadata": {},
   "source": [
    "### XOR (O Exclusivo), SE EVALUA POR PARES\n",
    "El operador XOR devuelve `true` si exactamente uno de los operandos es `true`; devuelve `false` si ambos operandos son iguales.\n",
    "\n",
    "| A     | B     | A XOR B | Ejemplo en Python                        |\n",
    "|-------|-------|---------|------------------------------------------|\n",
    "| ✔️     | ✔️     | ❌       | `True != True   # False`                  |\n",
    "| ✔️     | ❌     | ✔️       | `True != False  # True`                   |\n",
    "| ❌     | ✔️     | ✔️       | `False != True  # True`                   |\n",
    "| ❌     | ❌     | ❌       | `False != False # False`                  |\n",
    "\n",
    "Este operador evalúa `true` si exactamente uno de los operandos es `true` y `false` si ambos operandos son iguales."
   ]
  },
  {
   "cell_type": "markdown",
   "id": "527e1e63-d40b-4073-84f4-073ba14e26d2",
   "metadata": {},
   "source": [
    "### XNOR (Equivalencia), SE EVALUA POR PARES\n",
    "El operador XNOR devuelve `true` si ambos operandos son iguales (`true` y `true`, o `false` y `false`); devuelve `false` si los operandos son diferentes (`true` y `false`, o `false` y `true`).\n",
    "\n",
    "| A     | B     | A XNOR B | Ejemplo en Python                        |\n",
    "|-------|-------|----------|------------------------------------------|\n",
    "| ✔️     | ✔️     | ✔️        | `not (True != True)   # True`            |\n",
    "| ✔️     | ❌     | ❌        | `not (True != False)  # False`           |\n",
    "| ❌     | ✔️     | ❌        | `not (False != True)  # False`           |\n",
    "| ❌     | ❌     | ✔️        | `not (False != False) # True`            |"
   ]
  }
 ],
 "metadata": {
  "kernelspec": {
   "display_name": "Python - ML - Data Science",
   "language": "python",
   "name": "python3"
  },
  "language_info": {
   "codemirror_mode": {
    "name": "ipython",
    "version": 3
   },
   "file_extension": ".py",
   "mimetype": "text/x-python",
   "name": "python",
   "nbconvert_exporter": "python",
   "pygments_lexer": "ipython3",
   "version": "3.11.7"
  }
 },
 "nbformat": 4,
 "nbformat_minor": 5
}
