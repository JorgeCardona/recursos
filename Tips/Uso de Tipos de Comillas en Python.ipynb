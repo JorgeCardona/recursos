{
 "cells": [
  {
   "cell_type": "markdown",
   "id": "b714a532-fdb0-4b0c-9db4-aecc53f9f73b",
   "metadata": {},
   "source": [
    "# Tipos de Comillas en Python                                         |"
   ]
  },
  {
   "cell_type": "markdown",
   "id": "1b60d640-7b46-4e9f-8d9d-dca646bcfe97",
   "metadata": {},
   "source": [
    "```python\n",
    "import sqlite3\n",
    "\n",
    "def retrieve_users(database_file, region):\n",
    "    \"\"\"\n",
    "    Recupera usuarios de una región específica de una base de datos SQLite.\n",
    "\n",
    "    Args:\n",
    "    database_file (str): Ruta del archivo de la base de datos SQLite.\n",
    "    region (str): Nombre de la región de la cual se desean recuperar los usuarios.\n",
    "\n",
    "    Returns:\n",
    "    list: Lista de diccionarios, donde cada diccionario representa un usuario con los campos 'username' y 'email'.\n",
    "\n",
    "    Example:\n",
    "    >>> retrieve_users('example.db', 'North')\n",
    "    [{'username': 'user1', 'email': 'user1@example.com'}, {'username': 'user2', 'email': 'user2@example.com'}]\n",
    "    \"\"\"\n",
    "    # Conexión a la base de datos\n",
    "    conn = sqlite3.connect(database_file)\n",
    "    cursor = conn.cursor()\n",
    "\n",
    "    # Consulta SQL para obtener usuarios de una región específica\n",
    "    query = f'''\n",
    "            SELECT username, email\n",
    "            FROM users\n",
    "            WHERE region = '{region}'\n",
    "            '''\n",
    "    cursor.execute(query)\n",
    "\n",
    "    # Recuperar resultados y convertirlos en una lista de diccionarios\n",
    "    users = []\n",
    "    for row in cursor.fetchall():\n",
    "        user = {\n",
    "            'username': row[0],\n",
    "            'email': row[1]\n",
    "        }\n",
    "        users.append(user)\n",
    "\n",
    "    # Cerrar la conexión y devolver los usuarios recuperados\n",
    "    conn.close()\n",
    "    return users\n",
    "```"
   ]
  },
  {
   "cell_type": "markdown",
   "id": "a572bf74-1a73-4610-a5f1-0415088f4c77",
   "metadata": {},
   "source": [
    "Aquí está la tabla mejorada y corregida:\n",
    "\n",
    "| Tipo de Comillas          | Comilla      | Uso                                       | Cuando usar                                                                | Ejemplo                                                 |\n",
    "|---------------------------|--------------|-------------------------------------------|----------------------------------------------------------------------------|---------------------------------------------------------|\n",
    "| Comillas Simples          | `' '`        | Cadenas de texto simples o de una línea.  | Menos recomendada por estandarización en otros lenguajes de programación.  | 'Hola Python desde comillas \"simples\" '                  |\n",
    "| Comillas Dobles           | `\" \"`        | Cadenas de texto simples o de una línea.  | Más recomendada por estandarización en otros lenguajes de programación.    | \"Hola Python desde comillas 'dobles'\"                    |\n",
    "| Comillas Simples Triples  | `''' '''`    | Para cadenas de texto multilínea que requieren comillas simples o dobles sin necesidad de escaparlas.       | Hace más clara y limpia la declaración del contenido de la variable, especialmente con f-strings y contenido multilineal.            | '''<br>query = f'''<br>        SELECT username, email<br>        FROM users<br>        WHERE region = '{region}'<br>        '''<br>''' |\n",
    "| Comillas Dobles Triples   | `\"\"\" \"\"\"`    | Para cadenas de texto multilínea que requieren comillas simples o dobles sin necesidad de escaparlas.      | Especialmente útil en la documentación de scripts, funciones o clases.       | \"\"\"<br>    Recupera usuarios de una región específica de una base de datos SQLite.<br><br>    Args:<br>    database_file (str): Ruta del archivo de la base de datos SQLite.<br>    region (str): Nombre de la región de la cual se desean recuperar los usuarios.<br><br>    Returns:<br>    list: Lista de diccionarios, donde cada diccionario representa un usuario con los campos 'username' y 'email'.<br><br>    Example:<br>    >>> retrieve_users('example.db', 'North')<br>    [{'username': 'user1', 'email': 'user1@example.com'}, {'username': 'user2', 'email': 'user2@example.com'}]<br>    \"\"\""
   ]
  }
 ],
 "metadata": {
  "kernelspec": {
   "display_name": "Python - ML - Data Science",
   "language": "python",
   "name": "python3"
  },
  "language_info": {
   "codemirror_mode": {
    "name": "ipython",
    "version": 3
   },
   "file_extension": ".py",
   "mimetype": "text/x-python",
   "name": "python",
   "nbconvert_exporter": "python",
   "pygments_lexer": "ipython3",
   "version": "3.11.7"
  }
 },
 "nbformat": 4,
 "nbformat_minor": 5
}
