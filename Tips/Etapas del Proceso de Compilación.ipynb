{
 "cells": [
  {
   "cell_type": "markdown",
   "id": "049bc72d-60be-4fbf-abb4-3ab8508b1515",
   "metadata": {},
   "source": [
    "# <center> Proceso de Compilación: Análisis y Transformación del Código Fuente\n",
    "\n",
    "| Componente             | Descripción                                                                 | Correcto                                                                                                                                              | Incorrecto                                                                                                                                        | Ejemplo de reglas             | Análisis de las reglas definidas                                      | Usando el lenguaje correcto              | Usando el lenguaje incorrecto                 |\n",
    "|------------------------|-----------------------------------------------------------------------------|-------------------------------------------------------------------------------------------------------------------------------------------------------|--------------------------------------------------------------------------------------------------------------------------------------------------|-------------------------------|------------------------------------------------------------------------|-----------------------------------------|----------------------------------------------|\n",
    "| **Analizador léxico**  | Divide el código en tokens (palabras) y valida que cada token esté definido en el lenguaje. Si encuentra algo desconocido, da un error. | Código: `int x = 10 + y;` <br> Tokens: `int`, `x`, `=`, `10`, `+`, `y`, `;`                                                                           | Código: `int x = 10 + y @;` <br> Tokens: `int`, `x`, `=`, `10`, `+`, `y`, `@`, `;` <br> Error: Token `@` no válido                                | Tokens válidos: todas las letras del alfabeto, dígitos del 0 al 9, símbolos como `+`, `-`, `=`, `;` | Tokens no válidos: cualquier símbolo no reconocido, como `@`           | Frase correcta: \"La casa es grande.\" <br> Análisis: Frase con tokens válidos y reconocidos | Frase incorrecta: \"La c@s@ es grandes.\" <br> Análisis: Error token @ no declarado en el los simbolos del lenguaje |\n",
    "| **Analizador sintáctico** | Usa los tokens del analizador léxico para formar estructuras y verifica que sigan las reglas gramaticales del lenguaje, como el orden correcto de los tokens. | Estructura: <br> 1. `Declaración de variable`: `int x` <br> 2. `Inicialización`: `= 10 + y` <br> 3. `Terminación`: `;`                                  | Estructura: `int 10 = x;` <br> Error: Sintaxis incorrecta, `10` no puede ser declarado como variable.                                              | Verificación de estructuras gramaticales correctas, como `Sujeto + Verbo + Objeto` | Errores de estructura gramatical, como palabras mal ubicadas o falta de verbos | Frase correcta: \"Juan come manzanas.\" <br> Análisis: Estructura correcta de sujeto-verbo-objeto | Frase incorrecta: \"Come manzanas Juan.\" <br> Análisis: Orden de palabras incorrecto dado la regla definida|\n",
    "| **Analizador semántico** | Comprueba que las estructuras y las operaciones sean lógicamente correctas y tengan sentido en el contexto del lenguaje. | Verifica: <br> 1. `x` está declarada como `int`. <br> 2. `y` está previamente declarada como `int`. <br> 3. Operaciones válidas para los tipos de datos. | Error: `y` no está declarada antes de su uso. <br> Código: `int x = 10 + y;` <br> Mensaje: `Error: 'y' no declarado`. <br> Error: Asignación de tipo incompatible `int x = \"hello\";`. | Verificación de sentido y coherencia de las oraciones y frases | Oraciones sin sentido o incoherentes en el contexto general del texto | Frase correcta: \"Él fue al mercado y compró pan.\" <br> Análisis: Frase lógica y coherente | Frase incorrecta: \"Él pan compró al mercado fue.\" <br> Análisis: Frase incoherente y sin sentido |\n",
    "| **Generador de código intermedio** | Convierte el código en una representación intermedia más simple y genérica. | Código intermedio: <br> 1. `LOAD R1, 10` <br> 2. `LOAD R2, y` <br> 3. `ADD R1, R2` <br> 4. `STORE x, R1`                                               | N/A debido a errores semánticos.                                                                                                                 | Simplificación del texto para facilitar su análisis posterior | No aplica debido a errores semánticos | Frase intermedia correcta: \"Él fue al mercado.\" <br> Análisis: Frase simplificada pero coherente | Frase intermedia incorrecta: \"Él mercado fue al.\" <br> Análisis: Frase desordenada y confusa |\n",
    "| **Optimizador**        | Mejora el código intermedio para hacerlo más eficiente en términos de tiempo de ejecución y uso de recursos.                      | Código intermedio: <br> 1. `LOAD R1, 10` <br> 2. `LOAD R2, y` <br> 3. `ADD R1, R2` <br> 4. `STORE x, R1` <br> Optimización: Si `y` es constante 5: <br> 1. `LOAD R1, 15` <br> 2. `STORE x, R1` | N/A debido a errores en pasos anteriores.                                                                                                        | Revisión y reescritura de oraciones para mejorar la claridad y concisión del texto | No aplica debido a errores en pasos anteriores | Frase optimizada correcta: \"Él fue al mercado y compró pan.\" <br> Análisis: Frase optimizada para claridad | Frase no optimizada: \"Él al mercado fue y pan compró.\" <br> Análisis: Frase menos clara y concisa |\n",
    "| **Generador de código** | Convierte el código intermedio optimizado a instrucciones de máquina específicas para la arquitectura de destino.         | Código máquina (simplificado): <br> 1. `0001 0011 1010` (LOAD R1, 15) <br> 2. `0010 0100 1100` (STORE x, R1)                                           | N/A debido a errores en pasos anteriores.                                                                                                        | Preparación del texto para su presentación final | No aplica debido a errores en pasos anteriores | Frase final correcta: \"El texto está listo para ser enviado.\" <br> Análisis: Frase final bien preparada | Frase final incorrecta: \"El texto para enviado listo está.\" <br> Análisis: Frase final desorganizada |\n",
    "| **Enlazador**          | Combina varios módulos de código en un solo programa ejecutable y resuelve referencias entre ellos.                 | Archivos: `main.o`, `lib.o` <br> Resultado: `programa.exe` <br> Proceso: Resuelve referencias como funciones externas y variables globales entre `main.o` y `lib.o`. | N/A debido a errores en pasos anteriores.                                                                                                        | Combinación de párrafos y secciones del texto para una presentación coherente | No aplica debido a errores en pasos anteriores | Frase final correcta: \"El documento se ha ensamblado correctamente.\" <br> Análisis: Frase combinada adecuadamente | Frase final incorrecta: \"El documento correctamente ensamblado ha sido.\" <br> Análisis: Frase final desorganizada |"
   ]
  },
  {
   "cell_type": "code",
   "execution_count": null,
   "id": "070fec0c-3f7e-4bf6-a36b-e8cb0b3a9d15",
   "metadata": {},
   "outputs": [],
   "source": []
  }
 ],
 "metadata": {
  "kernelspec": {
   "display_name": "Python - ML - Data Science",
   "language": "python",
   "name": "python3"
  },
  "language_info": {
   "codemirror_mode": {
    "name": "ipython",
    "version": 3
   },
   "file_extension": ".py",
   "mimetype": "text/x-python",
   "name": "python",
   "nbconvert_exporter": "python",
   "pygments_lexer": "ipython3",
   "version": "3.11.7"
  }
 },
 "nbformat": 4,
 "nbformat_minor": 5
}
