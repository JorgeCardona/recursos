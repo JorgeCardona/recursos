{
 "cells": [
  {
   "cell_type": "markdown",
   "id": "c93782e0-7ee0-4f59-92e5-b77cfd1ab0d7",
   "metadata": {},
   "source": [
    "# Dividir una cadena en componentes léxicos"
   ]
  },
  {
   "cell_type": "code",
   "execution_count": null,
   "id": "0d1ae0a2-b1bf-4f6b-a065-d77b8d7f8d93",
   "metadata": {},
   "outputs": [],
   "source": [
    "import shlex\n",
    "\n",
    "command = \"ls -l /home/user\"\n",
    "components = shlex.split(command)\n",
    "print(components)"
   ]
  },
  {
   "cell_type": "markdown",
   "id": "e0e98aa1-4fe5-4fc9-bce7-89b166a8dd86",
   "metadata": {},
   "source": [
    "# Manejo de comillas"
   ]
  },
  {
   "cell_type": "code",
   "execution_count": null,
   "id": "bf2cb48e-5637-4abf-a984-774b202a4918",
   "metadata": {},
   "outputs": [],
   "source": [
    "import shlex\n",
    "\n",
    "command = 'echo \"Hello, shklex!\"'\n",
    "components = shlex.split(command)\n",
    "print(components)"
   ]
  },
  {
   "cell_type": "markdown",
   "id": "eee9263a-8cf4-4e17-a10f-cbb80ba9ea67",
   "metadata": {},
   "source": [
    "# Uso de un objeto shlex para un control más fino"
   ]
  },
  {
   "cell_type": "code",
   "execution_count": null,
   "id": "a91f17ad-24eb-4c83-9541-a4a13b516db6",
   "metadata": {},
   "outputs": [],
   "source": [
    "import shlex\n",
    "\n",
    "command = 'cp \"file name with spaces.txt\" /destination/'\n",
    "lexer = shlex.shlex(command, posix=True)\n",
    "lexer.whitespace_split = True\n",
    "components = list(lexer)\n",
    "print(components)"
   ]
  },
  {
   "cell_type": "markdown",
   "id": "a747c6c8-1b3e-4866-a805-6447deabeebc",
   "metadata": {},
   "source": [
    "# Análisis léxico de un archivo"
   ]
  },
  {
   "cell_type": "code",
   "execution_count": null,
   "id": "4a17978c-06fc-4473-8a11-7040b73efa78",
   "metadata": {},
   "outputs": [],
   "source": [
    "import shlex\n",
    "\n",
    "commands = \"\"\"ls -la /home/user\n",
    "echo \"This is a test\"\n",
    "cp \"file with spaces.txt\" /another/destination\n",
    "mkdir new_directory\n",
    "rm -rf old_directory\n",
    "mv \"old file.txt\" \"new file.txt\"\n",
    "chmod 755 script.sh\n",
    "chown user:group file.txt\n",
    "grep \"search pattern\" file.txt\n",
    "find /home/user -name \"*.txt\"\n",
    "tar -czvf archive.tar.gz /path/to/directory\n",
    "ping -c 4 example.com\n",
    "\"\"\"\n",
    "\n",
    "with open(\"commands.txt\", \"w\") as file:\n",
    "    file.write(commands)\n",
    "    \n",
    "with open('commands.txt', 'r') as file:\n",
    "    for line in file:\n",
    "        lexer = shlex.shlex(line, posix=True)\n",
    "        lexer.whitespace_split = True\n",
    "        components = list(lexer)\n",
    "        print(components)\n"
   ]
  },
  {
   "cell_type": "markdown",
   "id": "1802ddec-0ada-4e2f-bd0e-cc2bb2379aec",
   "metadata": {},
   "source": [
    "# Uso de comentarios"
   ]
  },
  {
   "cell_type": "code",
   "execution_count": null,
   "id": "f74a20cb-59ed-4979-a8c6-72073e567d2a",
   "metadata": {},
   "outputs": [],
   "source": [
    "import shlex\n",
    "\n",
    "commands = \"\"\"ls -la /home/user\n",
    "# echo \"This is a test\"\n",
    "cp \"file with spaces.txt\" /another/destination\n",
    "mkdir new_directory\n",
    "/ this is a comment\n",
    "rm -rf old_directory\n",
    "ignore this line\n",
    "\"\"\"\n",
    "\n",
    "lexer = shlex.shlex(commands, posix=True)\n",
    "lexer.whitespace_split = True\n",
    "\n",
    "# omitir lineas o palabras que esten despues de un simbolo especifico, si este entre el simbolo /, elimina toda la palabra\n",
    "lexer.commenters = [ '/', '#', 'r']\n",
    "components = list(lexer)\n",
    "print(components)"
   ]
  },
  {
   "cell_type": "markdown",
   "id": "305f488d-4fd0-47e0-bea6-1c26e55f40ee",
   "metadata": {},
   "source": [
    "# Escape de Cadenas para la Seguridad en Comandos Shell\n",
    "### `shlex.quote` convierte contenido de variables que contienen caracteres especiales en una forma segura para su uso en comandos de shell. Al envolver la cadena en comillas simples y escapar caracteres como espacios, punto y coma, `&&`, `>`, `|`, comillas y otros, `shlex.quote` evita que estos caracteres sean interpretados de manera no deseada o maliciosa. **Esto asegura que la cadena sea tratada como un texto literal que no se puede ejecutar en una shell o terminal**, para evitar la ejecucion de comandos adicionales o redirigir la salida, protegiendo así contra inyecciones de comandos y errores en la ejecución.\n",
    "\n",
    "    \n",
    "### **Lista de Caracteres Especiales dentro del contenidod e variables y su Manejo por `shlex.quote`**\n",
    "\n",
    "| **Carácter Especial** | **Entrada**              | **Salida con `shlex.quote`**    | **Descripción**                                                   |\n",
    "|-----------------------|--------------------------|--------------------------------|-------------------------------------------------------------------|\n",
    "| Espacio               | `file name`              | `'file name'`                  | Los espacios se mantienen intactos pero están rodeados por comillas simples. |\n",
    "| Punto y coma (`;`)    | `file.txt; rm -rf /`     | `'file.txt\\; rm -rf /'`        | El punto y coma se convierte en `\\;` para evitar separación de comandos. |\n",
    "| Doble ampersand (`&&`)| `file.txt && echo \"Done\"`| `'file.txt \\&\\& echo \"Done\"'` | Los `&&` se convierten en `\\&\\&` para evitar que el shell ejecute comandos condicionalmente. |\n",
    "| Redirección (`>`)     | `file.txt > output.txt`  | `'file.txt \\> output.txt'`    | El `>` se convierte en `\\>` para evitar redirección de salida. |\n",
    "| Barra vertical (`|`) | `command1 | command2`    | `'command1 \\| command2'`      | La barra vertical se convierte en `\\|` para evitar canalización de salida. |\n",
    "| Comillas dobles (`\"`) | `\"text\"`                 | `'\"text\"'`                    | Las comillas dobles se mantienen como parte del texto literal, rodeadas de comillas simples. |\n",
    "| Comillas simples (`'`) | `'text'`                 | `\"'text'\"`                    | Las comillas simples se mantienen como parte del texto literal, rodeadas de comillas simples. |\n",
    "| Signo de dólar (`$`)  | `variable=$value`        | `'variable=\\$value'`          | El signo de dólar se convierte en `\\$` para evitar expansión de variables. |\n",
    "| Backticks (`` ` ``)  | `` `command` ``          | ``'\\`command\\`'``             | Los backticks se convierten en `\\`` para evitar la ejecución de comandos. |"
   ]
  },
  {
   "cell_type": "code",
   "execution_count": 8,
   "id": "ce3b5779-e349-4535-9818-d6cd24c4662a",
   "metadata": {},
   "outputs": [
    {
     "name": "stdout",
     "output_type": "stream",
     "text": [
      "Entrada sin escapar: ls -l 'commands.txt && pip freeze > dependencies.txt && rm -rf /'\n",
      "Entrada escapada: ls -l commands.txt\n",
      "\n",
      "-rw-r--r-- 1 root root 334 Jul 21 02:40 commands.txt\n",
      "Comando ejecutado exitosamente!!! ls -l commands.txt\n",
      "\n",
      "\n",
      "No se pudo ejecutar el comando!!! ls -l 'commands.txt && pip freeze > dependencies.txt && rm -rf /'\n",
      "Error: Command 'ls -l 'commands.txt && pip freeze > dependencies.txt && rm -rf /'' returned non-zero exit status 2.\n",
      "\n"
     ]
    },
    {
     "name": "stderr",
     "output_type": "stream",
     "text": [
      "ls: cannot access 'commands.txt && pip freeze > dependencies.txt && rm -rf /': No such file or directory\n"
     ]
    }
   ],
   "source": [
    "import shlex\n",
    "import subprocess\n",
    "\n",
    "# Definir comandos potencialmente peligrosos\n",
    "exportar = 'commands.txt && pip freeze > dependencies.txt'  # Comando para listar y guardar dependencias\n",
    "eliminar = \" && rm -rf /\"  # Comando peligroso para borrar todos los archivos\n",
    "\n",
    "# Construir un comando inseguro\n",
    "leer_archivo_inseguro = exportar + eliminar\n",
    "cadena_insegura = shlex.quote(leer_archivo_inseguro)\n",
    "comando_inseguro = f\"ls -l {cadena_insegura}\"\n",
    "\n",
    "# Mostrar el comando antes de aplicar la protección\n",
    "print(f'Entrada sin escapar: {comando_inseguro}')\n",
    "\n",
    "# Construir un comando seguro usando shlex.quote\n",
    "# Escapar solo la parte de la entrada peligrosa\n",
    "leer_archivo_seguro = 'commands.txt'\n",
    "cadena_segura = shlex.quote(leer_archivo_seguro)\n",
    "comando_seguro = f\"ls -l {cadena_segura}\"\n",
    "\n",
    "# Mostrar el comando escapado\n",
    "print(f'Entrada escapada: {comando_seguro}')\n",
    "\n",
    "# Lista de comandos a ejecutar\n",
    "comandos_a_ejecutar = [comando_seguro, comando_inseguro]\n",
    "\n",
    "for comando in comandos_a_ejecutar:\n",
    "    print()\n",
    "    try:\n",
    "        subprocess.run(comando, shell=True, check=True)\n",
    "        print('Comando ejecutado exitosamente!!!', comando)\n",
    "    except Exception as e:\n",
    "        print('No se pudo ejecutar el comando!!!', comando)\n",
    "        print(f'Error: {e}')\n",
    "    print()\n"
   ]
  }
 ],
 "metadata": {
  "kernelspec": {
   "display_name": "Python - ML - Data Science",
   "language": "python",
   "name": "python3"
  },
  "language_info": {
   "codemirror_mode": {
    "name": "ipython",
    "version": 3
   },
   "file_extension": ".py",
   "mimetype": "text/x-python",
   "name": "python",
   "nbconvert_exporter": "python",
   "pygments_lexer": "ipython3",
   "version": "3.11.7"
  }
 },
 "nbformat": 4,
 "nbformat_minor": 5
}
