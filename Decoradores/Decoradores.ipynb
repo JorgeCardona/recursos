{
 "cells": [
  {
   "cell_type": "markdown",
   "id": "edc55491-5133-4a9c-b658-2f0359d8f2ef",
   "metadata": {},
   "source": [
    "# METODOS DE RECUPERACIÓN DE DATOS, UNO, MULTIPLES, O TODOS.\n",
    "\n",
    "| Base de Datos | Conector                             | `fetchone`                                     | `fetchmany`                                       | `fetchall`                                 |\n",
    "|---------------|--------------------------------------|-------------------------------------------------|----------------------------------------------------|--------------------------------------------|\n",
    "| MySQL         | mysql-connector-python o pymysql     | `unique_row = cursor.fetchone()`                | `many_rows = cursor.fetchmany(size)`               | `all_rows = cursor.fetchall()`               |\n",
    "| PostgreSQL    | psycopg2                              | `unique_row = cursor.fetchone()`                | `many_rows = cursor.fetchmany(size)`               | `all_rows = cursor.fetchall()`               |\n",
    "| SQL Server    | pyodbc                               | `unique_row = cursor.fetchone()`                | `many_rows = cursor.fetchmany(size)`               | `all_rows = cursor.fetchall()`               |\n",
    "| Oracle        | cx_Oracle                            | `unique_row = cursor.fetchone()`                | `many_rows = cursor.fetchmany(size)`               | `all_rows = cursor.fetchall()`               |\n",
    "| Snowflake     | Snowflake Connector                  | `unique_row = cursor.fetchone()`                | `many_rows = cursor.fetchmany(size)`               | `all_rows = cursor.fetchall()`               |\n",
    "| MongoDB       | pymongo                              | `unique_document = collection.find_one({'filtro': 'condicion'})` | `many_documents = [doc for doc in collection.find({'filtro': 'condicion'}).limit(size)]` | `all_documents = list(collection.find())` |                                |"
   ]
  },
  {
   "cell_type": "markdown",
   "id": "4a076a12-8832-46f0-9f65-d3949a71f1d4",
   "metadata": {},
   "source": [
    "# METODOS DE INSERCIÓN DE DATOS.\n",
    "\n",
    "| Base de Datos | Conector                                  | Método de Inserción Masiva                                 | Ejemplo de Uso                                           |\n",
    "|---------------|-------------------------------------------|-----------------------------------------------------------|-----------------------------------------------------------|\n",
    "| PostgreSQL    | psycopg2                                   | `execute_values`                                          | `cursor.execute_values('nombre_tabla', registros)`         |\n",
    "| MySQL         | mysql-connector-python o pymysql            | `executemany`                                             | `cursor.executemany(query, registros)`                     |\n",
    "| SQL Server    | pyodbc                                    | `executemany` o `BULK INSERT` para grandes volúmenes      | `cursor.executemany(query, registros)`                     |\n",
    "| Oracle        | cx_Oracle                                 | `executemany`                                             | `cursor.executemany(query, registros)`                     |\n",
    "| Snowflake     | Snowflake Connector                       | Copia masiva con opciones como COPY INTO o COPY INTO (file_format) | Ver la documentación de Snowflake para la sintaxis específica |\n",
    "| MongoDB       | pymongo                                   | `insert_many`                                             | `collection.insert_many(registros)`                        |"
   ]
  },
  {
   "cell_type": "code",
   "execution_count": null,
   "id": "68539c23-6254-47a1-bea7-995da809dfe0",
   "metadata": {
    "scrolled": true,
    "tags": []
   },
   "outputs": [],
   "source": [
    "from abc import ABC, abstractmethod\n",
    "\n",
    "# Clase base para animales\n",
    "class IAnimal(ABC):\n",
    "    @abstractmethod\n",
    "    def speak(self):\n",
    "        pass\n",
    "\n",
    "# Subclases específicas para tipos de animales\n",
    "class Dog(IAnimal):\n",
    "    def speak(self):\n",
    "        return \"Woof!\"\n",
    "\n",
    "class Cat(IAnimal):\n",
    "    def speak(self):\n",
    "        return \"Meow!\"\n",
    "    \n",
    "class Pato:\n",
    "    def speak(self):\n",
    "        return \"Cuack!\"\n",
    "\n",
    "# Fábrica de animales utilizando polimorfismo\n",
    "class AnimalFactory:\n",
    "    def __init__(self, Animal, **kwargs):\n",
    "        if not issubclass(IAnimal, ABC) or not issubclass(Animal, IAnimal):\n",
    "            raise TypeError(\"La clase debe heredar de IAnimal\")\n",
    "        self.animal_class = Animal\n",
    "\n",
    "    def create_animal(self):\n",
    "        return self.animal_class()\n",
    "\n",
    "# Uso de polimorfismo para crear animales\n",
    "dog_factory = AnimalFactory(Dog)\n",
    "cat_factory = AnimalFactory(Cat)\n",
    "duck_factory = AnimalFactory(Pato)  # Esto generará un error en tiempo de ejecución\n",
    "\n",
    "dog = dog_factory.create_animal()\n",
    "cat = cat_factory.create_animal()\n",
    "duck = duck_factory.create_animal()\n",
    "\n",
    "# Llamada a método común sin saber la clase concreta\n",
    "print(dog.speak())  # Output: Woof!\n",
    "print(cat.speak())  # Output: Meow!\n",
    "print(duck.speak())  # Output: Cuack!\n"
   ]
  },
  {
   "cell_type": "code",
   "execution_count": null,
   "id": "3ae1a023-6ef1-4a57-89e5-459ae7b85888",
   "metadata": {
    "tags": []
   },
   "outputs": [],
   "source": [
    "issubclass(ABC, IAnimal)"
   ]
  },
  {
   "cell_type": "code",
   "execution_count": null,
   "id": "d5f0ea40-c63a-4bb3-9799-8c41d4bee56e",
   "metadata": {},
   "outputs": [],
   "source": [
    "from abc import ABC, abstractmethod\n",
    "\n",
    "class IDataBaseConnector(ABC):\n",
    "    @abstractmethod\n",
    "    def get_connection_url(self):\n",
    "        pass\n",
    "\n",
    "class DummyConnector(IDataBaseConnector):\n",
    "    def __init__(self, connection_params):\n",
    "        self.connection_params = connection_params\n",
    "\n",
    "    def get_connection_url(self):\n",
    "        return f\"dummy://user:{self.connection_params['user']}@{self.connection_params['host']}:{self.connection_params['port']}/database\"\n",
    "\n",
    "class DummyConnectorV2(IDataBaseConnector):\n",
    "    def __init__(self, connection_params):\n",
    "        self.connection_params = connection_params\n",
    "\n",
    "    def get_connection_url(self):\n",
    "        return f\"dummy_v2://user:{self.connection_params['user']}@{self.connection_params['host']}:{self.connection_params['port']}/database\"\n",
    "\n",
    "class SingletonConnectionFactory:\n",
    "\n",
    "    _instances = {}  # Utilizamos un diccionario para manejar diferentes instancias por tipo de conector\n",
    "\n",
    "    def __new__(cls, IDataBaseConnector, connection_params):\n",
    "        if not issubclass(IDataBaseConnector, IDataBaseConnector):\n",
    "            raise TypeError(\"La clase del conector debe heredar de IDataBaseConnector\")\n",
    "        \n",
    "        # Clave única basada en el nombre de la clase del conector\n",
    "        key = IDataBaseConnector.__name__\n",
    "\n",
    "        if key not in cls._instances:\n",
    "            print(f\"Nueva instancia creada para {key}\")\n",
    "            cls._instances[key] = super(SingletonConnectionFactory, cls).__new__(cls)\n",
    "            cls._instances[key].connector = IDataBaseConnector(connection_params=connection_params)\n",
    "            cls._instances[key].session = None\n",
    "        else:\n",
    "            print(f\"La instancia para {key} ya existía, reutilizando...\")\n",
    "\n",
    "        return cls._instances[key]\n",
    "\n",
    "    def create_session(self):\n",
    "        try:\n",
    "            connection_url = self.connector.get_connection_url()\n",
    "            print(f\"Session created with connection URL: {connection_url}\")\n",
    "        except Exception as error:\n",
    "            print(f\"Error creating session: {error}\")\n",
    "\n",
    "# Uso de SingletonConnectionFactory con DummyConnector\n",
    "connector_params = {\"user\": \"john\", \"host\": \"localhost\", \"port\": 5432}\n",
    "\n",
    "factory_instance_1 = SingletonConnectionFactory(DummyConnector, connector_params)\n",
    "factory_instance_2 = SingletonConnectionFactory(DummyConnector, connector_params)\n",
    "\n",
    "assert factory_instance_1 is factory_instance_2\n",
    "\n",
    "factory_instance_1.create_session()\n",
    "\n",
    "# Uso de SingletonConnectionFactory con DummyConnectorV2\n",
    "connector_params_v2 = {\"user\": \"jane\", \"host\": \"example.com\", \"port\": 8080}\n",
    "\n",
    "factory_instance_3 = SingletonConnectionFactory(DummyConnectorV2, connector_params_v2)\n",
    "factory_instance_4 = SingletonConnectionFactory(DummyConnectorV2, connector_params_v2)\n",
    "\n",
    "assert factory_instance_3 is factory_instance_4  # Ambas instancias deben ser iguales\n",
    "factory_instance_3.create_session()\n"
   ]
  },
  {
   "cell_type": "code",
   "execution_count": null,
   "id": "45826b1c-9ebd-4dee-8b73-b0eebb6ad02d",
   "metadata": {
    "tags": []
   },
   "outputs": [],
   "source": [
    "factory_instance_4 is factory_instance_3"
   ]
  },
  {
   "cell_type": "code",
   "execution_count": null,
   "id": "3f08640b-1f17-401e-803a-eb86e2c7dd60",
   "metadata": {
    "tags": []
   },
   "outputs": [],
   "source": [
    "factory_instance_2"
   ]
  },
  {
   "cell_type": "markdown",
   "id": "1a43be95-5fc4-4cba-b018-1838bec08472",
   "metadata": {},
   "source": [
    "# <center> DECORADORES </center>\n",
    "### Ampliar la funcionalidad básica de una función\n",
    "### Los decoradores en Python son funciones que toman otra función como argumento y la extienden, complementan o modifican su comportamiento. \n",
    "### Esto se puede utilizar para realizar tareas adicionales antes o después de la ejecución de la función principal, \n",
    "### de manera similar a cómo funcionan los interceptores en otros contextos.\n",
    "\n",
    "- adicionar logs\n",
    "- extraer datos\n",
    "- medir tiempo de cuanto tarda la ejecución de la función original\n",
    "- ejecutar código antes de la ejecución de la función\n",
    "- ejecutar código después de la ejecución de la función\n",
    "- parsear la respuesta de la función, por ejemplo convertir todo en utf8, todo con 2 decimales, todos mayusculas, etc."
   ]
  },
  {
   "cell_type": "code",
   "execution_count": null,
   "id": "99e130b4-ae41-4bf1-80e4-6e30e8a90ca1",
   "metadata": {},
   "outputs": [],
   "source": [
    "def decorador_2(f):\n",
    "    def funcion_nueva():\n",
    "        f()\n",
    "        print(\"Funcionalidad extra 2\")\n",
    "    return funcion_nueva\n",
    "\n",
    "def decorador(f):\n",
    "    def funcion_nueva():\n",
    "        print(\"Funcionalidad extra\")\n",
    "        f()\n",
    "    return funcion_nueva\n",
    "\n",
    "@decorador_2\n",
    "@decorador\n",
    "def funcion_inicial():\n",
    "    print(\"Funcionalidad inicial\")\n",
    "\n",
    "funcion_inicial()"
   ]
  },
  {
   "cell_type": "code",
   "execution_count": null,
   "id": "b80631b4-7a80-4544-bb25-3d6a724b53ed",
   "metadata": {
    "tags": []
   },
   "outputs": [],
   "source": [
    "\n",
    "# code for testing decorator chaining \n",
    "def decor1(func): \n",
    "    def inner(): \n",
    "        x = func() \n",
    "        return x * x \n",
    "    return inner \n",
    " \n",
    "def decor(func): \n",
    "    def inner(): \n",
    "        x = func() \n",
    "        return 2 * x \n",
    "    return inner \n",
    " \n",
    "@decor1\n",
    "@decor\n",
    "def num(): \n",
    "    return 10\n",
    " \n",
    "@decor\n",
    "@decor1\n",
    "def num2():\n",
    "    return 10\n",
    "   \n",
    "print(num()) \n",
    "print(num2())"
   ]
  },
  {
   "cell_type": "markdown",
   "id": "f9470bbd-d094-43bc-82f8-321104283268",
   "metadata": {},
   "source": [
    "Autenticación y Autorización: Puedes usar decoradores para agregar fácilmente lógica de autenticación y autorización a tus vistas o funciones. Esto puede hacer que tu código sea más limpio y modular.\n",
    "\n",
    "```python\n",
    "@requiere_autenticacion\n",
    "@requiere_permiso(\"admin\")\n",
    "def administrar_usuario(usuario_id):\n",
    "    # Lógica para administrar un usuario\n",
    "    \n",
    "``\n",
    "Logging: Los decoradores son útiles para agregar registros a funciones o métodos sin modificar su lógica interna.\n",
    "```python\n",
    "@registrar_log\n",
    "def operacion_critica():\n",
    "    # Lógica de operación crítica\n",
    "```\n",
    "\n",
    "Métricas de Rendimiento: Puedes usar decoradores para medir el tiempo de ejecución de funciones clave.\n",
    "```python\n",
    "@medir_tiempo\n",
    "def proceso_largo():\n",
    "    # Lógica de un proceso que quieres medir\n",
    "```\n",
    "\n",
    "Caching: Puedes implementar fácilmente caching para funciones costosas.\n",
    "```python\n",
    "@cache\n",
    "def resultado_costoso(parametro):\n",
    "    # Lógica costosa\n",
    "```\n",
    "\n",
    "Validación de Formularios: En frameworks web como Django, los decoradores pueden ser útiles para validar automáticamente los formularios antes de procesar una vista.\n",
    "```python\n",
    "@validar_formulario(MiFormulario)\n",
    "def procesar_formulario(request, formulario):\n",
    "    # Lógica para procesar el formulario\n",
    "```\n",
    "\n",
    "Manejo de Transacciones: Puedes usar decoradores para gestionar automáticamente las transacciones de base de datos.\n",
    "```python\n",
    "@manejar_transaccion\n",
    "def actualizar_base_de_datos(datos):\n",
    "    # Lógica de actualización de la base de datos\n",
    "```\n",
    "\n",
    "Rutas de API en Frameworks Web: En frameworks web como Flask, los decoradores se utilizan comúnmente para definir rutas de API y agregar middleware.\n",
    "```python\n",
    "@app.route(\"/api/endpoint\")\n",
    "@requiere_autenticacion\n",
    "def api_endpoint():\n",
    "    # Lógica de la API\n",
    "```\n",
    "\n",
    "Retry de Funciones: Puedes usar decoradores para implementar lógica de reintento en funciones que pueden fallar temporalmente.\n",
    "```python\n",
    "@retry(intentos=3)\n",
    "def operacion_inestable():\n",
    "    # Lógica inestable\n",
    "```"
   ]
  },
  {
   "cell_type": "code",
   "execution_count": null,
   "id": "d2c50cda-759b-47e2-97a1-6eb0741a3692",
   "metadata": {
    "tags": []
   },
   "outputs": [],
   "source": [
    "def decorador_de_decoradores(funcion_a_procesar):\n",
    "    def mostrar(*args, **kwargs):\n",
    "        print('Inicio Proceso, el nombre de la funcion a procesar es: ', funcion_a_procesar.__name__)\n",
    "        print('Inicio Proceso con parametros: ', args, kwargs)\n",
    "        return funcion_a_procesar(*args, **kwargs) * 0\n",
    "        \n",
    "    return mostrar\n",
    "\n",
    "@decorador_de_decoradores\n",
    "def funcion_decoradora(funcion_a_procesar):\n",
    "    def mostrar(*args, **kwargs):\n",
    "        print('Inicio Proceso, el nombre de la funcion a procesar es: ', funcion_a_procesar.__name__)\n",
    "        print('Inicio Proceso con parametros: ', args, kwargs)\n",
    "        \n",
    "        print('Finalizo Proceso')\n",
    "        return funcion_a_procesar(*args, **kwargs) * 2\n",
    "    return mostrar\n",
    "\n",
    "@funcion_decoradora\n",
    "def sumar(a, b):\n",
    "    return a + b\n",
    "    \n",
    "sumar(1, 2)"
   ]
  },
  {
   "cell_type": "code",
   "execution_count": null,
   "id": "6680e68c-2382-4137-b83f-35b050837ac9",
   "metadata": {
    "tags": []
   },
   "outputs": [],
   "source": [
    "def decorador_de_decoradores(decorador):\n",
    "    def wrapper(funcion_a_procesar):\n",
    "        def mostrar(*args, **kwargs):\n",
    "            \n",
    "            print(f'Inicio Paso decorador_de_decoradores parametros:', args, kwargs)\n",
    "            print('decorador_de_decoradores va a llamar a la funcion :', decorador.__name__)\n",
    "            print()\n",
    "            \n",
    "            resultado = decorador(funcion_a_procesar)(*args, **kwargs) * 5\n",
    "            print(f'Finalizo Paso decorador_de_decoradores con resultado :', resultado)\n",
    "            print()\n",
    "            return resultado\n",
    "        return mostrar\n",
    "    return wrapper\n",
    "\n",
    "@decorador_de_decoradores\n",
    "def funcion_decoradora(funcion_a_procesar):\n",
    "    def wrapper(*args, **kwargs):\n",
    "        print(f'Inicio Paso funcion_decoradora parametros:', args, kwargs)\n",
    "        print('funcion_decoradora va a llamar a la funcion :', funcion_a_procesar.__name__)\n",
    "        print()\n",
    "        \n",
    "        resultado = funcion_a_procesar(*args, **kwargs) * 2\n",
    "        print(f'Finalizo Paso funcion_decoradora  con resultado :', resultado)\n",
    "        print()\n",
    "        return resultado\n",
    "    return wrapper\n",
    "\n",
    "@funcion_decoradora\n",
    "def sumar(*args):\n",
    "    print('Inicio Paso funcion SUMA :', args)\n",
    "    print()\n",
    "    return sum(args)\n",
    "\n",
    "resultado = sumar(1, 2)\n",
    "print('Resultado final:', resultado)\n"
   ]
  },
  {
   "cell_type": "code",
   "execution_count": null,
   "id": "8cc83375-6a83-42b8-8349-4384889c1205",
   "metadata": {},
   "outputs": [],
   "source": []
  },
  {
   "cell_type": "code",
   "execution_count": null,
   "id": "17abc82a-caa1-47fd-9707-3ff07a0a43b7",
   "metadata": {},
   "outputs": [],
   "source": [
    "def decorador_de_decoradores(funcion_decoradora):\n",
    "    @wraps(funcion_decoradora)\n",
    "    def mostrar(*args, **kwargs):\n",
    "        print('Inicio Proceso, el nombre de la funcion a procesar es: ', funcion_decoradora.__name__)\n",
    "        print('Inicio Proceso con parametros: ', args, kwargs)\n",
    "        return funcion_decoradora(*args, **kwargs) * 5\n",
    "    return mostrar\n",
    "@decorador_de_decoradores"
   ]
  },
  {
   "cell_type": "code",
   "execution_count": 1,
   "id": "3e8193fa-57ee-4074-bae7-e2d024791ca1",
   "metadata": {
    "tags": []
   },
   "outputs": [],
   "source": [
    "from abc import ABC, abstractmethod\n",
    "\n",
    "class INotificacion(ABC):\n",
    "    \n",
    "    @abstractmethod\n",
    "    def crear_notificacion(self, funcion, descripcion):\n",
    "        pass\n",
    "\n",
    "class NotificacionSlack(INotificacion):\n",
    "    \n",
    "    def crear_notificacion(self, funcion, descripcion):\n",
    "        service = self.__class__.__name__.replace('Notificacion', '')\n",
    "        print(f'Notificacion enviada al {service}, El proceso de la funcion {funcion} fue {descripcion}!!!')\n",
    "    \n",
    "class NotificacionJira(INotificacion):\n",
    "    \n",
    "    def crear_notificacion(self, funcion, descripcion):\n",
    "        service = self.__class__.__name__.replace('Notificacion', '')\n",
    "        print(f'Notificacion enviada al {service}, El proceso de la funcion {funcion} fue {descripcion}!!!')\n",
    "    \n",
    "class NotificacionEmail(INotificacion):\n",
    "    \n",
    "    def crear_notificacion(self, funcion, descripcion):\n",
    "        service = self.__class__.__name__.replace('Notificacion', '')\n",
    "        print(f'Notificacion enviada al {service}, El proceso de la funcion {funcion} fue {descripcion}!!!')\n",
    "    \n",
    "class NotificacionCloudwatch(INotificacion):\n",
    "    \n",
    "    def crear_notificacion(self, funcion, descripcion):\n",
    "        service = self.__class__.__name__.replace('Notificacion', '')\n",
    "        print(f'Notificacion enviada al {service}, El proceso de la funcion {funcion} fue {descripcion}!!!')\n",
    "    \n",
    "class NotificacionDataDog(INotificacion):\n",
    "    \n",
    "    def crear_notificacion(self, funcion, descripcion):\n",
    "        service = self.__class__.__name__.replace('Notificacion', '')\n",
    "        print(f'Notificacion enviada al {service}, El proceso de la funcion {funcion} fue {descripcion}!!!')\n",
    "\n",
    "class NotificacionLog(INotificacion):\n",
    "    \n",
    "    def crear_notificacion(self, funcion, descripcion):\n",
    "        service = self.__class__.__name__.replace('Notificacion', '')\n",
    "        print(f'Notificacion enviada al {service}, El proceso de la funcion {funcion} fue {descripcion}!!!')\n",
    "        \n",
    "class NotificacionGrafana(INotificacion):\n",
    "    \n",
    "    def crear_notificacion(self, funcion, descripcion):\n",
    "        service = self.__class__.__name__.replace('Notificacion', '')\n",
    "        print(f'Notificacion enviada al {service}, El proceso de la funcion {funcion} fue {descripcion}!!!')"
   ]
  },
  {
   "cell_type": "code",
   "execution_count": 2,
   "id": "c9e2b8bb-8708-4024-8ed4-d3caecb8a92f",
   "metadata": {
    "tags": []
   },
   "outputs": [],
   "source": [
    "from functools import wraps\n",
    "import time\n",
    "\n",
    "def validar_datos(funcion_a_decorar):\n",
    "    \n",
    "    @wraps(funcion_a_decorar)\n",
    "    def funcion_interna_que_procesa_funcion_a_decorar_y_adiciona_comportamientos(*args, **kwargs):\n",
    "        print(f'Se inició la VALIDACIÓN de los datos de la función {funcion_a_decorar.__name__}')\n",
    "        \n",
    "        # Verifica que no existan valores negativos\n",
    "        for i, elemento in enumerate(args):\n",
    "            if isinstance(elemento, (int, float)) and elemento < 0:\n",
    "                raise ValueError(f\"Error: No se aceptan valores negativos como: {elemento} en los argumentos de la función\"\n",
    "                 f\" {funcion_a_decorar.__name__}, Valor incorrecto en posición {i}: {elemento}\")\n",
    "        \n",
    "        print()\n",
    "        resultado = funcion_a_decorar(*args, **kwargs)\n",
    "        \n",
    "        print(f'VALIDACIÓN exitosa de los datos de la función {funcion_a_decorar.__name__}')\n",
    "        return resultado\n",
    "    \n",
    "    return funcion_interna_que_procesa_funcion_a_decorar_y_adiciona_comportamientos\n",
    "\n",
    "\n",
    "def tiempo_de_procesamiento(funcion_a_decorar):\n",
    "    \n",
    "    @wraps(funcion_a_decorar)\n",
    "    def funcion_interna_que_procesa_funcion_a_decorar_y_adiciona_comportamientos(*args_funcion_a_decorar, **kwargs_funcion_a_decorar):\n",
    "        tiempo_inicial = time.time()\n",
    "        print(f'Iniciando CALCULO DE TIEMPO DE PROCESAMIENTO para la función {funcion_a_decorar.__name__}')\n",
    "        print()\n",
    "\n",
    "        resultado = funcion_a_decorar(*args_funcion_a_decorar, **kwargs_funcion_a_decorar)\n",
    "        time.sleep(1)\n",
    "\n",
    "        tiempo_final = time.time()\n",
    "        tiempo_total = round(tiempo_final - tiempo_inicial, 5)\n",
    "\n",
    "        print(f'TIEMPO TOTAL DE PROCESAMIENTO DE LA FUNCIÓN {funcion_a_decorar.__name__}: {tiempo_total} segundos')\n",
    "        print()\n",
    "        return resultado\n",
    "    \n",
    "    return funcion_interna_que_procesa_funcion_a_decorar_y_adiciona_comportamientos\n",
    "\n",
    "import random\n",
    "\n",
    "def generar_notificacion(funcion_a_decorar):\n",
    "    \n",
    "    @wraps(funcion_a_decorar)\n",
    "    def funcion_interna_que_procesa_funcion_a_decorar_y_adiciona_comportamientos(*args_funcion_a_decorar, **kwargs_funcion_a_decorar):\n",
    "        print(f'Se inició la GENERACION DE NOTIFICACION de la función {funcion_a_decorar.__name__}')\n",
    "        print()\n",
    "        \n",
    "        resultado = funcion_a_decorar(*args_funcion_a_decorar, **kwargs_funcion_a_decorar)\n",
    "        print()\n",
    "        \n",
    "        estados = ['Exitoso', 'Fallido', 'en Espera']\n",
    "        for clase in INotificacion.__subclasses__():\n",
    "            estado = random.choice(estados)\n",
    "            instancia = clase()\n",
    "            instancia.crear_notificacion(funcion=funcion_a_decorar.__name__, descripcion=estado)\n",
    "            \n",
    "        print(f'NOTIFICACION completada de la función {funcion_a_decorar.__name__}')\n",
    "        print()\n",
    "        return resultado\n",
    "    \n",
    "    return funcion_interna_que_procesa_funcion_a_decorar_y_adiciona_comportamientos\n",
    "\n",
    "def formatear_respuesta(funcion_a_decorar):\n",
    "    \n",
    "    @wraps(funcion_a_decorar)\n",
    "    def funcion_interna_que_procesa_funcion_a_decorar_y_adiciona_comportamientos(*args_funcion_a_decorar, **kwargs_funcion_a_decorar):\n",
    "        print(f'Se inició el FORMATEO de los datos de la función {funcion_a_decorar.__name__}')\n",
    "        print()\n",
    "        \n",
    "        resultado = funcion_a_decorar(*args_funcion_a_decorar, **kwargs_funcion_a_decorar)\n",
    "        casting = round(float(resultado), 2)\n",
    "        print()\n",
    "        \n",
    "        print(f'FORMATEO exitoso del resultado de la función {funcion_a_decorar.__name__}')\n",
    "        return casting\n",
    "\n",
    "    return funcion_interna_que_procesa_funcion_a_decorar_y_adiciona_comportamientos"
   ]
  },
  {
   "cell_type": "markdown",
   "id": "0123ad63-cb76-4631-a468-1579fe01dd37",
   "metadata": {},
   "source": [
    "- Un decorador es una función que toma otra función como parámetro.\n",
    "- Retorna una nueva función.\n",
    "- La nueva función generalmente realiza algún procesamiento adicional antes o después de llamar a la función original.\n",
    "- Los argumentos de la función original se pasan a la nueva función decorada.\n",
    "- El resultado de la nueva función se devuelve."
   ]
  },
  {
   "cell_type": "markdown",
   "id": "40662c9d-1651-4938-9a9d-86df7d33e5e5",
   "metadata": {},
   "source": [
    "# DECORADOR USO CLASICO"
   ]
  },
  {
   "cell_type": "code",
   "execution_count": 7,
   "id": "9b53cfc1-afec-4e54-b932-9c2cdc822f6a",
   "metadata": {
    "tags": []
   },
   "outputs": [],
   "source": [
    "valores = [1.89, 2.23456, 7, 13]\n",
    "\n",
    "def sumar(*args):\n",
    "    print('Inicio Paso funcion SUMA :', args)\n",
    "    print()\n",
    "    return sum(args)"
   ]
  },
  {
   "cell_type": "markdown",
   "id": "97bcf7f2-5edb-496c-92df-1914c550f017",
   "metadata": {},
   "source": [
    "## USO 1"
   ]
  },
  {
   "cell_type": "code",
   "execution_count": 9,
   "id": "1b92ea10-c873-4750-9c59-5d2c09741000",
   "metadata": {
    "tags": []
   },
   "outputs": [
    {
     "name": "stdout",
     "output_type": "stream",
     "text": [
      "Iniciando CALCULO DE TIEMPO DE PROCESAMIENTO para la función sumar\n",
      "\n",
      "Inicio Paso funcion SUMA : (1.89, 2.23456, 7, 13)\n",
      "\n",
      "TIEMPO TOTAL DE PROCESAMIENTO DE LA FUNCIÓN sumar: 1.00702 segundos\n",
      "\n"
     ]
    },
    {
     "data": {
      "text/plain": [
       "24.12456"
      ]
     },
     "execution_count": 9,
     "metadata": {},
     "output_type": "execute_result"
    }
   ],
   "source": [
    " tiempo_de_procesamiento(sumar)(*valores)"
   ]
  },
  {
   "cell_type": "markdown",
   "id": "a869a299-cb95-480a-9930-e6d83a38937b",
   "metadata": {
    "tags": []
   },
   "source": [
    "## USO 2"
   ]
  },
  {
   "cell_type": "code",
   "execution_count": 4,
   "id": "006d5bda-43d5-4890-8e0e-348ddad4877a",
   "metadata": {
    "tags": []
   },
   "outputs": [
    {
     "name": "stdout",
     "output_type": "stream",
     "text": [
      "Iniciando CALCULO DE TIEMPO DE PROCESAMIENTO para la función sumar\n",
      "\n",
      "Inicio Paso funcion SUMA : (1.89, 2.23456, 7, 13)\n",
      "\n",
      "TIEMPO TOTAL DE PROCESAMIENTO DE LA FUNCIÓN sumar: 1.00137 segundos\n",
      "\n"
     ]
    },
    {
     "data": {
      "text/plain": [
       "24.12456"
      ]
     },
     "execution_count": 4,
     "metadata": {},
     "output_type": "execute_result"
    }
   ],
   "source": [
    "funcion_decorada = tiempo_de_procesamiento(sumar)\n",
    "funcion_decorada(*valores)"
   ]
  },
  {
   "cell_type": "markdown",
   "id": "9b0c6d50-87ee-43b3-89e7-0f6be46295fd",
   "metadata": {},
   "source": [
    "# DECORANDO UN METODO DIRECTAMENTE CON @"
   ]
  },
  {
   "cell_type": "code",
   "execution_count": 5,
   "id": "94fcd857-9aa3-4280-aec4-74d76526aebb",
   "metadata": {
    "tags": []
   },
   "outputs": [
    {
     "name": "stdout",
     "output_type": "stream",
     "text": [
      "Iniciando CALCULO DE TIEMPO DE PROCESAMIENTO para la función sumar\n",
      "\n",
      "Se inició la GENERACION DE NOTIFICACION de la función sumar\n",
      "\n",
      "Se inició el FORMATEO de los datos de la función sumar\n",
      "\n",
      "Se inició la VALIDACIÓN de los datos de la función sumar\n",
      "\n",
      "Inicio Paso funcion SUMA : (1.89, 2.23456, 7, 13)\n",
      "\n",
      "VALIDACIÓN exitosa de los datos de la función sumar\n",
      "\n",
      "FORMATEO exitoso del resultado de la función sumar\n",
      "\n",
      "Notificacion enviada al Slack, El proceso de la funcion sumar fue en Espera!!!\n",
      "Notificacion enviada al Jira, El proceso de la funcion sumar fue Fallido!!!\n",
      "Notificacion enviada al Email, El proceso de la funcion sumar fue en Espera!!!\n",
      "Notificacion enviada al Cloudwatch, El proceso de la funcion sumar fue en Espera!!!\n",
      "Notificacion enviada al DataDog, El proceso de la funcion sumar fue Fallido!!!\n",
      "Notificacion enviada al Log, El proceso de la funcion sumar fue Exitoso!!!\n",
      "Notificacion enviada al Grafana, El proceso de la funcion sumar fue en Espera!!!\n",
      "NOTIFICACION completada de la función sumar\n",
      "\n",
      "TIEMPO TOTAL DE PROCESAMIENTO DE LA FUNCIÓN sumar: 1.00218 segundos\n",
      "\n"
     ]
    },
    {
     "data": {
      "text/plain": [
       "24.12"
      ]
     },
     "execution_count": 5,
     "metadata": {},
     "output_type": "execute_result"
    }
   ],
   "source": [
    "@tiempo_de_procesamiento\n",
    "@generar_notificacion\n",
    "@formatear_respuesta\n",
    "@validar_datos\n",
    "def sumar(*args):\n",
    "    print('Inicio Paso funcion SUMA :', args)\n",
    "    print()\n",
    "    return sum(args)\n",
    "    \n",
    "sumar(1.89, 2.23456, 7, 13)"
   ]
  },
  {
   "cell_type": "markdown",
   "id": "bf09b305-c998-45e3-a6b8-4646fdd7837e",
   "metadata": {
    "tags": []
   },
   "source": [
    "# DECORAR UN DECORADOR"
   ]
  },
  {
   "cell_type": "code",
   "execution_count": 41,
   "id": "0c4634d9-8805-4e09-848d-86f1a0ef3ac5",
   "metadata": {
    "tags": []
   },
   "outputs": [
    {
     "name": "stdout",
     "output_type": "stream",
     "text": [
      "Inicio Paso decorador_de_decoradores parametros: (4, 5, 6, 7) {}\n",
      "decorador_de_decoradores va a llamar al decorador : duplicar\n",
      "decorador_de_decoradores va a llamar a la funcion : sumar\n",
      "\n",
      "Inicio Paso funcion_decoradora parametros: (4, 5, 6, 7) {}\n",
      "funcion_decoradora va a llamar a la funcion : sumar\n",
      "\n",
      "Inicio Paso funcion SUMA : (4, 5, 6, 7)\n",
      "\n",
      "Finalizo Paso funcion_decoradora  con resultado : 44\n",
      "\n",
      "Finalizo Paso decorador_de_decoradores con resultado : 44\n",
      "\n",
      "Resultado final: 44\n"
     ]
    }
   ],
   "source": [
    "def decorador_de_decoradores(funcion_decoradora):\n",
    "    \n",
    "    def nombre_funcion_decoradora(funcion_a_decorar):\n",
    "        \n",
    "        def funcion_interna_que_procesa_funcion_a_decorar_y_adiciona_comportamientos(*args_funcion_a_decorar, **kwargs_funcion_a_decorar):\n",
    "            \n",
    "            print(f'Inicio Paso decorador_de_decoradores parametros:', args_funcion_a_decorar, kwargs_funcion_a_decorar)\n",
    "            print('decorador_de_decoradores va a llamar al decorador :', funcion_decoradora.__name__)\n",
    "            print('decorador_de_decoradores va a llamar a la funcion :', funcion_a_decorar.__name__)\n",
    "            print()\n",
    "            \n",
    "            resultado = funcion_decoradora(funcion_a_decorar)(*args_funcion_a_decorar, **kwargs_funcion_a_decorar)\n",
    "            print(f'Finalizo Paso decorador_de_decoradores con resultado :', resultado)\n",
    "            print()\n",
    "            return resultado\n",
    "        \n",
    "        return funcion_interna_que_procesa_funcion_a_decorar_y_adiciona_comportamientos\n",
    "    \n",
    "    return nombre_funcion_decoradora\n",
    "\n",
    "@decorador_de_decoradores\n",
    "def duplicar(funcion_a_procesar):\n",
    "    def wrapper(*args, **kwargs):\n",
    "        print(f'Inicio Paso funcion_decoradora parametros:', args, kwargs)\n",
    "        print('funcion_decoradora va a llamar a la funcion :', funcion_a_procesar.__name__)\n",
    "        print()\n",
    "        \n",
    "        resultado = funcion_a_procesar(*args, **kwargs) * 2\n",
    "        print(f'Finalizo Paso funcion_decoradora  con resultado :', resultado)\n",
    "        print()\n",
    "        return resultado\n",
    "    return wrapper\n",
    "\n",
    "@duplicar\n",
    "def sumar(*args):\n",
    "    print('Inicio Paso funcion SUMA :', args)\n",
    "    print()\n",
    "    return sum(args)\n",
    "\n",
    "resultado = sumar(4, 5, 6, 7)\n",
    "print('Resultado final:', resultado)"
   ]
  },
  {
   "cell_type": "markdown",
   "id": "1db7e5c9-408f-4c8e-949b-8d84ad2a0f62",
   "metadata": {},
   "source": [
    "# DECORADOR CON ARGUMENTOS"
   ]
  },
  {
   "cell_type": "code",
   "execution_count": 45,
   "id": "86634567-8a60-469d-ba4f-5106817dcd9c",
   "metadata": {
    "tags": []
   },
   "outputs": [],
   "source": [
    "def decorador_con_argumentos(*argumentos_decorador, **llave_valor_argumentos_decorador):\n",
    "\n",
    "    def procesar_decorador(funcion_entrada):\n",
    "        \n",
    "        @wraps(funcion_entrada)\n",
    "        def procesar_funcion(*argumentos_funcion, **llave_valor_argumentos_funcion):\n",
    "            \n",
    "            print(\"Argumentos decorador \", argumentos_decorador)\n",
    "            print(\"Argumentos funcion \", argumentos_funcion)\n",
    "\n",
    "            print(\"Argumentos llave valor decorador \", llave_valor_argumentos_decorador)\n",
    "            print(\"Argumentos llave valor funcion \", llave_valor_argumentos_funcion)\n",
    "            \n",
    "            total = funcion_entrada(*argumentos_funcion, **llave_valor_argumentos_funcion) * 3\n",
    "            \n",
    "            print(\"resultado de la funcion TRIPLICADA \", total)\n",
    "            return chr(total) + chr(total + 1) + chr(total) + f' {ord(\"S\")} {ord(\"0\")} {ord(\"S\")}'\n",
    "        \n",
    "        return procesar_funcion\n",
    "    return procesar_decorador"
   ]
  },
  {
   "cell_type": "code",
   "execution_count": 46,
   "id": "f1fe6f08-5b9a-4054-be12-df9ac2d65419",
   "metadata": {
    "tags": []
   },
   "outputs": [
    {
     "name": "stdout",
     "output_type": "stream",
     "text": [
      "Argumentos decorador  (5, 7, 9, 13)\n",
      "Argumentos funcion  (0, 1, 2, 3, 4, 5, 6, 7)\n",
      "Argumentos llave valor decorador  {'parametro_1': 'decorador con parametros en el decorador'}\n",
      "Argumentos llave valor funcion  {'#': 0, '$': 1, '%': 2, '&': 3, \"'\": 4, '(': 5, ')': 6, '*': 7, '+': 8, ',': 9}\n",
      "resultado de la funcion TRIPLICADA  84\n"
     ]
    },
    {
     "data": {
      "text/plain": [
       "'TUT 83 48 83'"
      ]
     },
     "execution_count": 46,
     "metadata": {},
     "output_type": "execute_result"
    }
   ],
   "source": [
    "@decorador_con_argumentos(5,7,9,13, parametro_1 = \"decorador con parametros en el decorador\")\n",
    "def funcion_decorada(*args, **kwargs):\n",
    "    \"\"\"\n",
    "    funcion con argumentos con decorador con argumentos\n",
    "    \"\"\"\n",
    "    \n",
    "    return sum(args)\n",
    "\n",
    "funcion_decorada(*[i for i in range(8)], **{chr(i + 35):i for i in range(10)})"
   ]
  },
  {
   "cell_type": "markdown",
   "id": "b4636dd5-fa6d-48bf-86ae-6ca454ce12f7",
   "metadata": {},
   "source": [
    "# DECORANDO UN METODO DE UNA CLASE\n",
    "### NO FUNCIONA CON HERENCIA"
   ]
  },
  {
   "cell_type": "code",
   "execution_count": null,
   "id": "f1215c43-1c0d-494b-a381-766188c26fdf",
   "metadata": {
    "scrolled": true,
    "tags": []
   },
   "outputs": [],
   "source": [
    "class ICalculo:\n",
    "    def sumar(self):\n",
    "        pass\n",
    "    \n",
    "    @tiempo_de_procesamiento\n",
    "    @generar_notificacion\n",
    "    @formatear_respuesta\n",
    "    @validar_datos\n",
    "    def promedio(self):\n",
    "        pass\n",
    "    \n",
    "class Calculos(ICalculo):\n",
    "    def __init__(self, *args, **kwargs):\n",
    "        print('Inicio de la Clase Calculos')\n",
    "        self.__args = args\n",
    "        \n",
    "    @tiempo_de_procesamiento\n",
    "    @generar_notificacion\n",
    "    @formatear_respuesta\n",
    "    @validar_datos\n",
    "    def sumar(self):\n",
    "        print('Inicio Paso funcion SUMA :', self.__args)\n",
    "        print()\n",
    "        return sum(self.__args)\n",
    "\n",
    "\n",
    "    def promedio(self):\n",
    "        print('Inicio Paso funcion PROMEDIO :', self.__args)\n",
    "        print()\n",
    "        return sum(self.__args)/len(self.__args)\n",
    "    \n",
    "calculos = Calculos(1.89, 2.23456, 7, 13)\n",
    "suma = calculos.sumar()\n",
    "print('Resultado final Funcion SUMA:', suma)\n",
    "print()\n",
    "print('---------------------------------------------')\n",
    "print()\n",
    "promedio = calculos.promedio()\n",
    "print('Resultado final Funcion PROMEDIO:', promedio)"
   ]
  },
  {
   "cell_type": "code",
   "execution_count": null,
   "id": "fe5fb89e-beb4-4919-a1a9-96e72584e697",
   "metadata": {
    "scrolled": true,
    "tags": []
   },
   "outputs": [],
   "source": [
    "class Otro(Calculos):\n",
    "    def __init__(self, *args, **kwargs):\n",
    "        print('Inicio de la Clase Calculos')\n",
    "        self.__args = args\n",
    "\n",
    "calculos = Otro(1.89, 2.23456, 7, 13)\n",
    "suma = calculos.sumar()"
   ]
  },
  {
   "cell_type": "code",
   "execution_count": null,
   "id": "64f87bcc-66a2-468a-aac1-9f43ece4b31d",
   "metadata": {},
   "outputs": [],
   "source": []
  }
 ],
 "metadata": {
  "kernelspec": {
   "display_name": "Python 3 (ipykernel)",
   "language": "python",
   "name": "python3"
  },
  "language_info": {
   "codemirror_mode": {
    "name": "ipython",
    "version": 3
   },
   "file_extension": ".py",
   "mimetype": "text/x-python",
   "name": "python",
   "nbconvert_exporter": "python",
   "pygments_lexer": "ipython3",
   "version": "3.10.13"
  }
 },
 "nbformat": 4,
 "nbformat_minor": 5
}
