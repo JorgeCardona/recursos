{
 "cells": [
  {
   "cell_type": "markdown",
   "metadata": {
    "application/vnd.databricks.v1+cell": {
     "cellMetadata": {
      "byteLimit": 2048000,
      "rowLimit": 10000
     },
     "inputWidgets": {},
     "nuid": "04bb63bf-ea74-417f-bc52-2a7fe275325c",
     "showTitle": false,
     "tableResultSettingsMap": {},
     "title": ""
    }
   },
   "source": [
    "# SCALA TIPS\n",
    "## PALABRAS CLAVE\n",
    "\n",
    "| **Palabra clave** | **Descripción**                                                                                                                                                     | **Ejemplo**                                                                                                                                                                  |\n",
    "|-------------------|---------------------------------------------------------------------------------------------------------------------------------------------------------------------|------------------------------------------------------------------------------------------------------------------------------------------------------------------------------|\n",
    "| `val`             | Define un valor **inmutable**. Una vez asignado, no puede cambiarse.                                                                                                 | `val x = 10`<br> `x = 20`  // Error: reassignment to val                                                                                                                   |\n",
    "| `var`             | Define una **variable mutable**. Se puede reasignar durante la ejecución.                                                                                           | `var y = 5`<br> `y = 10`  // Válido                                                                                                                                         |\n",
    "| `def`             | Define una **función**. Puede tener parámetros y un tipo de retorno.                                                                                               | `def suma(a: Int, b: Int): Int = a + b`<br> `println(suma(5, 10))`  // Imprime 15                                                                                        |\n",
    "| `object`          | Define un **singleton**. Solo se puede crear una instancia de un `object`. Útil para métodos y valores estáticos.                                                    | `object MiSingleton { def imprimir() = println(\"Hola!\") }`<br> `MiSingleton.imprimir()`  // Imprime \"Hola!\"                                                              |\n",
    "| `class`           | Define una **clase**. Puede tener constructores, métodos y campos (val/var).                                                                                         | `class Persona(val nombre: String, var edad: Int)`<br> `val p = new Persona(\"Juan\", 30)`<br> `println(p.nombre)`  // Imprime \"Juan\"                                       |\n",
    "| `trait`           | Define un **trait**. Similar a una interfaz en otros lenguajes, pero puede contener implementaciones.                                                                 | `trait Saluda { def saludar() = println(\"Hola!\") }`<br> `class Persona extends Saluda`<br> `val p = new Persona`<br> `p.saludar()`  // Imprime \"Hola!\"                       |\n",
    "| `type`            | Define un **alias de tipo**. Puede hacer que el código sea más legible y reutilizable.                                                                               | `type StringList = List[String]`<br> `val nombres: StringList = List(\"Ana\", \"Luis\")`                                                                                     |\n",
    "| `for`             | Define un **bucle for**. Se utiliza para iterar sobre colecciones y puede incluir comprensiones o guardas.                                                           | `val numeros = List(1, 2, 3)`<br> `for (n <- numeros) { println(n) }`  // Imprime 1, 2, 3                                                                              |\n",
    "| `if`              | Define una **estructura condicional**. Puede ser usada para tomar decisiones en el flujo de ejecución.                                                               | `val a = 5`<br> `if (a > 3) println(\"Mayor que 3\")`  // Imprime \"Mayor que 3\"                                                                                             |\n",
    "| `match`           | Define una estructura de **patrones de coincidencia**. Es como un `switch` en otros lenguajes, pero más poderoso.                                                      | `val x = 5`<br> `x match { case 5 => println(\"Cinco\") case _ => println(\"Otro número\") }`  // Imprime \"Cinco\"                                                            |\n",
    "| `try`/`catch`     | Define una **estructura de manejo de excepciones**. Se utiliza para capturar errores durante la ejecución.                                                            | `try { val result = 10 / 0 } catch { case e: ArithmeticException => println(\"Error: \" + e.getMessage) }`  // Imprime \"Error: / by zero\"                                 |\n",
    "\n"
   ]
  },
  {
   "cell_type": "markdown",
   "metadata": {
    "application/vnd.databricks.v1+cell": {
     "cellMetadata": {
      "byteLimit": 2048000,
      "rowLimit": 10000
     },
     "inputWidgets": {},
     "nuid": "5cab3ba5-6f0b-4976-9376-9f8eb524edb2",
     "showTitle": false,
     "tableResultSettingsMap": {},
     "title": ""
    }
   },
   "source": [
    "# TIPO DE RETORNO EN FUNCIONES EN SCALA Y PYTHON\n",
    "\n",
    "| **Tipo en Python**      | **Descripción**                                         | **Equivalente en PySpark** | **Equivalente en Scala**        |\n",
    "|-------------------------|---------------------------------------------------------|----------------------------|---------------------------------|\n",
    "| `int`                   | Número entero                                           | `IntegerType()`             | `IntegerType`                   |\n",
    "| `float`                 | Número decimal de precisión simple                      | `FloatType()`               | `FloatType`                     |\n",
    "| `double`                | Número decimal de precisión doble                       | `DoubleType()`              | `DoubleType`                    |\n",
    "| `str`                   | Cadena de caracteres                                    | `StringType()`              | `StringType`                    |\n",
    "| `bool`                  | Valor booleano (True o False)                           | `BooleanType()`             | `BooleanType`                   |\n",
    "| `list`                  | Lista (array en PySpark)                                | `ArrayType()`               | `ArrayType`                     |\n",
    "| `dict`                  | Diccionario (mapa de clave-valor)                       | `MapType()`                 | `MapType`                       |\n",
    "| `datetime`              | Fecha y hora                                            | `TimestampType()`           | `TimestampType`                 |\n",
    "| `date`                  | Fecha (sin hora)                                        | `DateType()`                | `DateType`                      |\n",
    "| `bytes`                 | Secuencia de bytes (binarios)                           | `BinaryType()`              | `BinaryType`                    |\n",
    "| `None`                  | Tipo nulo (equivalente a `null`)                        | `NullType()`                | `NullType`                      |\n",
    "| `object`                | Objeto genérico, puede ser cualquier tipo               | `ObjectType()`              | `ObjectType`                    |\n",
    "| `void`                  | Método sin valor de retorno (equivalente a `Unit`)      | No aplica (usualmente retorna `None`) | `Unit`                        |\n",
    "\n",
    "\n"
   ]
  },
  {
   "cell_type": "markdown",
   "metadata": {
    "application/vnd.databricks.v1+cell": {
     "cellMetadata": {
      "byteLimit": 2048000,
      "rowLimit": 10000
     },
     "inputWidgets": {},
     "nuid": "1eab9d1b-6a22-4e6f-8653-d9d0c136f3fd",
     "showTitle": false,
     "tableResultSettingsMap": {},
     "title": ""
    }
   },
   "source": [
    "# Tipos de Datos en Scala con Spark\n",
    "\n",
    "| **Tipo de Scala**       | **Descripción**                                                                                                                                                       | **Relación con Spark**                                                                                                                                                            | **Ejemplo**                                                                                                                   | **¿Disponible en PySpark?** |\n",
    "|-------------------------|---------------------------------------------------------------------------------------------------------------------------------------------------------------------|------------------------------------------------------------------------------------------------------------------------------------------------------------------------------------|-------------------------------------------------------------------------------------------------------------------------------|-----------------------------|\n",
    "| `Int`, `Long`, `Double`  | Tipos de datos numéricos. `Int` para enteros, `Long` para números grandes y `Double` para números decimales.                                                         | Estos tipos se usan para representar datos numéricos en un DataFrame de Spark, por ejemplo, en columnas numéricas.                                                                | `val df = spark.read.csv(\"file.csv\").toDF(\"id\", \"age\")`<br> `df.filter($\"age\" > 30)`                                          | Sí                          |\n",
    "| `String`                | Tipo de dato para cadenas de texto.                                                                                                                                   | Es uno de los tipos más comunes para columnas de texto en Spark. Usado para nombres, descripciones, etc.                                                                        | `val df = spark.read.csv(\"file.csv\").toDF(\"name\", \"address\")`                                                                 | Sí                          |\n",
    "| `Boolean`               | Tipo para valores lógicos: `true` o `false`.                                                                                                                           | Usado en columnas que contienen valores booleanos, típicamente para indicar estado o categoría (verdadero/falso).                                                                | `val df = spark.read.csv(\"file.csv\").toDF(\"id\", \"is_active\")`<br> `df.filter($\"is_active\" === true)`                         | Sí                          |\n",
    "| `Array[T]`              | Una colección de elementos del tipo `T`.                                                                                                                                 | Usado en Spark para representar columnas con datos de tipo array, como listas o colecciones.                                                                                    | `val df = spark.read.json(\"file.json\")`<br> `df.select($\"languages\")`                                                           | Sí                          |\n",
    "| `Map[K, V]`             | Estructura de datos que almacena pares clave-valor.                                                                                                                   | Usado en Spark para trabajar con datos estructurados, como JSON o para almacenar valores asociados con claves en una columna.                                                   | `val df = spark.read.json(\"file.json\")`<br> `df.select($\"metadata\")`                                                           | No                          |\n",
    "| `Date`, `Timestamp`      | `Date` representa fechas, `Timestamp` fechas con hora.                                                                                                               | Usado para representar datos temporales, muy común en análisis de series de tiempo, logs o eventos.                                                                              | `val df = spark.read.csv(\"file.csv\").toDF(\"event_date\")`<br> `df.filter($\"event_date\" > \"2023-01-01\")`                        | Sí                          |\n",
    "| `StructType`, `StructField` | `StructType` es un tipo que representa un esquema estructurado, y `StructField` define cada campo dentro del esquema.                                                | Se utiliza para definir el esquema de un DataFrame de Spark, proporcionando un formato estructurado para los datos.                                                             | `val schema = StructType(Array(StructField(\"name\", StringType, true), StructField(\"age\", IntegerType, true)))`                | Sí                          |\n",
    "| `Row`                   | Representa una fila de un DataFrame o un RDD en Spark.                                                                                                               | Cada elemento de un `DataFrame` o `RDD` de Spark se representa como una fila de tipo `Row`.                                                                                     | `val df = spark.read.csv(\"file.csv\")`<br> `df.collect().foreach(row => println(row))`                                         | Sí                          |\n",
    "| `RDD[T]`                | Tipo de datos distribuido en Spark. `RDD` representa un conjunto de datos distribuido, genérico para cualquier tipo `T`.                                               | Es el tipo de datos básico de Spark antes de que DataFrames fueran introducidos, pero aún es muy utilizado.                                                                     | `val rdd = spark.textFile(\"file.txt\")`<br> `rdd.map(line => line.split(\" \"))`                                                  | Sí                          |\n",
    "| `DataFrame`             | Es una representación tabular de datos distribuidos. Los DataFrames son una abstracción de los RDDs que permiten trabajar con datos de forma estructurada.              | `DataFrame` es uno de los tipos más comunes en Spark, que facilita trabajar con datos estructurados y permite usar SQL o funciones de transformación de Spark.                      | `val df = spark.read.csv(\"file.csv\")`<br> `df.show()`                                                                         | Sí                          |\n",
    "| `Dataset[T]`            | Un `Dataset` es un tipo más general y fuerte que un `DataFrame` en Spark. Al ser un tipo parametrizado, proporciona seguridad en cuanto a tipos de datos.              | `Dataset` es similar a `DataFrame`, pero está más estrechamente vinculado con el sistema de tipos de Scala, proporcionando mayor control de tipo.                                | `val dataset = df.as[Person]`<br> `dataset.show()`                                                                            | No                          |\n",
    "| `NullType`              | Representa un tipo que no contiene ningún valor.                                                                                                                     | `NullType` se usa en Spark para representar valores nulos o vacíos en las columnas de un `DataFrame`.                                                                             | `val df = spark.read.csv(\"file.csv\").toDF(\"column1\")`<br> `df.filter($\"column1\".isNull)`                                       | Sí                          |\n",
    "\n",
    "### Explicación de Tipos de Datos y su Uso en Spark\n",
    "\n",
    "1. **Tipos de Datos Básicos (Scala)**: Los tipos primitivos como `Int`, `Long`, `Double`, `String`, `Boolean` son muy utilizados en los `DataFrames` de Spark. Puedes cargar datos de archivos CSV, JSON, Parquet y otros en estos tipos de columnas.\n",
    "\n",
    "2. **Estructuras Avanzadas**: Los tipos como `Array` y `Map` son útiles cuando trabajas con datos más complejos, como listas de elementos o pares clave-valor, que son comunes en formatos como JSON.\n",
    "\n",
    "3. **Tipos Temporales**: `Date` y `Timestamp` son muy comunes para trabajar con series de tiempo o eventos con fechas y horas.\n",
    "\n",
    "4. **Esquemas**: En Spark, cuando trabajas con `DataFrames`, puedes definir un esquema con `StructType` y `StructField` para asegurarte de que los datos se cargan de acuerdo con una estructura específica.\n",
    "\n",
    "5. **RDD vs DataFrame vs Dataset**:\n",
    "   - `RDD` es el tipo fundamental en Spark. Aunque sigue siendo útil en ciertos casos, generalmente se recomienda usar `DataFrame` y `Dataset` para aprovechar optimizaciones como Catalyst y Tungsten.\n",
    "   - `DataFrame` es la abstracción más común, especialmente cuando trabajas con datos tabulares.\n",
    "   - `Dataset` proporciona un tipo más fuerte que `DataFrame`, lo que te da mayor control sobre los tipos de datos, ideal para trabajar con funciones más específicas de Scala.\n",
    "\n",
    "### Ejemplo de Uso en Spark\n",
    "\n",
    "```scala\n",
    "// Definimos un esquema explícito para un DataFrame\n",
    "val schema = StructType(Array(\n",
    "  StructField(\"id\", IntegerType, true),\n",
    "  StructField(\"name\", StringType, true),\n",
    "  StructField(\"age\", IntegerType, true)\n",
    "))\n",
    "\n",
    "// Cargar datos con un esquema explícito\n",
    "val df = spark.read.schema(schema).csv(\"/path/to/file.csv\")\n",
    "df.show()\n",
    "\n",
    "// Trabajar con un Dataset fuerte en tipos\n",
    "case class Person(id: Int, name: String, age: Int)\n",
    "val dataset = df.as[Person]\n",
    "dataset.filter($\"age\" > 30).show()\n"
   ]
  },
  {
   "cell_type": "markdown",
   "metadata": {
    "application/vnd.databricks.v1+cell": {
     "cellMetadata": {
      "byteLimit": 2048000,
      "rowLimit": 10000
     },
     "inputWidgets": {},
     "nuid": "3c27908a-d8a8-48d2-8433-6ae5aa7c97eb",
     "showTitle": false,
     "tableResultSettingsMap": {},
     "title": ""
    }
   },
   "source": [
    "# Uso de widgets para definir variables en notebooks de Databricks"
   ]
  },
  {
   "cell_type": "code",
   "execution_count": 0,
   "metadata": {
    "application/vnd.databricks.v1+cell": {
     "cellMetadata": {
      "byteLimit": 2048000,
      "rowLimit": 10000
     },
     "inputWidgets": {},
     "nuid": "76532b67-1120-4246-ab88-6779403dac1d",
     "showTitle": false,
     "tableResultSettingsMap": {},
     "title": ""
    }
   },
   "outputs": [],
   "source": [
    "# Definir los widgets en el notebook\n",
    "# Definir widgets para recuperar las URLs y el directorio de guardado\n",
    "URL_BASE = 'https://raw.githubusercontent.com/JorgeCardona/data-collection-json-csv-sql/refs/heads/main/csv/wine'\n",
    "dbutils.widgets.text(\"redWineUrl\", f\"{URL_BASE}/winequality-red.csv\")\n",
    "dbutils.widgets.text(\"whiteWineUrl\", f\"{URL_BASE}/winequality-white.csv\")\n",
    "dbutils.widgets.text(\"saveDirectory\", \"/FileStore/tables/\")"
   ]
  },
  {
   "cell_type": "markdown",
   "metadata": {
    "application/vnd.databricks.v1+cell": {
     "cellMetadata": {
      "byteLimit": 2048000,
      "rowLimit": 10000
     },
     "inputWidgets": {},
     "nuid": "278f4685-1225-4ffe-a505-670bd37bd8e2",
     "showTitle": false,
     "tableResultSettingsMap": {},
     "title": ""
    }
   },
   "source": [
    "- ## VER VALORES DE VARIABLES EN PYTHON"
   ]
  },
  {
   "cell_type": "code",
   "execution_count": 0,
   "metadata": {
    "application/vnd.databricks.v1+cell": {
     "cellMetadata": {
      "byteLimit": 2048000,
      "rowLimit": 10000
     },
     "inputWidgets": {},
     "nuid": "f9af4778-b083-427e-bee9-8beade3be3a6",
     "showTitle": false,
     "tableResultSettingsMap": {},
     "title": ""
    }
   },
   "outputs": [
    {
     "output_type": "stream",
     "name": "stdout",
     "output_type": "stream",
     "text": [
      "URL del vino tinto: https://raw.githubusercontent.com/JorgeCardona/data-collection-json-csv-sql/refs/heads/main/csv/wine/winequality-red.csv\nURL del vino blanco: https://raw.githubusercontent.com/JorgeCardona/data-collection-json-csv-sql/refs/heads/main/csv/wine/winequality-white.csv\nDirectorio de almacenamiento: /FileStore/tables/\n"
     ]
    }
   ],
   "source": [
    "# URLs de los archivos CSV\n",
    "# Recuperar los valores de los widgets\n",
    "redWineUrl = dbutils.widgets.get(\"redWineUrl\")\n",
    "whiteWineUrl = dbutils.widgets.get(\"whiteWineUrl\")\n",
    "\n",
    "# Directorio donde se guardarán los archivos\n",
    "saveDirectory = dbutils.widgets.get(\"saveDirectory\")\n",
    "\n",
    "print(f\"URL del vino tinto: {redWineUrl}\")\n",
    "print(f\"URL del vino blanco: {whiteWineUrl}\")\n",
    "print(f\"Directorio de almacenamiento: {saveDirectory}\")\n"
   ]
  },
  {
   "cell_type": "markdown",
   "metadata": {
    "application/vnd.databricks.v1+cell": {
     "cellMetadata": {
      "byteLimit": 2048000,
      "rowLimit": 10000
     },
     "inputWidgets": {},
     "nuid": "da31060c-2875-48c8-b0f6-6f9bb2cefa29",
     "showTitle": false,
     "tableResultSettingsMap": {},
     "title": ""
    }
   },
   "source": [
    "- ## VER VALORES DE VARIABLES EN SCALA"
   ]
  },
  {
   "cell_type": "code",
   "execution_count": 0,
   "metadata": {
    "application/vnd.databricks.v1+cell": {
     "cellMetadata": {
      "byteLimit": 2048000,
      "rowLimit": 10000
     },
     "inputWidgets": {},
     "nuid": "1728865e-eac1-4e16-95b1-db9d4bab20e1",
     "showTitle": false,
     "tableResultSettingsMap": {},
     "title": ""
    }
   },
   "outputs": [
    {
     "output_type": "display_data",
     "data": {
      "text/html": [
       "<style scoped>\n",
       "  .ansiout {\n",
       "    display: block;\n",
       "    unicode-bidi: embed;\n",
       "    white-space: pre-wrap;\n",
       "    word-wrap: break-word;\n",
       "    word-break: break-all;\n",
       "    font-family: \"Menlo\", \"Monaco\", \"Consolas\", \"Ubuntu Mono\", \"Source Code Pro\", monospace;\n",
       "    font-size: 13px;\n",
       "    color: #555;\n",
       "    margin-left: 4px;\n",
       "    line-height: 19px;\n",
       "  }\n",
       "</style>\n",
       "<div class=\"ansiout\">URL del vino tinto: https://raw.githubusercontent.com/JorgeCardona/data-collection-json-csv-sql/refs/heads/main/csv/wine/winequality-red.csv\n",
       "URL del vino blanco: https://raw.githubusercontent.com/JorgeCardona/data-collection-json-csv-sql/refs/heads/main/csv/wine/winequality-white.csv\n",
       "Directorio de almacenamiento: /FileStore/tables/\n",
       "redWineUrl: String = https://raw.githubusercontent.com/JorgeCardona/data-collection-json-csv-sql/refs/heads/main/csv/wine/winequality-red.csv\n",
       "whiteWineUrl: String = https://raw.githubusercontent.com/JorgeCardona/data-collection-json-csv-sql/refs/heads/main/csv/wine/winequality-white.csv\n",
       "saveDirectory: String = /FileStore/tables/\n",
       "</div>"
      ]
     },
     "metadata": {
      "application/vnd.databricks.v1+output": {
       "addedWidgets": {},
       "arguments": {
        "redWineUrl": "https://raw.githubusercontent.com/JorgeCardona/data-collection-json-csv-sql/refs/heads/main/csv/wine/winequality-red.csv",
        "saveDirectory": "/FileStore/tables/",
        "whiteWineUrl": "https://raw.githubusercontent.com/JorgeCardona/data-collection-json-csv-sql/refs/heads/main/csv/wine/winequality-white.csv"
       },
       "data": "<div class=\"ansiout\">URL del vino tinto: https://raw.githubusercontent.com/JorgeCardona/data-collection-json-csv-sql/refs/heads/main/csv/wine/winequality-red.csv\nURL del vino blanco: https://raw.githubusercontent.com/JorgeCardona/data-collection-json-csv-sql/refs/heads/main/csv/wine/winequality-white.csv\nDirectorio de almacenamiento: /FileStore/tables/\nredWineUrl: String = https://raw.githubusercontent.com/JorgeCardona/data-collection-json-csv-sql/refs/heads/main/csv/wine/winequality-red.csv\nwhiteWineUrl: String = https://raw.githubusercontent.com/JorgeCardona/data-collection-json-csv-sql/refs/heads/main/csv/wine/winequality-white.csv\nsaveDirectory: String = /FileStore/tables/\n</div>",
       "datasetInfos": [],
       "metadata": {
        "isDbfsCommandResult": false
       },
       "removedWidgets": [],
       "type": "html"
      }
     },
     "output_type": "display_data"
    }
   ],
   "source": [
    "%scala\n",
    "// URLs de los archivos CSV\n",
    "// Recuperar los valores de los widgets\n",
    "val redWineUrl = dbutils.widgets.get(\"redWineUrl\")\n",
    "val whiteWineUrl = dbutils.widgets.get(\"whiteWineUrl\")\n",
    "\n",
    "// Directorio donde se guardarán los archivos\n",
    "val saveDirectory = dbutils.widgets.get(\"saveDirectory\")\n",
    "\n",
    "// Imprimir los valores recuperados\n",
    "println(s\"URL del vino tinto: $redWineUrl\")\n",
    "println(s\"URL del vino blanco: $whiteWineUrl\")\n",
    "println(s\"Directorio de almacenamiento: $saveDirectory\")"
   ]
  },
  {
   "cell_type": "markdown",
   "metadata": {
    "application/vnd.databricks.v1+cell": {
     "cellMetadata": {
      "byteLimit": 2048000,
      "rowLimit": 10000
     },
     "inputWidgets": {},
     "nuid": "7d763849-cb52-4911-8875-6ebbef457aa9",
     "showTitle": false,
     "tableResultSettingsMap": {},
     "title": ""
    }
   },
   "source": [
    "## LISTA LOS ARCHIVOS ALMACENADOS EN EL DIRECTORIO FileStore/tables/"
   ]
  },
  {
   "cell_type": "code",
   "execution_count": 0,
   "metadata": {
    "application/vnd.databricks.v1+cell": {
     "cellMetadata": {
      "byteLimit": 2048000,
      "rowLimit": 10000
     },
     "inputWidgets": {},
     "nuid": "d83148f3-179f-40e2-b7bd-e7ce47671abd",
     "showTitle": false,
     "tableResultSettingsMap": {},
     "title": ""
    }
   },
   "outputs": [
    {
     "output_type": "display_data",
     "data": {
      "text/html": [
       "<style scoped>\n",
       "  .ansiout {\n",
       "    display: block;\n",
       "    unicode-bidi: embed;\n",
       "    white-space: pre-wrap;\n",
       "    word-wrap: break-word;\n",
       "    word-break: break-all;\n",
       "    font-family: \"Menlo\", \"Monaco\", \"Consolas\", \"Ubuntu Mono\", \"Source Code Pro\", monospace;\n",
       "    font-size: 13px;\n",
       "    color: #555;\n",
       "    margin-left: 4px;\n",
       "    line-height: 19px;\n",
       "  }\n",
       "</style>\n",
       "<div class=\"ansiout\">Listando archivos en '/FileStore/tables/':\n",
       "Archivos en el directorio /FileStore/tables/:\n",
       "\n",
       "- dbfs:/FileStore/tables/winequality-red.csv\n",
       "- dbfs:/FileStore/tables/winequality-white.csv\n",
       "\n",
       "listFilesInDirectory: (directoryPath: String)Unit\n",
       "</div>"
      ]
     },
     "metadata": {
      "application/vnd.databricks.v1+output": {
       "addedWidgets": {},
       "arguments": {},
       "data": "<div class=\"ansiout\">Listando archivos en '/FileStore/tables/':\nArchivos en el directorio /FileStore/tables/:\n\n- dbfs:/FileStore/tables/winequality-red.csv\n- dbfs:/FileStore/tables/winequality-white.csv\n\nlistFilesInDirectory: (directoryPath: String)Unit\n</div>",
       "datasetInfos": [],
       "metadata": {
        "isDbfsCommandResult": false
       },
       "removedWidgets": [],
       "type": "html"
      }
     },
     "output_type": "display_data"
    }
   ],
   "source": [
    "%scala\n",
    "\n",
    "def listFilesInDirectory(directoryPath: String): Unit = {\n",
    "  // Listar los archivos dentro del directorio especificado\n",
    "  val files = dbutils.fs.ls(directoryPath)\n",
    "  \n",
    "  // Mostrar los archivos encontrados\n",
    "  if (files.isEmpty) {\n",
    "    println(s\"No se encontraron archivos en el directorio $directoryPath.\\n\")\n",
    "  } else {\n",
    "    println(s\"Archivos en el directorio $directoryPath:\\n\")\n",
    "    files.foreach(file => println(s\"- ${file.path}\"))\n",
    "    println()  // Salto de línea después de listar los archivos\n",
    "  }\n",
    "}\n",
    "\n",
    "// Llamada a la función para listar archivos en '/FileStore/tables/'\n",
    "println(\"Listando archivos en '/FileStore/tables/':\")\n",
    "listFilesInDirectory(\"/FileStore/tables/\")"
   ]
  },
  {
   "cell_type": "markdown",
   "metadata": {
    "application/vnd.databricks.v1+cell": {
     "cellMetadata": {
      "byteLimit": 2048000,
      "rowLimit": 10000
     },
     "inputWidgets": {},
     "nuid": "73d5f5d6-b419-4664-97ec-c66b3fc3d6a1",
     "showTitle": false,
     "tableResultSettingsMap": {},
     "title": ""
    }
   },
   "source": [
    "## ELIMINA TODOS LOS ARCHIVOS EN EL DIRECTORIO FileStore/tables/"
   ]
  },
  {
   "cell_type": "code",
   "execution_count": 0,
   "metadata": {
    "application/vnd.databricks.v1+cell": {
     "cellMetadata": {
      "byteLimit": 2048000,
      "rowLimit": 10000
     },
     "inputWidgets": {},
     "nuid": "5a7ce07a-0c96-4346-8824-01130ad30f78",
     "showTitle": false,
     "tableResultSettingsMap": {},
     "title": ""
    }
   },
   "outputs": [
    {
     "output_type": "display_data",
     "data": {
      "text/html": [
       "<style scoped>\n",
       "  .ansiout {\n",
       "    display: block;\n",
       "    unicode-bidi: embed;\n",
       "    white-space: pre-wrap;\n",
       "    word-wrap: break-word;\n",
       "    word-break: break-all;\n",
       "    font-family: \"Menlo\", \"Monaco\", \"Consolas\", \"Ubuntu Mono\", \"Source Code Pro\", monospace;\n",
       "    font-size: 13px;\n",
       "    color: #555;\n",
       "    margin-left: 4px;\n",
       "    line-height: 19px;\n",
       "  }\n",
       "</style>\n",
       "<div class=\"ansiout\">Eliminando archivos en el directorio /FileStore/tables/...\n",
       "\n",
       "Archivo eliminado: dbfs:/FileStore/tables/winequality-red.csv\n",
       "Archivo eliminado: dbfs:/FileStore/tables/winequality-white.csv\n",
       "\n",
       "Todos los archivos en el directorio /FileStore/tables/ han sido eliminados.\n",
       "\n",
       "Listando archivos después de la eliminación en '/FileStore/tables/':\n",
       "No se encontraron archivos en el directorio /FileStore/tables/.\n",
       "\n",
       "deleteAllFilesInDirectory: (directoryPath: String)Unit\n",
       "</div>"
      ]
     },
     "metadata": {
      "application/vnd.databricks.v1+output": {
       "addedWidgets": {},
       "arguments": {},
       "data": "<div class=\"ansiout\">Eliminando archivos en el directorio /FileStore/tables/...\n\nArchivo eliminado: dbfs:/FileStore/tables/winequality-red.csv\nArchivo eliminado: dbfs:/FileStore/tables/winequality-white.csv\n\nTodos los archivos en el directorio /FileStore/tables/ han sido eliminados.\n\nListando archivos después de la eliminación en '/FileStore/tables/':\nNo se encontraron archivos en el directorio /FileStore/tables/.\n\ndeleteAllFilesInDirectory: (directoryPath: String)Unit\n</div>",
       "datasetInfos": [],
       "metadata": {
        "isDbfsCommandResult": false
       },
       "removedWidgets": [],
       "type": "html"
      }
     },
     "output_type": "display_data"
    }
   ],
   "source": [
    "%scala\n",
    "def deleteAllFilesInDirectory(directoryPath: String): Unit = {\n",
    "  // Listar todos los archivos en el directorio\n",
    "  val files = dbutils.fs.ls(directoryPath)\n",
    "\n",
    "  if (files.isEmpty) {\n",
    "    println(s\"No hay archivos para eliminar en el directorio $directoryPath.\\n\")\n",
    "  } else {\n",
    "    // Eliminar cada archivo encontrado\n",
    "    println(s\"Eliminando archivos en el directorio $directoryPath...\\n\")\n",
    "    files.foreach { file =>\n",
    "      dbutils.fs.rm(file.path, recurse = true)\n",
    "      println(s\"Archivo eliminado: ${file.path}\")\n",
    "    }\n",
    "    println(s\"\\nTodos los archivos en el directorio $directoryPath han sido eliminados.\\n\")\n",
    "  }\n",
    "}\n",
    "\n",
    "// Llamada a la función para eliminar todos los archivos en '/FileStore/tables/'\n",
    "deleteAllFilesInDirectory(\"/FileStore/tables/\")\n",
    "\n",
    "// Llamada a la función para listar archivos nuevamente\n",
    "println(\"Listando archivos después de la eliminación en '/FileStore/tables/':\")\n",
    "listFilesInDirectory(\"/FileStore/tables/\")"
   ]
  },
  {
   "cell_type": "markdown",
   "metadata": {
    "application/vnd.databricks.v1+cell": {
     "cellMetadata": {
      "byteLimit": 2048000,
      "rowLimit": 10000
     },
     "inputWidgets": {},
     "nuid": "312dfd5d-3795-4cc0-b408-bb45d00b8e63",
     "showTitle": false,
     "tableResultSettingsMap": {},
     "title": ""
    }
   },
   "source": [
    "# Descargar los archivos en Databricks:\n"
   ]
  },
  {
   "cell_type": "code",
   "execution_count": 0,
   "metadata": {
    "application/vnd.databricks.v1+cell": {
     "cellMetadata": {
      "byteLimit": 2048000,
      "rowLimit": 10000
     },
     "inputWidgets": {},
     "nuid": "9b1cc07e-7d2f-4222-a6d7-f6b641983ce2",
     "showTitle": false,
     "tableResultSettingsMap": {},
     "title": ""
    }
   },
   "outputs": [
    {
     "output_type": "display_data",
     "data": {
      "text/html": [
       "<style scoped>\n",
       "  .ansiout {\n",
       "    display: block;\n",
       "    unicode-bidi: embed;\n",
       "    white-space: pre-wrap;\n",
       "    word-wrap: break-word;\n",
       "    word-break: break-all;\n",
       "    font-family: \"Menlo\", \"Monaco\", \"Consolas\", \"Ubuntu Mono\", \"Source Code Pro\", monospace;\n",
       "    font-size: 13px;\n",
       "    color: #555;\n",
       "    margin-left: 4px;\n",
       "    line-height: 19px;\n",
       "  }\n",
       "</style>\n",
       "<div class=\"ansiout\">Wrote 100951 bytes.\n",
       "Archivo guardado en /FileStore/tables/winequality-red.csv\n",
       "Wrote 264426 bytes.\n",
       "Archivo guardado en /FileStore/tables/winequality-white.csv\n",
       "dbfs:/FileStore/tables/winequality-red.csv\n",
       "dbfs:/FileStore/tables/winequality-white.csv\n",
       "import scala.io.Source\n",
       "import java.io.FileWriter\n",
       "import java.net.URL\n",
       "redWineUrl: String = https://raw.githubusercontent.com/JorgeCardona/data-collection-json-csv-sql/refs/heads/main/csv/wine/winequality-red.csv\n",
       "whiteWineUrl: String = https://raw.githubusercontent.com/JorgeCardona/data-collection-json-csv-sql/refs/heads/main/csv/wine/winequality-white.csv\n",
       "saveDirectory: String = /FileStore/tables/\n",
       "downloadFile: (url: String, savePath: String)Unit\n",
       "</div>"
      ]
     },
     "metadata": {
      "application/vnd.databricks.v1+output": {
       "addedWidgets": {},
       "arguments": {
        "redWineUrl": "https://raw.githubusercontent.com/JorgeCardona/data-collection-json-csv-sql/refs/heads/main/csv/wine/winequality-red.csv",
        "saveDirectory": "/FileStore/tables/",
        "whiteWineUrl": "https://raw.githubusercontent.com/JorgeCardona/data-collection-json-csv-sql/refs/heads/main/csv/wine/winequality-white.csv"
       },
       "data": "<div class=\"ansiout\">Wrote 100951 bytes.\nArchivo guardado en /FileStore/tables/winequality-red.csv\nWrote 264426 bytes.\nArchivo guardado en /FileStore/tables/winequality-white.csv\ndbfs:/FileStore/tables/winequality-red.csv\ndbfs:/FileStore/tables/winequality-white.csv\nimport scala.io.Source\nimport java.io.FileWriter\nimport java.net.URL\nredWineUrl: String = https://raw.githubusercontent.com/JorgeCardona/data-collection-json-csv-sql/refs/heads/main/csv/wine/winequality-red.csv\nwhiteWineUrl: String = https://raw.githubusercontent.com/JorgeCardona/data-collection-json-csv-sql/refs/heads/main/csv/wine/winequality-white.csv\nsaveDirectory: String = /FileStore/tables/\ndownloadFile: (url: String, savePath: String)Unit\n</div>",
       "datasetInfos": [],
       "metadata": {
        "isDbfsCommandResult": false
       },
       "removedWidgets": [],
       "type": "html"
      }
     },
     "output_type": "display_data"
    }
   ],
   "source": [
    "%scala\n",
    "import scala.io.Source\n",
    "import java.io.FileWriter\n",
    "import java.net.URL\n",
    "\n",
    "// URLs de los archivos CSV\n",
    "// Recuperar los valores de los widgets\n",
    "val redWineUrl = dbutils.widgets.get(\"redWineUrl\")\n",
    "val whiteWineUrl = dbutils.widgets.get(\"whiteWineUrl\")\n",
    "\n",
    "// Directorio donde se guardarán los archivos\n",
    "val saveDirectory = dbutils.widgets.get(\"saveDirectory\")\n",
    "\n",
    "// Función para descargar y guardar los archivos en Databricks utilizando dbutils.fs.put\n",
    "def downloadFile(url: String, savePath: String): Unit = {\n",
    "  try {\n",
    "    // Descargar el contenido del archivo\n",
    "    val content = Source.fromURL(new URL(url)).mkString\n",
    "\n",
    "    // Usar dbutils.fs.put para guardar el contenido en DBFS\n",
    "    dbutils.fs.put(savePath, content, overwrite = true)\n",
    "\n",
    "    println(s\"Archivo guardado en $savePath\")\n",
    "  } catch {\n",
    "    case e: Exception => println(s\"Error al descargar el archivo desde $url: ${e.getMessage}\")\n",
    "  }\n",
    "}\n",
    "\n",
    "// Descargar y guardar los archivos de vino tinto y vino blanco\n",
    "downloadFile(redWineUrl, saveDirectory + \"winequality-red.csv\")\n",
    "downloadFile(whiteWineUrl, saveDirectory + \"winequality-white.csv\")\n",
    "\n",
    "// Verificar si los archivos se han descargado correctamente\n",
    "dbutils.fs.ls(saveDirectory).foreach(file => println(file.path))\n"
   ]
  },
  {
   "cell_type": "markdown",
   "metadata": {
    "application/vnd.databricks.v1+cell": {
     "cellMetadata": {
      "byteLimit": 2048000,
      "rowLimit": 10000
     },
     "inputWidgets": {},
     "nuid": "b43d259f-45b2-4cf8-97b5-f92e04bfe7dc",
     "showTitle": false,
     "tableResultSettingsMap": {},
     "title": ""
    }
   },
   "source": [
    "# LEER LOS ARCHIVOS DESCARGADOS COMO SPARK DATAFRAMES"
   ]
  },
  {
   "cell_type": "code",
   "execution_count": 0,
   "metadata": {
    "application/vnd.databricks.v1+cell": {
     "cellMetadata": {
      "byteLimit": 2048000,
      "rowLimit": 10000
     },
     "inputWidgets": {},
     "nuid": "89c73df3-ebe0-4b24-9573-653287e2d31d",
     "showTitle": false,
     "tableResultSettingsMap": {},
     "title": ""
    }
   },
   "outputs": [],
   "source": [
    "# Definir widgets para File locations Y types\n",
    "dbutils.widgets.text(\"redWineFileLocation\", \"/FileStore/tables/winequality-red.csv\")\n",
    "dbutils.widgets.text(\"whiteWineFileLocation\", \"/FileStore/tables/winequality-white.csv\")\n",
    "dbutils.widgets.text(\"fileType\", \"csv\")\n",
    "\n",
    "# Definir widgets para las nuevas opciones de CSV\n",
    "dbutils.widgets.text(\"inferSchema\", \"true\")\n",
    "dbutils.widgets.text(\"firstRowIsHeader\", \"true\")\n",
    "dbutils.widgets.text(\"delimiter\", \",\")"
   ]
  },
  {
   "cell_type": "markdown",
   "metadata": {
    "application/vnd.databricks.v1+cell": {
     "cellMetadata": {
      "byteLimit": 2048000,
      "rowLimit": 10000
     },
     "inputWidgets": {},
     "nuid": "b65ff36b-c613-400c-a946-19e013a9d386",
     "showTitle": false,
     "tableResultSettingsMap": {},
     "title": ""
    }
   },
   "source": [
    "## PYTHON"
   ]
  },
  {
   "cell_type": "code",
   "execution_count": 0,
   "metadata": {
    "application/vnd.databricks.v1+cell": {
     "cellMetadata": {
      "byteLimit": 2048000,
      "rowLimit": 10000
     },
     "inputWidgets": {},
     "nuid": "4d59d545-5022-4f48-9b09-9e1f4ecd478b",
     "showTitle": false,
     "tableResultSettingsMap": {},
     "title": ""
    }
   },
   "outputs": [
    {
     "output_type": "display_data",
     "data": {
      "text/html": [
       "<style scoped>\n",
       "  .table-result-container {\n",
       "    max-height: 300px;\n",
       "    overflow: auto;\n",
       "  }\n",
       "  table, th, td {\n",
       "    border: 1px solid black;\n",
       "    border-collapse: collapse;\n",
       "  }\n",
       "  th, td {\n",
       "    padding: 5px;\n",
       "  }\n",
       "  th {\n",
       "    text-align: left;\n",
       "  }\n",
       "</style><div class='table-result-container'><table class='table-result'><thead style='background-color: white'><tr><th>fixed acidity</th><th>volatile acidity</th><th>citric acid</th><th>residual sugar</th><th>chlorides</th><th>free sulfur dioxide</th><th>total sulfur dioxide</th><th>density</th><th>pH</th><th>sulphates</th><th>alcohol</th><th>quality</th></tr></thead><tbody><tr><td>7.4</td><td>0.7</td><td>0.0</td><td>1.9</td><td>0.076</td><td>11.0</td><td>34.0</td><td>0.9978</td><td>3.51</td><td>0.56</td><td>9.4</td><td>5</td></tr><tr><td>7.8</td><td>0.88</td><td>0.0</td><td>2.6</td><td>0.098</td><td>25.0</td><td>67.0</td><td>0.9968</td><td>3.2</td><td>0.68</td><td>9.8</td><td>5</td></tr><tr><td>7.8</td><td>0.76</td><td>0.04</td><td>2.3</td><td>0.092</td><td>15.0</td><td>54.0</td><td>0.997</td><td>3.26</td><td>0.65</td><td>9.8</td><td>5</td></tr><tr><td>11.2</td><td>0.28</td><td>0.56</td><td>1.9</td><td>0.075</td><td>17.0</td><td>60.0</td><td>0.998</td><td>3.16</td><td>0.58</td><td>9.8</td><td>6</td></tr><tr><td>7.4</td><td>0.7</td><td>0.0</td><td>1.9</td><td>0.076</td><td>11.0</td><td>34.0</td><td>0.9978</td><td>3.51</td><td>0.56</td><td>9.4</td><td>5</td></tr></tbody></table></div>"
      ]
     },
     "metadata": {
      "application/vnd.databricks.v1+output": {
       "addedWidgets": {},
       "aggData": [],
       "aggError": "",
       "aggOverflow": false,
       "aggSchema": [],
       "aggSeriesLimitReached": false,
       "aggType": "",
       "arguments": {},
       "columnCustomDisplayInfos": {},
       "data": [
        [
         7.4,
         0.7,
         0.0,
         1.9,
         0.076,
         11.0,
         34.0,
         0.9978,
         3.51,
         0.56,
         9.4,
         5
        ],
        [
         7.8,
         0.88,
         0.0,
         2.6,
         0.098,
         25.0,
         67.0,
         0.9968,
         3.2,
         0.68,
         9.8,
         5
        ],
        [
         7.8,
         0.76,
         0.04,
         2.3,
         0.092,
         15.0,
         54.0,
         0.997,
         3.26,
         0.65,
         9.8,
         5
        ],
        [
         11.2,
         0.28,
         0.56,
         1.9,
         0.075,
         17.0,
         60.0,
         0.998,
         3.16,
         0.58,
         9.8,
         6
        ],
        [
         7.4,
         0.7,
         0.0,
         1.9,
         0.076,
         11.0,
         34.0,
         0.9978,
         3.51,
         0.56,
         9.4,
         5
        ]
       ],
       "datasetInfos": [],
       "dbfsResultPath": null,
       "isJsonSchema": true,
       "metadata": {},
       "overflow": false,
       "plotOptions": {
        "customPlotOptions": {},
        "displayType": "table",
        "pivotAggregation": null,
        "pivotColumns": null,
        "xColumns": null,
        "yColumns": null
       },
       "removedWidgets": [],
       "schema": [
        {
         "metadata": "{}",
         "name": "fixed acidity",
         "type": "\"double\""
        },
        {
         "metadata": "{}",
         "name": "volatile acidity",
         "type": "\"double\""
        },
        {
         "metadata": "{}",
         "name": "citric acid",
         "type": "\"double\""
        },
        {
         "metadata": "{}",
         "name": "residual sugar",
         "type": "\"double\""
        },
        {
         "metadata": "{}",
         "name": "chlorides",
         "type": "\"double\""
        },
        {
         "metadata": "{}",
         "name": "free sulfur dioxide",
         "type": "\"double\""
        },
        {
         "metadata": "{}",
         "name": "total sulfur dioxide",
         "type": "\"double\""
        },
        {
         "metadata": "{}",
         "name": "density",
         "type": "\"double\""
        },
        {
         "metadata": "{}",
         "name": "pH",
         "type": "\"double\""
        },
        {
         "metadata": "{}",
         "name": "sulphates",
         "type": "\"double\""
        },
        {
         "metadata": "{}",
         "name": "alcohol",
         "type": "\"double\""
        },
        {
         "metadata": "{}",
         "name": "quality",
         "type": "\"integer\""
        }
       ],
       "type": "table"
      }
     },
     "output_type": "display_data"
    },
    {
     "output_type": "display_data",
     "data": {
      "text/html": [
       "<style scoped>\n",
       "  .table-result-container {\n",
       "    max-height: 300px;\n",
       "    overflow: auto;\n",
       "  }\n",
       "  table, th, td {\n",
       "    border: 1px solid black;\n",
       "    border-collapse: collapse;\n",
       "  }\n",
       "  th, td {\n",
       "    padding: 5px;\n",
       "  }\n",
       "  th {\n",
       "    text-align: left;\n",
       "  }\n",
       "</style><div class='table-result-container'><table class='table-result'><thead style='background-color: white'><tr><th>fixed acidity</th><th>volatile acidity</th><th>citric acid</th><th>residual sugar</th><th>chlorides</th><th>free sulfur dioxide</th><th>total sulfur dioxide</th><th>density</th><th>pH</th><th>sulphates</th><th>alcohol</th><th>quality</th></tr></thead><tbody><tr><td>7.0</td><td>0.27</td><td>0.36</td><td>20.7</td><td>0.045</td><td>45.0</td><td>170.0</td><td>1.001</td><td>3.0</td><td>0.45</td><td>8.8</td><td>6</td></tr><tr><td>6.3</td><td>0.3</td><td>0.34</td><td>1.6</td><td>0.049</td><td>14.0</td><td>132.0</td><td>0.994</td><td>3.3</td><td>0.49</td><td>9.5</td><td>6</td></tr><tr><td>8.1</td><td>0.28</td><td>0.4</td><td>6.9</td><td>0.05</td><td>30.0</td><td>97.0</td><td>0.9951</td><td>3.26</td><td>0.44</td><td>10.1</td><td>6</td></tr><tr><td>7.2</td><td>0.23</td><td>0.32</td><td>8.5</td><td>0.058</td><td>47.0</td><td>186.0</td><td>0.9956</td><td>3.19</td><td>0.4</td><td>9.9</td><td>6</td></tr><tr><td>7.2</td><td>0.23</td><td>0.32</td><td>8.5</td><td>0.058</td><td>47.0</td><td>186.0</td><td>0.9956</td><td>3.19</td><td>0.4</td><td>9.9</td><td>6</td></tr></tbody></table></div>"
      ]
     },
     "metadata": {
      "application/vnd.databricks.v1+output": {
       "addedWidgets": {},
       "aggData": [],
       "aggError": "",
       "aggOverflow": false,
       "aggSchema": [],
       "aggSeriesLimitReached": false,
       "aggType": "",
       "arguments": {},
       "columnCustomDisplayInfos": {},
       "data": [
        [
         7.0,
         0.27,
         0.36,
         20.7,
         0.045,
         45.0,
         170.0,
         1.001,
         3.0,
         0.45,
         8.8,
         6
        ],
        [
         6.3,
         0.3,
         0.34,
         1.6,
         0.049,
         14.0,
         132.0,
         0.994,
         3.3,
         0.49,
         9.5,
         6
        ],
        [
         8.1,
         0.28,
         0.4,
         6.9,
         0.05,
         30.0,
         97.0,
         0.9951,
         3.26,
         0.44,
         10.1,
         6
        ],
        [
         7.2,
         0.23,
         0.32,
         8.5,
         0.058,
         47.0,
         186.0,
         0.9956,
         3.19,
         0.4,
         9.9,
         6
        ],
        [
         7.2,
         0.23,
         0.32,
         8.5,
         0.058,
         47.0,
         186.0,
         0.9956,
         3.19,
         0.4,
         9.9,
         6
        ]
       ],
       "datasetInfos": [],
       "dbfsResultPath": null,
       "isJsonSchema": true,
       "metadata": {},
       "overflow": false,
       "plotOptions": {
        "customPlotOptions": {},
        "displayType": "table",
        "pivotAggregation": null,
        "pivotColumns": null,
        "xColumns": null,
        "yColumns": null
       },
       "removedWidgets": [],
       "schema": [
        {
         "metadata": "{}",
         "name": "fixed acidity",
         "type": "\"double\""
        },
        {
         "metadata": "{}",
         "name": "volatile acidity",
         "type": "\"double\""
        },
        {
         "metadata": "{}",
         "name": "citric acid",
         "type": "\"double\""
        },
        {
         "metadata": "{}",
         "name": "residual sugar",
         "type": "\"double\""
        },
        {
         "metadata": "{}",
         "name": "chlorides",
         "type": "\"double\""
        },
        {
         "metadata": "{}",
         "name": "free sulfur dioxide",
         "type": "\"double\""
        },
        {
         "metadata": "{}",
         "name": "total sulfur dioxide",
         "type": "\"double\""
        },
        {
         "metadata": "{}",
         "name": "density",
         "type": "\"double\""
        },
        {
         "metadata": "{}",
         "name": "pH",
         "type": "\"double\""
        },
        {
         "metadata": "{}",
         "name": "sulphates",
         "type": "\"double\""
        },
        {
         "metadata": "{}",
         "name": "alcohol",
         "type": "\"double\""
        },
        {
         "metadata": "{}",
         "name": "quality",
         "type": "\"integer\""
        }
       ],
       "type": "table"
      }
     },
     "output_type": "display_data"
    },
    {
     "output_type": "stream",
     "name": "stdout",
     "output_type": "stream",
     "text": [
      "Encabezados de Vino Tinto:\n['fixed acidity', 'volatile acidity', 'citric acid', 'residual sugar', 'chlorides', 'free sulfur dioxide', 'total sulfur dioxide', 'density', 'pH', 'sulphates', 'alcohol', 'quality']\n\nEncabezados de Vino Blanco:\n['fixed acidity', 'volatile acidity', 'citric acid', 'residual sugar', 'chlorides', 'free sulfur dioxide', 'total sulfur dioxide', 'density', 'pH', 'sulphates', 'alcohol', 'quality']\n"
     ]
    }
   ],
   "source": [
    "# File locations and types\n",
    "red_wine_file_location = \"/FileStore/tables/winequality-red.csv\"\n",
    "white_wine_file_location = \"/FileStore/tables/winequality-white.csv\"\n",
    "file_type = \"csv\"\n",
    "\n",
    "# CSV options\n",
    "infer_schema = \"true\"\n",
    "first_row_is_header = \"true\"\n",
    "delimiter = \",\"\n",
    "\n",
    "# Cargar archivo CSV de vino tinto\n",
    "red_wine_df = spark.read.format(file_type) \\\n",
    "  .option(\"inferSchema\", infer_schema) \\\n",
    "  .option(\"header\", first_row_is_header) \\\n",
    "  .option(\"sep\", delimiter) \\\n",
    "  .load(red_wine_file_location)\n",
    "\n",
    "# Cargar archivo CSV de vino blanco\n",
    "white_wine_df = spark.read.format(file_type) \\\n",
    "  .option(\"inferSchema\", infer_schema) \\\n",
    "  .option(\"header\", first_row_is_header) \\\n",
    "  .option(\"sep\", delimiter) \\\n",
    "  .load(white_wine_file_location)\n",
    "\n",
    "# Mostrar los primeros 5 registros de cada DataFrame\n",
    "display(red_wine_df.limit(5))\n",
    "display(white_wine_df.limit(5))\n",
    "\n",
    "# Mostrar los nombres de las columnas (encabezados)\n",
    "print(\"Encabezados de Vino Tinto:\")\n",
    "print(red_wine_df.columns)\n",
    "\n",
    "print(\"\\nEncabezados de Vino Blanco:\")\n",
    "print(white_wine_df.columns)"
   ]
  },
  {
   "cell_type": "markdown",
   "metadata": {
    "application/vnd.databricks.v1+cell": {
     "cellMetadata": {
      "byteLimit": 2048000,
      "rowLimit": 10000
     },
     "inputWidgets": {},
     "nuid": "f9677aa3-f436-4c18-b960-05313ee4bf35",
     "showTitle": false,
     "tableResultSettingsMap": {},
     "title": ""
    }
   },
   "source": [
    "## SCALA"
   ]
  },
  {
   "cell_type": "code",
   "execution_count": 0,
   "metadata": {
    "application/vnd.databricks.v1+cell": {
     "cellMetadata": {
      "byteLimit": 2048000,
      "rowLimit": 10000
     },
     "inputWidgets": {},
     "nuid": "e5b8cff9-3446-48c4-b727-09f358970bdf",
     "showTitle": false,
     "tableResultSettingsMap": {},
     "title": ""
    }
   },
   "outputs": [
    {
     "output_type": "display_data",
     "data": {
      "text/html": [
       "<style scoped>\n",
       "  .table-result-container {\n",
       "    max-height: 300px;\n",
       "    overflow: auto;\n",
       "  }\n",
       "  table, th, td {\n",
       "    border: 1px solid black;\n",
       "    border-collapse: collapse;\n",
       "  }\n",
       "  th, td {\n",
       "    padding: 5px;\n",
       "  }\n",
       "  th {\n",
       "    text-align: left;\n",
       "  }\n",
       "</style><div class='table-result-container'><table class='table-result'><thead style='background-color: white'><tr><th>fixed acidity</th><th>volatile acidity</th><th>citric acid</th><th>residual sugar</th><th>chlorides</th><th>free sulfur dioxide</th><th>total sulfur dioxide</th><th>density</th><th>pH</th><th>sulphates</th><th>alcohol</th><th>quality</th></tr></thead><tbody><tr><td>7.0</td><td>0.27</td><td>0.36</td><td>20.7</td><td>0.045</td><td>45.0</td><td>170.0</td><td>1.001</td><td>3.0</td><td>0.45</td><td>8.8</td><td>6</td></tr><tr><td>6.3</td><td>0.3</td><td>0.34</td><td>1.6</td><td>0.049</td><td>14.0</td><td>132.0</td><td>0.994</td><td>3.3</td><td>0.49</td><td>9.5</td><td>6</td></tr><tr><td>8.1</td><td>0.28</td><td>0.4</td><td>6.9</td><td>0.05</td><td>30.0</td><td>97.0</td><td>0.9951</td><td>3.26</td><td>0.44</td><td>10.1</td><td>6</td></tr><tr><td>7.2</td><td>0.23</td><td>0.32</td><td>8.5</td><td>0.058</td><td>47.0</td><td>186.0</td><td>0.9956</td><td>3.19</td><td>0.4</td><td>9.9</td><td>6</td></tr><tr><td>7.2</td><td>0.23</td><td>0.32</td><td>8.5</td><td>0.058</td><td>47.0</td><td>186.0</td><td>0.9956</td><td>3.19</td><td>0.4</td><td>9.9</td><td>6</td></tr></tbody></table></div>"
      ]
     },
     "metadata": {
      "application/vnd.databricks.v1+output": {
       "addedWidgets": {},
       "aggData": [],
       "aggError": "",
       "aggOverflow": false,
       "aggSchema": [],
       "aggSeriesLimitReached": false,
       "aggType": "",
       "arguments": {
        "delimiter": ",",
        "fileType": "csv",
        "firstRowIsHeader": "true",
        "inferSchema": "true",
        "redWineFileLocation": "/FileStore/tables/winequality-red.csv",
        "whiteWineFileLocation": "/FileStore/tables/winequality-white.csv"
       },
       "columnCustomDisplayInfos": {},
       "data": [
        [
         7.0,
         0.27,
         0.36,
         20.7,
         0.045,
         45.0,
         170.0,
         1.001,
         3.0,
         0.45,
         8.8,
         6
        ],
        [
         6.3,
         0.3,
         0.34,
         1.6,
         0.049,
         14.0,
         132.0,
         0.994,
         3.3,
         0.49,
         9.5,
         6
        ],
        [
         8.1,
         0.28,
         0.4,
         6.9,
         0.05,
         30.0,
         97.0,
         0.9951,
         3.26,
         0.44,
         10.1,
         6
        ],
        [
         7.2,
         0.23,
         0.32,
         8.5,
         0.058,
         47.0,
         186.0,
         0.9956,
         3.19,
         0.4,
         9.9,
         6
        ],
        [
         7.2,
         0.23,
         0.32,
         8.5,
         0.058,
         47.0,
         186.0,
         0.9956,
         3.19,
         0.4,
         9.9,
         6
        ]
       ],
       "datasetInfos": [
        {
         "name": "redWineDF",
         "schema": {
          "fields": [
           {
            "metadata": {},
            "name": "fixed acidity",
            "nullable": true,
            "type": "double"
           },
           {
            "metadata": {},
            "name": "volatile acidity",
            "nullable": true,
            "type": "double"
           },
           {
            "metadata": {},
            "name": "citric acid",
            "nullable": true,
            "type": "double"
           },
           {
            "metadata": {},
            "name": "residual sugar",
            "nullable": true,
            "type": "double"
           },
           {
            "metadata": {},
            "name": "chlorides",
            "nullable": true,
            "type": "double"
           },
           {
            "metadata": {},
            "name": "free sulfur dioxide",
            "nullable": true,
            "type": "double"
           },
           {
            "metadata": {},
            "name": "total sulfur dioxide",
            "nullable": true,
            "type": "double"
           },
           {
            "metadata": {},
            "name": "density",
            "nullable": true,
            "type": "double"
           },
           {
            "metadata": {},
            "name": "pH",
            "nullable": true,
            "type": "double"
           },
           {
            "metadata": {},
            "name": "sulphates",
            "nullable": true,
            "type": "double"
           },
           {
            "metadata": {},
            "name": "alcohol",
            "nullable": true,
            "type": "double"
           },
           {
            "metadata": {},
            "name": "quality",
            "nullable": true,
            "type": "integer"
           }
          ],
          "type": "struct"
         },
         "tableIdentifier": null,
         "typeStr": "org.apache.spark.sql.DataFrame"
        },
        {
         "name": "whiteWineDF",
         "schema": {
          "fields": [
           {
            "metadata": {},
            "name": "fixed acidity",
            "nullable": true,
            "type": "double"
           },
           {
            "metadata": {},
            "name": "volatile acidity",
            "nullable": true,
            "type": "double"
           },
           {
            "metadata": {},
            "name": "citric acid",
            "nullable": true,
            "type": "double"
           },
           {
            "metadata": {},
            "name": "residual sugar",
            "nullable": true,
            "type": "double"
           },
           {
            "metadata": {},
            "name": "chlorides",
            "nullable": true,
            "type": "double"
           },
           {
            "metadata": {},
            "name": "free sulfur dioxide",
            "nullable": true,
            "type": "double"
           },
           {
            "metadata": {},
            "name": "total sulfur dioxide",
            "nullable": true,
            "type": "double"
           },
           {
            "metadata": {},
            "name": "density",
            "nullable": true,
            "type": "double"
           },
           {
            "metadata": {},
            "name": "pH",
            "nullable": true,
            "type": "double"
           },
           {
            "metadata": {},
            "name": "sulphates",
            "nullable": true,
            "type": "double"
           },
           {
            "metadata": {},
            "name": "alcohol",
            "nullable": true,
            "type": "double"
           },
           {
            "metadata": {},
            "name": "quality",
            "nullable": true,
            "type": "integer"
           }
          ],
          "type": "struct"
         },
         "tableIdentifier": null,
         "typeStr": "org.apache.spark.sql.DataFrame"
        }
       ],
       "dbfsResultPath": null,
       "isJsonSchema": true,
       "metadata": {
        "isDbfsCommandResult": false
       },
       "overflow": false,
       "plotOptions": {
        "customPlotOptions": {},
        "displayType": "table",
        "pivotAggregation": null,
        "pivotColumns": null,
        "xColumns": null,
        "yColumns": null
       },
       "removedWidgets": [],
       "schema": [
        {
         "metadata": "{}",
         "name": "fixed acidity",
         "type": "\"double\""
        },
        {
         "metadata": "{}",
         "name": "volatile acidity",
         "type": "\"double\""
        },
        {
         "metadata": "{}",
         "name": "citric acid",
         "type": "\"double\""
        },
        {
         "metadata": "{}",
         "name": "residual sugar",
         "type": "\"double\""
        },
        {
         "metadata": "{}",
         "name": "chlorides",
         "type": "\"double\""
        },
        {
         "metadata": "{}",
         "name": "free sulfur dioxide",
         "type": "\"double\""
        },
        {
         "metadata": "{}",
         "name": "total sulfur dioxide",
         "type": "\"double\""
        },
        {
         "metadata": "{}",
         "name": "density",
         "type": "\"double\""
        },
        {
         "metadata": "{}",
         "name": "pH",
         "type": "\"double\""
        },
        {
         "metadata": "{}",
         "name": "sulphates",
         "type": "\"double\""
        },
        {
         "metadata": "{}",
         "name": "alcohol",
         "type": "\"double\""
        },
        {
         "metadata": "{}",
         "name": "quality",
         "type": "\"integer\""
        }
       ],
       "type": "table"
      }
     },
     "output_type": "display_data"
    }
   ],
   "source": [
    "%scala\n",
    "// Ubicaciones de los archivos\n",
    "// Recuperar los valores de los widgets\n",
    "val redWineFileLocation = dbutils.widgets.get(\"redWineFileLocation\")\n",
    "val whiteWineFileLocation = dbutils.widgets.get(\"whiteWineFileLocation\")\n",
    "val fileType = dbutils.widgets.get(\"fileType\")\n",
    "\n",
    "// Opciones de CSV\n",
    "// Recuperar los valores de los widgets\n",
    "val inferSchema = dbutils.widgets.get(\"inferSchema\")\n",
    "val firstRowIsHeader = dbutils.widgets.get(\"firstRowIsHeader\")\n",
    "val delimiter = dbutils.widgets.get(\"delimiter\")\n",
    "\n",
    "// Cargar el archivo CSV de vino tinto\n",
    "val redWineDF = spark.read.format(fileType)\n",
    "  .option(\"inferSchema\", inferSchema)\n",
    "  .option(\"header\", firstRowIsHeader)  // Se considera que la primera línea es el encabezado\n",
    "  .option(\"sep\", delimiter)\n",
    "  .load(redWineFileLocation)\n",
    "\n",
    "// Cargar el archivo CSV de vino blanco\n",
    "val whiteWineDF = spark.read.format(fileType)\n",
    "  .option(\"inferSchema\", inferSchema)\n",
    "  .option(\"header\", firstRowIsHeader)  // Se considera que la primera línea es el encabezado\n",
    "  .option(\"sep\", delimiter)\n",
    "  .load(whiteWineFileLocation)\n",
    "\n",
    "// Mostrar los primeros 5 registros de cada DataFrame con encabezado incluido\n",
    "display(redWineDF.limit(5))  // Usar display para una vista interactiva más bonita\n",
    "display(whiteWineDF.limit(5))  // Usar display para una vista interactiva más bonita"
   ]
  },
  {
   "cell_type": "code",
   "execution_count": 0,
   "metadata": {
    "application/vnd.databricks.v1+cell": {
     "cellMetadata": {
      "byteLimit": 2048000,
      "rowLimit": 10000
     },
     "inputWidgets": {},
     "nuid": "1a7ede7d-a8e4-495b-b34d-59226a302ca8",
     "showTitle": false,
     "tableResultSettingsMap": {},
     "title": ""
    }
   },
   "outputs": [
    {
     "output_type": "display_data",
     "data": {
      "text/html": [
       "<style scoped>\n",
       "  .ansiout {\n",
       "    display: block;\n",
       "    unicode-bidi: embed;\n",
       "    white-space: pre-wrap;\n",
       "    word-wrap: break-word;\n",
       "    word-break: break-all;\n",
       "    font-family: \"Menlo\", \"Monaco\", \"Consolas\", \"Ubuntu Mono\", \"Source Code Pro\", monospace;\n",
       "    font-size: 13px;\n",
       "    color: #555;\n",
       "    margin-left: 4px;\n",
       "    line-height: 19px;\n",
       "  }\n",
       "</style>\n",
       "<div class=\"ansiout\">Encabezados de Vino Tinto:\n",
       "fixed acidity\n",
       "volatile acidity\n",
       "citric acid\n",
       "residual sugar\n",
       "chlorides\n",
       "free sulfur dioxide\n",
       "total sulfur dioxide\n",
       "density\n",
       "pH\n",
       "sulphates\n",
       "alcohol\n",
       "quality\n",
       "\n",
       "Encabezados de Vino Blanco:\n",
       "fixed acidity\n",
       "volatile acidity\n",
       "citric acid\n",
       "residual sugar\n",
       "chlorides\n",
       "free sulfur dioxide\n",
       "total sulfur dioxide\n",
       "density\n",
       "pH\n",
       "sulphates\n",
       "alcohol\n",
       "quality\n",
       "</div>"
      ]
     },
     "metadata": {
      "application/vnd.databricks.v1+output": {
       "addedWidgets": {},
       "arguments": {},
       "data": "<div class=\"ansiout\">Encabezados de Vino Tinto:\nfixed acidity\nvolatile acidity\ncitric acid\nresidual sugar\nchlorides\nfree sulfur dioxide\ntotal sulfur dioxide\ndensity\npH\nsulphates\nalcohol\nquality\n\nEncabezados de Vino Blanco:\nfixed acidity\nvolatile acidity\ncitric acid\nresidual sugar\nchlorides\nfree sulfur dioxide\ntotal sulfur dioxide\ndensity\npH\nsulphates\nalcohol\nquality\n</div>",
       "datasetInfos": [],
       "metadata": {
        "isDbfsCommandResult": false
       },
       "removedWidgets": [],
       "type": "html"
      }
     },
     "output_type": "display_data"
    }
   ],
   "source": [
    "%scala\n",
    "\n",
    "// Ver los nombres de las columnas (encabezados)\n",
    "println(\"Encabezados de Vino Tinto:\")\n",
    "redWineDF.columns.foreach(println)\n",
    "\n",
    "println(\"\\nEncabezados de Vino Blanco:\")\n",
    "whiteWineDF.columns.foreach(println)"
   ]
  },
  {
   "cell_type": "markdown",
   "metadata": {
    "application/vnd.databricks.v1+cell": {
     "cellMetadata": {
      "byteLimit": 2048000,
      "rowLimit": 10000
     },
     "inputWidgets": {},
     "nuid": "de0f013d-b2f1-4447-b611-4efb88190bce",
     "showTitle": false,
     "tableResultSettingsMap": {},
     "title": ""
    }
   },
   "source": [
    "## CREAR TABLAS EN LA BASE DE DATOS EN EL CATALOG USANDO LOS .csv\n",
    "## USANDO SQL"
   ]
  },
  {
   "cell_type": "code",
   "execution_count": 0,
   "metadata": {
    "application/vnd.databricks.v1+cell": {
     "cellMetadata": {
      "byteLimit": 2048000,
      "rowLimit": 10000
     },
     "inputWidgets": {},
     "nuid": "eee2b0d4-7904-491d-b010-f3f5f512a054",
     "showTitle": false,
     "tableResultSettingsMap": {},
     "title": ""
    }
   },
   "outputs": [],
   "source": [
    "# Define los widgets con valores predeterminados para leer en SQL\n",
    "dbutils.widgets.text(\"tableName\", \"red_wine\", \"Table Name\")\n",
    "dbutils.widgets.text(\"redWineFileLocation\", \"/FileStore/tables/winequality-red.csv\", \"Red Wine File Location\")"
   ]
  },
  {
   "cell_type": "code",
   "execution_count": 0,
   "metadata": {
    "application/vnd.databricks.v1+cell": {
     "cellMetadata": {
      "byteLimit": 2048000,
      "implicitDf": true,
      "rowLimit": 10000
     },
     "inputWidgets": {},
     "nuid": "cdd9c533-113d-456f-80a0-f2c3ae0af74e",
     "showTitle": false,
     "tableResultSettingsMap": {},
     "title": ""
    }
   },
   "outputs": [
    {
     "output_type": "display_data",
     "data": {
      "text/html": [
       "<style scoped>\n",
       "  .table-result-container {\n",
       "    max-height: 300px;\n",
       "    overflow: auto;\n",
       "  }\n",
       "  table, th, td {\n",
       "    border: 1px solid black;\n",
       "    border-collapse: collapse;\n",
       "  }\n",
       "  th, td {\n",
       "    padding: 5px;\n",
       "  }\n",
       "  th {\n",
       "    text-align: left;\n",
       "  }\n",
       "</style><div class='table-result-container'><table class='table-result'><thead style='background-color: white'><tr></tr></thead><tbody></tbody></table></div>"
      ]
     },
     "metadata": {
      "application/vnd.databricks.v1+output": {
       "addedWidgets": {},
       "aggData": [],
       "aggError": "",
       "aggOverflow": false,
       "aggSchema": [],
       "aggSeriesLimitReached": false,
       "aggType": "",
       "arguments": {},
       "columnCustomDisplayInfos": {},
       "data": [],
       "datasetInfos": [],
       "dbfsResultPath": null,
       "isJsonSchema": true,
       "metadata": {
        "dataframeName": null
       },
       "overflow": false,
       "plotOptions": {
        "customPlotOptions": {},
        "displayType": "table",
        "pivotAggregation": null,
        "pivotColumns": null,
        "xColumns": null,
        "yColumns": null
       },
       "removedWidgets": [],
       "schema": [],
       "type": "table"
      }
     },
     "output_type": "display_data"
    }
   ],
   "source": [
    "%sql\n",
    "-- Usar las variables de los widgets en una consulta SQL\n",
    "DROP TABLE IF EXISTS ${tableName};\n",
    "\n",
    "CREATE TABLE ${tableName}\n",
    "USING csv\n",
    "OPTIONS (\n",
    "  path '${redWineFileLocation}',\n",
    "  header \"true\",\n",
    "  inferSchema \"true\"\n",
    ");\n"
   ]
  },
  {
   "cell_type": "code",
   "execution_count": 0,
   "metadata": {
    "application/vnd.databricks.v1+cell": {
     "cellMetadata": {
      "byteLimit": 2048000,
      "implicitDf": true,
      "rowLimit": 10000
     },
     "inputWidgets": {},
     "nuid": "d4565167-fa8b-462c-b625-d0ba895660cc",
     "showTitle": false,
     "tableResultSettingsMap": {},
     "title": ""
    }
   },
   "outputs": [
    {
     "output_type": "display_data",
     "data": {
      "text/html": [
       "<style scoped>\n",
       "  .table-result-container {\n",
       "    max-height: 300px;\n",
       "    overflow: auto;\n",
       "  }\n",
       "  table, th, td {\n",
       "    border: 1px solid black;\n",
       "    border-collapse: collapse;\n",
       "  }\n",
       "  th, td {\n",
       "    padding: 5px;\n",
       "  }\n",
       "  th {\n",
       "    text-align: left;\n",
       "  }\n",
       "</style><div class='table-result-container'><table class='table-result'><thead style='background-color: white'><tr><th>count(1)</th></tr></thead><tbody><tr><td>1599</td></tr></tbody></table></div>"
      ]
     },
     "metadata": {
      "application/vnd.databricks.v1+output": {
       "addedWidgets": {},
       "aggData": [],
       "aggError": "",
       "aggOverflow": false,
       "aggSchema": [],
       "aggSeriesLimitReached": false,
       "aggType": "",
       "arguments": {},
       "columnCustomDisplayInfos": {},
       "data": [
        [
         1599
        ]
       ],
       "datasetInfos": [],
       "dbfsResultPath": null,
       "isJsonSchema": true,
       "metadata": {
        "createTempViewForImplicitDf": true,
        "dataframeName": "_sqldf",
        "executionCount": 6
       },
       "overflow": false,
       "plotOptions": {
        "customPlotOptions": {},
        "displayType": "table",
        "pivotAggregation": null,
        "pivotColumns": null,
        "xColumns": null,
        "yColumns": null
       },
       "removedWidgets": [],
       "schema": [
        {
         "metadata": "{\"__autoGeneratedAlias\":\"true\"}",
         "name": "count(1)",
         "type": "\"long\""
        }
       ],
       "type": "table"
      }
     },
     "output_type": "display_data"
    }
   ],
   "source": [
    "%sql\n",
    "SELECT COUNT(*)\n",
    "FROM ${tableName}"
   ]
  },
  {
   "cell_type": "markdown",
   "metadata": {
    "application/vnd.databricks.v1+cell": {
     "cellMetadata": {
      "byteLimit": 2048000,
      "rowLimit": 10000
     },
     "inputWidgets": {},
     "nuid": "7f5b7be3-4ace-47ac-b279-411bba702552",
     "showTitle": false,
     "tableResultSettingsMap": {},
     "title": ""
    }
   },
   "source": [
    "# USANDO SPARK SQL"
   ]
  },
  {
   "cell_type": "markdown",
   "metadata": {
    "application/vnd.databricks.v1+cell": {
     "cellMetadata": {
      "byteLimit": 2048000,
      "rowLimit": 10000
     },
     "inputWidgets": {},
     "nuid": "e5dd2c9f-1780-4763-ac18-d044ca8b6c73",
     "showTitle": false,
     "tableResultSettingsMap": {},
     "title": ""
    }
   },
   "source": [
    "## PYTHON"
   ]
  },
  {
   "cell_type": "code",
   "execution_count": 0,
   "metadata": {
    "application/vnd.databricks.v1+cell": {
     "cellMetadata": {
      "byteLimit": 2048000,
      "rowLimit": 10000
     },
     "inputWidgets": {},
     "nuid": "52ca891f-0154-4970-9cfd-d10a145d8b3f",
     "showTitle": false,
     "tableResultSettingsMap": {},
     "title": ""
    }
   },
   "outputs": [
    {
     "output_type": "display_data",
     "data": {
      "text/html": [
       "<style scoped>\n",
       "  .table-result-container {\n",
       "    max-height: 300px;\n",
       "    overflow: auto;\n",
       "  }\n",
       "  table, th, td {\n",
       "    border: 1px solid black;\n",
       "    border-collapse: collapse;\n",
       "  }\n",
       "  th, td {\n",
       "    padding: 5px;\n",
       "  }\n",
       "  th {\n",
       "    text-align: left;\n",
       "  }\n",
       "</style><div class='table-result-container'><table class='table-result'><thead style='background-color: white'><tr><th>fixed acidity</th><th>volatile acidity</th><th>citric acid</th><th>residual sugar</th><th>chlorides</th><th>free sulfur dioxide</th><th>total sulfur dioxide</th><th>density</th><th>pH</th><th>sulphates</th><th>alcohol</th><th>quality</th></tr></thead><tbody><tr><td>8.9</td><td>0.62</td><td>0.19</td><td>3.9</td><td>0.17</td><td>51.0</td><td>148.0</td><td>0.9986</td><td>3.17</td><td>0.93</td><td>9.2</td><td>5</td></tr><tr><td>6.7</td><td>0.42</td><td>0.27</td><td>8.6</td><td>0.068</td><td>24.0</td><td>148.0</td><td>0.9948</td><td>3.16</td><td>0.57</td><td>11.3</td><td>6</td></tr><tr><td>9.6</td><td>0.88</td><td>0.28</td><td>2.4</td><td>0.086</td><td>30.0</td><td>147.0</td><td>0.9979</td><td>3.24</td><td>0.53</td><td>9.4</td><td>5</td></tr><tr><td>7.7</td><td>0.54</td><td>0.26</td><td>1.9</td><td>0.08900000000000001</td><td>23.0</td><td>147.0</td><td>0.99636</td><td>3.26</td><td>0.59</td><td>9.7</td><td>5</td></tr><tr><td>7.7</td><td>0.54</td><td>0.26</td><td>1.9</td><td>0.08900000000000001</td><td>23.0</td><td>147.0</td><td>0.99636</td><td>3.26</td><td>0.59</td><td>9.7</td><td>5</td></tr></tbody></table></div>"
      ]
     },
     "metadata": {
      "application/vnd.databricks.v1+output": {
       "addedWidgets": {},
       "aggData": [],
       "aggError": "",
       "aggOverflow": false,
       "aggSchema": [],
       "aggSeriesLimitReached": false,
       "aggType": "",
       "arguments": {},
       "columnCustomDisplayInfos": {},
       "data": [
        [
         8.9,
         0.62,
         0.19,
         3.9,
         0.17,
         51.0,
         148.0,
         0.9986,
         3.17,
         0.93,
         9.2,
         5
        ],
        [
         6.7,
         0.42,
         0.27,
         8.6,
         0.068,
         24.0,
         148.0,
         0.9948,
         3.16,
         0.57,
         11.3,
         6
        ],
        [
         9.6,
         0.88,
         0.28,
         2.4,
         0.086,
         30.0,
         147.0,
         0.9979,
         3.24,
         0.53,
         9.4,
         5
        ],
        [
         7.7,
         0.54,
         0.26,
         1.9,
         0.08900000000000001,
         23.0,
         147.0,
         0.99636,
         3.26,
         0.59,
         9.7,
         5
        ],
        [
         7.7,
         0.54,
         0.26,
         1.9,
         0.08900000000000001,
         23.0,
         147.0,
         0.99636,
         3.26,
         0.59,
         9.7,
         5
        ]
       ],
       "datasetInfos": [],
       "dbfsResultPath": null,
       "isJsonSchema": true,
       "metadata": {},
       "overflow": false,
       "plotOptions": {
        "customPlotOptions": {},
        "displayType": "table",
        "pivotAggregation": null,
        "pivotColumns": null,
        "xColumns": null,
        "yColumns": null
       },
       "removedWidgets": [],
       "schema": [
        {
         "metadata": "{}",
         "name": "fixed acidity",
         "type": "\"double\""
        },
        {
         "metadata": "{}",
         "name": "volatile acidity",
         "type": "\"double\""
        },
        {
         "metadata": "{}",
         "name": "citric acid",
         "type": "\"double\""
        },
        {
         "metadata": "{}",
         "name": "residual sugar",
         "type": "\"double\""
        },
        {
         "metadata": "{}",
         "name": "chlorides",
         "type": "\"double\""
        },
        {
         "metadata": "{}",
         "name": "free sulfur dioxide",
         "type": "\"double\""
        },
        {
         "metadata": "{}",
         "name": "total sulfur dioxide",
         "type": "\"double\""
        },
        {
         "metadata": "{}",
         "name": "density",
         "type": "\"double\""
        },
        {
         "metadata": "{}",
         "name": "pH",
         "type": "\"double\""
        },
        {
         "metadata": "{}",
         "name": "sulphates",
         "type": "\"double\""
        },
        {
         "metadata": "{}",
         "name": "alcohol",
         "type": "\"double\""
        },
        {
         "metadata": "{}",
         "name": "quality",
         "type": "\"integer\""
        }
       ],
       "type": "table"
      }
     },
     "output_type": "display_data"
    }
   ],
   "source": [
    "# Definir el nombre de la tabla\n",
    "table_name = \"white_vine_python\"\n",
    "csv_file_path = dbutils.widgets.get(\"redWineFileLocation\")\n",
    "\n",
    "# elimina la tabla (si existe) usando los datos del archivo CSV\n",
    "spark.sql(f\"DROP TABLE IF EXISTS {table_name}\")\n",
    "\n",
    "query_create_table = f\"\"\"\n",
    "    CREATE TABLE {table_name}\n",
    "    USING csv\n",
    "    OPTIONS (\n",
    "      path \"{csv_file_path}\",\n",
    "      header \"true\",\n",
    "      inferSchema \"true\"\n",
    "    )\n",
    "\"\"\"\n",
    "\n",
    "# crea la tabla usando los datos del archivo CSV\n",
    "spark.sql(query_create_table)\n",
    "\n",
    "# Realizar un SELECT para obtener los primeros 5 registros\n",
    "query_select_table = f\"\"\"\n",
    "    SELECT *\n",
    "    FROM {table_name}\n",
    "    ORDER BY 7 DESC\n",
    "    LIMIT 5\n",
    "    OFFSET 10\n",
    "\"\"\"\n",
    "# Realizar un SELECT para obtener los primeros 5 registros\n",
    "df_white_vine = spark.sql(query_select_table)\n",
    "\n",
    "# Mostrar los resultados\n",
    "display(df_white_vine.limit(10))"
   ]
  },
  {
   "cell_type": "markdown",
   "metadata": {
    "application/vnd.databricks.v1+cell": {
     "cellMetadata": {
      "byteLimit": 2048000,
      "rowLimit": 10000
     },
     "inputWidgets": {},
     "nuid": "2fec4192-c782-41a2-a1dd-f4b3fa14ed23",
     "showTitle": false,
     "tableResultSettingsMap": {},
     "title": ""
    }
   },
   "source": [
    "## SCALA"
   ]
  },
  {
   "cell_type": "code",
   "execution_count": 0,
   "metadata": {
    "application/vnd.databricks.v1+cell": {
     "cellMetadata": {
      "byteLimit": 2048000,
      "rowLimit": 10000
     },
     "inputWidgets": {},
     "nuid": "13c2e14b-a12c-4990-b310-be567a1acdd1",
     "showTitle": false,
     "tableResultSettingsMap": {},
     "title": ""
    }
   },
   "outputs": [
    {
     "output_type": "display_data",
     "data": {
      "text/html": [
       "<style scoped>\n",
       "  .table-result-container {\n",
       "    max-height: 300px;\n",
       "    overflow: auto;\n",
       "  }\n",
       "  table, th, td {\n",
       "    border: 1px solid black;\n",
       "    border-collapse: collapse;\n",
       "  }\n",
       "  th, td {\n",
       "    padding: 5px;\n",
       "  }\n",
       "  th {\n",
       "    text-align: left;\n",
       "  }\n",
       "</style><div class='table-result-container'><table class='table-result'><thead style='background-color: white'><tr><th>fixed acidity</th><th>volatile acidity</th><th>citric acid</th><th>residual sugar</th><th>chlorides</th><th>free sulfur dioxide</th><th>total sulfur dioxide</th><th>density</th><th>pH</th><th>sulphates</th><th>alcohol</th><th>quality</th></tr></thead><tbody><tr><td>8.9</td><td>0.62</td><td>0.19</td><td>3.9</td><td>0.17</td><td>51.0</td><td>148.0</td><td>0.9986</td><td>3.17</td><td>0.93</td><td>9.2</td><td>5</td></tr><tr><td>6.7</td><td>0.42</td><td>0.27</td><td>8.6</td><td>0.068</td><td>24.0</td><td>148.0</td><td>0.9948</td><td>3.16</td><td>0.57</td><td>11.3</td><td>6</td></tr><tr><td>9.6</td><td>0.88</td><td>0.28</td><td>2.4</td><td>0.086</td><td>30.0</td><td>147.0</td><td>0.9979</td><td>3.24</td><td>0.53</td><td>9.4</td><td>5</td></tr><tr><td>7.7</td><td>0.54</td><td>0.26</td><td>1.9</td><td>0.08900000000000001</td><td>23.0</td><td>147.0</td><td>0.99636</td><td>3.26</td><td>0.59</td><td>9.7</td><td>5</td></tr><tr><td>7.7</td><td>0.54</td><td>0.26</td><td>1.9</td><td>0.08900000000000001</td><td>23.0</td><td>147.0</td><td>0.99636</td><td>3.26</td><td>0.59</td><td>9.7</td><td>5</td></tr></tbody></table></div>"
      ]
     },
     "metadata": {
      "application/vnd.databricks.v1+output": {
       "addedWidgets": {},
       "aggData": [],
       "aggError": "",
       "aggOverflow": false,
       "aggSchema": [],
       "aggSeriesLimitReached": false,
       "aggType": "",
       "arguments": {
        "redWineFileLocation": "/FileStore/tables/winequality-red.csv"
       },
       "columnCustomDisplayInfos": {},
       "data": [
        [
         8.9,
         0.62,
         0.19,
         3.9,
         0.17,
         51.0,
         148.0,
         0.9986,
         3.17,
         0.93,
         9.2,
         5
        ],
        [
         6.7,
         0.42,
         0.27,
         8.6,
         0.068,
         24.0,
         148.0,
         0.9948,
         3.16,
         0.57,
         11.3,
         6
        ],
        [
         9.6,
         0.88,
         0.28,
         2.4,
         0.086,
         30.0,
         147.0,
         0.9979,
         3.24,
         0.53,
         9.4,
         5
        ],
        [
         7.7,
         0.54,
         0.26,
         1.9,
         0.08900000000000001,
         23.0,
         147.0,
         0.99636,
         3.26,
         0.59,
         9.7,
         5
        ],
        [
         7.7,
         0.54,
         0.26,
         1.9,
         0.08900000000000001,
         23.0,
         147.0,
         0.99636,
         3.26,
         0.59,
         9.7,
         5
        ]
       ],
       "datasetInfos": [
        {
         "name": "df_white_vine",
         "schema": {
          "fields": [
           {
            "metadata": {},
            "name": "fixed acidity",
            "nullable": true,
            "type": "double"
           },
           {
            "metadata": {},
            "name": "volatile acidity",
            "nullable": true,
            "type": "double"
           },
           {
            "metadata": {},
            "name": "citric acid",
            "nullable": true,
            "type": "double"
           },
           {
            "metadata": {},
            "name": "residual sugar",
            "nullable": true,
            "type": "double"
           },
           {
            "metadata": {},
            "name": "chlorides",
            "nullable": true,
            "type": "double"
           },
           {
            "metadata": {},
            "name": "free sulfur dioxide",
            "nullable": true,
            "type": "double"
           },
           {
            "metadata": {},
            "name": "total sulfur dioxide",
            "nullable": true,
            "type": "double"
           },
           {
            "metadata": {},
            "name": "density",
            "nullable": true,
            "type": "double"
           },
           {
            "metadata": {},
            "name": "pH",
            "nullable": true,
            "type": "double"
           },
           {
            "metadata": {},
            "name": "sulphates",
            "nullable": true,
            "type": "double"
           },
           {
            "metadata": {},
            "name": "alcohol",
            "nullable": true,
            "type": "double"
           },
           {
            "metadata": {},
            "name": "quality",
            "nullable": true,
            "type": "integer"
           }
          ],
          "type": "struct"
         },
         "tableIdentifier": null,
         "typeStr": "org.apache.spark.sql.DataFrame"
        }
       ],
       "dbfsResultPath": null,
       "isJsonSchema": true,
       "metadata": {
        "isDbfsCommandResult": false
       },
       "overflow": false,
       "plotOptions": {
        "customPlotOptions": {},
        "displayType": "table",
        "pivotAggregation": null,
        "pivotColumns": null,
        "xColumns": null,
        "yColumns": null
       },
       "removedWidgets": [],
       "schema": [
        {
         "metadata": "{}",
         "name": "fixed acidity",
         "type": "\"double\""
        },
        {
         "metadata": "{}",
         "name": "volatile acidity",
         "type": "\"double\""
        },
        {
         "metadata": "{}",
         "name": "citric acid",
         "type": "\"double\""
        },
        {
         "metadata": "{}",
         "name": "residual sugar",
         "type": "\"double\""
        },
        {
         "metadata": "{}",
         "name": "chlorides",
         "type": "\"double\""
        },
        {
         "metadata": "{}",
         "name": "free sulfur dioxide",
         "type": "\"double\""
        },
        {
         "metadata": "{}",
         "name": "total sulfur dioxide",
         "type": "\"double\""
        },
        {
         "metadata": "{}",
         "name": "density",
         "type": "\"double\""
        },
        {
         "metadata": "{}",
         "name": "pH",
         "type": "\"double\""
        },
        {
         "metadata": "{}",
         "name": "sulphates",
         "type": "\"double\""
        },
        {
         "metadata": "{}",
         "name": "alcohol",
         "type": "\"double\""
        },
        {
         "metadata": "{}",
         "name": "quality",
         "type": "\"integer\""
        }
       ],
       "type": "table"
      }
     },
     "output_type": "display_data"
    }
   ],
   "source": [
    "%scala\n",
    "// Definir el nombre de la tabla y la ruta del archivo CSV\n",
    "val table_name = \"white_scala\"\n",
    "val csv_file_path = dbutils.widgets.get(\"redWineFileLocation\")\n",
    "\n",
    "// Eliminar la tabla si existe\n",
    "spark.sql(s\"DROP TABLE IF EXISTS $table_name\")\n",
    "\n",
    "// Crear la tabla usando los datos del archivo CSV\n",
    "val query_create_table = s\"\"\"\n",
    "  CREATE TABLE $table_name\n",
    "  USING csv\n",
    "  OPTIONS (\n",
    "    path \"$csv_file_path\",\n",
    "    header \"true\",\n",
    "    inferSchema \"true\"\n",
    "  )\n",
    "\"\"\"\n",
    "\n",
    "spark.sql(query_create_table)\n",
    "\n",
    "// Realizar un SELECT para obtener los primeros 5 registros con OFFSET 10\n",
    "val query_select_table = s\"\"\"\n",
    "  SELECT *\n",
    "  FROM $table_name\n",
    "  ORDER BY 7 DESC\n",
    "  LIMIT 5\n",
    "  OFFSET 10\n",
    "\"\"\"\n",
    "\n",
    "// Realizar el SELECT y almacenar los resultados en un DataFrame\n",
    "val df_white_vine = spark.sql(query_select_table)\n",
    "\n",
    "// Mostrar el resultado\n",
    "display(df_white_vine)"
   ]
  }
 ],
 "metadata": {
  "application/vnd.databricks.v1+notebook": {
   "dashboards": [],
   "environmentMetadata": null,
   "language": "python",
   "notebookMetadata": {
    "mostRecentlyExecutedCommandWithImplicitDF": {
     "commandId": 2010864789309441,
     "dataframes": [
      "_sqldf"
     ]
    },
    "pythonIndentUnit": 2
   },
   "notebookName": "Scala - Python - SQL",
   "widgets": {
    "delimiter": {
     "currentValue": ",",
     "nuid": "1e05fa49-2631-4c81-ada4-18c83f520519",
     "typedWidgetInfo": null,
     "widgetInfo": {
      "widgetType": "text",
      "defaultValue": ",",
      "label": null,
      "name": "delimiter",
      "options": {
       "widgetType": "text",
       "autoCreated": null,
       "validationRegex": null
      }
     }
    },
    "fileType": {
     "currentValue": "csv",
     "nuid": "9dc47862-188e-4908-bb43-5626690a0c0e",
     "typedWidgetInfo": null,
     "widgetInfo": {
      "widgetType": "text",
      "defaultValue": "csv",
      "label": null,
      "name": "fileType",
      "options": {
       "widgetType": "text",
       "autoCreated": null,
       "validationRegex": null
      }
     }
    },
    "firstRowIsHeader": {
     "currentValue": "true",
     "nuid": "6b099251-a056-4b67-91fd-fd510f6f8c57",
     "typedWidgetInfo": null,
     "widgetInfo": {
      "widgetType": "text",
      "defaultValue": "true",
      "label": null,
      "name": "firstRowIsHeader",
      "options": {
       "widgetType": "text",
       "autoCreated": null,
       "validationRegex": null
      }
     }
    },
    "inferSchema": {
     "currentValue": "true",
     "nuid": "bffb8439-dc9e-4a3f-b4fe-91825a945b38",
     "typedWidgetInfo": null,
     "widgetInfo": {
      "widgetType": "text",
      "defaultValue": "true",
      "label": null,
      "name": "inferSchema",
      "options": {
       "widgetType": "text",
       "autoCreated": null,
       "validationRegex": null
      }
     }
    },
    "redWineFileLocation": {
     "currentValue": "/FileStore/tables/winequality-red.csv",
     "nuid": "14849729-fce3-4843-bb5f-1112c421cc07",
     "typedWidgetInfo": null,
     "widgetInfo": {
      "widgetType": "text",
      "defaultValue": "/FileStore/tables/winequality-red.csv",
      "label": "Red Wine File Location",
      "name": "redWineFileLocation",
      "options": {
       "widgetType": "text",
       "autoCreated": null,
       "validationRegex": null
      }
     }
    },
    "redWineUrl": {
     "currentValue": "https://raw.githubusercontent.com/JorgeCardona/data-collection-json-csv-sql/refs/heads/main/csv/wine/winequality-red.csv",
     "nuid": "5e0d7693-740a-49e8-a08e-5b79288e358d",
     "typedWidgetInfo": null,
     "widgetInfo": {
      "widgetType": "text",
      "defaultValue": "https://raw.githubusercontent.com/JorgeCardona/data-collection-json-csv-sql/refs/heads/main/csv/wine/winequality-red.csv",
      "label": null,
      "name": "redWineUrl",
      "options": {
       "widgetType": "text",
       "autoCreated": null,
       "validationRegex": null
      }
     }
    },
    "saveDirectory": {
     "currentValue": "/FileStore/tables/",
     "nuid": "ffcad632-615d-4f2b-ab99-5312bbdefd35",
     "typedWidgetInfo": null,
     "widgetInfo": {
      "widgetType": "text",
      "defaultValue": "/FileStore/tables/",
      "label": null,
      "name": "saveDirectory",
      "options": {
       "widgetType": "text",
       "autoCreated": null,
       "validationRegex": null
      }
     }
    },
    "tableName": {
     "currentValue": "red_wine",
     "nuid": "89177366-06b8-4351-9802-83bbd1a6174a",
     "typedWidgetInfo": null,
     "widgetInfo": {
      "widgetType": "text",
      "defaultValue": "red_wine",
      "label": "Table Name",
      "name": "tableName",
      "options": {
       "widgetType": "text",
       "autoCreated": null,
       "validationRegex": null
      }
     }
    },
    "whiteWineFileLocation": {
     "currentValue": "/FileStore/tables/winequality-white.csv",
     "nuid": "f9e7f1f3-593b-47df-859c-480d75282622",
     "typedWidgetInfo": null,
     "widgetInfo": {
      "widgetType": "text",
      "defaultValue": "/FileStore/tables/winequality-white.csv",
      "label": null,
      "name": "whiteWineFileLocation",
      "options": {
       "widgetType": "text",
       "autoCreated": null,
       "validationRegex": null
      }
     }
    },
    "whiteWineUrl": {
     "currentValue": "https://raw.githubusercontent.com/JorgeCardona/data-collection-json-csv-sql/refs/heads/main/csv/wine/winequality-white.csv",
     "nuid": "89f9ec64-3f99-4a77-9aff-5921adcbe94c",
     "typedWidgetInfo": null,
     "widgetInfo": {
      "widgetType": "text",
      "defaultValue": "https://raw.githubusercontent.com/JorgeCardona/data-collection-json-csv-sql/refs/heads/main/csv/wine/winequality-white.csv",
      "label": null,
      "name": "whiteWineUrl",
      "options": {
       "widgetType": "text",
       "autoCreated": null,
       "validationRegex": null
      }
     }
    }
   }
  }
 },
 "nbformat": 4,
 "nbformat_minor": 0
}
