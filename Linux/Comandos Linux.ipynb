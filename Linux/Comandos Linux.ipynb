{
 "cells": [
  {
   "cell_type": "markdown",
   "id": "60faab9c-fc0c-493c-b59f-defc18fed411",
   "metadata": {},
   "source": [
    "# DIRECTORIOS LINUX"
   ]
  },
  {
   "cell_type": "markdown",
   "id": "2863aa39-d5a8-4530-8663-2cce73e50188",
   "metadata": {},
   "source": [
    "| Directorio      | Descripción                                                                                       | Subdirectorio y Propósito 1                                                                                                                                                                                                                                 | Subdirectorio y Propósito 2                                                                                                                                                                                       | Subdirectorio y Propósito 3                                                                                                                              | Subdirectorio y Propósito 4                                                                                                                      | Subdirectorio y Propósito 5                                                                                                                                                                                                 |\n",
    "|-----------------|---------------------------------------------------------------------------------------------------|-------------------------------------------------------------------------------------------------------------------------------------------------------------------------------------------------------------------------------------------------------------|---------------------------------------------------------------------------------------------------------------------------------------------------------------------------------------------------------------------|----------------------------------------------------------------------------------------------------------------------------------------------------------|---------------------------------------------------------------------------------------------------------------------------------------------------|------------------------------------------------------------------------------------------------------------------------------------------------------------------------------------------------------------------------------|\n",
    "| `/`             | Raíz del sistema de archivos. Contiene todos los archivos y directorios esenciales del sistema.  | `/bin`: Contiene ejecutables esenciales para el sistema. Propósito: Funcionalidades básicas del sistema.                                                                                                                                                     | `/etc`: Almacena archivos de configuración del sistema y de las aplicaciones. Propósito: Configuración del sistema.                                                                                                                                                               | `/home`: Directorio base para usuarios normales. Propósito: Almacenamiento de archivos personales de usuarios.                                                                                                           | `/var`: Contiene archivos variables como logs y bases de datos. Propósito: Datos variables del sistema.                                                                                                           | `/usr`: Contiene archivos y directorios de programas y recursos del sistema. Propósito: Recursos y programas del sistema.                                                                                                                                                                 |\n",
    "| `/bin`          | Contiene ejecutables esenciales para el sistema.                                                  | `/bin/bash`: Shell de comandos de Unix/Linux. Propósito: Interacción del usuario con el sistema.                                                                                                                                                          | `/bin/ls`: Lista archivos y directorios en el directorio actual. Propósito: Visualización de archivos.                                                                                                                                                                             | `/bin/cp`: Copia archivos y directorios. Propósito: Copiar datos en el sistema.                                                                                                                                          | `/bin/mv`: Mueve archivos y directorios. Propósito: Mover datos en el sistema.                                                                                                                                     | `/bin/mkdir`: Crea nuevos directorios. Propósito: Crear estructuras en el sistema.                                                                                                                                              |\n",
    "| `/boot`         | Contiene archivos relacionados con el proceso de arranque del sistema.                            | `/boot/vmlinuz`: Imagen del núcleo (kernel) del sistema operativo. Propósito: Arranque del sistema.                                                                                                                                                       | `/boot/grub`: Configuraciones del cargador de arranque GRUB. Propósito: Gestión del arranque del sistema.                                                                                                                                                                        | `/boot/initrd.img`: Imagen de inicialización del sistema. Propósito: Inicialización del sistema.                                                                                                                        | `/boot/efi`: Archivos de configuración para el arranque EFI. Propósito: Configuración del arranque EFI.                                                                                                           | `/boot/loader`: Configuraciones del cargador de arranque del sistema. Propósito: Gestión del arranque del sistema.                                                                                                                                                                           |\n",
    "| `/dev`          | Contiene archivos especiales que representan hardware y dispositivos en el sistema.             | `/dev/null`: Dispositivo especial que descarta todos los datos enviados a él. Propósito: Descartar datos en el sistema.                                                                                                                                | `/dev/zero`: Dispositivo especial que produce una secuencia de bytes nulos. Propósito: Generación de datos nulos en el sistema.                                                                                                                                               | `/dev/sda`: Representación de un disco rígido en el sistema. Propósito: Representación de discos en el sistema.                                                                                                       | `/dev/tty`: Dispositivo de terminal. Propósito: Interfaz de terminal en el sistema.                                                                                                                                | `/dev/random`: Generador de números aleatorios. Propósito: Generación de números aleatorios en el sistema.                                                                                                                                                                                 |\n",
    "| `/etc`          | Almacena archivos de configuración del sistema y de las aplicaciones instaladas.                | `/etc/passwd`: Archivo de contraseñas del sistema. Propósito: Almacenamiento de contraseñas en el sistema.                                                                                                                                               | `/etc/hosts`: Archivo de configuración de resolución de nombres de dominio. Propósito: Resolución de nombres de dominio en el sistema.                                                                                                                                           | `/etc/fstab`: Archivo de configuración de montaje de sistemas de archivos. Propósito: Montaje de sistemas de archivos en el sistema.                                                                                    | `/etc/network`: Configuraciones de red del sistema. Propósito: Configuración de red en el sistema.                                                                                                                   | `/etc/cron`: Tareas programadas (cron jobs). Propósito: Programación de tareas automáticas en el sistema.                                                                                                                                                                                       |\n",
    "| `/home`         | Directorio base para los directorios de usuarios normales. Cada usuario tiene su propio subdirectorio aquí para almacenar sus archivos personales.           | `/home/usuario1`: Almacenamiento de archivos personales del usuario1.                                                                                                                                                               | `/home/usuario2`: Almacenamiento de archivos personales del usuario2.                                                                                                                                                             | `/home/usuario3`: Almacenamiento de archivos personales del usuario3.                                                                                                                                                               | `/home/usuario4`: Almacenamiento de archivos personales del usuario4.                                                                                                                                                             | `/home/usuario5`: Almacenamiento de archivos personales del usuario5.                                                                                                                                                                          |\n",
    "| `/lib`          | Contiene bibliotecas compartidas esenciales utilizadas por programas y aplicaciones en el sistema.                                                          | `/lib/libc.so`: Funcionalidades básicas de C en el sistema.                                                                                                                                                                         | `/lib/libm.so`: Funcionalidades matemáticas en el sistema.                                                                                                                                                                       | `/lib/libpthread.so`: Soporte de hilos en el sistema.                                                                                                                                                                            | `/lib/ld-linux.so`: Carga de programas en el sistema.                                                                                                                                                                   | `/lib/modules`: Funcionalidades del kernel en el sistema.                                                                                                                                                                                        |"
   ]
  },
  {
   "cell_type": "markdown",
   "id": "fd4fc576-f0eb-4126-ae3c-e1f2a8635689",
   "metadata": {},
   "source": [
    "| Directorio      | Descripción                                                                                       | Subdirectorio y Propósito 1                                                                                                                                                                                                         | Subdirectorio y Propósito 2                                                                                                                                                                                       | Subdirectorio y Propósito 3                                                                                                                              | Subdirectorio y Propósito 4                                                                                                                      | Subdirectorio y Propósito 5                                                                                                                                                                                                 |\n",
    "|-----------------|---------------------------------------------------------------------------------------------------|-------------------------------------------------------------------------------------------------------------------------------------------------------------------------------------------------------------------------------------|---------------------------------------------------------------------------------------------------------------------------------------------------------------------------------------------------------------------|----------------------------------------------------------------------------------------------------------------------------------------------------------|---------------------------------------------------------------------------------------------------------------------------------------------------|------------------------------------------------------------------------------------------------------------------------------------------------------------------------------------------------------------------------------|\n",
    "| `/media`        | Punto de montaje para dispositivos de almacenamiento extraíbles, como unidades USB, discos externos, etc.                                                 | `/media/usb0`: Montaje de un dispositivo USB en el sistema.                                                                                                                                                                         | `/media/cdrom`: Montaje de un CD-ROM en el sistema.                                                                                                                                                                             | `/media/external_drive`: Montaje de un disco externo en el sistema.                                                                                                                                                              | `/media/network_drive`: Montaje de un disco de red en el sistema.                                                                                                                                                      | `/media/backup_drive`: Montaje de un disco de respaldo en el sistema.                                                                                                                                                                       |\n",
    "| `/mnt`          | Directorio de montaje temporal para dispositivos y sistemas de archivos externos.                                                                            | `/mnt/usb`: Montaje temporal de un dispositivo USB en el sistema.                                                                                                                                                                  | `/mnt/cdrom`: Montaje temporal de un CD-ROM en el sistema.                                                                                                                                                                       | `/mnt/network`: Montaje temporal de un sistema de archivos en red en el sistema.                                                                                                                                               | `/mnt/external_drive`: Montaje temporal de un disco externo en el sistema.                                                                                                                                               | `/mnt/backups`: Montaje temporal de copias de seguridad en el sistema.                                                                                                                                                                        |\n",
    "| `/opt`          | Contiene instalaciones de software de terceros.                                                   | `/opt/android-studio`: Desarrollo de aplicaciones Android.                                                                                                                                                                         | `/opt/atom`: Edición de texto y código.                                                                                                                                                                                        | `/opt/pycharm`: Desarrollo de aplicaciones y programación en Python.                                                                                                                                                            | `/opt/sublime`: Edición avanzada de texto y código.                                                                                                                                                                      | `/opt/virtualenv`: Aislamiento de entornos de desarrollo en Python.                                                                                                                                                                                |\n",
    "| `/proc`         | Directorio virtual que contiene información sobre procesos y el sistema en tiempo de ejecución. | `/proc/cpuinfo`: Información sobre la CPU del sistema.                                                                                                                                                                              | `/proc/meminfo`: Información sobre la memoria del sistema.                                                                                                                                                                  | `/proc/uptime`: Tiempo que ha estado funcionando el sistema desde su último reinicio.                                                                                                                                          | `/proc/filesystems`: Tipos de sistemas de archivos soportados por el kernel.                                                                                                                                    | `/proc/sys/`: Configuraciones del kernel y del sistema en tiempo de ejecución.                                                                                                                                                                         |\n",
    "| `/root`         | Directorio base del usuario root (superusuario).                                                 |                                                                                                                                                                                                                                     |                                                                                                                                                                                                                                   |                                                                                                                                                                                                                              |                                                                                                                                                                                                                 |                                                                                                                                                                                                                            |\n",
    "| `/run`          | Directorio temporal para datos transitorios que no necesitan ser almacenados entre reinicios.                                                                | `/run/user`: Directorios temporales para usuarios. Propósito: Almacenamiento temporal de datos para usuarios.                                                                                                                       | `/run/systemd`: Datos temporales utilizados por el sistema de inicio systemd. Propósito: Almacenamiento temporal de datos para systemd.                                                                                     |                                                                                                                                                                                                                              |                                                                                                                                                                                                                 |                                                                                                                                                                                                                            |\n",
    "| `/sbin`         | Contiene ejecutables (binarios) del sistema que generalmente son utilizados por el superusuario (root) para tareas de administración del sistema.             | `/sbin/fsck`: Herramienta de comprobación de sistemas de archivos.                                                                                                                                                                 | `/sbin/ifconfig`: Configuración de interfaces de red.                                                                                                                                                                      | `/sbin/shutdown`: Apaga o reinicia el sistema.                                                                                                                                                                                | `/sbin/service`: Interfaz para controlar servicios del sistema.                                                                                                                                                  |    "
   ]
  },
  {
   "cell_type": "markdown",
   "id": "2966c152-4263-487c-bfb6-8717cd738f7b",
   "metadata": {},
   "source": [
    "| Directorio      | Descripción                                                                                       | Subdirectorio y Propósito 1                                                                                                                                                                                                         | Subdirectorio y Propósito 2                                                                                                                                                                                       | Subdirectorio y Propósito 3                                                                                                                              | Subdirectorio y Propósito 4                                                                                                                      | Subdirectorio y Propósito 5                                                                                                                                                                                                 |\n",
    "|-----------------|---------------------------------------------------------------------------------------------------|-------------------------------------------------------------------------------------------------------------------------------------------------------------------------------------------------------------------------------------|---------------------------------------------------------------------------------------------------------------------------------------------------------------------------------------------------------------------|----------------------------------------------------------------------------------------------------------------------------------------------------------|---------------------------------------------------------------------------------------------------------------------------------------------------|------------------------------------------------------------------------------------------------------------------------------------------------------------------------------------------------------------------------------|\n",
    "| `/srv`          | Contiene datos de servicios proporcionados por el sistema.                                                                                                    | `/srv/www`: Sitios web servidos por el sistema. Propósito: Almacenamiento de archivos de sitios web.                                                                                                                               | `/srv/ftp`: Archivos y datos de FTP. Propósito: Almacenamiento de archivos y datos de FTP.                                                                                                                                 | `/srv/mail`: Datos y configuraciones relacionados con el correo. Propósito: Almacenamiento de datos y configuraciones de correo.                                                                                              | `/srv/git`: Repositorios de Git. Propósito: Almacenamiento de repositorios Git.                                                                                                                                    | `/srv/database`: Bases de datos de servicios proporcionados por el sistema. Propósito: Almacenamiento de bases de datos.                                                                                                                                                                      |\n",
    "| `/sys`          | Directorio virtual que contiene información y configuraciones del kernel y del sistema.                                                                      | `/sys/block`: Configuraciones relacionadas con bloques de dispositivos. Propósito: Configuración de dispositivos de bloque.                                                                                                                                                                     | `/sys/class`: Información sobre clases de dispositivos. Propósito: Información detallada sobre clases de dispositivos.                                                                                                                                                                      | `/sys/bus`: Configuraciones relacionadas con buses del sistema. Propósito: Configuración de buses de sistema.                                                                                                               | `/sys/fs`: Configuraciones relacionadas con sistemas de archivos. Propósito: Configuración de sistemas de archivos.                                                                                              | `/sys/kernel`: Información y configuración del kernel. Propósito: Configuración y control del kernel.                                                                                                                                                                                        |\n",
    "| `/tmp`          | Directorio temporal para almacenar archivos temporales utilizados por aplicaciones y usuarios.  |                                                                                                                                                                                                                                     |                                                                                                                                                                                                                                   |                                                                                                                                                                                                                              |                                                                                                                                                                                                                 |                                                                                                                                                                                                                            |\n",
    "| `/usr`          | Contiene archivos y directorios de programas y recursos del sistema que son compartidos entre usuarios.                                                      | `/usr/bin`: Ejecutables y comandos para todos los usuarios.                                                                                                                                                                          | `/usr/lib`: Bibliotecas compartidas para programas en `/usr/bin`.                                                                                                                                                          | `/usr/share`: Archivos compartidos, como documentación y datos, para programas en `/usr/bin`.                                                                                                                                 | `/usr/local`: Instalaciones locales de software y archivos personalizados.                                                                                                                                     | `/usr/include`: Archivos de cabecera para desarrollo de software.                                                                                                                                                                       |\n",
    "| `/var`          | Contiene archivos variables, como registros (logs), bases de datos, correos electrónicos, archivos temporales, etc.                                         | `/var/log`: Registros del sistema y de aplicaciones.                                                                                                                                                                                | `/var/spool`: Cola de correo (mail spool).                                                                                                                                                                                  | `/var/cache`: Almacena datos en caché para mejorar el rendimiento de las aplicaciones.                                                                                                                                       | `/var/lib`: Datos variables de aplicaciones y servicios.                                                                                                                                                           | `/var/www`: Directorio predeterminado para archivos de sitios web.                                                                                                                                                              |"
   ]
  },
  {
   "cell_type": "markdown",
   "id": "5f736859-ea55-46b0-b6b6-758dae91ed82",
   "metadata": {},
   "source": [
    "# VARIABLES DE ENTORNO"
   ]
  },
  {
   "cell_type": "markdown",
   "id": "373b5fe0-ba8b-4d1d-8dba-5e507d233da2",
   "metadata": {},
   "source": [
    "## LEERLAS"
   ]
  },
  {
   "cell_type": "code",
   "execution_count": null,
   "id": "39613cd1-d388-41ac-9d8d-5f39512d95a2",
   "metadata": {
    "scrolled": true
   },
   "outputs": [],
   "source": [
    "%%bash\n",
    "\n",
    "env"
   ]
  },
  {
   "cell_type": "markdown",
   "id": "fd59a7ec-54ca-493d-9ae4-3fe01ad575f6",
   "metadata": {},
   "source": [
    "## CREARLAS y ELIMINARLAS"
   ]
  },
  {
   "cell_type": "code",
   "execution_count": null,
   "id": "1a3ecec8-92af-45b6-b912-b74cf74bc632",
   "metadata": {},
   "outputs": [],
   "source": [
    "%%bash\n",
    "\n",
    "export ENVIRONMENT_VARIABLE='Variable de Entorno'\n",
    "VAR_LOCAL=\"variable local\"\n",
    "echo \"$ENVIRONMENT_VARIABLE, $VAR_LOCAL\"\n",
    "\n",
    "unset ENVIRONMENT_VARIABLE\n",
    "echo \"$ENVIRONMENT_VARIABLE, $VAR_LOCAL\""
   ]
  },
  {
   "cell_type": "markdown",
   "id": "cb49ba28-60e3-44bb-9662-475c22c5fa43",
   "metadata": {},
   "source": [
    "# EJEMPLO COMANDOS MAS USADOS"
   ]
  },
  {
   "cell_type": "markdown",
   "id": "e6a62c50-dc6d-436d-9856-8d2a04eb17ce",
   "metadata": {},
   "source": [
    "| Término       | Ejemplo de Uso                            | Descripción                                                                                                                                                 | Ventajas                                                                                                        | Desventajas                                                                                                      | Cuándo usarlo                                                           |\n",
    "|---------------|-------------------------------------------|-------------------------------------------------------------------------------------------------------------------------------------------------------------|-----------------------------------------------------------------------------------------------------------------|------------------------------------------------------------------------------------------------------------------|--------------------------------------------------------------------------|\n",
    "| `cat`         | `cat /home/jorgecardona/informe.txt`      | Muestra el contenido de un archivo.                                                                                                                          | Simple y rápido para ver el contenido de archivos de texto.                                                    | No es eficiente para ver archivos grandes.                                                                     | Cuando necesitas ver el contenido de un archivo de texto.                 |\n",
    "| `cd`          | `cd /home/jorgecardona/Documentos/`       | Cambia al directorio especificado.                                                                                                                           | Permite moverse rápidamente entre directorios.                                                                 | No proporciona una lista de directorios disponibles.                                                             | Cuando necesitas cambiar de directorio.                                 |\n",
    "| `chown`       | `chown jorgecardona:grupo archivo`       | Cambia el propietario y/o grupo de un archivo.                                                                                                                | Útil para cambiar la propiedad de archivos y directorios.                                                      | No siempre está disponible para todos los usuarios.                                                             | Cuando necesitas cambiar el propietario de un archivo o directorio.       |\n",
    "| `chmod`       | `chmod 755 /home/jorgecardona/archivo`   `chmod wxr /home/jorgecardona/archivo` | Cambia los permisos de un archivo o directorio.                                                                                                               | Permite controlar quién puede acceder y modificar archivos.                                                    | La sintaxis puede ser complicada de entender al principio.                                                       | Cuando necesitas cambiar los permisos de un archivo o directorio.         |\n",
    "| `cp`          | `cp /home/jorgecardona/archivo.txt /home/jorgecardona/Backup/` | Copia archivos y directorios.                                                                                                                          | Útil para hacer copias de seguridad o duplicar archivos.                                                      | No es tan útil para copiar grandes cantidades de archivos de forma recursiva.                                    | Cuando necesitas hacer una copia de un archivo o directorio.             |\n",
    "| `df`          | `df -h`                                   | Muestra el espacio en disco disponible.                                                                                                                       | Proporciona una visión rápida del espacio en disco disponible.                                                 | La salida puede ser extensa si hay muchos sistemas de archivos montados.                                         | Cuando necesitas ver cuánto espacio en disco está disponible.            |\n",
    "| `du`          | `du -sh /home/jorgecardona/Documentos/`       | Muestra el uso del espacio en disco de archivos y directorios.                                                                                               | Útil para ver el tamaño de los archivos y directorios en el sistema.                                           | La salida puede ser extensa si se usa en un directorio con muchos archivos.                                      | Cuando necesitas ver cuánto espacio en disco está utilizando un directorio.|\n",
    "| `echo`        | `echo \"Hola, mundo!\"`                    | Imprime texto en la salida estándar.                                                                                                                         | Fácil de usar para imprimir mensajes.                                                                          | No proporciona muchas opciones avanzadas de formato de salida.                                                   | Cuando necesitas imprimir un mensaje o texto en la terminal.             |\n",
    "| `find`        | `find /home/jorgecardona/ -name \"*.txt\"` | Busca archivos y directorios que coincidan con un patrón dado.                                                                                                | Potente para buscar archivos y directorios en función de criterios específicos.                                | La búsqueda puede ser lenta en directorios muy grandes.                                                          | Cuando necesitas buscar archivos o directorios en función de un patrón.   |\n",
    "| `file`        | `file /home/jorgecardona/informe.txt`    | Determina el tipo de archivo de un archivo.                                                                                                                   | Útil para identificar el tipo de archivo cuando la extensión no está disponible o es incorrecta.             | No proporciona información detallada sobre el contenido del archivo.                                             | Cuando necesitas saber el tipo de archivo.                              | `file /home/jorgecardona/informe.txt` |\n",
    "| `grep`        | `grep \"error\" /home/jorgecardona/archivo.log` | Busca patrones de texto en archivos.                                                                                                                          | Útil para buscar patrones de texto en archivos.                                                                 | No es tan útil para buscar en archivos binarios.                                                                | Cuando necesitas buscar texto específico dentro de archivos.             |\n",
    "| `kill`        | `kill -9 PID`                            | Termina un proceso utilizando su ID de proceso (PID).                                                                                                         | Útil para detener procesos que no responden.                                                                   | Puede ser peligroso si se utiliza incorrectamente y termina procesos importantes.                                | Cuando necesitas detener un proceso en ejecución.                       |\n",
    "| `ls`          | `ls -l /home/jorgecardona/Documentos/`  | Lista los archivos y directorios en el directorio especificado.                                                                                               | Rápido y fácil de usar para ver la estructura de archivos.                                                    | La salida puede ser larga si hay muchos archivos.                                                                 | Cuando necesitas ver qué archivos hay en un directorio.                  |"
   ]
  },
  {
   "cell_type": "markdown",
   "id": "8418ad79-9315-4bd1-878d-5661011bb7fa",
   "metadata": {},
   "source": [
    "| Término       | Ejemplo de Uso                            | Descripción                                                                                                                                                 | Ventajas                                                                                                        | Desventajas                                                                                                      | Cuándo usarlo                                                           |\n",
    "|---------------|-------------------------------------------|-------------------------------------------------------------------------------------------------------------------------------------------------------------|-----------------------------------------------------------------------------------------------------------------|------------------------------------------------------------------------------------------------------------------|--------------------------------------------------------------------------|\n",
    "| `mkdir`       | `mkdir /home/jorgecardona/NuevaCarpeta/` | Crea un nuevo directorio con el nombre especificado.                                                                                                          | Fácil de usar para crear nuevos directorios.                                                                   | No puede crear múltiples directorios anidados de una vez.                                                       | Cuando necesitas crear un nuevo directorio.                              |\n",
    "| `more`        | `more /home/jorgecardona/archivo.txt`    | Muestra el contenido de un archivo paginado, permitiendo desplazarse hacia abajo.                                                                             | Útil para ver archivos de texto largos.                                                                       | Puede ser menos eficiente para archivos muy grandes.                                                             | Cuando necesitas ver grandes archivos de texto de forma paginada.         |\n",
    "| `mv`          | `mv /home/jorgecardona/archivo.txt /home/jorgecardona/NuevaCarpeta/` | Mueve (o renombra) archivos y directorios.                                                                                                                  | Útil para reorganizar archivos y directorios.                                                                  | No se puede deshacer fácilmente si se comete un error.                                                          | Cuando necesitas mover o renombrar un archivo o directorio.             |\n",
    "| `ps`          | `ps aux`                                  | Muestra información sobre los procesos en ejecución.                                                                                                          | Permite ver los procesos en ejecución en el sistema.                                                           | La salida puede ser extensa y difícil de entender para los usuarios no familiarizados con los procesos del sistema. | Cuando necesitas ver qué procesos están en ejecución.                    |\n",
    "| `pwd`         | `pwd`                                     | Muestra la ruta del directorio actual.                                                                                                                        | Útil para saber dónde estás trabajando en la estructura de directorios.                                      | No tiene desventajas significativas.                                                                             | Cuando necesitas saber en qué directorio estás trabajando.               |\n",
    "| `rm`          | `rm /home/jorgecardona/archivo.txt`      | Elimina un archivo.                                                                                                                                          | Rápido y eficiente para eliminar archivos.                                                                    | No proporciona una papelera de reciclaje.                                                                       | Cuando necesitas eliminar un archivo.                                   |\n",
    "| `rmdir`       | `rmdir /home/jorgecardona/ViejaCarpeta/`  | Elimina un directorio vacío.                                                                                                                                  | Simple y rápido para eliminar directorios vacíos.                                                             | No se puede utilizar para eliminar directorios no vacíos.                                                        | Cuando necesitas eliminar un directorio vacío.                           |\n",
    "| `sort`        | `sort /home/jorgecardona/archivo.txt`    | Ordena las líneas de un archivo de texto alfabéticamente o numéricamente.                                                                                   | Útil para ordenar información en archivos de texto.                      | No es tan eficiente para archivos muy grandes.                         | Cuando necesitas ordenar líneas de un archivo de texto.                  |\n",
    "| `string`      | `string /home/jorgecardona/informe.txt`   | Muestra el tipo de archivo y el contenido de un archivo, interpretando el contenido como texto si es posible.                                                                                                                          | Útil para identificar el tipo de archivo y ver el contenido como texto.                                           | No es eficiente para ver archivos grandes o binarios complejos.                                                                     | Cuando necesitas ver el tipo de archivo y su contenido como texto.        | `string /home/jorgecardona/informe.txt` |\n",
    "| `top`         | `top`                                     | Muestra una lista dinámica de los procesos que consumen más recursos del sistema.                                                                           | Útil para monitorear el rendimiento del sistema en tiempo real.          | La salida puede ser compleja de entender para usuarios no técnicos.    | Cuando necesitas monitorear el uso de recursos del sistema en tiempo real. |\n",
    "| `wc`          | `wc /home/jorgecardona/archivo.txt`      | Cuenta las líneas, palabras y caracteres en un archivo de texto.                                                                                             | Útil para contar la cantidad de contenido en archivos de texto.           | No es tan útil para otros tipos de archivos (no de texto).              | Cuando necesitas contar líneas, palabras y caracteres en un archivo de texto. |\n",
    "| `wget`        | `wget -O /ruta/archivo https://sitio.com/archivo`   | Descarga un archivo desde una URL especificada y lo guarda en la ruta especificada.                                                                                                                          | Útil para descargar archivos de Internet de forma automática.                                           | No es útil para transferencias de archivos grandes o si la conexión a Internet es lenta o intermitente.                                                                     | Cuando necesitas descargar un archivo de Internet.        | -                               |\n",
    "| `which`       | `which comando`                           | Muestra la ubicación de un comando ejecutable en el sistema.                                                                                                 | Útil para saber qué versión de un comando se está ejecutando.             | No siempre muestra todos los comandos disponibles (por ejemplo, los scripts no son detectados). | Cuando necesitas saber la ruta de un comando ejecutable.             |\n",
    "| `whoami`      | `whoami`                                  | Muestra el nombre de usuario del usuario actual.                                                                                                              | Útil para saber qué usuario está actualmente conectado.                    | No proporciona muchas opciones adicionales.                              | Cuando necesitas saber el nombre de usuario actual.                   |\n",
    "| `xargs`       | `find /home/jorgecardona/ -type f -print0 \\| xargs -0 grep \"patrón\"`                     | Ejecuta comandos utilizando la salida de otro comando como argumentos.                                                                                     | Permite realizar operaciones complejas utilizando la salida de otros comandos. | La sintaxis puede ser complicada al principio.                         | Cuando necesitas ejecutar comandos con argumentos de otra salida de comando. |\n",
    "| `zip`         | `zip /home/jorgecardona/archivo.zip /home/jorgecardona/archivos_a_comprimir/`             | Comprime archivos en un archivo ZIP.                                                                                                                        | Útil para reducir el tamaño de archivos y directorios.                      | Puede ser menos eficiente para archivos muy grandes.                     | Cuando necesitas comprimir archivos en un archivo ZIP.                 |"
   ]
  },
  {
   "cell_type": "markdown",
   "id": "52f3e5d9-be27-44ab-87f6-3475341001b1",
   "metadata": {},
   "source": [
    "# INTERPRETACION DE CHMOD - change mode - ASIGNACION DE PERMISOS\n",
    "## SE ASIGNAN LOS PERMISOS CON Notación Octal  USANDO EL ORDEN Usuario, Grupo, Otros\n",
    "\n",
    "| Permiso           | Número | Valor binario | Permisos Simbólicos |\n",
    "|-------------------|--------|---------------|---------------|\n",
    "| Sin permisos      | 0      | 000           | --- |\n",
    "| Solo ejecución    | 1      | 001           | --x |\n",
    "| Solo escritura    | 2      | 010           | -w- |\n",
    "| Escritura y ejecución | 3 | 011           | -wx |\n",
    "| Solo lectura      | 4      | 100           | r-- |\n",
    "| Lectura y ejecución | 5  | 101           | r-x |\n",
    "| Lectura y escritura | 6 | 110           | rw- |\n",
    "| Todos los permisos | 7   | 111           | rwx |\n",
    "\n",
    "\n",
    "# EJEMPLO\n",
    "\n",
    "| Notación Octal  `u-s-o`  | Notación simbólica              | Usuario | Grupo | Otros |\n",
    "|----------------------|--------------------------------|---------|-------|-------|\n",
    "| `chmod 702 archivo.txt`  | `chmod u=rwx,g=---,o=-w- archivo.txt`   |   rwx     |   ---   |   -w-   |\n",
    "| `chmod 123 archivo.txt`  | `chmod u=--x,g=-w-,o=-wx archivo.txt`   |   --x     |   -w-   |   -wx   |\n",
    "| `chmod 324 archivo.txt`  | `chmod u=-w-,g=r--x,o=r--x archivo.txt`   |   -wx     |   r-x   |   r-x   |\n",
    "| `chmod 753 archivo.txt`  | `chmod u=rwx,g=--x,o=-wx archivo.txt`   |   rwx     |   --x   |   -wx   |\n",
    "| `chmod 357 archivo.txt`  | `chmod u=-wx,g=r-x,o=rwx archivo.txt`   |   r--     |   r-x   |   rwx   |\n",
    "| `chmod 246 archivo.txt`  | `chmod u=--r,g=-wx,o=r-x archivo.txt`   |   r-x     |   -wx   |   r-x   |\n",
    "| `chmod 074 archivo.txt`  | `chmod u=---,g=rwx,o=r-x archivo.txt`   |   ---     |   rwx   |   r-x   |\n",
    "| `chmod 777 archivo.txt`  | `chmod u=rwx,g=rwx,o=rwx archivo.txt`   |   rwx     |   rwx   |   rwx   |\n",
    "\n",
    "## <center> TABLA DE EQUIVALENCIAS COMPLETA CON EJEMPLO\n",
    "\n",
    "| Permiso               | Número | Valor binario | Permisos Simbólicos | Notación Octal   `u-s-o`  | Notación simbólica                 | Usuario | Grupo | Otros |\n",
    "|-----------------------|--------|---------------|---------------------|---------------------------|--------------------------------|---------|-------|-------|\n",
    "| Sin permisos          | 0      | 000           | ---                 | `chmod 000 archivo.txt`   | `chmod u=rwx,g=---,o=--- archivo.txt`  |   rwx     |   ---   |   ---   |\n",
    "| Solo ejecución        | 1      | 001           | --x                 | `chmod 001 archivo.txt`   | `chmod u=---,g=---,o=--x archivo.txt`  |   --x     |   -w-   |   -wx   |\n",
    "| Solo escritura        | 2      | 010           | -w-                 | `chmod 002 archivo.txt`   | `chmod u=---,g=--w,o=--- archivo.txt`  |   -wx     |   r-x   |   r-x   |\n",
    "| Escritura y ejecución | 3      | 011           | -wx                 | `chmod 003 archivo.txt`   | `chmod u=---,g=--x,o=--x archivo.txt`  |   -wx     |   --x   |   -wx   |\n",
    "| Solo lectura          | 4      | 100           | r--                 | `chmod 004 archivo.txt`   | `chmod u=---,g=r--,o=--- archivo.txt`  |   r--     |   r-x   |   rwx   |\n",
    "| Lectura y ejecución   | 5      | 101           | r-x                 | `chmod 005 archivo.txt`   | `chmod u=---,g=r-x,o=--x archivo.txt`  |   r-x     |   -wx   |   r-x   |\n",
    "| Lectura y escritura   | 6      | 110           | rw-                 | `chmod 006 archivo.txt`   | `chmod u=---,g=rw-,o=--- archivo.txt`  |   -wx     |   rwx   |   r-x   |\n",
    "| Escritura y ejecución    | 7      | 111           | rwx                 | `chmod 007 archivo.txt`   | `chmod u=---,g=rwx,o=rwx archivo.txt`  |   rwx     |   rwx   |   rwx   |\n"
   ]
  },
  {
   "cell_type": "markdown",
   "id": "082c6f02-3717-4400-869e-b0fe80d8bf3e",
   "metadata": {},
   "source": [
    "## DOCUMENTACION\n",
    "\n",
    "| Término    | Ejemplo de Uso                                                                   | Descripción                                                                                                              | Ventajas                                                                                                             | Desventajas                                                                                                               | Cuándo usarlo                                                   |\n",
    "|------------|----------------------------------------------------------------------------------|--------------------------------------------------------------------------------------------------------------------------|----------------------------------------------------------------------------------------------------------------------|----------------------------------------------------------------------------------------------------------------------------|------------------------------------------------------------------|\n",
    "| `apropos`  | `apropos search`                                                                | Busca en las páginas de manual y muestra los comandos relacionados con el término de búsqueda.                          | Proporciona una forma rápida de buscar comandos relacionados con un tema específico.                                | La salida puede ser extensa si el término de búsqueda es amplio.                                                            | Cuando necesitas encontrar comandos relacionados con un tema específico. |\n",
    "| `-h`       | `ls -h`                                                                          | Especifica una opción corta para obtener ayuda sobre un comando.                                                        | Rápido y fácil de usar en la línea de comandos.                                                                     | No siempre está disponible para todos los comandos.                                                                         | Cuando necesitas una ayuda rápida y concisa sobre un comando.     |\n",
    "| `--help`   | `ls --help`                                                                      | Especifica una opción larga para obtener ayuda sobre un comando.                                                         | Proporciona una descripción más detallada y completa que `-h`.                                                       | Algunos comandos pueden no tener una opción `--help` definida.                                                              | Cuando necesitas una ayuda más detallada y completa sobre un comando. |\n",
    "| `info`     | `info ls`                                                                        | Muestra la documentación en formato info para un comando o tema.                                                         | Incluye documentación estructurada con enlaces a secciones relacionadas.                                            | No todos los comandos tienen información en formato info.                                                                   | Cuando quieres acceder a documentación estructurada y enlazada.      |\n",
    "| `man`      | `man ls`                                                                         | Muestra el manual (manpage) para un comando o tema.                                                                      | Proporciona una descripción detallada, opciones, ejemplos y más.                                                     | Los manuales pueden ser extensos y a veces difíciles de leer.                                                               | Cuando necesitas información completa y detallada sobre un comando.  |\n",
    "| `whatis`   | `whatis ls`                                                                      | Muestra una breve descripción del propósito de un comando.                                                               | Proporciona una descripción concisa y general del comando.                                                            | No muestra detalles o ejemplos de uso del comando.                                                                           | Cuando solo necesitas una descripción rápida del propósito de un comando. |\n",
    "| `whereis`  | `whereis ls`                                                                     | Muestra la ubicación de archivos binarios, fuentes y páginas de manuales relacionados con un comando en el sistema.    | Proporciona información sobre varios archivos relacionados con el comando.                                          | No proporciona detalles detallados sobre el uso del comando.                                                                  | Cuando necesitas información más amplia sobre archivos relacionados con un comando. |\n",
    "| `which`    | `which ls`                                                                       | Muestra la ubicación del archivo ejecutable de un comando en el sistema de archivos.                                    | Útil para saber qué versión de un comando se ejecutará.                                                               | No proporciona información detallada sobre el comando.                                                                       | Cuando necesitas saber qué versión de un comando se ejecutará.       |"
   ]
  },
  {
   "cell_type": "code",
   "execution_count": null,
   "id": "2012c317-72a0-495e-bf51-21a4e2ee0851",
   "metadata": {
    "scrolled": true
   },
   "outputs": [],
   "source": [
    "%%bash\n",
    "\n",
    "whatis cp"
   ]
  },
  {
   "cell_type": "code",
   "execution_count": null,
   "id": "22d06e62-ac49-4130-8c9f-1f688f24d54f",
   "metadata": {
    "scrolled": true
   },
   "outputs": [],
   "source": [
    "%%bash\n",
    "\n",
    "man cp"
   ]
  },
  {
   "cell_type": "code",
   "execution_count": null,
   "id": "637637bc-191f-4fd3-a8a3-fcc289374c55",
   "metadata": {
    "scrolled": true
   },
   "outputs": [],
   "source": [
    "%%bash\n",
    "\n",
    "info cp"
   ]
  },
  {
   "cell_type": "code",
   "execution_count": null,
   "id": "3985bc13-15a1-4ca6-80fe-8938e27c9fff",
   "metadata": {
    "scrolled": true
   },
   "outputs": [],
   "source": [
    "%%bash \n",
    "\n",
    "cp --help"
   ]
  },
  {
   "cell_type": "code",
   "execution_count": null,
   "id": "0668e624-19fe-4e49-82db-3f8cf5c010ed",
   "metadata": {
    "scrolled": true
   },
   "outputs": [],
   "source": [
    "%%bash \n",
    "\n",
    "vim -h"
   ]
  },
  {
   "cell_type": "markdown",
   "id": "71cc431a-6f4e-4303-9653-65036d8f3699",
   "metadata": {},
   "source": [
    "# MUESTRA COMANDOS RELACIONADOS CON UNA PALABRA CLAVE"
   ]
  },
  {
   "cell_type": "code",
   "execution_count": null,
   "id": "7b08d260-0d21-45fb-aebf-efae35439409",
   "metadata": {
    "scrolled": true
   },
   "outputs": [],
   "source": [
    "%%bash\n",
    "\n",
    "man -k move"
   ]
  },
  {
   "cell_type": "code",
   "execution_count": null,
   "id": "46596e59-a53a-47d1-9d47-7b5b1f45acef",
   "metadata": {
    "scrolled": true
   },
   "outputs": [],
   "source": [
    "%%bash\n",
    "\n",
    "apropos move"
   ]
  },
  {
   "cell_type": "markdown",
   "id": "9bad194f-c51a-45d8-8508-d9e2303c14bb",
   "metadata": {},
   "source": [
    "# BUSCAR EL DIRECTORIO DE UN COMANDO O APLICACION"
   ]
  },
  {
   "cell_type": "code",
   "execution_count": null,
   "id": "af84e4f7-0700-4e1b-b1b1-6477ef5c8def",
   "metadata": {},
   "outputs": [],
   "source": [
    "%%bash\n",
    "\n",
    "whereis vim"
   ]
  },
  {
   "cell_type": "code",
   "execution_count": null,
   "id": "95ac9ba3-9ea3-4df1-a569-3d0dbeb2a0d6",
   "metadata": {},
   "outputs": [],
   "source": [
    "%%bash\n",
    "\n",
    "which vim"
   ]
  },
  {
   "cell_type": "markdown",
   "id": "d68a2598-3e1f-4f72-a3ce-cd785a3ae994",
   "metadata": {},
   "source": [
    "# <center> USUARIOS"
   ]
  },
  {
   "cell_type": "markdown",
   "id": "0fb78333-b1b5-484b-b7be-dcff0c883ae3",
   "metadata": {},
   "source": [
    "# CAMBIAR PASSWORD DE USUARIO\n",
    "\n",
    "## SOLICITA EL CAMBIO DE PASSWORD PARA EL USUARIO EN ESTE CASO `root`\n",
    "### `passwd root`\n",
    "\n",
    "## SOLICITA EL NUEVO PASSWORD\n",
    "### `linux`\n",
    "## SOLICITA LA CONFIRMACION DEL NUEVO PASSWORD\n",
    "### `linux`"
   ]
  },
  {
   "cell_type": "code",
   "execution_count": null,
   "id": "e601b3a8-4b91-46ed-9fad-165d81b77cc3",
   "metadata": {},
   "outputs": [],
   "source": [
    "%%bash\n",
    "\n",
    "passwd root\n",
    "linux\n",
    "linux"
   ]
  },
  {
   "cell_type": "markdown",
   "id": "8ec070ca-c837-4167-b298-dcb8906ba58e",
   "metadata": {},
   "source": [
    "# LISTAR USUARIOS"
   ]
  },
  {
   "cell_type": "code",
   "execution_count": null,
   "id": "0bb520e5-3a11-4c07-bf51-bbec908b8241",
   "metadata": {
    "scrolled": true
   },
   "outputs": [],
   "source": [
    "%%bash\n",
    "\n",
    "getent passwd"
   ]
  },
  {
   "cell_type": "markdown",
   "id": "795aebf6-d317-4df3-a507-5b4ce045f103",
   "metadata": {},
   "source": [
    "# LISTAR GRUPOS"
   ]
  },
  {
   "cell_type": "code",
   "execution_count": null,
   "id": "0ac48494-e2d6-424d-b24e-5f096768fe9a",
   "metadata": {
    "scrolled": true
   },
   "outputs": [],
   "source": [
    "%%bash\n",
    "\n",
    "getent group"
   ]
  },
  {
   "cell_type": "markdown",
   "id": "11d03265-9ecd-4f67-b393-b1a6515737d2",
   "metadata": {},
   "source": [
    "# LISTAR GRUPOS DE UN USUARIO"
   ]
  },
  {
   "cell_type": "code",
   "execution_count": null,
   "id": "2016a3bf-9084-4893-80bc-0c49ca901d29",
   "metadata": {},
   "outputs": [],
   "source": [
    "%%bash\n",
    "\n",
    "groups root"
   ]
  },
  {
   "cell_type": "markdown",
   "id": "8e83b430-65e2-4eae-90bf-6f3552a2cee1",
   "metadata": {},
   "source": [
    "# CREAR USUARIO"
   ]
  },
  {
   "cell_type": "code",
   "execution_count": null,
   "id": "7752a528-5c18-4d2f-ab98-c747b4713f96",
   "metadata": {
    "scrolled": true
   },
   "outputs": [],
   "source": [
    "%%bash \n",
    "\n",
    "useradd nathalie\n",
    "useradd ana\n",
    "useradd cecilia\n",
    "\n",
    "getent passwd"
   ]
  },
  {
   "cell_type": "markdown",
   "id": "85cd48df-b715-477f-a6b7-8244d1c581b3",
   "metadata": {},
   "source": [
    "# CREAR GRUPO"
   ]
  },
  {
   "cell_type": "code",
   "execution_count": null,
   "id": "8b4e9ca3-09df-4d7d-9a24-e3a9260e2a1a",
   "metadata": {
    "scrolled": true
   },
   "outputs": [],
   "source": [
    "%%bash\n",
    "groupadd students\n",
    "groupadd fruits\n",
    "\n",
    "getent group"
   ]
  },
  {
   "cell_type": "markdown",
   "id": "faccf4fe-e6bc-4f68-bcae-b021248e4df7",
   "metadata": {},
   "source": [
    "# ADICIONAR USUARIO A GRUPO"
   ]
  },
  {
   "cell_type": "code",
   "execution_count": null,
   "id": "b74602c1-ba2d-497a-98d0-baeaecca52a4",
   "metadata": {},
   "outputs": [],
   "source": [
    "%%bash\n",
    "usermod -aG students nathalie\n",
    "usermod -aG students ana\n",
    "usermod -aG students cecilia\n",
    "usermod -aG students root\n",
    "usermod -aG root nathalie"
   ]
  },
  {
   "cell_type": "markdown",
   "id": "7f3202f8-94d3-4330-911b-0a6a41f994aa",
   "metadata": {},
   "source": [
    "# LISTAR GRUPOS DE UN USUARIO"
   ]
  },
  {
   "cell_type": "code",
   "execution_count": null,
   "id": "5eb3fcc6-f944-4fa7-8e52-5b6fb1e6944c",
   "metadata": {},
   "outputs": [],
   "source": [
    "%%bash\n",
    "\n",
    "groups nathalie"
   ]
  },
  {
   "cell_type": "markdown",
   "id": "93ad6277-926d-4f2d-9793-8fc7de576927",
   "metadata": {},
   "source": [
    "# LISTAR USUARIOS DE UN GRUPO ESPECIFICO"
   ]
  },
  {
   "cell_type": "code",
   "execution_count": null,
   "id": "7bbb9076-7377-4a5f-8500-cafd2b2e041d",
   "metadata": {},
   "outputs": [],
   "source": [
    "%%bash\n",
    "\n",
    "getent group students"
   ]
  },
  {
   "cell_type": "markdown",
   "id": "04f7fcec-8cd6-4e6a-8f7f-e4396e4b0d12",
   "metadata": {},
   "source": [
    "# ELIMINAR USUARIOS CON DIRECTORIOS Y GRUPOS"
   ]
  },
  {
   "cell_type": "code",
   "execution_count": null,
   "id": "974bcf7b-530a-4266-a058-99f2cf2100bb",
   "metadata": {
    "scrolled": true
   },
   "outputs": [],
   "source": [
    "%%bash\n",
    "\n",
    "userdel -r nathalie\n",
    "userdel -r ana\n",
    "userdel -r cecilia\n",
    "\n",
    "getent passwd"
   ]
  },
  {
   "cell_type": "markdown",
   "id": "3bb3e4d2-f90f-40a8-ba8f-f30f5f9a3e0f",
   "metadata": {},
   "source": [
    "# ELIMINAR GRUPOS"
   ]
  },
  {
   "cell_type": "code",
   "execution_count": null,
   "id": "d0ed7f6e-7840-4efa-8164-4575bb4b181b",
   "metadata": {
    "scrolled": true
   },
   "outputs": [],
   "source": [
    "%%bash\n",
    "\n",
    "groupdel students\n",
    "groupdel fruits\n",
    "\n",
    "getent group"
   ]
  },
  {
   "cell_type": "markdown",
   "id": "fbaebc59-914a-45e9-9ad8-42dacda1f8ab",
   "metadata": {},
   "source": [
    "# VER EL TIPO DE ARCHIVO DE UN FICHERO"
   ]
  },
  {
   "cell_type": "code",
   "execution_count": 2,
   "id": "0be53e73-995b-45ab-8daf-54e85dc36ccc",
   "metadata": {
    "scrolled": true
   },
   "outputs": [
    {
     "name": "stdout",
     "output_type": "stream",
     "text": [
      "Descargando el archivo... joins_unions_window-functions_data_sheet.pdf de https://github.com/JorgeCardona/recursos/raw/main/Union_Conjuntos_Funciones_Ventana\n"
     ]
    },
    {
     "name": "stderr",
     "output_type": "stream",
     "text": [
      "--2024-04-06 20:08:30--  https://github.com/JorgeCardona/recursos/raw/main/Union_Conjuntos_Funciones_Ventana/joins_unions_window-functions_data_sheet.pdf\n",
      "Resolving github.com (github.com)... 140.82.114.3, ::ffff:140.82.114.3\n",
      "Connecting to github.com (github.com)|140.82.114.3|:443... connected.\n",
      "HTTP request sent, awaiting response... 302 Found\n",
      "Location: https://raw.githubusercontent.com/JorgeCardona/recursos/main/Union_Conjuntos_Funciones_Ventana/joins_unions_window-functions_data_sheet.pdf [following]\n",
      "--2024-04-06 20:08:32--  https://raw.githubusercontent.com/JorgeCardona/recursos/main/Union_Conjuntos_Funciones_Ventana/joins_unions_window-functions_data_sheet.pdf\n",
      "Resolving raw.githubusercontent.com (raw.githubusercontent.com)... ::ffff:185.199.108.133, ::ffff:185.199.110.133, ::ffff:185.199.109.133, ...\n",
      "Connecting to raw.githubusercontent.com (raw.githubusercontent.com)|::ffff:185.199.108.133|:443... connected.\n",
      "HTTP request sent, awaiting response... 200 OK\n",
      "Length: 4404694 (4.2M) [application/octet-stream]\n",
      "Saving to: ‘joins_unions_window-functions_data_sheet.pdf’\n",
      "\n",
      "     0K .......... .......... .......... .......... ..........  1%  632K 7s\n",
      "    50K .......... .......... .......... .......... ..........  2% 1.41M 5s\n",
      "   100K .......... .......... .......... .......... ..........  3% 2.24M 4s\n",
      "   150K .......... .......... .......... .......... ..........  4% 3.35M 3s\n",
      "   200K .......... .......... .......... .......... ..........  5% 4.10M 3s\n",
      "   250K .......... .......... .......... .......... ..........  6% 4.92M 2s\n",
      "   300K .......... .......... .......... .......... ..........  8% 5.60M 2s\n",
      "   350K .......... .......... .......... .......... ..........  9% 4.65M 2s\n",
      "   400K .......... .......... .......... .......... .......... 10% 3.53M 2s\n",
      "   450K .......... .......... .......... .......... .......... 11% 5.77M 2s\n",
      "   500K .......... .......... .......... .......... .......... 12% 5.08M 2s\n",
      "   550K .......... .......... .......... .......... .......... 13% 5.38M 1s\n",
      "   600K .......... .......... .......... .......... .......... 15% 4.89M 1s\n",
      "   650K .......... .......... .......... .......... .......... 16% 5.67M 1s\n",
      "   700K .......... .......... .......... .......... .......... 17% 7.12M 1s\n",
      "   750K .......... .......... .......... .......... .......... 18% 5.40M 1s\n",
      "   800K .......... .......... .......... .......... .......... 19% 4.29M 1s\n",
      "   850K .......... .......... .......... .......... .......... 20% 6.03M 1s\n",
      "   900K .......... .......... .......... .......... .......... 22% 6.63M 1s\n",
      "   950K .......... .......... .......... .......... .......... 23% 6.41M 1s\n",
      "  1000K .......... .......... .......... .......... .......... 24% 6.62M 1s\n",
      "  1050K .......... .......... .......... .......... .......... 25% 5.90M 1s\n",
      "  1100K .......... .......... .......... .......... .......... 26% 4.98M 1s\n",
      "  1150K .......... .......... .......... .......... .......... 27% 4.85M 1s\n",
      "  1200K .......... .......... .......... .......... .......... 29% 4.38M 1s\n",
      "  1250K .......... .......... .......... .......... .......... 30% 6.22M 1s\n",
      "  1300K .......... .......... .......... .......... .......... 31% 6.44M 1s\n",
      "  1350K .......... .......... .......... .......... .......... 32% 5.31M 1s\n",
      "  1400K .......... .......... .......... .......... .......... 33% 6.43M 1s\n",
      "  1450K .......... .......... .......... .......... .......... 34% 6.06M 1s\n",
      "  1500K .......... .......... .......... .......... .......... 36% 6.09M 1s\n",
      "  1550K .......... .......... .......... .......... .......... 37% 3.94M 1s\n",
      "  1600K .......... .......... .......... .......... .......... 38% 4.18M 1s\n",
      "  1650K .......... .......... .......... .......... .......... 39% 6.75M 1s\n",
      "  1700K .......... .......... .......... .......... .......... 40% 5.60M 1s\n",
      "  1750K .......... .......... .......... .......... .......... 41% 6.88M 1s\n",
      "  1800K .......... .......... .......... .......... .......... 43% 5.98M 1s\n",
      "  1850K .......... .......... .......... .......... .......... 44% 6.03M 1s\n",
      "  1900K .......... .......... .......... .......... .......... 45% 6.25M 1s\n",
      "  1950K .......... .......... .......... .......... .......... 46% 6.43M 1s\n",
      "  2000K .......... .......... .......... .......... .......... 47% 3.86M 1s\n",
      "  2050K .......... .......... .......... .......... .......... 48% 6.36M 1s\n",
      "  2100K .......... .......... .......... .......... .......... 49% 2.45M 1s\n",
      "  2150K .......... .......... .......... .......... .......... 51% 6.06M 0s\n",
      "  2200K .......... .......... .......... .......... .......... 52%  280K 1s\n",
      "  2250K .......... .......... .......... .......... .......... 53% 1.04M 1s\n",
      "  2300K .......... .......... .......... .......... .......... 54% 5.86M 1s\n",
      "  2350K .......... .......... .......... .......... .......... 55% 5.98M 1s\n",
      "  2400K .......... .......... .......... .......... .......... 56% 4.79M 1s\n",
      "  2450K .......... .......... .......... .......... .......... 58% 4.74M 1s\n",
      "  2500K .......... .......... .......... .......... .......... 59% 5.09M 1s\n",
      "  2550K .......... .......... .......... .......... .......... 60% 4.76M 1s\n",
      "  2600K .......... .......... .......... .......... .......... 61% 6.85M 1s\n",
      "  2650K .......... .......... .......... .......... .......... 62% 2.17M 0s\n",
      "  2700K .......... .......... .......... .......... .......... 63% 5.69M 0s\n",
      "  2750K .......... .......... .......... .......... .......... 65% 5.82M 0s\n",
      "  2800K .......... .......... .......... .......... .......... 66% 2.83M 0s\n",
      "  2850K .......... .......... .......... .......... .......... 67% 5.38M 0s\n",
      "  2900K .......... .......... .......... .......... .......... 68% 2.38M 0s\n",
      "  2950K .......... .......... .......... .......... .......... 69% 5.56M 0s\n",
      "  3000K .......... .......... .......... .......... .......... 70% 5.95M 0s\n",
      "  3050K .......... .......... .......... .......... .......... 72% 2.72M 0s\n",
      "  3100K .......... .......... .......... .......... .......... 73% 6.31M 0s\n",
      "  3150K .......... .......... .......... .......... .......... 74% 6.40M 0s\n",
      "  3200K .......... .......... .......... .......... .......... 75% 2.91M 0s\n",
      "  3250K .......... .......... .......... .......... .......... 76% 3.22M 0s\n",
      "  3300K .......... .......... .......... .......... .......... 77% 3.78M 0s\n",
      "  3350K .......... .......... .......... .......... .......... 79% 5.81M 0s\n",
      "  3400K .......... .......... .......... .......... .......... 80% 3.29M 0s\n",
      "  3450K .......... .......... .......... .......... .......... 81% 7.09M 0s\n",
      "  3500K .......... .......... .......... .......... .......... 82% 1.93M 0s\n",
      "  3550K .......... .......... .......... .......... .......... 83% 6.10M 0s\n",
      "  3600K .......... .......... .......... .......... .......... 84% 2.17M 0s\n",
      "  3650K .......... .......... .......... .......... .......... 86% 2.59M 0s\n",
      "  3700K .......... .......... .......... .......... .......... 87% 3.69M 0s\n",
      "  3750K .......... .......... .......... .......... .......... 88% 3.19M 0s\n",
      "  3800K .......... .......... .......... .......... .......... 89% 3.00M 0s\n",
      "  3850K .......... .......... .......... .......... .......... 90% 2.23M 0s\n",
      "  3900K .......... .......... .......... .......... .......... 91% 1.69M 0s\n",
      "  3950K .......... .......... .......... .......... .......... 92% 2.47M 0s\n",
      "  4000K .......... .......... .......... .......... .......... 94% 2.33M 0s\n",
      "  4050K .......... .......... .......... .......... .......... 95% 3.45M 0s\n",
      "  4100K .......... .......... .......... .......... .......... 96% 3.33M 0s\n",
      "  4150K .......... .......... .......... .......... .......... 97% 4.45M 0s\n",
      "  4200K .......... .......... .......... .......... .......... 98% 4.72M 0s\n",
      "  4250K .......... .......... .......... .......... .......... 99% 5.29M 0s\n",
      "  4300K .                                                     100% 2.72T=1.3s\n",
      "\n",
      "2024-04-06 20:08:34 (3.24 MB/s) - ‘joins_unions_window-functions_data_sheet.pdf’ saved [4404694/4404694]\n",
      "\n"
     ]
    },
    {
     "name": "stdout",
     "output_type": "stream",
     "text": [
      "El archivo joins_unions_window-functions_data_sheet.pdf descargado se renombrará a: prompt.sh\n",
      "El archivo joins_unions_window-functions_data_sheet.pdf se ha renombrado correctamente a prompt.sh.\n",
      "Identificando el tipo de archivo... de prompt.sh\n",
      "prompt.sh: PDF document, version 1.7, 12 pages\n",
      "Eliminando el archivo...  prompt.sh \n",
      "El archivo  prompt.sh se ha eliminado correctamente.\n"
     ]
    }
   ],
   "source": [
    "%%bash\n",
    "# Descargar el archivo\n",
    "url_repositorio=https://github.com/JorgeCardona/recursos/raw/main/Union_Conjuntos_Funciones_Ventana\n",
    "archivo_original=joins_unions_window-functions_data_sheet.pdf\n",
    "echo \"Descargando el archivo... ${archivo_original} de ${url_repositorio}\"\n",
    "wget ${url_repositorio}/${archivo_original}\n",
    "\n",
    "# Nombre del nuevo archivo para ocultar su extensión\n",
    "archivo_renombrado=prompt.sh\n",
    "echo \"El archivo ${archivo_original} descargado se renombrará a: ${archivo_renombrado}\"\n",
    "\n",
    "# Renombrar el archivo para ocultar su extensión\n",
    "mv joins_unions_window-functions_data_sheet.pdf ${archivo_renombrado}\n",
    "echo \"El archivo ${archivo_original} se ha renombrado correctamente a ${archivo_renombrado}.\"\n",
    "\n",
    "# Identificar el tipo de archivo\n",
    "echo \"Identificando el tipo de archivo... de ${archivo_renombrado}\"\n",
    "file ${archivo_renombrado}\n",
    "\n",
    "# Eliminar el archivo\n",
    "echo \"Eliminando el archivo...  ${archivo_renombrado} \"\n",
    "rm ${archivo_renombrado}\n",
    "echo \"El archivo  ${archivo_renombrado} se ha eliminado correctamente.\""
   ]
  },
  {
   "cell_type": "code",
   "execution_count": 4,
   "id": "cb27763a-e0d2-4329-b66f-319dfe93a33c",
   "metadata": {},
   "outputs": [
    {
     "name": "stdout",
     "output_type": "stream",
     "text": [
      "\n"
     ]
    }
   ],
   "source": [
    "%%bash\n",
    "\n",
    "echo ${archivo_renombrado}"
   ]
  },
  {
   "cell_type": "code",
   "execution_count": null,
   "id": "ee62b67f-2019-41de-a346-05e6d1033657",
   "metadata": {},
   "outputs": [],
   "source": []
  }
 ],
 "metadata": {
  "kernelspec": {
   "display_name": "Python 3 (ipykernel)",
   "language": "python",
   "name": "python3"
  },
  "language_info": {
   "codemirror_mode": {
    "name": "ipython",
    "version": 3
   },
   "file_extension": ".py",
   "mimetype": "text/x-python",
   "name": "python",
   "nbconvert_exporter": "python",
   "pygments_lexer": "ipython3",
   "version": "3.11.7"
  }
 },
 "nbformat": 4,
 "nbformat_minor": 5
}
