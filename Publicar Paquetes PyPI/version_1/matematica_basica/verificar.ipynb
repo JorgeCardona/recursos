{
 "cells": [
  {
   "cell_type": "code",
   "execution_count": 1,
   "id": "aee348da-0dde-408d-9a0b-64879d28b74a",
   "metadata": {},
   "outputs": [
    {
     "name": "stdout",
     "output_type": "stream",
     "text": [
      "El resultado de la SUMA 2 + 3 es 5\n",
      "5\n",
      "El resultado de la RESTA  10 - 5 es 5\n",
      "5\n",
      "El resultado de la MULTIPLICACION  4 * 3 es 12\n",
      "12\n",
      "El resultado de la DIVISIÓN DECIMAL 10 / 3 es 3.3333333333333335\n",
      "3.3333333333333335\n",
      "El resultado de la DIVISIÓN ENTERA 10 // 3 es 3\n",
      "3\n"
     ]
    }
   ],
   "source": [
    "from elementales.funciones_basicas import CalculosMatematicosElementales\n",
    "\n",
    "# Ejemplo de uso del método de suma\n",
    "resultado_suma = CalculosMatematicosElementales.suma(2, 3)\n",
    "print(resultado_suma)  # Salida: El resultado de la SUMA 2.0 + 3.0 es 5.0\n",
    "\n",
    "# Ejemplo de uso del método de resta\n",
    "resultado_resta = CalculosMatematicosElementales.resta(10, 5)\n",
    "print(resultado_resta)  # Salida: El resultado de la RESTA 10.0 - 5.0 es 5.0\n",
    "\n",
    "# Ejemplo de uso del método de multiplicación\n",
    "resultado_multiplicacion = CalculosMatematicosElementales.multiplicacion(4, 3)\n",
    "print(resultado_multiplicacion)  # Salida: El resultado de la MULTIPLICACION 4.0 * 3.0 es 12.0\n",
    "\n",
    "# Ejemplo de uso del método de división decimal\n",
    "resultado_division_decimal = CalculosMatematicosElementales.division_decimal(10, 3)\n",
    "print(resultado_division_decimal)  # Salida: El resultado de la DIVISIÓN DECIMAL 10.0 / 3.0 es 3.3333333333333335\n",
    "\n",
    "# Ejemplo de uso del método de división entera\n",
    "resultado_division_entera = CalculosMatematicosElementales.division_entera(10, 3)\n",
    "print(resultado_division_entera)  # Salida: El resultado de la DIVISIÓN ENTERA 10 // 3 es 3"
   ]
  },
  {
   "cell_type": "code",
   "execution_count": 2,
   "id": "86cd0d55-fca2-411a-aa9b-aa78883beea7",
   "metadata": {
    "scrolled": true
   },
   "outputs": [
    {
     "name": "stdout",
     "output_type": "stream",
     "text": [
      "El resultado de la POTENCIA 2 elevado a 3 es 8\n",
      "8\n",
      "El resultado de la raiz cuadrada del valor absoluto de 9 + 16 es 5.0\n",
      "5.0\n",
      "El logaritmo del valor absoluto de 10 en base 100 es 0.5\n",
      "0.5\n",
      "El piso de 7 dividido 2 es 3\n",
      "3\n",
      "El techo de 7 dividido 2 es 4\n",
      "4\n",
      "El factorial de 5 es 120\n",
      "120\n",
      "La multiplicación del número imaginario 2j con el número imaginario 3j es (-6+0j)\n",
      "(-6+0j)\n"
     ]
    }
   ],
   "source": [
    "from compuestos.funciones_avanzadas import CalculosMatematicosCompuestos\n",
    "\n",
    "# Ejemplo de uso del método de potencia\n",
    "resultado_potencia = CalculosMatematicosCompuestos.potencia(2, 3)\n",
    "print(resultado_potencia)  # Salida: El resultado de la POTENCIA 2 elevado a 3 es 8\n",
    "\n",
    "# Ejemplo de uso del método de raiz cuadrada\n",
    "resultado_raiz = CalculosMatematicosCompuestos.raiz_cuadrada(9, 16)\n",
    "print(resultado_raiz)  # Salida: El resultado de la raiz cuadrada del valor absoluto de 9 + 16 es 5.0\n",
    "\n",
    "# Ejemplo de uso del método de logaritmo\n",
    "resultado_logaritmo = CalculosMatematicosCompuestos.logaritmo(10, 100)\n",
    "print(resultado_logaritmo)  # Salida: El logaritmo del valor absoluto de 10 en base 100 es 0.5\n",
    "\n",
    "# Ejemplo de uso del método de piso\n",
    "resultado_piso = CalculosMatematicosCompuestos.piso(7, 2)\n",
    "print(resultado_piso)  # Salida: El piso de 7 dividido 2 es 3\n",
    "\n",
    "# Ejemplo de uso del método de techo\n",
    "resultado_techo = CalculosMatematicosCompuestos.techo(7, 2)\n",
    "print(resultado_techo)  # Salida: El techo de 7 dividido 2 es 4\n",
    "\n",
    "# Ejemplo de uso del método de factorial\n",
    "resultado_factorial = CalculosMatematicosCompuestos.factorial(5)\n",
    "print(resultado_factorial)  # Salida: El factorial de 5 es 120\n",
    "\n",
    "# Ejemplo de uso del método de multiplicación de números imaginarios\n",
    "resultado_imaginarios = CalculosMatematicosCompuestos.imaginarios(2j, 3j)\n",
    "print(resultado_imaginarios)  # Salida: La multiplicación del número imaginario 2"
   ]
  },
  {
   "cell_type": "code",
   "execution_count": null,
   "id": "ec9ed5e9-1711-4a71-9b0b-e8661a72cd7b",
   "metadata": {},
   "outputs": [],
   "source": []
  },
  {
   "cell_type": "code",
   "execution_count": null,
   "id": "84c6fbae-bfcf-4ca1-b0a4-63d14ab8c6c2",
   "metadata": {},
   "outputs": [],
   "source": []
  }
 ],
 "metadata": {
  "kernelspec": {
   "display_name": "Python 3 (ipykernel)",
   "language": "python",
   "name": "python3"
  },
  "language_info": {
   "codemirror_mode": {
    "name": "ipython",
    "version": 3
   },
   "file_extension": ".py",
   "mimetype": "text/x-python",
   "name": "python",
   "nbconvert_exporter": "python",
   "pygments_lexer": "ipython3",
   "version": "3.9.2rc1"
  }
 },
 "nbformat": 4,
 "nbformat_minor": 5
}
