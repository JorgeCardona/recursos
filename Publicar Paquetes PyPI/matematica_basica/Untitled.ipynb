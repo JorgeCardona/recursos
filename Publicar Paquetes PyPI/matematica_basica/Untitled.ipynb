{
 "cells": [
  {
   "cell_type": "code",
   "execution_count": 1,
   "id": "4674322b-a3de-4fa9-8977-d35386042662",
   "metadata": {},
   "outputs": [
    {
     "name": "stdout",
     "output_type": "stream",
     "text": [
      "Name: MiPaqueteDePrueba\n",
      "Version: 0.0.1\n",
      "Summary: Descripción del paquete\n",
      "Home-page: https://github.com/JorgeCardona/PipPackageInstaller\n",
      "Author: Jorge Cardona\n",
      "Author-email: \n",
      "License: \n",
      "Location: c:\\users\\qidimmak\\desktop\\zzz\\publicar paquetes pypi\\matematica_basica\\src\n",
      "Editable project location: c:\\users\\qidimmak\\desktop\\zzz\\publicar paquetes pypi\\matematica_basica\\src\n",
      "Requires: \n",
      "Required-by: \n"
     ]
    }
   ],
   "source": [
    "!pip show MiPaqueteDePrueba"
   ]
  },
  {
   "cell_type": "code",
   "execution_count": 13,
   "id": "6f52af84-4f39-48c1-a9dd-22ed79fd040d",
   "metadata": {},
   "outputs": [],
   "source": [
    "from elementales.basicos import CalculosMatematicosElementales"
   ]
  },
  {
   "cell_type": "code",
   "execution_count": 10,
   "id": "ac382df3-2f11-48ba-8136-2b7759ce79ca",
   "metadata": {},
   "outputs": [
    {
     "name": "stdout",
     "output_type": "stream",
     "text": [
      "El resultado de la SUMA 1 + 2 es 3\n"
     ]
    },
    {
     "data": {
      "text/plain": [
       "3"
      ]
     },
     "execution_count": 10,
     "metadata": {},
     "output_type": "execute_result"
    }
   ],
   "source": [
    "CalculosMatematicosElementales.suma(1,2)"
   ]
  },
  {
   "cell_type": "code",
   "execution_count": 14,
   "id": "8026e301-48a9-4276-8cfb-9dd050769aba",
   "metadata": {},
   "outputs": [
    {
     "name": "stdout",
     "output_type": "stream",
     "text": [
      "El resultado de la POTENCIA 2 elevado a 3 es 8\n",
      "8\n",
      "El resultado de la raiz cuadrada del valor absoluto de 9 + 16 es 5.0\n",
      "5.0\n",
      "El logaritmo del valor absoluto de 10 en base 100 es 0.5\n",
      "0.5\n",
      "El piso de 7 dividido 2 es 3\n",
      "3\n",
      "El techo de 7 dividido 2 es 4\n",
      "4\n",
      "El factorial de 5 es 120\n",
      "120\n",
      "La multiplicación del número imaginario 2j con el número imaginario 3j es (-6+0j)\n",
      "(-6+0j)\n"
     ]
    }
   ],
   "source": [
    "from compuestos.avanzados import CalculosMatematicosCompuestos\n",
    "\n",
    "# Ejemplo de uso del método de potencia\n",
    "resultado_potencia = CalculosMatematicosCompuestos.potencia(2, 3)\n",
    "print(resultado_potencia)  # Salida: El resultado de la POTENCIA 2 elevado a 3 es 8\n",
    "\n",
    "# Ejemplo de uso del método de raiz cuadrada\n",
    "resultado_raiz = CalculosMatematicosCompuestos.raiz_cuadrada(9, 16)\n",
    "print(resultado_raiz)  # Salida: El resultado de la raiz cuadrada del valor absoluto de 9 + 16 es 5.0\n",
    "\n",
    "# Ejemplo de uso del método de logaritmo\n",
    "resultado_logaritmo = CalculosMatematicosCompuestos.logaritmo(10, 100)\n",
    "print(resultado_logaritmo)  # Salida: El logaritmo del valor absoluto de 10 en base 100 es 0.5\n",
    "\n",
    "# Ejemplo de uso del método de piso\n",
    "resultado_piso = CalculosMatematicosCompuestos.piso(7, 2)\n",
    "print(resultado_piso)  # Salida: El piso de 7 dividido 2 es 3\n",
    "\n",
    "# Ejemplo de uso del método de techo\n",
    "resultado_techo = CalculosMatematicosCompuestos.techo(7, 2)\n",
    "print(resultado_techo)  # Salida: El techo de 7 dividido 2 es 4\n",
    "\n",
    "# Ejemplo de uso del método de factorial\n",
    "resultado_factorial = CalculosMatematicosCompuestos.factorial(5)\n",
    "print(resultado_factorial)  # Salida: El factorial de 5 es 120\n",
    "\n",
    "# Ejemplo de uso del método de multiplicación de números imaginarios\n",
    "resultado_imaginarios = CalculosMatematicosCompuestos.imaginarios(2j, 3j)\n",
    "print(resultado_imaginarios)  # Salida: La multiplicación del número imaginario 2j con el número imaginario 3j es -6"
   ]
  },
  {
   "cell_type": "code",
   "execution_count": null,
   "id": "dc9bc57b-5575-401f-990b-63aece881c8f",
   "metadata": {},
   "outputs": [],
   "source": []
  }
 ],
 "metadata": {
  "kernelspec": {
   "display_name": "Python 3 (ipykernel)",
   "language": "python",
   "name": "python3"
  },
  "language_info": {
   "codemirror_mode": {
    "name": "ipython",
    "version": 3
   },
   "file_extension": ".py",
   "mimetype": "text/x-python",
   "name": "python",
   "nbconvert_exporter": "python",
   "pygments_lexer": "ipython3",
   "version": "3.9.2rc1"
  }
 },
 "nbformat": 4,
 "nbformat_minor": 5
}
