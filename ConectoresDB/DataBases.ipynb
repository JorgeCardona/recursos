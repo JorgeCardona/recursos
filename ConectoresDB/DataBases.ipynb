{
 "cells": [
  {
   "cell_type": "markdown",
   "id": "edc55491-5133-4a9c-b658-2f0359d8f2ef",
   "metadata": {},
   "source": [
    "# METODOS DE RECUPERACIÓN DE DATOS, UNO, MULTIPLES, O TODOS.\n",
    "\n",
    "| Base de Datos | Conector                             | `fetchone`                                     | `fetchmany`                                       | `fetchall`                                 |\n",
    "|---------------|--------------------------------------|-------------------------------------------------|----------------------------------------------------|--------------------------------------------|\n",
    "| MySQL         | mysql-connector-python o pymysql     | `unique_row = cursor.fetchone()`                | `many_rows = cursor.fetchmany(size)`               | `all_rows = cursor.fetchall()`               |\n",
    "| PostgreSQL    | psycopg2                              | `unique_row = cursor.fetchone()`                | `many_rows = cursor.fetchmany(size)`               | `all_rows = cursor.fetchall()`               |\n",
    "| SQL Server    | pyodbc                               | `unique_row = cursor.fetchone()`                | `many_rows = cursor.fetchmany(size)`               | `all_rows = cursor.fetchall()`               |\n",
    "| Oracle        | cx_Oracle                            | `unique_row = cursor.fetchone()`                | `many_rows = cursor.fetchmany(size)`               | `all_rows = cursor.fetchall()`               |\n",
    "| Snowflake     | Snowflake Connector                  | `unique_row = cursor.fetchone()`                | `many_rows = cursor.fetchmany(size)`               | `all_rows = cursor.fetchall()`               |\n",
    "| MongoDB       | pymongo                              | `unique_document = collection.find_one({'filtro': 'condicion'})` | `many_documents = [doc for doc in collection.find({'filtro': 'condicion'}).limit(size)]` | `all_documents = list(collection.find())` |                                |"
   ]
  },
  {
   "cell_type": "markdown",
   "id": "4a076a12-8832-46f0-9f65-d3949a71f1d4",
   "metadata": {},
   "source": [
    "# METODOS DE INSERCIÓN DE DATOS.\n",
    "\n",
    "| Base de Datos | Conector                                  | Método de Inserción Masiva                                 | Ejemplo de Uso                                           |\n",
    "|---------------|-------------------------------------------|-----------------------------------------------------------|-----------------------------------------------------------|\n",
    "| PostgreSQL    | psycopg2                                   | `execute_values`                                          | `cursor.execute_values('nombre_tabla', registros)`         |\n",
    "| MySQL         | mysql-connector-python o pymysql            | `executemany`                                             | `cursor.executemany(query, registros)`                     |\n",
    "| SQL Server    | pyodbc                                    | `executemany` o `BULK INSERT` para grandes volúmenes      | `cursor.executemany(query, registros)`                     |\n",
    "| Oracle        | cx_Oracle                                 | `executemany`                                             | `cursor.executemany(query, registros)`                     |\n",
    "| Snowflake     | Snowflake Connector                       | Copia masiva con opciones como COPY INTO o COPY INTO (file_format) | Ver la documentación de Snowflake para la sintaxis específica |\n",
    "| MongoDB       | pymongo                                   | `insert_many`                                             | `collection.insert_many(registros)`                        |"
   ]
  },
  {
   "cell_type": "code",
   "execution_count": null,
   "id": "68539c23-6254-47a1-bea7-995da809dfe0",
   "metadata": {},
   "outputs": [],
   "source": []
  }
 ],
 "metadata": {
  "kernelspec": {
   "display_name": "Python 3 (ipykernel)",
   "language": "python",
   "name": "python3"
  },
  "language_info": {
   "codemirror_mode": {
    "name": "ipython",
    "version": 3
   },
   "file_extension": ".py",
   "mimetype": "text/x-python",
   "name": "python",
   "nbconvert_exporter": "python",
   "pygments_lexer": "ipython3",
   "version": "3.10.13"
  }
 },
 "nbformat": 4,
 "nbformat_minor": 5
}
