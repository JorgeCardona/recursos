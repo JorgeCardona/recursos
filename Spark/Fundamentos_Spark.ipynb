{
 "cells": [
  {
   "cell_type": "markdown",
   "metadata": {
    "tags": []
   },
   "source": [
    "<div style=\"text-align:center\">\n",
    "    <img src=\"imagenes/spark_architecture.png\" alt=\"spark_architecture\">\n",
    "</div>"
   ]
  },
  {
   "cell_type": "markdown",
   "metadata": {},
   "source": [
    "# <center> Conceptos Apache SPARK\n",
    "\n",
    "| Concepto         | Descripción                                                                                                                                                                       |\n",
    "|------------------|-----------------------------------------------------------------------------------------------------------------------------------------------------------------------------------|\n",
    "| Driver Program   | El programa de la aplicación que se ejecuta en el master nodo y contiene la lógica de la aplicación Spark. Es el punto de entrada y coordina las operaciones en el clúster.   |\n",
    "| Cluster Manager  | Componente externo que administra recursos y coordina la ejecución de trabajos y tareas en el clúster. Los ejemplos incluyen Mesos, YARN y el \"Standalone Cluster Manager\" de Spark. |\n",
    "| Master Node      | Nodo que aloja el cluster manager y coordina la distribución de tareas en los worker nodes.                                                                                     |\n",
    "| Worker Node      | Nodos que ejecutan las tareas de cómputo en el clúster. Pueden contener múltiples executors.                                                                                   |\n",
    "| Executor         | Procesos que realizan las tareas de cómputo en el clúster. Cada worker node puede contener múltiples executors.                                                              |\n",
    "| Slot             | Son unidades dentro de un executor que se utilizan para asignar y ejecutar tareas individuales.  pueden utilizar la memoria caché para almacenar datos temporales que necesitan para su procesamiento. |    \n",
    "| Transformaciones | Operaciones aplicadas a RDDs o DataFrames para crear nuevos RDDs o modificar existentes. Son transformaciones perezosas (lazy).                                                  |\n",
    "| Narrow Transformations | Transformaciones donde cada partición de entrada se mapea en una única partición de salida sin necesidad de reorganización.  |\n",
    "| Wide Transformations   | Transformaciones que requieren reorganización y mezcla de particiones de entrada para generar particiones de salida.     |\n",
    "| Acciones         | Operaciones que realizan cálculos y devuelven resultados a la aplicación. Desencadenan la ejecución de transformaciones y tareas en el clúster.                               |\n",
    "| Transformaciones y Acciones | Las Transformaciones definen las operaciones que se aplicarán a los datos, creando un plan de ejecución. Las Acciones, cuando son invocadas en el controlador (Driver), ejecutan ese plan y retornan un resultado o efecto observable en el programa.|\n",
    "| Plan Lógico | Es construido por el usuario al definir las transformaciones y acciones en el código Spark. Representa la secuencia abstracta de operaciones que se desean realizar en los datos.|\n",
    "| Plan Físico | El optimizador interno de Spark utiliza este plan lógico como punto de partida para crear el plan físico. El plan físico considera la distribución de datos en el clúster, las características del hardware y otros factores para ejecutar las operaciones de manera eficiente y paralela.|\n",
    "| Plan lógico y Físico| El plan lógico es la intención del usuario, mientras que el plan físico es la ejecución optimizada de esa intención en el clúster.|\n",
    "| Plan de ejecución  | Es la descripción lógica y física de cómo se realizarán las operaciones en un conjunto de datos distribuidos. Define la secuencia de transformaciones y acciones que se aplicarán a los datos para obtener el resultado deseado. Cada operación, ya sea una transformación o una acción, se traduce en pasos dentro del plan de ejecución. |\n",
    "| Task   | La unidad más pequeña de trabajo en Spark. Las tareas se ejecutan en los executors y procesan los datos en paralelo.  Cada tarea se asigna a un executor (proceso de trabajo) y ejecuta una porción específica de los datos en paralelo.  |\n",
    "| Job   | Puede estar compuesto por múltiples tareas, Se crea un Job al ejecutar alguna Accion sobre un RDD o un dataframe. Es Una colección de operaciones (transformaciones y acciones) que Spark ejecuta en el clúster.|\n",
    "| Cache | Almacenamiento temporal de datos en memoria o disco para acelerar el acceso a los datos y evitar recalculos. Cuando se realiza una acción en un RDD, Spark puede almacenar los resultados en caché para que en futuras operaciones no sea necesario volver a calcularlos desde cero.  |"
   ]
  },
  {
   "cell_type": "markdown",
   "metadata": {
    "tags": []
   },
   "source": [
    "<div style=\"text-align:center\">\n",
    "    <img src=\"imagenes/spark_compatible_languages.png\" alt=\"spark_compatible_languages\">\n",
    "</div>"
   ]
  },
  {
   "cell_type": "markdown",
   "metadata": {
    "tags": []
   },
   "source": [
    "<div style=\"text-align:center\">\n",
    "    <img src=\"imagenes/spark_libraries.png\" alt=\"spark_libraries\">\n",
    "</div>"
   ]
  },
  {
   "cell_type": "markdown",
   "metadata": {},
   "source": [
    "| Biblioteca      | Estructura Utilizada                                    | Cuándo Usar                                            | Ventajas                                                                                           | Desventajas                                                                                   | Ejemplo de Código                                                                                                     |\n",
    "|-----------------|---------------------------------------------------------|--------------------------------------------------------|---------------------------------------------------------------------------------------------------|----------------------------------------------------------------------------------------------|----------------------------------------------------------------------------------------------------------------------|\n",
    "| Spark SQL       | DataFrames, Datasets, SQL Engine                       | - Para consultas y análisis SQL.<br>- Procesamiento de datos estructurados.<br>- Trabajo con datos tabulares. | - Soporte para SQL y operaciones de DataFrame.<br>- Integración con otras bibliotecas de Spark.<br>- Optimizaciones de consultas.<br>- Uso de funciones SQL para transformaciones. | - Limitado en comparación con bases de datos especializadas para ciertas operaciones SQL complejas.<br>- No es adecuado para operaciones de procesamiento en tiempo real.<br>- Puede requerir más recursos para ciertas consultas complejas. | from pyspark.sql import SparkSession<br><br>spark = SparkSession.builder.appName(\"Ejemplo Spark SQL\").getOrCreate()<br>df = spark.read.csv(\"datos.csv\", header=True, inferSchema=True)<br>df.createOrReplaceTempView(\"mi_tabla\")<br>resultado = spark.sql(\"SELECT nombre, edad FROM mi_tabla WHERE edad > 25\")<br>spark.stop() |\n",
    "| Spark Streaming | DStream (Secuencia de micro-batch de RDDs)             | - Procesamiento de datos en tiempo real.<br>- Análisis de flujos de datos.<br>- Generación de alertas en tiempo real. | - Procesamiento y análisis en tiempo real.<br>- Soporte para ventana de tiempo y agregación.<br>- Integración con otras bibliotecas de Spark. | - Menos eficiente para operaciones de procesamiento por lotes.<br>- Escalado complejo en algunos escenarios.<br>- Requiere una gestión cuidadosa del estado y la latencia. | from pyspark import SparkContext<br>from pyspark.streaming import StreamingContext<br><br>sc = SparkContext(\"local\", \"Ejemplo Spark Streaming\")<br>ssc = StreamingContext(sc, 1)<br>lines = ssc.socketTextStream(\"localhost\", 9999)<br>words = lines.flatMap(lambda line: line.split(\" \"))<br>wordCounts = words.map(lambda word: (word, 1)).reduceByKey(lambda a, b: a + b)<br>wordCounts.pprint()<br>ssc.start()<br>ssc.awaitTermination() |\n",
    "| MLlib           | RDD, Algoritmos de Machine Learning                    | - Tareas de aprendizaje automático.<br>- Análisis de datos y modelado predictivo.<br>- Proyectos de análisis de datos grandes. | - Amplia gama de algoritmos de ML preconstruidos.<br>- Integración con otros módulos de Spark.<br>- Escalabilidad y procesamiento distribuido. | - Algunos algoritmos pueden no ser tan avanzados como en otras bibliotecas ML.<br>- Puede requerir más ajustes manuales en comparación con bibliotecas especializadas.<br>- No siempre es la mejor opción para algoritmos de aprendizaje profundo avanzados. | from pyspark import SparkContext<br>from pyspark.mllib.regression import LabeledPoint<br>from pyspark.mllib.tree import RandomForest<br><br>sc = SparkContext(\"local\", \"Ejemplo MLlib\")<br>data = [(0.0, [0.0, 1.0]), (1.0, [1.0, 0.0])]  # Ejemplo de datos<br>rdd = sc.parallelize(data)<br>modelo = RandomForest.trainClassifier(rdd, numClasses=2, categoricalFeaturesInfo={},<br>                                     numTrees=1, featureSubsetStrategy=\"auto\", impurity='gini',<br>                                     maxDepth=2, maxBins=32)<br> |\n",
    "| GraphX          | Graph, VertexRDD, EdgeRDD, Algoritmos de Grafos        | - Análisis y procesamiento de grafos.<br>- Modelado de redes y relaciones.<br>- Algoritmos de minería de grafos. | - Eficiente para operaciones de grafos masivos.<br>- Integración con otros módulos de Spark.<br>- Procesamiento distribuido y escalabilidad. | - No es tan completo como otras bibliotecas de análisis de grafos en términos de algoritmos.<br>- Puede requerir un conocimiento más profundo de la teoría de grafos.<br>- Puede no ser tan rápido como bibliotecas especializadas en análisis de grafos. | from pyspark import SparkContext<br>from pyspark.graphx<br>import Graph<br><br>sc = SparkContext(\"local\", \"Ejemplo GraphX\")<br>vertices = sc.parallelize([(1, \"A\"), (2, \"B\"), (3, \"C\")])<br>edges = sc.parallelize([(1, 2, \"amigo\"), (2, 3, \"amigo\")])<br>grafo = Graph(vertices, edges)<br>grados = grafo.degrees.collect() |"
   ]
  },
  {
   "cell_type": "markdown",
   "metadata": {
    "id": "FXCMCO9MtRyh"
   },
   "source": [
    "# **INSTALAR Y VALIDAR MODULOS Y PAQUETES REQUERIDOS**"
   ]
  },
  {
   "cell_type": "code",
   "execution_count": null,
   "metadata": {
    "colab": {
     "base_uri": "https://localhost:8080/"
    },
    "id": "pL30Q7-rtlkl",
    "outputId": "095865df-710b-4dc0-e3e3-3e10bceecd0c",
    "tags": []
   },
   "outputs": [],
   "source": [
    "pip show pyspark"
   ]
  },
  {
   "cell_type": "markdown",
   "metadata": {
    "id": "KlF1QzPDtr2U"
   },
   "source": [
    "# **CREAR SESION DE SPARK**"
   ]
  },
  {
   "cell_type": "code",
   "execution_count": null,
   "metadata": {
    "colab": {
     "base_uri": "https://localhost:8080/",
     "height": 222
    },
    "id": "nTnmwWKRtuCk",
    "outputId": "c971c539-e0dc-406e-d7fa-96d858782a2f",
    "tags": []
   },
   "outputs": [],
   "source": [
    "from pyspark.sql import SparkSession\n",
    "\n",
    "spark_sesion = SparkSession  \\\n",
    "                  .builder  \\\n",
    "                  .master(\"local[*]\")  \\\n",
    "                  .appName('PySpark-Example') \\\n",
    "                  .getOrCreate()\n",
    "\n",
    "spark_sesion"
   ]
  },
  {
   "cell_type": "markdown",
   "metadata": {},
   "source": [
    "# <center> ACCEDIENDO LA INTERFACE DE SPARK\n",
    "# <center> http://localhost:4040"
   ]
  },
  {
   "cell_type": "markdown",
   "metadata": {},
   "source": [
    "<div style=\"text-align:center\">\n",
    "    <img src=\"imagenes/spark_ui_general.png\" alt=\"spark_ui\">\n",
    "</div>\n",
    "\n",
    "| Pestaña           | Descripción                                                                                        |\n",
    "|-------------------|---------------------------------------------------------------------------------------------------|\n",
    "| Jobs              | Muestra la lista de jobs que se han ejecutado en el clúster. Puedes ver el progreso, el estado y los detalles de cada job, incluidas las tareas que lo componen.              |\n",
    "| Stages            | Proporciona información detallada sobre los stages (etapas) que componen los jobs. Puedes ver el progreso de cada etapa, las tareas individuales y las estadísticas de tiempo.    |\n",
    "| Storage           | Muestra el estado de almacenamiento y la utilización de la memoria y el disco en el clúster. Puedes ver qué RDDs están en caché y su tamaño.                          |\n",
    "| Environment       | Ofrece información sobre el entorno de ejecución, como las variables de configuración y las propiedades utilizadas en la aplicación.                              |\n",
    "| Executors         | Muestra una lista de ejecutores en el clúster, junto con su estado, recursos asignados, tareas en ejecución y finalizadas.                                      |\n",
    "| SQL / DataFrame   | Proporciona información sobre las consultas SQL y las operaciones de DataFrame que se han realizado en la aplicación. Puedes ver el plan de ejecución y los detalles.  |\n",
    "\n",
    "Cada pestaña en la Spark UI brinda información valiosa sobre diferentes aspectos del trabajo en el clúster, lo que permite supervisar, depurar y optimizar tus aplicaciones de Spark de manera efectiva."
   ]
  },
  {
   "cell_type": "markdown",
   "metadata": {
    "id": "0z18W4ND3AuH"
   },
   "source": [
    "# **TERMINAR UNA SESION DE SPARK**"
   ]
  },
  {
   "cell_type": "code",
   "execution_count": null,
   "metadata": {
    "id": "PwF4k9GW2VNX",
    "tags": []
   },
   "outputs": [],
   "source": [
    "spark_sesion.stop()"
   ]
  },
  {
   "cell_type": "markdown",
   "metadata": {
    "id": "x-b8qhFv4oVg",
    "jp-MarkdownHeadingCollapsed": true
   },
   "source": [
    "# <center> **`SparkContext` vs `SparkSession`**\n",
    "\n",
    "| Aspecto             | `SparkContext`                                      | `SparkSession`                                |\n",
    "|---------------------|-----------------------------------------------------|-----------------------------------------------|\n",
    "| Propósito           | Gestión de la conexión y los recursos de Spark.     | Punto de entrada principal para trabajar con Spark. |\n",
    "| Disponibilidad      | Disponible desde versiones anteriores de Spark.     | Introducido en Spark 2.0 como punto de entrada simplificado. |\n",
    "| Funciones clave     | - Crear RDDs (Resilient Distributed Datasets).<br>- Crear y configurar el SparkConf.<br>- Acceder a funcionalidades básicas de Spark.<br>- Controlar la paralelización y distribución.<br>- No admite algunas características de alto nivel.<br>- Menos amigable para la API.<br>- Requiere administración manual de recursos.<br>- No maneja automáticamente sesiones de Spark SQL. | - Crear DataFrames y Datasets.<br>- Configurar opciones de Spark de manera más sencilla.<br>- Acceder a funciones de SQL, DataFrame y Dataset.<br>- Integrar funciones de SQL, Streaming, MLlib, etc.<br>- Admite todas las características de Spark.<br>- API más moderna y fácil de usar.<br>- Administración automatizada de recursos.<br>- Manejo automático de sesiones de Spark SQL. |\n",
    "| Uso en Spark SQL    | Requiere crear un `SQLContext` por separado.       | No es necesario crear un objeto adicional; `SparkSession` ya integra funcionalidad de Spark SQL. |\n",
    "| Interoperabilidad   | Puede haber problemas al usar varios `SparkContext` en la misma aplicación. | Más eficiente y recomendado para usar con múltiples funciones y bibliotecas de Spark. |\n",
    "| Integración con Hive | Requiere configuración adicional para acceder a Hive. | Integra automáticamente HiveContext para acceder a tablas de Hive. |\n",
    "| Uso en Spark Shell  | Disponible automáticamente como `sc`.              | Disponible automáticamente como `spark`.   |\n",
    "\n",
    "En versiones recientes de Spark, se recomienda utilizar `SparkSession` en lugar de `SparkContext`, ya que proporciona una interfaz más intuitiva y unificada para trabajar con todas las características de Spark."
   ]
  },
  {
   "cell_type": "markdown",
   "metadata": {},
   "source": [
    "# <center> **`TIPOS DE ABSTRACCIONES EN SPARK`**\n",
    "\n",
    "<table>\n",
    "  <tr>\n",
    "    <th>Característica</th>\n",
    "    <th>RDDs</th>\n",
    "    <th>DataFrames</th>\n",
    "    <th>Datasets</th>\n",
    "    <th>Spark SQL Engine</th>\n",
    "  </tr>\n",
    "  <tr>\n",
    "    <td>Paralelismo</td>\n",
    "    <td>Manual</td>\n",
    "    <td>Automático</td>\n",
    "    <td>Automático</td>\n",
    "    <td>Automático</td>\n",
    "  </tr>\n",
    "  <tr>\n",
    "    <td>Particionamiento</td>\n",
    "    <td>Recomendado Manual</td>\n",
    "    <td>Recomendado Automático</td>\n",
    "    <td>Recomendado Automático</td>\n",
    "    <td>Recomendado Automático</td>\n",
    "  </tr>\n",
    "  <tr>\n",
    "    <td>Tolerancia a fallos</td>\n",
    "    <td>Sí</td>\n",
    "    <td>Sí</td>\n",
    "    <td>Sí</td>\n",
    "    <td>Sí</td>\n",
    "  </tr>\n",
    "  <tr>\n",
    "    <td>Rendimiento</td>\n",
    "    <td>Medio</td>\n",
    "    <td>Alto</td>\n",
    "    <td>Alto</td>\n",
    "    <td>Alto</td>\n",
    "  </tr>\n",
    "  <tr>\n",
    "    <td>Uso de memoria</td>\n",
    "    <td>Alto</td>\n",
    "    <td>Alto</td>\n",
    "    <td>Medio</td>\n",
    "    <td>Medio</td>\n",
    "  </tr>\n",
    "  <tr>\n",
    "    <td>Optimización de memoria</td>\n",
    "    <td>No</td>\n",
    "    <td>Sí</td>\n",
    "    <td>Sí</td>\n",
    "    <td>Sí</td>\n",
    "  </tr>\n",
    "  <tr>\n",
    "    <td>Consultas SQL</td>\n",
    "    <td>No</td>\n",
    "    <td>Sí</td>\n",
    "    <td>Sí</td>\n",
    "    <td>Sí</td>\n",
    "  </tr>\n",
    "  <tr>\n",
    "    <td>Optimización de consultas</td>\n",
    "    <td>No</td>\n",
    "    <td>Sí</td>\n",
    "    <td>Sí</td>\n",
    "    <td>Sí</td>\n",
    "  </tr>\n",
    "  <tr>\n",
    "    <td>Motor de Optimización</td>\n",
    "    <td>No</td>\n",
    "    <td>Catalyst Engine</td>\n",
    "    <td>Catalyst Engine</td>\n",
    "    <td>Catalyst Engine</td>\n",
    "  </tr>\n",
    "  <tr>\n",
    "    <td>Interfaz</td>\n",
    "    <td>Scala, Java, Python, R</td>\n",
    "    <td>Scala, Java, Python, R</td>\n",
    "    <td>Scala, Java</td>\n",
    "    <td>SQL</td>\n",
    "  </tr>\n",
    "  <tr>\n",
    "    <td>Tipo de API</td>\n",
    "    <td>No tipado</td>\n",
    "    <td>Semi-tipado</td>\n",
    "    <td>Fuertemente tipado</td>\n",
    "    <td>Fuertemente tipado</td>\n",
    "  </tr>\n",
    "  <tr>\n",
    "    <td>Inmutabilidad</td>\n",
    "    <td>Sí</td>\n",
    "    <td>Sí</td>\n",
    "    <td>Sí</td>\n",
    "    <td>Sí</td>\n",
    "  </tr>\n",
    "  <tr>\n",
    "    <td>Usa Schema</td>\n",
    "    <td>No</td>\n",
    "    <td>SI</td>\n",
    "    <td>SI</td>\n",
    "    <td>SI</td>\n",
    "  </tr>\n",
    "  <tr>\n",
    "    <td>Conversión RDD</td>\n",
    "    <td></td>\n",
    "    <td><code>rdd.toDF()</code></td>\n",
    "    <td><code>rdd.toDS()</code></td>\n",
    "    <td></td>\n",
    "  </tr>\n",
    "  <tr>\n",
    "    <td>Conversión DataFrames</td>\n",
    "    <td><code>df.rdd</code></td>\n",
    "    <td></td>\n",
    "    <td><code>df.toDS()</code></td>\n",
    "    <td><code>df.createOrReplaceTempView(\"mi_tabla\")</code></td>\n",
    "  </tr>\n",
    "  <tr>\n",
    "    <td>Conversión Datasets</td>\n",
    "    <td><code>ds.rdd</code></td>\n",
    "    <td><code>ds.toDF()</code></td>\n",
    "    <td></td>\n",
    "    <td></td>\n",
    "  </tr>\n",
    "  <tr>\n",
    "    <td>Cuándo Usar</td>\n",
    "    <td>- Cuando se requiere un mayor control sobre la distribución\n",
    "\n",
    " y manipulación de los datos.<br>- Cuando se trabaja con tipos de datos no estructurados o no tabulares.<br>- Cuando se necesita compatibilidad con versiones anteriores de Spark.<br>- Cuando se realizan operaciones más complejas que no se pueden expresar fácilmente con DataFrames.<br>- Cuando se necesita una manipulación más directa de las particiones y la distribución de los datos.</td>\n",
    "    <td>- Cuando se requiere una manipulación estructurada y fácil de datos.<br>- Cuando se desea aprovechar la optimización de Catalyst Engine y la interfaz SQL.<br>- Cuando se trabaja con datos estructurados en un entorno de Big Data.<br>- Cuando se necesita una alta tolerancia a fallos y optimización de memoria.<br>- Cuando se prefiere un equilibrio entre rendimiento y manipulación estructurada de datos.</td>\n",
    "    <td>- Cuando se necesita una manipulación estructurada y fácil de datos.<br>- Cuando se desea aprovechar la optimización de Catalyst Engine y la interfaz SQL.<br>- Cuando se requiere un alto grado de tipado fuerte para garantizar la integridad de los datos.<br>- Cuando se busca un rendimiento óptimo en operaciones complejas.<br>- Cuando se trabaja con datos estructurados en un entorno de Big Data.</td>\n",
    "    <td>- Cuando se desea trabajar con tipos de datos estructurados y fuertemente tipados.<br>- Cuando se busca una combinación de rendimiento y manipulación estructurada de datos.<br>- Cuando se necesita una interfaz más amigable para la manipulación y el análisis de datos.<br>- Cuando se requiere una alta integridad de datos debido al tipado fuerte.<br>- Cuando se trabaja con datos estructurados en un entorno de Big Data.</td>\n",
    "  </tr>\n",
    "  <tr>\n",
    "    <td>Archivos Usados Regularmente</td>\n",
    "    <td>Archivos de Sequence, <br> Archivos de Datos en Bruto, <br> Archivos de Audio, <br> Archivos de Video, <br> Archivos de Texto, Imágenes, <br> Archivos de Log, <br> Archivos de Registro, <br> Archivos de Código Fuente, <br> Archivos de Registro de Sensores</td>\n",
    "    <td>JSON <br> CSV <br> Parquet <br> Avro <br> ORC <br> XML <br> XLSX <br> HTML <br> JSONL <br> PDF</td>\n",
    "    <td>Bases de Datos <br> Delta Lake <br> Avro <br> ORC <br> XML <br> Parquet <br> JSON <br> JSONL</td>\n",
    "    <td>Archivos CSV, <br> Archivos JSON, <br> Fuentes de Datos JDBC, <br> Fuentes de Datos Parquet, <br> Fuentes de Datos Avro, <br> Fuentes de Datos ORC, <br> Fuentes de Datos Delta Lake, <br> Fuentes de Datos Hive</td>\n",
    "  </tr>\n",
    "  <tr>\n",
    "    <td>Ejemplo</td>\n",
    "    <td><code>from pyspark import SparkContext<br>sc = SparkContext(\"local\", \"Ejemplo RDD\")<br>rdd = sc.parallelize([1, 2, 3, 4, 5])<br>sc.stop()</code></td>\n",
    "    <td><code>from pyspark.sql import SparkSession<br>spark = SparkSession.builder.appName(\"Ejemplo DataFrames\").getOrCreate()<br>df = spark.read.csv(\"datos.csv\", header=True, inferSchema=True)<br>spark.stop()</code></td>\n",
    "    <td><code>from pyspark.sql import SparkSession<br>spark = SparkSession.builder.appName(\"Ejemplo Datasets\").getOrCreate()<br>from pyspark.sql import Row<br>datos = [Row(nombre=\"Alice\", edad=25), Row(nombre=\"Bob\", edad=30)]<br>ds = spark.createDataFrame(datos)<br>spark.stop()</code></td>\n",
    "    <td><code>from pyspark.sql import SparkSession<br>spark = SparkSession.builder.appName(\"Ejemplo Spark SQL\").getOrCreate()<br>df.createOrReplaceTempView(\"mi_tabla\")<br>resultado = spark.sql(\"SELECT nombre, edad FROM mi_tabla WHERE edad > 25\")<br>spark.stop()</code></td>\n",
    "  </tr>\n",
    "</table>"
   ]
  },
  {
   "cell_type": "markdown",
   "metadata": {},
   "source": [
    "# <center> ¿Qué es un **Resilient Distributed Dataset** (RDD) en Spark?\n",
    "## Colección de elementos particionados entre los nodos del cluster que es tolerante a fallos y capaz de operar en paralelo.\n",
    "- Inmutables: estos no se pueden modificar una vez han sido creados.\n",
    "- Distribuidos: hace referencia a los RDD (Resilient Distributed Datasets) que están divididos en particiones que están repartidas en el clúster.\n",
    "- Resilientes: en caso de perder una partición, esta se regenera automáticamente.\n",
    "\n",
    "## Por otra parte, los RDDs se transforman, de manera que se crean nuevos RDD (Resilient Distributed Datasets) y estas transformaciones se aplican a los datos.\n",
    "\n",
    "### En definitiva, un RDD (Resilient Distributed Datasets) es trabajar con el conjunto de datos. Las rdd transformations pueden ser:\n",
    "\n",
    "- Narrow: no necesitan intercambio de información entre los nodos del clúster.\n",
    "- Wide: necesitan intercambio de información entre los nodos del clúster."
   ]
  },
  {
   "cell_type": "markdown",
   "metadata": {},
   "source": [
    "<div style=\"text-align:center\">\n",
    "    <img src=\"imagenes/spark_rdd.png\" alt=\"RDDs\">\n",
    "</div>"
   ]
  },
  {
   "cell_type": "markdown",
   "metadata": {},
   "source": [
    "# <center> BROADCAST HASH JOIN & SHUFFLE HASH JOIN\n",
    "\n",
    "| Aspecto               | Broadcast Hash Join                                         | Shuffle Hash Join                                        |\n",
    "|-----------------------|-------------------------------------------------------------|---------------------------------------------------------|\n",
    "| Aplicación            | RDDs pequeños.                                              | RDDs grandes.                                      |\n",
    "| Tipo de Join          | Join entre un RDD pequeño y uno grande.                    | Join entre RDDs de cualquier tamaño.                   |\n",
    "| Distribución de Datos | El RDD pequeño se transmite a todos los nodos.             | Se redistribuyen los datos para coincidir en particiones.|\n",
    "| Uso de Memoria        | Utiliza memoria para almacenar el RDD pequeño en cada nodo.| Requiere menos memoria, ya que no almacena todo el RDD. |\n",
    "| Ventajas              | - Eficiente para RDDs pequeños.<br>- Reduce la necesidad de shuffling.<br>- Apropiado cuando el RDD pequeño cabe en memoria.<br>- Menos costo en términos de tiempo en comparación con Shuffle Join. | - Funciona bien para RDDs grandes.<br>- Maneja RDDs de cualquier tamaño.<br>- Evita problemas de sobrecarga de memoria.<br>- Distribuye la carga de manera más uniforme.   |\n",
    "| Desventajas           | - Limitado por el tamaño de memoria para el RDD pequeño.<br>- Ineficiente para RDDs pequeños si no hay espacio suficiente en memoria.<br>- No adecuado para RDDs pequeños que no quepan en memoria. | - Puede generar shuffling costoso para RDDs grandes.<br>- Puede ser menos eficiente para RDDs pequeños. |"
   ]
  },
  {
   "cell_type": "markdown",
   "metadata": {},
   "source": [
    "<div style=\"text-align:center\">\n",
    "    <img src=\"imagenes/spark_broadcast_shuffle_hash_join.png\" alt=\"spark_broadcast_hash_join\">\n",
    "</div>"
   ]
  },
  {
   "cell_type": "markdown",
   "metadata": {
    "tags": []
   },
   "source": [
    "<div style=\"text-align:center\">\n",
    "    <img src=\"imagenes/spark_core.png\" alt=\"spark_core\">\n",
    "</div>"
   ]
  },
  {
   "cell_type": "markdown",
   "metadata": {},
   "source": [
    "<div style=\"text-align:center\">\n",
    "    <img src=\"imagenes/spark_catalist.png\" alt=\"spark_catalist\">\n",
    "</div>"
   ]
  },
  {
   "cell_type": "markdown",
   "metadata": {
    "id": "Eb1fCjsEi5bG"
   },
   "source": [
    "![image.png](data:image/png;base64,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)"
   ]
  },
  {
   "cell_type": "markdown",
   "metadata": {
    "id": "XYfR7Fl43b-t"
   },
   "source": [
    "# **FUNCIONES PARA USO DE SESION**"
   ]
  },
  {
   "cell_type": "code",
   "execution_count": null,
   "metadata": {
    "id": "43oEwdRy3JTv",
    "tags": []
   },
   "outputs": [],
   "source": [
    "from utils.sesiones_spark import crear_sesion_spark\n",
    "from utils.sesiones_spark import crear_spark_context_de_spark_sesion\n",
    "from utils.sesiones_spark import crear_nueva_sesion_spark\n",
    "from utils.sesiones_spark import crear_spark_context\n",
    "from utils.sesiones_spark import cerrar_sesion_context"
   ]
  },
  {
   "cell_type": "markdown",
   "metadata": {
    "id": "B7JsJXuk6G9u"
   },
   "source": [
    "# **CREAR CONTEXTO DE SPARK Y SESION DE SPARK**"
   ]
  },
  {
   "cell_type": "markdown",
   "metadata": {
    "id": "YBG8TeAO-NUm"
   },
   "source": [
    "## **SparkContext** PARA RDD"
   ]
  },
  {
   "cell_type": "code",
   "execution_count": null,
   "metadata": {
    "colab": {
     "base_uri": "https://localhost:8080/",
     "height": 199
    },
    "id": "pnVyWtBR5fuJ",
    "outputId": "674c4e4d-d02a-4e5b-9660-10c24a9128df",
    "tags": []
   },
   "outputs": [],
   "source": [
    "spark_context = crear_spark_context_de_spark_sesion()\n",
    "spark_context"
   ]
  },
  {
   "cell_type": "markdown",
   "metadata": {
    "id": "2fTbtvV0-mMJ"
   },
   "source": [
    "# **CREAR UN RDD VACIO**"
   ]
  },
  {
   "cell_type": "code",
   "execution_count": null,
   "metadata": {
    "colab": {
     "base_uri": "https://localhost:8080/"
    },
    "id": "HNziMEeH-sLc",
    "outputId": "50b68d19-d0b5-40b0-ec96-b22af2f5e5aa",
    "tags": []
   },
   "outputs": [],
   "source": [
    "rdd_vacio = spark_context.emptyRDD()\n",
    "rdd_vacio"
   ]
  },
  {
   "cell_type": "markdown",
   "metadata": {},
   "source": [
    "# **CREAR UN RDD CON DATOS**"
   ]
  },
  {
   "cell_type": "code",
   "execution_count": null,
   "metadata": {
    "tags": []
   },
   "outputs": [],
   "source": [
    "from utils.muestras import generar_muestra\n",
    "\n",
    "tamano_muestra = 10\n",
    "muestra, labels = generar_muestra(tamano_muestra)\n",
    "\n",
    "rdd = spark_context.parallelize(muestra)\n",
    "rdd"
   ]
  },
  {
   "cell_type": "markdown",
   "metadata": {
    "id": "0k5hiNKaAAu3"
   },
   "source": [
    "# **RECUPERAR DATOS DE UN RDD**"
   ]
  },
  {
   "cell_type": "code",
   "execution_count": null,
   "metadata": {
    "colab": {
     "base_uri": "https://localhost:8080/"
    },
    "id": "6ZPwzogvBqAA",
    "outputId": "4c0c7f4a-c550-49c6-a449-2a0ce696e73f",
    "tags": []
   },
   "outputs": [],
   "source": [
    "rdd_vacio.collect()"
   ]
  },
  {
   "cell_type": "markdown",
   "metadata": {},
   "source": [
    "# VER LOS JOBs de los RDDs EN SPARK UI\n",
    "### http://localhost:4040/jobs/"
   ]
  },
  {
   "cell_type": "code",
   "execution_count": null,
   "metadata": {
    "colab": {
     "base_uri": "https://localhost:8080/"
    },
    "id": "ht76o_T4AM1O",
    "outputId": "3beccf97-2bcb-4006-e656-0151ac142beb",
    "scrolled": true,
    "tags": []
   },
   "outputs": [],
   "source": [
    "rdd.collect()"
   ]
  },
  {
   "cell_type": "markdown",
   "metadata": {},
   "source": [
    "# VER LOS Stages de los RDDs EN SPARK UI, cuando el collect retorna algo\n",
    "### http://localhost:4040/stages"
   ]
  },
  {
   "cell_type": "markdown",
   "metadata": {},
   "source": [
    "# OTRA FORMA DE **RECUPERAR LOS ELEMENTOS DE UN RDD**"
   ]
  },
  {
   "cell_type": "markdown",
   "metadata": {
    "id": "Pwzva8ssBTZO"
   },
   "source": [
    "## **RECUPERAR LOS PRIMEROS ELEMENTOS DE UN RDD**"
   ]
  },
  {
   "cell_type": "code",
   "execution_count": null,
   "metadata": {
    "colab": {
     "base_uri": "https://localhost:8080/"
    },
    "id": "iJyirNGD_3vO",
    "outputId": "c09b0b7f-f513-4946-f7c3-504591681990",
    "tags": []
   },
   "outputs": [],
   "source": [
    "rdd.take(5)"
   ]
  },
  {
   "cell_type": "markdown",
   "metadata": {
    "id": "n80ZkjXVBehG"
   },
   "source": [
    "## **RECUPERAR LOS ULTIMOS ELEMENTOS DE UN RDD**"
   ]
  },
  {
   "cell_type": "code",
   "execution_count": null,
   "metadata": {},
   "outputs": [],
   "source": [
    "# crea una tupla de RDD e indice para ordenarlos basado en indices\n",
    "rdd_con_indices = rdd.zipWithIndex()\n",
    "\n",
    "# ordena las ROWS del RDD basado en los indices\n",
    "reversed_rdd = rdd_con_indices.sortBy(lambda x: x[1], ascending=False)\n",
    "\n",
    "# imprime las ROWs en orden inverso\n",
    "for element in reversed_rdd.take(5):\n",
    "    print(element[0])"
   ]
  },
  {
   "cell_type": "markdown",
   "metadata": {},
   "source": [
    "# INVIERTE LOS ELEMENTOS DE CADA ROW"
   ]
  },
  {
   "cell_type": "code",
   "execution_count": null,
   "metadata": {
    "scrolled": true
   },
   "outputs": [],
   "source": [
    "# Invierte el RDD\n",
    "inverted_rdd = rdd.map(lambda x: tuple(reversed(x)))\n",
    "\n",
    "# Toma los últimos 3 elementos invertidos, que serán los últimos 3 elementos del RDD original\n",
    "elements = inverted_rdd.take(5)\n",
    "elements"
   ]
  },
  {
   "cell_type": "code",
   "execution_count": null,
   "metadata": {},
   "outputs": [],
   "source": [
    "rdd.take(5)"
   ]
  },
  {
   "cell_type": "markdown",
   "metadata": {
    "tags": []
   },
   "source": [
    "# VER LOS RDDs EN SPARK UI, solo los persistidos NO los que se procesaron en cache\n",
    "### http://localhost:4040/storage"
   ]
  },
  {
   "cell_type": "code",
   "execution_count": null,
   "metadata": {
    "tags": []
   },
   "outputs": [],
   "source": [
    "# Mantén el RDD en memoria para que sea visible en la Spark UI\n",
    "rdd.persist()"
   ]
  },
  {
   "cell_type": "markdown",
   "metadata": {},
   "source": [
    "# EJECUTAR LA ACCION, sino no se ve el RDD"
   ]
  },
  {
   "cell_type": "code",
   "execution_count": null,
   "metadata": {
    "tags": []
   },
   "outputs": [],
   "source": [
    "print(rdd.collect())"
   ]
  },
  {
   "cell_type": "markdown",
   "metadata": {},
   "source": [
    "# ¿Qué es un DataFrame en Spark?\n",
    "## Los DataFrames son conjuntos de datos distribuidos y organizados por columnas que pueden ser construidos a partir de diversas fuentes de datos como Cassandra, HIVE, Elastic Search, JDBC, estructuras de Pandas, ficheros csv, json, avro, etc. o directamente desde un RDD ya existente."
   ]
  },
  {
   "cell_type": "markdown",
   "metadata": {},
   "source": [
    "# CONVERTIR UN RDD EN UN DATAFRAME"
   ]
  },
  {
   "cell_type": "code",
   "execution_count": null,
   "metadata": {
    "tags": []
   },
   "outputs": [],
   "source": [
    "# Creamos un DataFrame y mostramos su esquema\n",
    "dfRDD = rdd.toDF()\n",
    "\n",
    "print(dfRDD.printSchema())\n",
    "dfRDD.show()"
   ]
  },
  {
   "cell_type": "markdown",
   "metadata": {},
   "source": [
    "# PONER NOMBRES A COLUMNAS DE UN DATAFRAME"
   ]
  },
  {
   "cell_type": "code",
   "execution_count": null,
   "metadata": {
    "tags": []
   },
   "outputs": [],
   "source": [
    "columnas = labels\n",
    "\n",
    "# ASIGNA NOMBRES A LAS COLUMNAS\n",
    "dfRDD = rdd.toDF(columnas)\n",
    "print(dfRDD.printSchema())\n",
    "dfRDD.show()"
   ]
  },
  {
   "cell_type": "markdown",
   "metadata": {
    "id": "xmz8_yns-WZF"
   },
   "source": [
    "## **SparkSession** PARA DATAFRAMES Y DATASETS"
   ]
  },
  {
   "cell_type": "code",
   "execution_count": null,
   "metadata": {
    "colab": {
     "base_uri": "https://localhost:8080/",
     "height": 222
    },
    "id": "dhTspISA6inF",
    "outputId": "7c915b52-e0bc-4618-982b-b91720919642",
    "tags": []
   },
   "outputs": [],
   "source": [
    "spark_sesion = crear_sesion_spark()\n",
    "spark_sesion"
   ]
  },
  {
   "cell_type": "markdown",
   "metadata": {},
   "source": [
    "# CREAR UN DATAFRAME DIRECTAMENTE"
   ]
  },
  {
   "cell_type": "code",
   "execution_count": null,
   "metadata": {},
   "outputs": [],
   "source": [
    "df = spark_sesion.createDataFrame(data=muestra, schema=labels, verifySchema=True)\n",
    "df.show()"
   ]
  },
  {
   "cell_type": "markdown",
   "metadata": {},
   "source": [
    "# <center> SQL\n",
    "# <center> http://localhost:4040/SQL/"
   ]
  },
  {
   "cell_type": "code",
   "execution_count": null,
   "metadata": {
    "tags": []
   },
   "outputs": [],
   "source": [
    "dfRDD.select(\"nombre\",'salario').where(\"salario > 2000\").orderBy(\"nombre\").limit(5).show()"
   ]
  },
  {
   "cell_type": "markdown",
   "metadata": {},
   "source": [
    "# <center> AGRUPAR"
   ]
  },
  {
   "cell_type": "code",
   "execution_count": null,
   "metadata": {
    "tags": []
   },
   "outputs": [],
   "source": [
    "from pyspark.sql.functions import avg, col\n",
    "\n",
    "promedio_salarios_por_ciudad = dfRDD.filter(col(\"salario\")>0).groupBy(\"seccion\").agg(avg(\"salario\").alias(\"SalarioPromedio\"))\n",
    "promedio_salarios_por_ciudad.show()"
   ]
  },
  {
   "cell_type": "markdown",
   "metadata": {},
   "source": [
    "# <center> PLAN DE EJECUCION"
   ]
  },
  {
   "cell_type": "code",
   "execution_count": null,
   "metadata": {},
   "outputs": [],
   "source": [
    "promedio_salarios_por_ciudad.explain(extended=True)"
   ]
  },
  {
   "cell_type": "code",
   "execution_count": null,
   "metadata": {},
   "outputs": [],
   "source": [
    "from utils.muestras import generar_muestra\n",
    "\n",
    "tamano_muestra = 10\n",
    "muestra = generar_muestra(tamano_muestra)\n",
    "for tupla in muestra:\n",
    "    print(tupla)\n"
   ]
  },
  {
   "cell_type": "code",
   "execution_count": null,
   "metadata": {},
   "outputs": [],
   "source": [
    "rdd = spark_context.parallelize(muestra)"
   ]
  },
  {
   "cell_type": "code",
   "execution_count": null,
   "metadata": {},
   "outputs": [],
   "source": [
    "rdd.toDF()"
   ]
  },
  {
   "cell_type": "markdown",
   "metadata": {},
   "source": [
    "# PLAN DE MIGRACION"
   ]
  },
  {
   "cell_type": "markdown",
   "metadata": {},
   "source": [
    "# CREAR SESION SPARK"
   ]
  },
  {
   "cell_type": "code",
   "execution_count": 1,
   "metadata": {
    "tags": []
   },
   "outputs": [
    {
     "name": "stderr",
     "output_type": "stream",
     "text": [
      "Setting default log level to \"WARN\".\n",
      "To adjust logging level use sc.setLogLevel(newLevel). For SparkR, use setLogLevel(newLevel).\n",
      "23/09/13 02:45:57 WARN NativeCodeLoader: Unable to load native-hadoop library for your platform... using builtin-java classes where applicable\n"
     ]
    },
    {
     "data": {
      "text/html": [
       "\n",
       "            <div>\n",
       "                <p><b>SparkSession - in-memory</b></p>\n",
       "                \n",
       "        <div>\n",
       "            <p><b>SparkContext</b></p>\n",
       "\n",
       "            <p><a href=\"http://bc1b81c7e07f:4040\">Spark UI</a></p>\n",
       "\n",
       "            <dl>\n",
       "              <dt>Version</dt>\n",
       "                <dd><code>v3.4.1</code></dd>\n",
       "              <dt>Master</dt>\n",
       "                <dd><code>local[*]</code></dd>\n",
       "              <dt>AppName</dt>\n",
       "                <dd><code>Generar Datos Aleatorios</code></dd>\n",
       "            </dl>\n",
       "        </div>\n",
       "        \n",
       "            </div>\n",
       "        "
      ],
      "text/plain": [
       "<pyspark.sql.session.SparkSession at 0x7f00f92e4fd0>"
      ]
     },
     "execution_count": 1,
     "metadata": {},
     "output_type": "execute_result"
    }
   ],
   "source": [
    "from pyspark.sql import SparkSession\n",
    "\n",
    "# Crear una instancia de SparkSession\n",
    "spark = SparkSession.builder.appName(\"Generar Datos Aleatorios\").getOrCreate()\n",
    "spark"
   ]
  },
  {
   "cell_type": "markdown",
   "metadata": {},
   "source": [
    "# GENERAR DATOS DE PRUEBA"
   ]
  },
  {
   "cell_type": "code",
   "execution_count": 2,
   "metadata": {
    "tags": []
   },
   "outputs": [
    {
     "name": "stderr",
     "output_type": "stream",
     "text": [
      "                                                                                \r"
     ]
    },
    {
     "name": "stdout",
     "output_type": "stream",
     "text": [
      "+---+----------+--------+------+-------+----------+\n",
      "| id|      date|producto|ventas| region|continente|\n",
      "+---+----------+--------+------+-------+----------+\n",
      "|  1|2023-11-01|       E|    77|  Norte|   Oceania|\n",
      "|  2|2023-01-01|       O|    93|  Norte|   America|\n",
      "|  3|2023-12-01|       O|    99|  Norte|    Europa|\n",
      "|  4|2023-07-01|       U|    98|  Norte|   Oceania|\n",
      "|  5|2023-02-01|       E|    95|  Oeste|      Asia|\n",
      "|  6|2023-04-01|       A|    77|    Sur|   America|\n",
      "|  7|2023-04-01|       E|    79|   Este|      Asia|\n",
      "|  8|2023-11-01|       E|    69|  Norte|   America|\n",
      "|  9|2023-02-01|       U|    68|   Este|      Asia|\n",
      "| 10|2023-12-01|       O|    56|  Norte|    Europa|\n",
      "| 11|2023-08-01|       I|    86|    Sur|   Oceania|\n",
      "| 12|2023-01-01|       O|    79|    Sur|      Asia|\n",
      "| 13|2023-11-01|       U|    66|  Oeste|      Asia|\n",
      "| 14|2023-02-01|       E|    87|  Oeste|      Asia|\n",
      "| 15|2023-07-01|       U|    66|Central|   America|\n",
      "| 16|2023-01-01|       E|    73|  Norte|    Africa|\n",
      "| 17|2023-06-01|       I|    95|   Este|    Africa|\n",
      "| 18|2023-06-01|       U|    90|    Sur|   Oceania|\n",
      "| 19|2023-09-01|       A|    73|    Sur|   Oceania|\n",
      "| 20|2023-05-01|       A|    83|   Este|      Asia|\n",
      "+---+----------+--------+------+-------+----------+\n",
      "only showing top 20 rows\n",
      "\n"
     ]
    }
   ],
   "source": [
    "import random\n",
    "from datetime import datetime, timedelta\n",
    "\n",
    "def generar_datos_aleatorios_con_regiones_y_productos_spark(spark, n):\n",
    "    data = []\n",
    "    fecha_base = datetime(2023, 1, 1)  # Fecha base con día 1 de enero de 2023\n",
    "\n",
    "    # Lista de continentes y sus regiones\n",
    "    continentes = {\n",
    "        \"America\": [\"Norte\", \"Sur\", \"Central\"],\n",
    "        \"Europa\": [\"Norte\", \"Sur\", \"Este\", \"Oeste\"],\n",
    "        \"Asia\": [\"Este\", \"Oeste\", \"Sur\"],\n",
    "        \"Africa\": [\"Norte\", \"Sur\", \"Este\", \"Oeste\"],\n",
    "        \"Oceania\": [\"Norte\", \"Sur\"]\n",
    "    }\n",
    "\n",
    "    # Lista de productos\n",
    "    productos = [\"A\", \"E\", \"I\", \"O\", \"U\"]\n",
    "\n",
    "    for i in range(1, n + 1):\n",
    "        # Generar una fecha con mes aleatorio y día 1\n",
    "        mes_aleatorio = random.randint(1, 12)  # Genera un número entre 1 y 12 para el mes\n",
    "        fecha = fecha_base.replace(month=mes_aleatorio)\n",
    "\n",
    "        # Generar un valor de ventas aleatorio entre 0 y 100\n",
    "        ventas = random.randint(50, 100)\n",
    "\n",
    "        # Seleccionar aleatoriamente un continente\n",
    "        continente = random.choice(list(continentes.keys()))\n",
    "\n",
    "        # Seleccionar aleatoriamente una región dentro del continente\n",
    "        region = random.choice(continentes[continente])\n",
    "\n",
    "        # Seleccionar aleatoriamente un producto\n",
    "        producto = random.choice(productos)\n",
    "\n",
    "        data.append((i, fecha.strftime('%Y-%m-%d'), producto, ventas, region, continente))\n",
    "\n",
    "    # Crear un DataFrame de Spark a partir de la lista de datos\n",
    "    df = spark.createDataFrame(data, [\"id\", \"date\", \"producto\", \"ventas\", \"region\", \"continente\"])\n",
    "\n",
    "    return df\n",
    "\n",
    "\n",
    "# Ejemplo de uso para generar un DataFrame de 4 filas con productos\n",
    "n = 100\n",
    "datos_aleatorios_spark = generar_datos_aleatorios_con_regiones_y_productos_spark(spark, n)\n",
    "\n",
    "# Mostrar el DataFrame generado\n",
    "datos_aleatorios_spark.show()"
   ]
  },
  {
   "cell_type": "markdown",
   "metadata": {
    "tags": []
   },
   "source": [
    "# PARTICIONAR BASADO EN COLUMNA"
   ]
  },
  {
   "cell_type": "code",
   "execution_count": 4,
   "metadata": {
    "tags": []
   },
   "outputs": [
    {
     "name": "stderr",
     "output_type": "stream",
     "text": [
      "[Stage 1:>                                                          (0 + 2) / 2]\r"
     ]
    },
    {
     "name": "stdout",
     "output_type": "stream",
     "text": [
      "se ha completado las particiones usando ['producto', 'date', 'continente', 'region'], como columnas para la division de los datos\n",
      "los archivos particionados estan en el directorio : /content/particionar_por_columnas\n"
     ]
    },
    {
     "name": "stderr",
     "output_type": "stream",
     "text": [
      "                                                                                \r"
     ]
    }
   ],
   "source": [
    "def particionar_basado_en_columnas(spark_dataframe, lista_columnas_particionar, formato_particion_archivo, path_a_exportar):\n",
    "\n",
    "  # Particionar el DataFrame y guardar en formato requerido\n",
    "  spark_dataframe.write.partitionBy(lista_columnas_particionar).mode(\"overwrite\").format(formato_particion_archivo).save(path_a_exportar)\n",
    "\n",
    "  print(f'se ha completado las particiones usando {lista_columnas_particionar}, como columnas para la division de los datos')\n",
    "  print(f'los archivos particionados estan en el directorio : {path_a_exportar}')\n",
    "\n",
    "# dataframe de spark para usar en las particiones\n",
    "spark_dataframe = datos_aleatorios_spark\n",
    "\n",
    "# orden de las columnas a usar para el particionado\n",
    "lista_columnas_particionar = [\"producto\", \"date\",\"continente\", \"region\"]\n",
    "\n",
    "# Especificar el formato a usar para exportar\n",
    "formato_particion_archivo = 'parquet'\n",
    "\n",
    "# Especificar la ruta de destino\n",
    "path_a_exportar = '/content/particionar_por_columnas'\n",
    "\n",
    "# particionar basaso en los anteriores parametros\n",
    "particionar_basado_en_columnas(spark_dataframe, lista_columnas_particionar, formato_particion_archivo, path_a_exportar)"
   ]
  },
  {
   "cell_type": "markdown",
   "metadata": {},
   "source": [
    "# PARTICIONAR BASADO EN UN NUMERO DEFINIDO DE PARTICIONES"
   ]
  },
  {
   "cell_type": "code",
   "execution_count": 5,
   "metadata": {
    "tags": []
   },
   "outputs": [
    {
     "name": "stderr",
     "output_type": "stream",
     "text": [
      "                                                                                \r"
     ]
    },
    {
     "name": "stdout",
     "output_type": "stream",
     "text": [
      "se ha completado las particiones usando un total de 5 particiones\n",
      "los archivos particionados estan en el directorio : /content/particionar_por_particiones_definidas\n"
     ]
    }
   ],
   "source": [
    "def particionar_basado_en_total_particiones_definidas(spark_dataframe, formato_particion_archivo, path_a_exportar, maximas_particiones = 2):\n",
    "\n",
    "  # Particionar el DataFrame y guardar en formato Avro\n",
    "  spark_dataframe_particionado = spark_dataframe.repartition(maximas_particiones)\n",
    "\n",
    "  # Guarda el DataFrame en la ruta especificada en el formato requerido\n",
    "  spark_dataframe_particionado.write.mode(\"overwrite\").format(formato_particion_archivo).save(path_a_exportar)\n",
    "\n",
    "  print(f'se ha completado las particiones usando un total de {maximas_particiones} particiones')\n",
    "  print(f'los archivos particionados estan en el directorio : {path_a_exportar}')\n",
    "\n",
    "# dataframe de spark para usar en las particiones\n",
    "spark_dataframe = datos_aleatorios_spark\n",
    "\n",
    "# Especificar el formato a usar para exportar\n",
    "formato_particion_archivo = 'orc'\n",
    "\n",
    "# Especificar la ruta de destino\n",
    "path_a_exportar = '/content/particionar_por_particiones_definidas'\n",
    "\n",
    "# orden de las columnas a usar para el particionado\n",
    "maximas_particiones = 5\n",
    "\n",
    "# particionar basaso en los anteriores parametros\n",
    "particionar_basado_en_total_particiones_definidas(spark_dataframe, formato_particion_archivo, path_a_exportar, maximas_particiones)"
   ]
  },
  {
   "cell_type": "markdown",
   "metadata": {},
   "source": [
    "# GENERADOR DE SHA-512 DESDE UN ARCHIVO, DIRECTORIO O DATAFRAME"
   ]
  },
  {
   "cell_type": "code",
   "execution_count": 6,
   "metadata": {
    "tags": []
   },
   "outputs": [],
   "source": [
    "import hashlib\n",
    "\n",
    "def generar_sha_archivo(ruta_del_archivo=None, dataframe=None):\n",
    "\n",
    "  if ruta_del_archivo:\n",
    "    # Leer el archivo original\n",
    "    with open(ruta_archivo_original, \"rb\") as f:\n",
    "        contenido_original = f.read()\n",
    "    # Calcular el hash SHA-512 del contenido original\n",
    "    hash_calculado = hashlib.sha512(contenido_original).hexdigest()\n",
    "\n",
    "  elif dataframe:\n",
    "      # Asegurarse de que el contenido sea de tipo bytes antes de calcular el hash\n",
    "      contenido_bytes = dataframe.encode()\n",
    "      # Calcular el hash SHA-512 del contenido original\n",
    "      hash_calculado = hashlib.sha512(contenido_bytes).hexdigest()\n",
    "\n",
    "  return hash_calculado"
   ]
  },
  {
   "cell_type": "markdown",
   "metadata": {},
   "source": [
    "# LEER ARCHIVOS Y CREAR DATAFRAMES"
   ]
  },
  {
   "cell_type": "code",
   "execution_count": 7,
   "metadata": {
    "tags": []
   },
   "outputs": [],
   "source": [
    "def leer_archivo_y_crear_dataframe(instancia_spark, formato_particion_archivo, path_a_leer, header=True, inferSchema=True):\n",
    "\n",
    "  dataframe_creado = instancia_spark.read.format(formato_particion_archivo).option(\"header\", header).option(\"inferSchema\", inferSchema).load(path_a_leer)\n",
    "\n",
    "  return dataframe_creado"
   ]
  },
  {
   "cell_type": "markdown",
   "metadata": {},
   "source": [
    "# CREAR UN ARCHIVO A PARTIR DE UN DATAFRAME"
   ]
  },
  {
   "cell_type": "code",
   "execution_count": 8,
   "metadata": {
    "tags": []
   },
   "outputs": [],
   "source": [
    "def reconstruir_archivo_desde_particiones(spark_dataframe, formato_particion_archivo, path_a_exportar_reconstruido):\n",
    "\n",
    "  # Guarda el DataFrame en la ruta especificada en el formato requerido\n",
    "  spark_dataframe.write.mode(\"overwrite\").format(formato_particion_archivo).save(path_a_exportar_reconstruido)\n",
    "  print(f'el archivo reconstruido estan en el directorio : {path_a_exportar_reconstruido}')"
   ]
  },
  {
   "cell_type": "markdown",
   "metadata": {},
   "source": [
    "# Paso 1: Leer un Archivo de X Megabytes y Crear un dataframe de Spark"
   ]
  },
  {
   "cell_type": "code",
   "execution_count": null,
   "metadata": {},
   "outputs": [],
   "source": [
    "instancia_spark = spark\n",
    "\n",
    "# ruta donde esta el archivo a leer\n",
    "ruta_archivo_original = \"/content/sample_data/california_housing_train.csv\"\n",
    "formato_particion_archivo = 'csv'\n",
    "path_a_leer = ruta_archivo_original\n",
    "\n",
    "df_original = leer_archivo_y_crear_dataframe(instancia_spark, formato_particion_archivo, path_a_leer, header=True, inferSchema=True)\n",
    "df_original.show()"
   ]
  },
  {
   "cell_type": "markdown",
   "metadata": {},
   "source": [
    "# Paso 2: Dividir el Archivo y Guardar las Particiones en el formato de particiones definido"
   ]
  },
  {
   "cell_type": "code",
   "execution_count": null,
   "metadata": {},
   "outputs": [],
   "source": [
    "# dataframe de spark para usar en las particiones\n",
    "spark_dataframe = df_original\n",
    "\n",
    "# Especificar el formato a usar para exportar\n",
    "formato_particion_archivo = 'orc'\n",
    "\n",
    "# Especificar la ruta de destino\n",
    "path_a_exportar = '/content/particionar_por_particiones_definidas_archivo'\n",
    "\n",
    "# orden de las columnas a usar para el particionado\n",
    "maximas_particiones = 5\n",
    "\n",
    "# particionar basaso en los anteriores parametros\n",
    "particionar_basado_en_total_particiones_definidas(spark_dataframe, formato_particion_archivo, path_a_exportar, maximas_particiones)"
   ]
  },
  {
   "cell_type": "markdown",
   "metadata": {},
   "source": [
    "# Paso 3: Reconstruir el Archivo ORIGINAL EN UN DATAFRAME"
   ]
  },
  {
   "cell_type": "code",
   "execution_count": null,
   "metadata": {},
   "outputs": [],
   "source": [
    "instancia_spark = spark\n",
    "path_a_leer = path_a_exportar\n",
    "\n",
    "df_reconstruido = leer_archivo_y_crear_dataframe(instancia_spark, formato_particion_archivo, path_a_leer, header=True, inferSchema=True)\n",
    "df_reconstruido.show()"
   ]
  },
  {
   "cell_type": "markdown",
   "metadata": {},
   "source": [
    "# PASO 4 CREA EL ARCHIVO A PARTIR DEL DATAFRAME PARA COMPARAR HASH"
   ]
  },
  {
   "cell_type": "code",
   "execution_count": null,
   "metadata": {},
   "outputs": [],
   "source": [
    "spark_dataframe = df_reconstruido\n",
    "\n",
    "formato_particion_archivo = 'csv'\n",
    "\n",
    "# Paso 4: Escribir el DataFrame reconstruido en un archivo con el formato elegido\n",
    "ruta_archivo_reconstruido = f\"/content/archivos_generado/archivo_reconstruido.{formato_particion_archivo}\"\n",
    "path_a_exportar_reconstruido = ruta_archivo_reconstruido\n",
    "\n",
    "reconstruir_archivo_desde_particiones(spark_dataframe, formato_particion_archivo, path_a_exportar_reconstruido)"
   ]
  },
  {
   "cell_type": "markdown",
   "metadata": {},
   "source": [
    "# PASO 5 CALCULA LOS HASHES DE LOS ARCHIVO ORIGINAL Y EL RECONSTRUIDO DE PARTICIONES\n",
    "# COMPARA LOS HASH PARA VALIDAR LA INTEGRIDAD DE LA INFORMACION"
   ]
  },
  {
   "cell_type": "code",
   "execution_count": null,
   "metadata": {},
   "outputs": [],
   "source": [
    "# Paso 1: Calcular el hash del archivo original\n",
    "hash_original = generar_sha_archivo(ruta_archivo_original)\n",
    "print(\"Hash Archivo Original:\", hash_original)\n",
    "\n",
    "df_reconstruido = leer_archivo_y_crear_dataframe(instancia_spark, formato_particion_archivo, path_a_leer, header=True, inferSchema=True)\n",
    "\n",
    "# Paso 5: Calcular el hash del archivo CSV reconstruido\n",
    "hash_reconstruido = generar_sha_archivo(ruta_del_archivo=ruta_archivo_reconstruido)\n",
    "print(\"Hash Archivo Reconstruido:\", hash_reconstruido)\n",
    "\n",
    "# Paso 4: Comparar los hashes para validar la integridad\n",
    "if hash_original == hash_reconstruido:\n",
    "    print(\"\\nLa reconstrucción es exitosa. Los hashes coinciden.\")\n",
    "else:\n",
    "    print(\"\\nLa reconstrucción ha fallado. Los hashes no coinciden.\")"
   ]
  }
 ],
 "metadata": {
  "colab": {
   "provenance": []
  },
  "kernelspec": {
   "display_name": "Python 3 (ipykernel)",
   "language": "python",
   "name": "python3"
  },
  "language_info": {
   "codemirror_mode": {
    "name": "ipython",
    "version": 3
   },
   "file_extension": ".py",
   "mimetype": "text/x-python",
   "name": "python",
   "nbconvert_exporter": "python",
   "pygments_lexer": "ipython3",
   "version": "3.10.13"
  }
 },
 "nbformat": 4,
 "nbformat_minor": 4
}
