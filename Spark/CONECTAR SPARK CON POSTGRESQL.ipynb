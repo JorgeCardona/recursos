{
 "cells": [
  {
   "cell_type": "markdown",
   "id": "d84c002c-fc92-4298-ade9-9580f5105bf0",
   "metadata": {},
   "source": [
    "# INICIAR EL CONTENEDOR QUE YA TIENE TODAS LAS DEPENDENCIAS DE SPARK Y PYSPARK"
   ]
  },
  {
   "cell_type": "code",
   "execution_count": null,
   "id": "6fba1e77-496f-4822-8ded-7ad89a8bc237",
   "metadata": {},
   "outputs": [],
   "source": [
    "# docker run --name labmultilanguage -p 8888:8888 -p 4040:4040 -p 5006:5006 -p 3000:3000 jorgecardona/jupyterlabmultilanguages:v1"
   ]
  },
  {
   "cell_type": "markdown",
   "id": "9455d8ad-cba6-4a24-959f-f5beee3a12af",
   "metadata": {},
   "source": [
    "# descargar la ultima version del conector de MONGO para conectar pyspark con postgres\n",
    "### https://jdbc.postgresql.org/download/\n",
    "\n",
    "### asumiendo que la ultima version del conector es postgresql-42.6.0.jar"
   ]
  },
  {
   "cell_type": "markdown",
   "id": "187f8444-046d-468a-9c42-5c54b2e24e90",
   "metadata": {},
   "source": [
    "# copiar el conector para conectarse con pyspark, dentro de la carpeta de jars de spark\n",
    "cp postgresql-42.6.0.jar /usr/local/spark/jars"
   ]
  },
  {
   "cell_type": "markdown",
   "id": "2566696b-01a4-4ebb-807c-f1e5036553a9",
   "metadata": {},
   "source": [
    "# PROBAR CONEXION A UNA BASE DE DATOS LOCAL DESDE UN CONTENEDOR\n",
    "## USAR host = \"host.docker.internal\" EN VEZ DE host = \"localhost\""
   ]
  },
  {
   "cell_type": "code",
   "execution_count": 1,
   "id": "78678309-4551-493d-b274-9d24246df2d2",
   "metadata": {
    "tags": []
   },
   "outputs": [
    {
     "name": "stdout",
     "output_type": "stream",
     "text": [
      "La conexión fue exitosa. El servidor PostgreSQL está accesible.\n"
     ]
    }
   ],
   "source": [
    "# !pip install psycopg2\n",
    "import psycopg2\n",
    "\n",
    "def ping_database(host, port, database, user, password):\n",
    "    try:\n",
    "        # Intentar conectarse a la base de datos\n",
    "        connection = psycopg2.connect(\n",
    "            host=host,\n",
    "            port=port,\n",
    "            database=database,\n",
    "            user=user,\n",
    "            password=password\n",
    "        )\n",
    "        connection.close()\n",
    "        print(\"La conexión fue exitosa. El servidor PostgreSQL está accesible.\")\n",
    "    except Exception as e:\n",
    "        print(f\"Error al conectar a la base de datos: {e}\")\n",
    "\n",
    "# Configurar las credenciales de PostgreSQL\n",
    "host = \"host.docker.internal\"\n",
    "port = \"5432\"  # Puerto predeterminado para PostgreSQL\n",
    "database = \"postgres\"\n",
    "user = \"postgres\"\n",
    "password = '12345678'\n",
    "\n",
    "# Realizar la conexión de prueba\n",
    "ping_database(host, port, database, user, password)"
   ]
  },
  {
   "cell_type": "markdown",
   "id": "8e1d751b-85e9-42b2-b8bd-f0289b9ec465",
   "metadata": {},
   "source": [
    "#  CREAR UNA SESION EN SPARK"
   ]
  },
  {
   "cell_type": "code",
   "execution_count": 2,
   "id": "fcf4b449-5271-421f-91ee-134d7c18d266",
   "metadata": {
    "tags": []
   },
   "outputs": [
    {
     "name": "stderr",
     "output_type": "stream",
     "text": [
      "23/07/21 04:17:05 WARN NativeCodeLoader: Unable to load native-hadoop library for your platform... using builtin-java classes where applicable\n",
      "Setting default log level to \"WARN\".\n",
      "To adjust logging level use sc.setLogLevel(newLevel). For SparkR, use setLogLevel(newLevel).\n"
     ]
    }
   ],
   "source": [
    "from pyspark.sql import SparkSession\n",
    "\n",
    "ruta_ubicacion_driver_conector_postgresql = \"/usr/local/spark/jars/postgresql-42.6.0.jar\"\n",
    "\n",
    "# Configurar la sesión de Spark\n",
    "spark = SparkSession.builder \\\n",
    "    .appName(\"Conexion_PostgreSQL\") \\\n",
    "    .config(\"spark.jars\", ruta_ubicacion_driver_conector_postgresql) \\\n",
    "    .getOrCreate()"
   ]
  },
  {
   "cell_type": "code",
   "execution_count": 3,
   "id": "e9389a95-18ec-4757-bb51-cde0e5abb186",
   "metadata": {
    "tags": []
   },
   "outputs": [],
   "source": [
    "# si se quiere conectar desde un conetenedor a un recurso local, se debe usar host.docker.internal en vez de localhost\n",
    "def leer_datos_postgres_convertir_a_pandas(instancia_spark, tabla, schema=\"public\"):\n",
    "    \n",
    "    # parametros para la conexión a la base de datos\n",
    "    # si se quiere conectar desde un conetenedor a un recurso local, se debe usar host.docker.internal en vez de localhost\n",
    "    host = \"host.docker.internal\"\n",
    "    puerto = \"5432\"\n",
    "    database = \"postgres\"\n",
    "\n",
    "    # Configurar las credenciales de PostgreSQL\n",
    "    url = f\"jdbc:postgresql://{host}:{puerto}/{database}\"\n",
    "    \n",
    "    properties = {\n",
    "        \"user\": \"postgres\",\n",
    "        \"password\": \"12345678\",\n",
    "        \"driver\": \"org.postgresql.Driver\"\n",
    "    }\n",
    "\n",
    "    # Convertir todos los valores a cadenas\n",
    "    properties = {k: str(v) for k, v in properties.items()}\n",
    "\n",
    "    final_query = f\"{schema}.{tabla}\"\n",
    "    \n",
    "    spark_dataframe = instancia_spark.read.jdbc(url=url, table=final_query, properties=properties)\n",
    "    return spark_dataframe.toPandas()"
   ]
  },
  {
   "cell_type": "markdown",
   "id": "f5bb327a-55f1-45b6-970f-0f8f869c2a95",
   "metadata": {},
   "source": [
    "# CREAR LOS DATAFRAMES DE PANDAS"
   ]
  },
  {
   "cell_type": "code",
   "execution_count": 6,
   "id": "4e1baf98-74cc-428f-9289-581584294382",
   "metadata": {
    "tags": []
   },
   "outputs": [
    {
     "name": "stderr",
     "output_type": "stream",
     "text": [
      "                                                                                \r"
     ]
    }
   ],
   "source": [
    "df1 = leer_datos_postgres_convertir_a_pandas(spark, \"vuelos_1\")\n",
    "df2 = leer_datos_postgres_convertir_a_pandas(spark, \"vuelos_2\")"
   ]
  },
  {
   "cell_type": "markdown",
   "id": "48e39c3d-507d-4bb8-b4ab-2ecde9166d33",
   "metadata": {
    "tags": []
   },
   "source": [
    "# EXPLORAR EL CONTENIDO DE LOS DATAFRAMES"
   ]
  },
  {
   "cell_type": "code",
   "execution_count": 7,
   "id": "aa571f38-aaa0-4c89-a5f3-7588d8e96103",
   "metadata": {
    "tags": []
   },
   "outputs": [
    {
     "data": {
      "text/html": [
       "<div>\n",
       "<style scoped>\n",
       "    .dataframe tbody tr th:only-of-type {\n",
       "        vertical-align: middle;\n",
       "    }\n",
       "\n",
       "    .dataframe tbody tr th {\n",
       "        vertical-align: top;\n",
       "    }\n",
       "\n",
       "    .dataframe thead th {\n",
       "        text-align: right;\n",
       "    }\n",
       "</style>\n",
       "<table border=\"1\" class=\"dataframe\">\n",
       "  <thead>\n",
       "    <tr style=\"text-align: right;\">\n",
       "      <th></th>\n",
       "      <th>id</th>\n",
       "      <th>secure_code</th>\n",
       "      <th>airline</th>\n",
       "      <th>departure_city</th>\n",
       "      <th>departure_date</th>\n",
       "      <th>arrival_airport</th>\n",
       "      <th>arrival_city</th>\n",
       "      <th>arrival_time</th>\n",
       "      <th>passenger_name</th>\n",
       "      <th>passenger_gender</th>\n",
       "      <th>seat_number</th>\n",
       "      <th>currency</th>\n",
       "      <th>departure_gate</th>\n",
       "      <th>flight_status</th>\n",
       "      <th>co_pilot_name</th>\n",
       "      <th>aircraft_type</th>\n",
       "      <th>fuel_consumption</th>\n",
       "    </tr>\n",
       "  </thead>\n",
       "  <tbody>\n",
       "    <tr>\n",
       "      <th>0</th>\n",
       "      <td>1</td>\n",
       "      <td>01H4EEMGMG9VADVF06JZGJJGN0</td>\n",
       "      <td>EasyFly</td>\n",
       "      <td>Berlin</td>\n",
       "      <td>25/12/2022</td>\n",
       "      <td>PEI</td>\n",
       "      <td>Pereira</td>\n",
       "      <td>27/12/2022 14:13</td>\n",
       "      <td>Nathalie Cardona</td>\n",
       "      <td>Female</td>\n",
       "      <td>A1</td>\n",
       "      <td>EUR</td>\n",
       "      <td>B2</td>\n",
       "      <td>On Time</td>\n",
       "      <td>Hart Blunkett</td>\n",
       "      <td>Embraer E190</td>\n",
       "      <td>7916.39</td>\n",
       "    </tr>\n",
       "    <tr>\n",
       "      <th>1</th>\n",
       "      <td>2</td>\n",
       "      <td>01H4EEMGMYP8GX4GRC4Y2MPYH5</td>\n",
       "      <td>Delta</td>\n",
       "      <td>Les Sables-d'Olonne</td>\n",
       "      <td>4/1/2022</td>\n",
       "      <td>YHU</td>\n",
       "      <td>Westport</td>\n",
       "      <td>6/7/2023 06:53</td>\n",
       "      <td>Willie Childrens</td>\n",
       "      <td>Female</td>\n",
       "      <td>B2</td>\n",
       "      <td>EUR</td>\n",
       "      <td>A1</td>\n",
       "      <td>Delayed</td>\n",
       "      <td>Leanor Gribbins</td>\n",
       "      <td>Airbus A320</td>\n",
       "      <td>9666.36</td>\n",
       "    </tr>\n",
       "    <tr>\n",
       "      <th>2</th>\n",
       "      <td>3</td>\n",
       "      <td>01H4EEMGN3BZJ9RR779KDEB2WG</td>\n",
       "      <td>United</td>\n",
       "      <td>Oyo</td>\n",
       "      <td>3/4/2022</td>\n",
       "      <td>KWJ</td>\n",
       "      <td>Jabon</td>\n",
       "      <td>6/7/2023 03:44</td>\n",
       "      <td>Fifine Luten</td>\n",
       "      <td>Female</td>\n",
       "      <td>B2</td>\n",
       "      <td>NGN</td>\n",
       "      <td>C3</td>\n",
       "      <td>On Time</td>\n",
       "      <td>Christie Wakeley</td>\n",
       "      <td>Boeing 737</td>\n",
       "      <td>8047.44</td>\n",
       "    </tr>\n",
       "    <tr>\n",
       "      <th>3</th>\n",
       "      <td>4</td>\n",
       "      <td>01H4EEMGN9DFF5XJC1QPSRQCTR</td>\n",
       "      <td>Delta</td>\n",
       "      <td>Kuragaki-kosugi</td>\n",
       "      <td>31/5/2022</td>\n",
       "      <td>ANP</td>\n",
       "      <td>Xianyuan</td>\n",
       "      <td>6/7/2023 18:56</td>\n",
       "      <td>Doll Sommerscales</td>\n",
       "      <td>Female</td>\n",
       "      <td>C3</td>\n",
       "      <td>JPY</td>\n",
       "      <td>A1</td>\n",
       "      <td>Delayed</td>\n",
       "      <td>Mia Vannah</td>\n",
       "      <td>Airbus A320</td>\n",
       "      <td>5156.19</td>\n",
       "    </tr>\n",
       "    <tr>\n",
       "      <th>4</th>\n",
       "      <td>5</td>\n",
       "      <td>01H4EEMGNFX6T41V6RSST9YVPF</td>\n",
       "      <td>Delta</td>\n",
       "      <td>Ko Pha Ngan</td>\n",
       "      <td>10/7/2022</td>\n",
       "      <td>QUB</td>\n",
       "      <td>Sovetskaya Gavan’</td>\n",
       "      <td>6/7/2023 16:55</td>\n",
       "      <td>Norman Crosen</td>\n",
       "      <td>Male</td>\n",
       "      <td>A1</td>\n",
       "      <td>THB</td>\n",
       "      <td>A1</td>\n",
       "      <td>On Time</td>\n",
       "      <td>Barn Timmes</td>\n",
       "      <td>Boeing 737</td>\n",
       "      <td>7584.07</td>\n",
       "    </tr>\n",
       "  </tbody>\n",
       "</table>\n",
       "</div>"
      ],
      "text/plain": [
       "   id                 secure_code  airline       departure_city  \\\n",
       "0   1  01H4EEMGMG9VADVF06JZGJJGN0  EasyFly               Berlin   \n",
       "1   2  01H4EEMGMYP8GX4GRC4Y2MPYH5    Delta  Les Sables-d'Olonne   \n",
       "2   3  01H4EEMGN3BZJ9RR779KDEB2WG   United                  Oyo   \n",
       "3   4  01H4EEMGN9DFF5XJC1QPSRQCTR    Delta      Kuragaki-kosugi   \n",
       "4   5  01H4EEMGNFX6T41V6RSST9YVPF    Delta          Ko Pha Ngan   \n",
       "\n",
       "  departure_date arrival_airport       arrival_city      arrival_time  \\\n",
       "0     25/12/2022             PEI            Pereira  27/12/2022 14:13   \n",
       "1       4/1/2022             YHU           Westport    6/7/2023 06:53   \n",
       "2       3/4/2022             KWJ              Jabon    6/7/2023 03:44   \n",
       "3      31/5/2022             ANP           Xianyuan    6/7/2023 18:56   \n",
       "4      10/7/2022             QUB  Sovetskaya Gavan’    6/7/2023 16:55   \n",
       "\n",
       "      passenger_name passenger_gender seat_number currency departure_gate  \\\n",
       "0   Nathalie Cardona           Female          A1      EUR             B2   \n",
       "1   Willie Childrens           Female          B2      EUR             A1   \n",
       "2       Fifine Luten           Female          B2      NGN             C3   \n",
       "3  Doll Sommerscales           Female          C3      JPY             A1   \n",
       "4      Norman Crosen             Male          A1      THB             A1   \n",
       "\n",
       "  flight_status     co_pilot_name aircraft_type  fuel_consumption  \n",
       "0       On Time     Hart Blunkett  Embraer E190           7916.39  \n",
       "1       Delayed   Leanor Gribbins   Airbus A320           9666.36  \n",
       "2       On Time  Christie Wakeley    Boeing 737           8047.44  \n",
       "3       Delayed        Mia Vannah   Airbus A320           5156.19  \n",
       "4       On Time       Barn Timmes    Boeing 737           7584.07  "
      ]
     },
     "execution_count": 7,
     "metadata": {},
     "output_type": "execute_result"
    }
   ],
   "source": [
    "df1.head()"
   ]
  },
  {
   "cell_type": "code",
   "execution_count": 8,
   "id": "ee06a963-196c-401c-a9d2-1ced755b6b43",
   "metadata": {
    "tags": []
   },
   "outputs": [
    {
     "data": {
      "text/html": [
       "<div>\n",
       "<style scoped>\n",
       "    .dataframe tbody tr th:only-of-type {\n",
       "        vertical-align: middle;\n",
       "    }\n",
       "\n",
       "    .dataframe tbody tr th {\n",
       "        vertical-align: top;\n",
       "    }\n",
       "\n",
       "    .dataframe thead th {\n",
       "        text-align: right;\n",
       "    }\n",
       "</style>\n",
       "<table border=\"1\" class=\"dataframe\">\n",
       "  <thead>\n",
       "    <tr style=\"text-align: right;\">\n",
       "      <th></th>\n",
       "      <th>flight_id</th>\n",
       "      <th>flight_number</th>\n",
       "      <th>departure_airport</th>\n",
       "      <th>departure_country</th>\n",
       "      <th>departure_time</th>\n",
       "      <th>arrival_country</th>\n",
       "      <th>arrival_date</th>\n",
       "      <th>flight_duration</th>\n",
       "      <th>passenger_age</th>\n",
       "      <th>passenger_nationality</th>\n",
       "      <th>ticket_price</th>\n",
       "      <th>baggage_weight</th>\n",
       "      <th>arrival_gate</th>\n",
       "      <th>pilot_name</th>\n",
       "      <th>cabin_crew_count</th>\n",
       "      <th>aircraft_registration</th>\n",
       "      <th>flight_distance</th>\n",
       "    </tr>\n",
       "  </thead>\n",
       "  <tbody>\n",
       "    <tr>\n",
       "      <th>0</th>\n",
       "      <td>1</td>\n",
       "      <td>1978</td>\n",
       "      <td>CFQ</td>\n",
       "      <td>Germany</td>\n",
       "      <td>6/7/2023 04:42</td>\n",
       "      <td>Colombia</td>\n",
       "      <td>27/12/2022</td>\n",
       "      <td>14.18</td>\n",
       "      <td>0</td>\n",
       "      <td>Colombia</td>\n",
       "      <td>797.24</td>\n",
       "      <td>43.85</td>\n",
       "      <td>E5</td>\n",
       "      <td>Sunny Few</td>\n",
       "      <td>9</td>\n",
       "      <td>N12345</td>\n",
       "      <td>1400.24</td>\n",
       "    </tr>\n",
       "    <tr>\n",
       "      <th>1</th>\n",
       "      <td>2</td>\n",
       "      <td>2337</td>\n",
       "      <td>ONG</td>\n",
       "      <td>France</td>\n",
       "      <td>6/7/2023 17:31</td>\n",
       "      <td>New Zealand</td>\n",
       "      <td>23/12/2022</td>\n",
       "      <td>13.54</td>\n",
       "      <td>29</td>\n",
       "      <td>Sweden</td>\n",
       "      <td>383.63</td>\n",
       "      <td>35.78</td>\n",
       "      <td>D4</td>\n",
       "      <td>Donielle Strut</td>\n",
       "      <td>4</td>\n",
       "      <td>N12345</td>\n",
       "      <td>465.84</td>\n",
       "    </tr>\n",
       "    <tr>\n",
       "      <th>2</th>\n",
       "      <td>3</td>\n",
       "      <td>7588</td>\n",
       "      <td>TEX</td>\n",
       "      <td>Nigeria</td>\n",
       "      <td>6/7/2023 11:08</td>\n",
       "      <td>Indonesia</td>\n",
       "      <td>30/9/2022</td>\n",
       "      <td>6.28</td>\n",
       "      <td>34</td>\n",
       "      <td>Argentina</td>\n",
       "      <td>439.09</td>\n",
       "      <td>47.81</td>\n",
       "      <td>D4</td>\n",
       "      <td>Shelly Paddefield</td>\n",
       "      <td>3</td>\n",
       "      <td>N67890</td>\n",
       "      <td>3151.78</td>\n",
       "    </tr>\n",
       "    <tr>\n",
       "      <th>3</th>\n",
       "      <td>4</td>\n",
       "      <td>7545</td>\n",
       "      <td>ORB</td>\n",
       "      <td>Japan</td>\n",
       "      <td>6/7/2023 11:11</td>\n",
       "      <td>China</td>\n",
       "      <td>14/10/2022</td>\n",
       "      <td>5.60</td>\n",
       "      <td>34</td>\n",
       "      <td>China</td>\n",
       "      <td>706.19</td>\n",
       "      <td>25.79</td>\n",
       "      <td>D4</td>\n",
       "      <td>Babara Kretschmer</td>\n",
       "      <td>6</td>\n",
       "      <td>N12345</td>\n",
       "      <td>264.64</td>\n",
       "    </tr>\n",
       "    <tr>\n",
       "      <th>4</th>\n",
       "      <td>5</td>\n",
       "      <td>4553</td>\n",
       "      <td>WEW</td>\n",
       "      <td>Thailand</td>\n",
       "      <td>6/7/2023 10:40</td>\n",
       "      <td>Russia</td>\n",
       "      <td>13/10/2022</td>\n",
       "      <td>14.71</td>\n",
       "      <td>40</td>\n",
       "      <td>Uruguay</td>\n",
       "      <td>906.66</td>\n",
       "      <td>11.60</td>\n",
       "      <td>E5</td>\n",
       "      <td>Bert Mathison</td>\n",
       "      <td>5</td>\n",
       "      <td>N67890</td>\n",
       "      <td>2158.97</td>\n",
       "    </tr>\n",
       "  </tbody>\n",
       "</table>\n",
       "</div>"
      ],
      "text/plain": [
       "   flight_id  flight_number departure_airport departure_country  \\\n",
       "0          1           1978               CFQ           Germany   \n",
       "1          2           2337               ONG            France   \n",
       "2          3           7588               TEX           Nigeria   \n",
       "3          4           7545               ORB             Japan   \n",
       "4          5           4553               WEW          Thailand   \n",
       "\n",
       "   departure_time arrival_country arrival_date  flight_duration  \\\n",
       "0  6/7/2023 04:42        Colombia   27/12/2022            14.18   \n",
       "1  6/7/2023 17:31     New Zealand   23/12/2022            13.54   \n",
       "2  6/7/2023 11:08       Indonesia    30/9/2022             6.28   \n",
       "3  6/7/2023 11:11           China   14/10/2022             5.60   \n",
       "4  6/7/2023 10:40          Russia   13/10/2022            14.71   \n",
       "\n",
       "   passenger_age passenger_nationality  ticket_price  baggage_weight  \\\n",
       "0              0              Colombia        797.24           43.85   \n",
       "1             29                Sweden        383.63           35.78   \n",
       "2             34             Argentina        439.09           47.81   \n",
       "3             34                 China        706.19           25.79   \n",
       "4             40               Uruguay        906.66           11.60   \n",
       "\n",
       "  arrival_gate         pilot_name  cabin_crew_count aircraft_registration  \\\n",
       "0           E5          Sunny Few                 9                N12345   \n",
       "1           D4     Donielle Strut                 4                N12345   \n",
       "2           D4  Shelly Paddefield                 3                N67890   \n",
       "3           D4  Babara Kretschmer                 6                N12345   \n",
       "4           E5      Bert Mathison                 5                N67890   \n",
       "\n",
       "   flight_distance  \n",
       "0          1400.24  \n",
       "1           465.84  \n",
       "2          3151.78  \n",
       "3           264.64  \n",
       "4          2158.97  "
      ]
     },
     "execution_count": 8,
     "metadata": {},
     "output_type": "execute_result"
    }
   ],
   "source": [
    "df2.head()"
   ]
  },
  {
   "cell_type": "code",
   "execution_count": 9,
   "id": "0e01984c-4ec1-4e2e-8b02-649290011264",
   "metadata": {
    "tags": []
   },
   "outputs": [],
   "source": [
    "# terminar sesión spark\n",
    "spark.stop()"
   ]
  },
  {
   "cell_type": "code",
   "execution_count": null,
   "id": "bf67d0a0-d6cc-4503-a28c-0dafe0165958",
   "metadata": {},
   "outputs": [],
   "source": []
  }
 ],
 "metadata": {
  "kernelspec": {
   "display_name": "Python 3 (ipykernel)",
   "language": "python",
   "name": "python3"
  },
  "language_info": {
   "codemirror_mode": {
    "name": "ipython",
    "version": 3
   },
   "file_extension": ".py",
   "mimetype": "text/x-python",
   "name": "python",
   "nbconvert_exporter": "python",
   "pygments_lexer": "ipython3",
   "version": "3.11.4"
  }
 },
 "nbformat": 4,
 "nbformat_minor": 5
}
