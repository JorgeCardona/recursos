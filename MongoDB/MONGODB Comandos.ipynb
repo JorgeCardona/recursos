{
 "cells": [
  {
   "cell_type": "markdown",
   "id": "b5893f05-8fd5-435c-a177-f627fa0a582f",
   "metadata": {},
   "source": [
    "# INSTALACION DEL PAQUETE QUE CONTIENE EL DRIVER PARA CONECTARCE A MONGODB"
   ]
  },
  {
   "cell_type": "code",
   "execution_count": null,
   "id": "bee35d7f-744f-40f9-ab07-b7b9123eab8a",
   "metadata": {
    "scrolled": true
   },
   "outputs": [],
   "source": [
    "import importlib\n",
    "\n",
    "def install_package_if_not_exists(package_name):\n",
    "    try:\n",
    "        importlib.import_module(package_name)\n",
    "    except ImportError:\n",
    "        import subprocess\n",
    "        subprocess.check_call(['pip', 'install', package_name])\n",
    "\n",
    "# Uso del método\n",
    "package_name = 'pandas'\n",
    "install_package_if_not_exists(package_name)"
   ]
  },
  {
   "cell_type": "markdown",
   "id": "e73576dd-4cd1-4170-ba7c-1ed6836f4fa1",
   "metadata": {},
   "source": [
    "# PROBAR CONEXION A MONGODB"
   ]
  },
  {
   "cell_type": "code",
   "execution_count": 1,
   "id": "38be8bc1-2ec7-43db-a4c4-97ba26c6e89c",
   "metadata": {},
   "outputs": [
    {
     "name": "stdout",
     "output_type": "stream",
     "text": [
      "La conexión fue exitosa. El servidor MongoDB está accesible.\n",
      "\n",
      "LOS USUARIOS ENCONTRADOS SON\n",
      "user = mongodb_admin, role = admin\n",
      "user = mongodb_backup, role = admin\n",
      "user = mongodb_readWrite, role = admin\n",
      "user = mongodb_restore, role = admin\n",
      "\n",
      "Roles para el usuario mongodb_admin\n",
      "{'role': 'root', 'db': 'admin'}\n",
      "\n",
      "LAS BASES DE DATOS ENCONTRADAS SON : ['admin', 'config', 'local', 'test_mongo']\n",
      "\n",
      "LAS COLECCIONES ENCONTRADAS SON : ['vuelos_2', 'vuelos_1', 'vuelos_3']\n",
      "\n",
      "LOS DOCUMENTOS ENCONTRADOS SON\n",
      "{'_id': ObjectId('64bb5eb2a21e5a2e74b36a20'),\n",
      " 'aircraft_registration': 'N12345',\n",
      " 'arrival_country': 'Colombia',\n",
      " 'arrival_date': '27/12/2022',\n",
      " 'arrival_gate': 'E5',\n",
      " 'baggage_weight': 43.85,\n",
      " 'cabin_crew_count': 9,\n",
      " 'departure_airport': 'CFQ',\n",
      " 'departure_country': 'Germany',\n",
      " 'departure_time': '6/7/2023 04:42',\n",
      " 'flight_distance': 1400.24,\n",
      " 'flight_duration': 14.18,\n",
      " 'flight_id': 1,\n",
      " 'flight_number': 1978,\n",
      " 'passenger_age': 0,\n",
      " 'passenger_nationality': 'Colombia',\n",
      " 'pilot_name': 'Sunny Few',\n",
      " 'ticket_price': 797.24}\n",
      "\n",
      "\n"
     ]
    }
   ],
   "source": [
    "from utils.probar_conexion import ping_database\n",
    "\n",
    "# Configurar las credenciales de MongoDB\n",
    "tipo_de_conexion = 'local'\n",
    "port = 27017        # Puerto predeterminado para MongoDB\n",
    "user = \"mongodb_admin\"   # Nombre de usuario (opcional, si MongoDB está configurado con autenticación)\n",
    "password = \"12345678\"  # Contraseña (opcional, si MongoDB está configurado con autenticación)\n",
    "nombre_base_de_datos = \"test_mongo\"   # Nombre de la base de datos a la que deseas conectarte\n",
    "nombre_coleccion = \"vuelos_2\"\n",
    "\n",
    "# Realizar la conexión de prueba\n",
    "ping_database(tipo_de_conexion, port, user, password, nombre_base_de_datos, nombre_coleccion)"
   ]
  },
  {
   "cell_type": "code",
   "execution_count": 1,
   "id": "4cad7d25-0203-4a05-8b71-891ac143621a",
   "metadata": {},
   "outputs": [
    {
     "name": "stdout",
     "output_type": "stream",
     "text": [
      "Collecting custome-package-installer-pip==1.0.0\n",
      "  Obtaining dependency information for custome-package-installer-pip==1.0.0 from https://files.pythonhosted.org/packages/ca/96/1cfe84a111e446b68d25bda913371706183f740b7202dc2665c6378259d2/custome_package_installer_pip-1.0.0-py3-none-any.whl.metadata\n",
      "  Downloading custome_package_installer_pip-1.0.0-py3-none-any.whl.metadata (6.4 kB)\n",
      "Downloading custome_package_installer_pip-1.0.0-py3-none-any.whl (3.7 kB)\n",
      "Installing collected packages: custome-package-installer-pip\n",
      "Successfully installed custome-package-installer-pip-1.0.0\n"
     ]
    }
   ],
   "source": [
    "!pip install custome-package-installer-pip==1.0.0"
   ]
  },
  {
   "cell_type": "code",
   "execution_count": 5,
   "id": "af500f2b-8803-4fe0-831a-8326e6f3f029",
   "metadata": {},
   "outputs": [
    {
     "ename": "SyntaxError",
     "evalue": "invalid syntax (2358282088.py, line 1)",
     "output_type": "error",
     "traceback": [
      "\u001b[1;36m  Cell \u001b[1;32mIn[5], line 1\u001b[1;36m\u001b[0m\n\u001b[1;33m    from custome-package-installer-pip import PipPackageCustomInstaller\u001b[0m\n\u001b[1;37m                ^\u001b[0m\n\u001b[1;31mSyntaxError\u001b[0m\u001b[1;31m:\u001b[0m invalid syntax\n"
     ]
    }
   ],
   "source": [
    "from custome-package-installer-pip import PipPackageCustomInstaller\n"
   ]
  },
  {
   "cell_type": "code",
   "execution_count": 4,
   "id": "2c591663-f4fb-4d6a-ab79-04ff045f26e2",
   "metadata": {},
   "outputs": [
    {
     "name": "stdout",
     "output_type": "stream",
     "text": [
      "Package                       Version\n",
      "----------------------------- --------\n",
      "anyio                         3.7.1\n",
      "argon2-cffi                   21.3.0\n",
      "argon2-cffi-bindings          21.2.0\n",
      "arrow                         1.2.3\n",
      "asttokens                     2.2.1\n",
      "async-lru                     2.0.3\n",
      "attrs                         23.1.0\n",
      "Babel                         2.12.1\n",
      "backcall                      0.2.0\n",
      "beautifulsoup4                4.12.2\n",
      "bleach                        6.0.0\n",
      "certifi                       2023.5.7\n",
      "cffi                          1.15.1\n",
      "charset-normalizer            3.2.0\n",
      "colorama                      0.4.6\n",
      "comm                          0.1.3\n",
      "custome-package-installer-pip 1.0.0\n",
      "debugpy                       1.6.7\n",
      "decorator                     5.1.1\n",
      "defusedxml                    0.7.1\n",
      "dnspython                     2.4.0\n",
      "exceptiongroup                1.1.2\n",
      "executing                     1.2.0\n",
      "fastjsonschema                2.17.1\n",
      "fqdn                          1.5.1\n",
      "h11                           0.14.0\n",
      "httpcore                      0.17.3\n",
      "idna                          3.4\n",
      "importlib-metadata            6.8.0\n",
      "ipykernel                     6.24.0\n",
      "ipython                       8.14.0\n",
      "isoduration                   20.11.0\n",
      "jedi                          0.18.2\n",
      "Jinja2                        3.1.2\n",
      "json5                         0.9.14\n",
      "jsonpointer                   2.4\n",
      "jsonschema                    4.18.4\n",
      "jsonschema-specifications     2023.7.1\n",
      "jupyter_client                8.3.0\n",
      "jupyter_core                  5.3.1\n",
      "jupyter-events                0.6.3\n",
      "jupyter-lsp                   2.2.0\n",
      "jupyter_server                2.7.0\n",
      "jupyter_server_terminals      0.4.4\n",
      "jupyterlab                    4.0.3\n",
      "jupyterlab-pygments           0.2.2\n",
      "jupyterlab_server             2.23.0\n",
      "MarkupSafe                    2.1.3\n",
      "matplotlib-inline             0.1.6\n",
      "mistune                       3.0.1\n",
      "nbclient                      0.8.0\n",
      "nbconvert                     7.7.2\n",
      "nbformat                      5.9.1\n",
      "nest-asyncio                  1.5.6\n",
      "notebook_shim                 0.2.3\n",
      "overrides                     7.3.1\n",
      "packaging                     23.1\n",
      "pandocfilters                 1.5.0\n",
      "parso                         0.8.3\n",
      "pickleshare                   0.7.5\n",
      "pip                           23.2\n",
      "platformdirs                  3.9.1\n",
      "prometheus-client             0.17.1\n",
      "prompt-toolkit                3.0.39\n",
      "psutil                        5.9.5\n",
      "psycopg2                      2.9.6\n",
      "pure-eval                     0.2.2\n",
      "py4j                          0.10.9.7\n",
      "pycparser                     2.21\n",
      "Pygments                      2.15.1\n",
      "pymongo                       4.4.1\n",
      "pyspark                       3.4.1\n",
      "python-dateutil               2.8.2\n",
      "python-json-logger            2.0.7\n",
      "pywin32                       306\n",
      "pywinpty                      2.0.11\n",
      "PyYAML                        6.0.1\n",
      "pyzmq                         25.1.0\n",
      "referencing                   0.30.0\n",
      "requests                      2.31.0\n",
      "rfc3339-validator             0.1.4\n",
      "rfc3986-validator             0.1.1\n",
      "rpds-py                       0.9.2\n",
      "Send2Trash                    1.8.2\n",
      "setuptools                    68.0.0\n",
      "six                           1.16.0\n",
      "sniffio                       1.3.0\n",
      "soupsieve                     2.4.1\n",
      "stack-data                    0.6.2\n",
      "terminado                     0.17.1\n",
      "tinycss2                      1.2.1\n",
      "tomli                         2.0.1\n",
      "tornado                       6.3.2\n",
      "traitlets                     5.9.0\n",
      "typing_extensions             4.7.1\n",
      "uri-template                  1.3.0\n",
      "urllib3                       2.0.4\n",
      "wcwidth                       0.2.6\n",
      "webcolors                     1.13\n",
      "webencodings                  0.5.1\n",
      "websocket-client              1.6.1\n",
      "wheel                         0.40.0\n",
      "zipp                          3.16.2\n"
     ]
    }
   ],
   "source": [
    "!pip list"
   ]
  },
  {
   "cell_type": "code",
   "execution_count": null,
   "id": "1fbbeb0a-89b7-4213-bec2-1a747c37426f",
   "metadata": {},
   "outputs": [],
   "source": []
  }
 ],
 "metadata": {
  "kernelspec": {
   "display_name": "Python 3 (ipykernel)",
   "language": "python",
   "name": "python3"
  },
  "language_info": {
   "codemirror_mode": {
    "name": "ipython",
    "version": 3
   },
   "file_extension": ".py",
   "mimetype": "text/x-python",
   "name": "python",
   "nbconvert_exporter": "python",
   "pygments_lexer": "ipython3",
   "version": "3.9.2rc1"
  }
 },
 "nbformat": 4,
 "nbformat_minor": 5
}
