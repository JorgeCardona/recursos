{
 "cells": [
  {
   "cell_type": "markdown",
   "id": "b5893f05-8fd5-435c-a177-f627fa0a582f",
   "metadata": {},
   "source": [
    "# INSTALACION DEL PAQUETE QUE CONTIENE EL DRIVER PARA CONECTARCE A MONGODB"
   ]
  },
  {
   "cell_type": "code",
   "execution_count": null,
   "id": "bee35d7f-744f-40f9-ab07-b7b9123eab8a",
   "metadata": {
    "scrolled": true
   },
   "outputs": [],
   "source": [
    "import importlib\n",
    "\n",
    "def install_package_if_not_exists(package_name):\n",
    "    try:\n",
    "        importlib.import_module(package_name)\n",
    "    except ImportError:\n",
    "        import subprocess\n",
    "        subprocess.check_call(['pip', 'install', package_name])\n",
    "\n",
    "# Uso del método\n",
    "package_name = 'nombre_del_paquete'\n",
    "install_package_if_not_exists('pymongo')"
   ]
  },
  {
   "cell_type": "markdown",
   "id": "e73576dd-4cd1-4170-ba7c-1ed6836f4fa1",
   "metadata": {},
   "source": [
    "# PROBAR CONEXION A MONGODB"
   ]
  },
  {
   "cell_type": "code",
   "execution_count": 1,
   "id": "38be8bc1-2ec7-43db-a4c4-97ba26c6e89c",
   "metadata": {},
   "outputs": [
    {
     "name": "stdout",
     "output_type": "stream",
     "text": [
      "La conexión fue exitosa. El servidor MongoDB está accesible.\n",
      "\n",
      "LOS USUARIOS ENCONTRADOS SON\n",
      "user = mongodb_admin, role = admin\n",
      "user = mongodb_backup, role = admin\n",
      "user = mongodb_readWrite, role = admin\n",
      "user = mongodb_restore, role = admin\n",
      "\n",
      "LAS BASES DE DATOS ENCONTRADAS SON : ['admin', 'config', 'local', 'test_mongo']\n",
      "\n",
      "LAS COLECCIONES ENCONTRADAS SON : ['vuelos_2', 'vuelos_1', 'vuelos_3']\n",
      "\n",
      "LOS DOCUMENTOS ENCONTRADOS SON\n",
      "{'_id': ObjectId('64bb5eb2a21e5a2e74b36a20'),\n",
      " 'aircraft_registration': 'N12345',\n",
      " 'arrival_country': 'Colombia',\n",
      " 'arrival_date': '27/12/2022',\n",
      " 'arrival_gate': 'E5',\n",
      " 'baggage_weight': 43.85,\n",
      " 'cabin_crew_count': 9,\n",
      " 'departure_airport': 'CFQ',\n",
      " 'departure_country': 'Germany',\n",
      " 'departure_time': '6/7/2023 04:42',\n",
      " 'flight_distance': 1400.24,\n",
      " 'flight_duration': 14.18,\n",
      " 'flight_id': 1,\n",
      " 'flight_number': 1978,\n",
      " 'passenger_age': 0,\n",
      " 'passenger_nationality': 'Colombia',\n",
      " 'pilot_name': 'Sunny Few',\n",
      " 'ticket_price': 797.24}\n",
      "\n",
      "\n"
     ]
    }
   ],
   "source": [
    "from utils.probar_conexion import ping_database\n",
    "\n",
    "# Configurar las credenciales de MongoDB\n",
    "tipo_de_conexion = 'local'\n",
    "port = 27017        # Puerto predeterminado para MongoDB\n",
    "user = \"mongodb_admin\"   # Nombre de usuario (opcional, si MongoDB está configurado con autenticación)\n",
    "password = \"12345678\"  # Contraseña (opcional, si MongoDB está configurado con autenticación)\n",
    "nombre_base_de_datos = \"test_mongo\"   # Nombre de la base de datos a la que deseas conectarte\n",
    "nombre_coleccion = \"vuelos_2\"\n",
    "\n",
    "# Realizar la conexión de prueba\n",
    "ping_database(tipo_de_conexion, port, user, password, nombre_base_de_datos, nombre_coleccion)"
   ]
  },
  {
   "cell_type": "code",
   "execution_count": null,
   "id": "a1b63a81-a8c6-4ac0-8628-12e9149572bc",
   "metadata": {},
   "outputs": [],
   "source": []
  }
 ],
 "metadata": {
  "kernelspec": {
   "display_name": "Python 3 (ipykernel)",
   "language": "python",
   "name": "python3"
  },
  "language_info": {
   "codemirror_mode": {
    "name": "ipython",
    "version": 3
   },
   "file_extension": ".py",
   "mimetype": "text/x-python",
   "name": "python",
   "nbconvert_exporter": "python",
   "pygments_lexer": "ipython3",
   "version": "3.9.2rc1"
  }
 },
 "nbformat": 4,
 "nbformat_minor": 5
}
