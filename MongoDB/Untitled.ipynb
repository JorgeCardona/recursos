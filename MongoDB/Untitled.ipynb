{
 "cells": [
  {
   "cell_type": "code",
   "execution_count": 1,
   "id": "d990bff9-5b13-436a-9e04-d4433759d23d",
   "metadata": {
    "scrolled": true
   },
   "outputs": [
    {
     "name": "stdout",
     "output_type": "stream",
     "text": [
      "Package                   Version  Editable project location\n",
      "------------------------- -------- -------------------------\n",
      "anyio                     3.7.1\n",
      "argon2-cffi               21.3.0\n",
      "argon2-cffi-bindings      21.2.0\n",
      "arrow                     1.2.3\n",
      "asttokens                 2.2.1\n",
      "async-lru                 2.0.3\n",
      "attrs                     23.1.0\n",
      "Babel                     2.12.1\n",
      "backcall                  0.2.0\n",
      "beautifulsoup4            4.12.2\n",
      "bleach                    6.0.0\n",
      "certifi                   2023.5.7\n",
      "cffi                      1.15.1\n",
      "charset-normalizer        3.2.0\n",
      "colorama                  0.4.6\n",
      "comm                      0.1.3\n",
      "debugpy                   1.6.7\n",
      "decorator                 5.1.1\n",
      "defusedxml                0.7.1\n",
      "dnspython                 2.4.0\n",
      "exceptiongroup            1.1.2\n",
      "executing                 1.2.0\n",
      "fastjsonschema            2.17.1\n",
      "fqdn                      1.5.1\n",
      "h11                       0.14.0\n",
      "httpcore                  0.17.3\n",
      "idna                      3.4\n",
      "importlib-metadata        6.8.0\n",
      "ipykernel                 6.24.0\n",
      "ipython                   8.14.0\n",
      "isoduration               20.11.0\n",
      "jedi                      0.18.2\n",
      "Jinja2                    3.1.2\n",
      "json5                     0.9.14\n",
      "jsonpointer               2.4\n",
      "jsonschema                4.18.4\n",
      "jsonschema-specifications 2023.7.1\n",
      "jupyter_client            8.3.0\n",
      "jupyter_core              5.3.1\n",
      "jupyter-events            0.6.3\n",
      "jupyter-lsp               2.2.0\n",
      "jupyter_server            2.7.0\n",
      "jupyter_server_terminals  0.4.4\n",
      "jupyterlab                4.0.3\n",
      "jupyterlab-pygments       0.2.2\n",
      "jupyterlab_server         2.23.0\n",
      "MarkupSafe                2.1.3\n",
      "matplotlib-inline         0.1.6\n",
      "mistune                   3.0.1\n",
      "nbclient                  0.8.0\n",
      "nbconvert                 7.7.2\n",
      "nbformat                  5.9.1\n",
      "nest-asyncio              1.5.6\n",
      "notebook_shim             0.2.3\n",
      "overrides                 7.3.1\n",
      "packaging                 23.1\n",
      "pandocfilters             1.5.0\n",
      "parso                     0.8.3\n",
      "pickleshare               0.7.5\n",
      "pip                       23.2\n",
      "PipPackageInstaller       1.0.0    c:\\z github\\recursos\\pypi\n",
      "platformdirs              3.9.1\n",
      "prometheus-client         0.17.1\n",
      "prompt-toolkit            3.0.39\n",
      "psutil                    5.9.5\n",
      "psycopg2                  2.9.6\n",
      "pure-eval                 0.2.2\n",
      "py4j                      0.10.9.7\n",
      "pycparser                 2.21\n",
      "Pygments                  2.15.1\n",
      "pymongo                   4.4.1\n",
      "pyspark                   3.4.1\n",
      "python-dateutil           2.8.2\n",
      "python-json-logger        2.0.7\n",
      "pywin32                   306\n",
      "pywinpty                  2.0.11\n",
      "PyYAML                    6.0.1\n",
      "pyzmq                     25.1.0\n",
      "referencing               0.30.0\n",
      "requests                  2.31.0\n",
      "rfc3339-validator         0.1.4\n",
      "rfc3986-validator         0.1.1\n",
      "rpds-py                   0.9.2\n",
      "Send2Trash                1.8.2\n",
      "setuptools                68.0.0\n",
      "six                       1.16.0\n",
      "sniffio                   1.3.0\n",
      "soupsieve                 2.4.1\n",
      "stack-data                0.6.2\n",
      "terminado                 0.17.1\n",
      "tinycss2                  1.2.1\n",
      "tomli                     2.0.1\n",
      "tornado                   6.3.2\n",
      "traitlets                 5.9.0\n",
      "typing_extensions         4.7.1\n",
      "uri-template              1.3.0\n",
      "urllib3                   2.0.4\n",
      "wcwidth                   0.2.6\n",
      "webcolors                 1.13\n",
      "webencodings              0.5.1\n",
      "websocket-client          1.6.1\n",
      "wheel                     0.40.0\n",
      "zipp                      3.16.2\n"
     ]
    }
   ],
   "source": [
    "!pip list"
   ]
  },
  {
   "cell_type": "code",
   "execution_count": 3,
   "id": "32fcb6c5-2208-4ec5-9500-28f071f38c6f",
   "metadata": {},
   "outputs": [],
   "source": [
    "from PipPackageInstaller import PipPackageCustomInstaller"
   ]
  },
  {
   "cell_type": "code",
   "execution_count": 4,
   "id": "8d8a554e-47af-4a68-8b4f-320ea113879b",
   "metadata": {},
   "outputs": [
    {
     "name": "stdout",
     "output_type": "stream",
     "text": [
      "The installation of package_name==None has been requested. Please note that package_name==0.1 is the latest version available on PyPI.\n",
      "The package package_name is available on PyPI in the following versions: ['0.1'].\n",
      "Latest available version: package_name==0.1\n"
     ]
    }
   ],
   "source": [
    "from PipPackageInstaller import PipPackageCustomInstaller\n",
    "\n",
    "package_name = \"package_name\"  # Replace \"package_name\" with the desired package name\n",
    "installer = PipPackageCustomInstaller(package_name)\n",
    "package_info = installer.package_exists_on_pypi()\n",
    "\n",
    "if package_info[0]:\n",
    "    package_to_install = package_info[0]\n",
    "    available_versions = package_info[1]\n",
    "    print(f\"The package {package_name} is available on PyPI in the following versions: {available_versions}.\")\n",
    "    print(f\"Latest available version: {package_to_install}\")\n",
    "else:\n",
    "    print(f\"The package {package_name} is not available on PyPI.\")"
   ]
  },
  {
   "cell_type": "code",
   "execution_count": 6,
   "id": "1d3487b2-a18a-45ba-bb75-afcd980c0ac3",
   "metadata": {},
   "outputs": [
    {
     "name": "stdout",
     "output_type": "stream",
     "text": [
      "The installation of pandas==1.5.0 has been requested. Please note that pandas==2.0.3 is the latest version available on PyPI.\n",
      "Installing the package pandas==1.5.0 ...\n"
     ]
    },
    {
     "name": "stderr",
     "output_type": "stream",
     "text": [
      "WARNING: pip is being invoked by an old script wrapper. This will fail in a future version of pip.\n",
      "Please see https://github.com/pypa/pip/issues/5599 for advice on fixing the underlying issue.\n",
      "To avoid this problem you can invoke Python with '-m pip' instead of running pip directly.\n"
     ]
    },
    {
     "data": {
      "text/html": [
       "<pre style=\"white-space:pre;overflow-x:auto;line-height:normal;font-family:Menlo,'DejaVu Sans Mono',consolas,'Courier New',monospace\"><span style=\"color: #800000; text-decoration-color: #800000\">ERROR: Can not perform a '--user' install. User site-packages are not visible in this virtualenv.\n",
       "</span></pre>\n"
      ],
      "text/plain": [
       "\u001b[31mERROR: Can not perform a '--user' install. User site-packages are not visible in this virtualenv.\u001b[0m\u001b[31m\n",
       "\u001b[0m"
      ]
     },
     "metadata": {},
     "output_type": "display_data"
    },
    {
     "name": "stdout",
     "output_type": "stream",
     "text": [
      "The package pandas==1.5.0 has been installed successfully.\n"
     ]
    }
   ],
   "source": [
    "from PipPackageInstaller import PipPackageCustomInstaller\n",
    "\n",
    "package_name = \"pandas\"  # Replace \"package_name\" with the desired package name\n",
    "version_to_install = \"1.5.0\"  # Replace \"desired_version\" with the specific version you want to install\n",
    "\n",
    "installer = PipPackageCustomInstaller(package_name, version_to_install)\n",
    "installation_result = installer.install_package()\n",
    "\n",
    "if installation_result is None:\n",
    "    print(\"The package is already installed or not found on PyPI.\")\n",
    "elif installation_result.startswith(\"The package\"):\n",
    "    print(installation_result)  # Installation success message\n",
    "else:\n",
    "    print(f\"Error installing the package: {installation_result}\")"
   ]
  },
  {
   "cell_type": "code",
   "execution_count": 11,
   "id": "eec19777-e17e-4d70-82d1-4013d25c13f0",
   "metadata": {},
   "outputs": [
    {
     "name": "stdout",
     "output_type": "stream",
     "text": [
      "The installation of pandas==1.5.0 has been requested. Please note that pandas==2.0.3 is the latest version available on PyPI.\n",
      "Installing the package pandas==1.5.0 ...\n"
     ]
    },
    {
     "name": "stderr",
     "output_type": "stream",
     "text": [
      "WARNING: pip is being invoked by an old script wrapper. This will fail in a future version of pip.\n",
      "Please see https://github.com/pypa/pip/issues/5599 for advice on fixing the underlying issue.\n",
      "To avoid this problem you can invoke Python with '-m pip' instead of running pip directly.\n"
     ]
    },
    {
     "data": {
      "text/html": [
       "<pre style=\"white-space:pre;overflow-x:auto;line-height:normal;font-family:Menlo,'DejaVu Sans Mono',consolas,'Courier New',monospace\"><span style=\"color: #800000; text-decoration-color: #800000\">ERROR: Can not perform a '--user' install. User site-packages are not visible in this virtualenv.\n",
       "</span></pre>\n"
      ],
      "text/plain": [
       "\u001b[31mERROR: Can not perform a '--user' install. User site-packages are not visible in this virtualenv.\u001b[0m\u001b[31m\n",
       "\u001b[0m"
      ]
     },
     "metadata": {},
     "output_type": "display_data"
    },
    {
     "name": "stdout",
     "output_type": "stream",
     "text": [
      "The package pandas==1.5.0 has been installed successfully.\n"
     ]
    }
   ],
   "source": [
    "from PipPackageInstaller import PipPackageCustomInstaller\n",
    "\n",
    "package_name = \"pandas\"  # Reemplazar \"nombre_paquete\" por el nombre del paquete deseado\n",
    "version_to_install = \"1.5.0\"  # Reemplazar \"version_deseada\" por la versión específica que deseas instalar\n",
    "\n",
    "installer = PipPackageCustomInstaller(package_name, version_to_install)\n",
    "installation_result = installer.install_package()\n",
    "\n",
    "if installation_result is None:\n",
    "    print(\"El paquete ya está instalado o no se encontró en PyPI.\")\n",
    "elif installation_result.startswith(\"The package\"):\n",
    "    print(installation_result)  # Éxito en la instalación\n",
    "else:\n",
    "    print(f\"Error al instalar el paquete: {installation_result}\")"
   ]
  },
  {
   "cell_type": "code",
   "execution_count": null,
   "id": "32de1bf7-442d-4e89-b458-b614197b952c",
   "metadata": {},
   "outputs": [],
   "source": []
  }
 ],
 "metadata": {
  "kernelspec": {
   "display_name": "Python 3 (ipykernel)",
   "language": "python",
   "name": "python3"
  },
  "language_info": {
   "codemirror_mode": {
    "name": "ipython",
    "version": 3
   },
   "file_extension": ".py",
   "mimetype": "text/x-python",
   "name": "python",
   "nbconvert_exporter": "python",
   "pygments_lexer": "ipython3",
   "version": "3.9.2rc1"
  }
 },
 "nbformat": 4,
 "nbformat_minor": 5
}
