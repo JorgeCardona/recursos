{
 "cells": [
  {
   "cell_type": "code",
   "execution_count": 1,
   "id": "640e86da-8204-4f68-a196-37fcf8869edb",
   "metadata": {},
   "outputs": [],
   "source": [
    "import os\n",
    "import papermill as pm\n",
    "from IPython.display import display, HTML\n",
    "\n",
    "def create_directory_if_not_exists(directory):\n",
    "    \"\"\"\n",
    "    Ensures that the specified directory exists. If it doesn't, the directory is created.\n",
    "\n",
    "    Parameters:\n",
    "    directory (str): The path of the directory to check or create.\n",
    "    \"\"\"\n",
    "    if not os.path.exists(directory):\n",
    "        os.makedirs(directory)  # Create the directory if it doesn't exist\n",
    "        print(f\"Directory {directory} created.\")\n",
    "\n",
    "def run_notebook_with_parameters(input_path, output_path, params, processed_notebook_dir=\"./processed_notebook\"):\n",
    "    \"\"\"\n",
    "    Executes a single Jupyter notebook with specified parameters and saves the result\n",
    "    in the processed notebooks directory.\n",
    "\n",
    "    Parameters:\n",
    "    input_path (str): The path to the input notebook to execute.\n",
    "    output_path (str): The path to save the processed notebook result.\n",
    "    params (dict): The parameters to pass to the notebook.\n",
    "    processed_notebooks_dir (str): The directory where the processed notebooks will be saved.\n",
    "    \"\"\"\n",
    "    # Ensure the processed notebooks directory exists\n",
    "    create_directory_if_not_exists(processed_notebook_dir)\n",
    "\n",
    "    print(f\"Executing {input_path} with parameters ⚡ {params} ⚡ ...\")\n",
    "    try:\n",
    "        # Execute the notebook with the provided parameters\n",
    "        execution = pm.execute_notebook(\n",
    "            input_path=input_path,\n",
    "            output_path=output_path,\n",
    "            parameters=params\n",
    "        )\n",
    "        # Create a hyperlink for the result\n",
    "        display(HTML(f\"✅ Execution successful, check the result at the following link -> <a href='{output_path}' target='_blank'>{output_path}</a>\"))\n",
    "    except Exception as e:\n",
    "        print(f\"Error executing {input_path}: {e}\")\n",
    "        execution = None\n",
    "        display(HTML(f\"❌ Execution failed, check the error details and result at the following link -> <a href='{output_path}' target='_blank'>{output_path}</a>\"))\n",
    "    print()\n",
    "    return execution\n",
    "\n",
    "def display_notebook_variables_and_values(notebook_output_values, notebook_name):\n",
    "    \"\"\"\n",
    "    Displays variable details extracted from a notebook.\n",
    "\n",
    "    Args:\n",
    "        notebook_output_values (dict): The extracted variable data from the notebook.\n",
    "        notebook_name (str): The name of the notebook being processed.\n",
    "\n",
    "    Returns:\n",
    "        None\n",
    "    \"\"\"\n",
    "    if notebook_output_values and isinstance(notebook_output_values, dict):\n",
    "        print(f\"The Notebook Name is {notebook_name}\")\n",
    "        \n",
    "        # Iterate over each cell's data\n",
    "        for key, value in notebook_output_values.items():\n",
    "            print(f\"⚓ The execution cell number is = {value['execution_cell_number']}\")\n",
    "            print(f\"🌀 The operation in the cell is = {value['variable_operation']}\")\n",
    "            print(f\"♻️ The variable cell name is = {value['variable_name']}\")\n",
    "            print(f\"ℹ️ The result of the cell is = {value['variable_value']}\")\n",
    "            print()\n",
    "    else:\n",
    "        print(\"Skipping invalid or empty notebook entry.\")\n",
    "        print()\n",
    "        \n",
    "def extract_variable_data_from_notebook_cells(notebook_results):\n",
    "    \"\"\"\n",
    "    Extracts variable data from the notebook cells and outputs the variable name,\n",
    "    the operation (source), and the value associated with each variable.\n",
    "\n",
    "    Args:\n",
    "        notebook_results (dict): The notebook content in dictionary format.\n",
    "\n",
    "    Returns:\n",
    "        dict: A dictionary with cell execution count as keys and a dictionary of \n",
    "              'variable_operation', 'variable_name', and 'variable_value'.\n",
    "    \"\"\"\n",
    "    output_values = {}\n",
    "\n",
    "    # Ensure notebook_results is not None and contains the expected 'cells' key\n",
    "    if notebook_results and isinstance(notebook_results, dict):\n",
    "        for cell in notebook_results.get('cells', []):\n",
    "            # Process only code cells with outputs\n",
    "            if cell.get('cell_type') == 'code' and 'outputs' in cell:\n",
    "                for output in cell.get('outputs', []):\n",
    "                    # Check if the output contains 'text/plain' data\n",
    "                    text_plain = output.get('data', {}).get('text/plain')\n",
    "                    if text_plain:\n",
    "                        source = cell.get('source', '').strip()\n",
    "                        \n",
    "                        # If there's an equals sign on the left side (variable assignment)\n",
    "                        if \"=\" in source:\n",
    "                            variable_names = [var.strip() for var in source.split(\"=\")[0].split(\",\")]\n",
    "                            values = [text_plain.strip()]\n",
    "\n",
    "                            # If there are multiple variables on the left-hand side\n",
    "                            if len(variable_names) > 1:\n",
    "                                # Remove the first and last characters only if the right-hand side is a list or tuple\n",
    "                                if text_plain.strip().startswith('[') or text_plain.strip().startswith('('):\n",
    "                                    # Strip the first and last characters (i.e., the brackets or parentheses)\n",
    "                                    values = text_plain.strip()[1:-1].split(',')\n",
    "                                else:\n",
    "                                    values = text_plain.strip().split(',')\n",
    "                                values = [val.strip() for val in values]\n",
    "\n",
    "                                # Store each variable with its corresponding value\n",
    "                                for i, variable in enumerate(variable_names):\n",
    "                                    key = f\"cell_{cell.get('execution_count')}_{i + 1}\"\n",
    "                                    output_values[key] = {\n",
    "                                        \"execution_cell_number\": f\"cell_{cell.get('execution_count')}\",\n",
    "                                        \"variable_operation\": source,\n",
    "                                        \"variable_name\": variable,\n",
    "                                        \"variable_value\": values[i] if i < len(values) else None\n",
    "                                    }\n",
    "                            else:\n",
    "                                # Handle a single variable assignment with a full value\n",
    "                                output_values[f\"cell_{cell.get('execution_count')}\"] = {\n",
    "                                    \"execution_cell_number\": f\"cell_{cell.get('execution_count')}\",\n",
    "                                    \"variable_operation\": source,\n",
    "                                    \"variable_name\": variable_names[0],\n",
    "                                    \"variable_value\": values[0]\n",
    "                                }\n",
    "                        else:\n",
    "                            # Handle the case when no variable assignment occurs\n",
    "                            variable_name = source.split()[0] if source else None\n",
    "                            output_values[f\"cell_{cell.get('execution_count')}\"] = {\n",
    "                                \"execution_cell_number\": f\"cell_{cell.get('execution_count')}\",\n",
    "                                \"variable_operation\": source,\n",
    "                                \"variable_name\": variable_name,\n",
    "                                \"variable_value\": text_plain\n",
    "                            }\n",
    "    return output_values"
   ]
  },
  {
   "cell_type": "code",
   "execution_count": 2,
   "id": "2bb5d19c-7257-473a-8669-861a7950289b",
   "metadata": {
    "scrolled": true
   },
   "outputs": [
    {
     "name": "stderr",
     "output_type": "stream",
     "text": [
      "Passed unknown parameter: params\n"
     ]
    },
    {
     "name": "stdout",
     "output_type": "stream",
     "text": [
      "Executing 1_Add.ipynb with parameters ⚡ {'params': [10, 5, 7]} ⚡ ...\n"
     ]
    },
    {
     "data": {
      "application/vnd.jupyter.widget-view+json": {
       "model_id": "2bc04d1a09ca4e17bd39ec66a18bff59",
       "version_major": 2,
       "version_minor": 0
      },
      "text/plain": [
       "Executing:   0%|          | 0/4 [00:00<?, ?cell/s]"
      ]
     },
     "metadata": {},
     "output_type": "display_data"
    },
    {
     "data": {
      "text/html": [
       "✅ Execution successful, check the result at the following link -> <a href='./processed_notebook/add_executed.ipynb' target='_blank'>./processed_notebook/add_executed.ipynb</a>"
      ],
      "text/plain": [
       "<IPython.core.display.HTML object>"
      ]
     },
     "metadata": {},
     "output_type": "display_data"
    },
    {
     "name": "stdout",
     "output_type": "stream",
     "text": [
      "\n",
      "Executing 4_Divide.ipynb with parameters ⚡ {'x': 20, 'y': 0} ⚡ ...\n"
     ]
    },
    {
     "data": {
      "application/vnd.jupyter.widget-view+json": {
       "model_id": "0a4e7cc489b14618b385c18c01558692",
       "version_major": 2,
       "version_minor": 0
      },
      "text/plain": [
       "Executing:   0%|          | 0/4 [00:00<?, ?cell/s]"
      ]
     },
     "metadata": {},
     "output_type": "display_data"
    },
    {
     "name": "stdout",
     "output_type": "stream",
     "text": [
      "Error executing 4_Divide.ipynb: \n",
      "---------------------------------------------------------------------------\n",
      "Exception encountered at \"In [4]\":\n",
      "---------------------------------------------------------------------------\n",
      "ZeroDivisionError                         Traceback (most recent call last)\n",
      "Cell In[4], line 1\n",
      "----> 1 divide(x,y)\n",
      "\n",
      "Cell In[3], line 2, in divide(x, y)\n",
      "      1 def divide(x,y):\n",
      "----> 2     return x/y\n",
      "\n",
      "ZeroDivisionError: division by zero\n",
      "\n"
     ]
    },
    {
     "data": {
      "text/html": [
       "❌ Execution failed, check the error details and result at the following link -> <a href='./processed_notebook/divide_executed.ipynb' target='_blank'>./processed_notebook/divide_executed.ipynb</a>"
      ],
      "text/plain": [
       "<IPython.core.display.HTML object>"
      ]
     },
     "metadata": {},
     "output_type": "display_data"
    },
    {
     "name": "stdout",
     "output_type": "stream",
     "text": [
      "\n",
      "Executing 2_Subtract.ipynb with parameters ⚡ {'x': 10, 'y': 3} ⚡ ...\n"
     ]
    },
    {
     "data": {
      "application/vnd.jupyter.widget-view+json": {
       "model_id": "411e676751954aab8a02af86c17ba224",
       "version_major": 2,
       "version_minor": 0
      },
      "text/plain": [
       "Executing:   0%|          | 0/4 [00:00<?, ?cell/s]"
      ]
     },
     "metadata": {},
     "output_type": "display_data"
    },
    {
     "data": {
      "text/html": [
       "✅ Execution successful, check the result at the following link -> <a href='./processed_notebook/subtract_executed.ipynb' target='_blank'>./processed_notebook/subtract_executed.ipynb</a>"
      ],
      "text/plain": [
       "<IPython.core.display.HTML object>"
      ]
     },
     "metadata": {},
     "output_type": "display_data"
    },
    {
     "name": "stderr",
     "output_type": "stream",
     "text": [
      "Passed unknown parameter: inject_values\n"
     ]
    },
    {
     "name": "stdout",
     "output_type": "stream",
     "text": [
      "\n",
      "Executing 3_Multiply.ipynb with parameters ⚡ {'inject_values': {'x': [2, 3], 'y': [4, 5]}} ⚡ ...\n"
     ]
    },
    {
     "data": {
      "application/vnd.jupyter.widget-view+json": {
       "model_id": "004064012daa4cd3813750e57865fdc9",
       "version_major": 2,
       "version_minor": 0
      },
      "text/plain": [
       "Executing:   0%|          | 0/12 [00:00<?, ?cell/s]"
      ]
     },
     "metadata": {},
     "output_type": "display_data"
    },
    {
     "data": {
      "text/html": [
       "✅ Execution successful, check the result at the following link -> <a href='./processed_notebook/multiply_executed.ipynb' target='_blank'>./processed_notebook/multiply_executed.ipynb</a>"
      ],
      "text/plain": [
       "<IPython.core.display.HTML object>"
      ]
     },
     "metadata": {},
     "output_type": "display_data"
    },
    {
     "name": "stdout",
     "output_type": "stream",
     "text": [
      "\n"
     ]
    }
   ],
   "source": [
    "processed_directory = \"./processed_notebook\"\n",
    "\n",
    "notebooks_with_parameters = [\n",
    "    (\"1_Add.ipynb\", f\"{processed_directory}/add_executed.ipynb\", {\"params\": [10, 5, 7]}),\n",
    "    (\"4_Divide.ipynb\", f\"{processed_directory}/divide_executed.ipynb\", {\"x\": 20, \"y\": 0}),\n",
    "    (\"2_Subtract.ipynb\", f\"{processed_directory}/subtract_executed.ipynb\", {\"x\": 10, \"y\": 3}),\n",
    "    (\"3_Multiply.ipynb\", f\"{processed_directory}/multiply_executed.ipynb\", {\"inject_values\": {'x': [2, 3], 'y': [4, 5]}}),\n",
    "]\n",
    "\n",
    "notebook_execution_results = list()\n",
    "\n",
    "for input_path, output_path, params in notebooks_with_parameters:\n",
    "    results = run_notebook_with_parameters(input_path, output_path, params)\n",
    "    notebook_execution_results.append({\"notebook_name\":input_path, \"notebook_output_data\": results})"
   ]
  },
  {
   "cell_type": "markdown",
   "id": "a7b0429a-7c0c-4f1c-ae21-31b865a3e54e",
   "metadata": {},
   "source": [
    "# OBTENER LOS VALORES DE LAS VARIABLES DE CADA NOTEBOOK"
   ]
  },
  {
   "cell_type": "code",
   "execution_count": 3,
   "id": "fa3ccd01-564d-4354-8bc1-612098843a42",
   "metadata": {
    "scrolled": true
   },
   "outputs": [],
   "source": [
    "variable_data_from_notebook = list()\n",
    "\n",
    "for notebook_execution in notebook_execution_results:\n",
    "    notebook_name = notebook_execution.get('notebook_name')\n",
    "    notebook_data = extract_variable_data_from_notebook_cells(notebook_execution.get('notebook_output_data'))\n",
    "    variable_data_from_notebook.append({'notebook_name': notebook_name, 'notebook_data':notebook_data})"
   ]
  },
  {
   "cell_type": "markdown",
   "id": "16c27f58-c3e7-4110-9297-240bd109ccee",
   "metadata": {
    "scrolled": true
   },
   "source": [
    "# VER EL VALOR DE LAS VARIABLES DE CADA NOTEBOOK"
   ]
  },
  {
   "cell_type": "code",
   "execution_count": 4,
   "id": "3dfca4dc-77cb-4808-85c5-5a5d73f76972",
   "metadata": {
    "scrolled": true
   },
   "outputs": [
    {
     "name": "stdout",
     "output_type": "stream",
     "text": [
      "The Notebook Name is 1_Add.ipynb\n",
      "⚓ The execution cell number is = cell_3\n",
      "🌀 The operation in the cell is = add(*params)\n",
      "♻️ The variable cell name is = add(*params)\n",
      "ℹ️ The result of the cell is = 22\n",
      "\n",
      "Skipping invalid or empty notebook entry.\n",
      "\n",
      "The Notebook Name is 2_Subtract.ipynb\n",
      "⚓ The execution cell number is = cell_4\n",
      "🌀 The operation in the cell is = subtract(x,y)\n",
      "♻️ The variable cell name is = subtract(x,y)\n",
      "ℹ️ The result of the cell is = 7\n",
      "\n",
      "The Notebook Name is 3_Multiply.ipynb\n",
      "⚓ The execution cell number is = cell_4\n",
      "🌀 The operation in the cell is = multiply(x,y)\n",
      "♻️ The variable cell name is = multiply(x,y)\n",
      "ℹ️ The result of the cell is = 45\n",
      "\n",
      "⚓ The execution cell number is = cell_5\n",
      "🌀 The operation in the cell is = one = multiply(x,y)\n",
      "one\n",
      "♻️ The variable cell name is = one\n",
      "ℹ️ The result of the cell is = 45\n",
      "\n",
      "⚓ The execution cell number is = cell_6\n",
      "🌀 The operation in the cell is = two = multiply(x,y) * 2\n",
      "two\n",
      "♻️ The variable cell name is = two\n",
      "ℹ️ The result of the cell is = 90\n",
      "\n",
      "⚓ The execution cell number is = cell_7\n",
      "🌀 The operation in the cell is = three = multiply(x,y) * 3\n",
      "three\n",
      "♻️ The variable cell name is = three\n",
      "ℹ️ The result of the cell is = 135\n",
      "\n",
      "⚓ The execution cell number is = cell_8\n",
      "🌀 The operation in the cell is = four = one + two + three\n",
      "four\n",
      "♻️ The variable cell name is = four\n",
      "ℹ️ The result of the cell is = 270\n",
      "\n",
      "⚓ The execution cell number is = cell_9\n",
      "🌀 The operation in the cell is = five, six, sevent, eight = one, two, three, four\n",
      "five, six, sevent, eight\n",
      "♻️ The variable cell name is = five\n",
      "ℹ️ The result of the cell is = 45\n",
      "\n",
      "⚓ The execution cell number is = cell_9\n",
      "🌀 The operation in the cell is = five, six, sevent, eight = one, two, three, four\n",
      "five, six, sevent, eight\n",
      "♻️ The variable cell name is = six\n",
      "ℹ️ The result of the cell is = 90\n",
      "\n",
      "⚓ The execution cell number is = cell_9\n",
      "🌀 The operation in the cell is = five, six, sevent, eight = one, two, three, four\n",
      "five, six, sevent, eight\n",
      "♻️ The variable cell name is = sevent\n",
      "ℹ️ The result of the cell is = 135\n",
      "\n",
      "⚓ The execution cell number is = cell_9\n",
      "🌀 The operation in the cell is = five, six, sevent, eight = one, two, three, four\n",
      "five, six, sevent, eight\n",
      "♻️ The variable cell name is = eight\n",
      "ℹ️ The result of the cell is = 270\n",
      "\n",
      "⚓ The execution cell number is = cell_10\n",
      "🌀 The operation in the cell is = nine = [five, six, sevent, eight]\n",
      "nine\n",
      "♻️ The variable cell name is = nine\n",
      "ℹ️ The result of the cell is = [45, 90, 135, 270]\n",
      "\n",
      "⚓ The execution cell number is = cell_11\n",
      "🌀 The operation in the cell is = ten = {'one':one, 'two':two, 'nine':nine}\n",
      "ten\n",
      "♻️ The variable cell name is = ten\n",
      "ℹ️ The result of the cell is = {'one': 45, 'two': 90, 'nine': [45, 90, 135, 270]}\n",
      "\n"
     ]
    }
   ],
   "source": [
    "for variable_from_notebook in variable_data_from_notebook:\n",
    "    notebook_name = variable_from_notebook.get('notebook_name')\n",
    "    notebook_data = variable_from_notebook.get('notebook_data')\n",
    "    display_notebook_variables_and_values(notebook_data, notebook_name)"
   ]
  }
 ],
 "metadata": {
  "kernelspec": {
   "display_name": "Python - ML - Data Science",
   "language": "python",
   "name": "python3"
  },
  "language_info": {
   "codemirror_mode": {
    "name": "ipython",
    "version": 3
   },
   "file_extension": ".py",
   "mimetype": "text/x-python",
   "name": "python",
   "nbconvert_exporter": "python",
   "pygments_lexer": "ipython3",
   "version": "3.12.7"
  }
 },
 "nbformat": 4,
 "nbformat_minor": 5
}
