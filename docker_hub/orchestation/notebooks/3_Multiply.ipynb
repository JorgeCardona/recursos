{
 "cells": [
  {
   "cell_type": "markdown",
   "id": "edc4ab3d-1026-47c0-915b-dd85c598f71d",
   "metadata": {
    "editable": true,
    "slideshow": {
     "slide_type": ""
    },
    "tags": [
     "parameters"
    ]
   },
   "source": [
    "# Replace all parameters here by declaring this cell with `CellTags` and adding 'parameters' as the tag value."
   ]
  },
  {
   "cell_type": "code",
   "execution_count": 1,
   "id": "07485a1f-e079-4912-9ef3-ebe75639a2c6",
   "metadata": {
    "editable": true,
    "slideshow": {
     "slide_type": ""
    },
    "tags": []
   },
   "outputs": [],
   "source": [
    "def multiply(x,y):\n",
    "    return x*y"
   ]
  },
  {
   "cell_type": "code",
   "execution_count": null,
   "id": "1af1c9db-8fac-4117-a7a8-c238d84757f8",
   "metadata": {
    "editable": true,
    "slideshow": {
     "slide_type": ""
    },
    "tags": []
   },
   "outputs": [],
   "source": [
    "x = sum(inject_values.get(\"x\"))\n",
    "y = sum(inject_values.get(\"y\"))"
   ]
  },
  {
   "cell_type": "code",
   "execution_count": null,
   "id": "92580810-6512-42d1-91ce-13fe7cf91699",
   "metadata": {},
   "outputs": [],
   "source": [
    "multiply(x,y)"
   ]
  },
  {
   "cell_type": "code",
   "execution_count": null,
   "id": "0080fca1-a557-4154-a693-7c1d1741045c",
   "metadata": {},
   "outputs": [],
   "source": [
    "one = multiply(x,y)\n",
    "one"
   ]
  },
  {
   "cell_type": "code",
   "execution_count": null,
   "id": "17b2d429-c152-4853-a270-18fe86d5a7fe",
   "metadata": {},
   "outputs": [],
   "source": [
    "two = multiply(x,y) * 2\n",
    "two"
   ]
  },
  {
   "cell_type": "code",
   "execution_count": null,
   "id": "1b0a0aaa-7b5b-4b95-bacf-a17aebbd77f5",
   "metadata": {},
   "outputs": [],
   "source": [
    "three = multiply(x,y) * 3\n",
    "three"
   ]
  },
  {
   "cell_type": "code",
   "execution_count": null,
   "id": "b02ac4bf-b1c1-4062-9d0b-dea30ae689d9",
   "metadata": {},
   "outputs": [],
   "source": [
    "four = one + two + three\n",
    "four"
   ]
  },
  {
   "cell_type": "code",
   "execution_count": null,
   "id": "04259a82-24e9-44f4-bf6f-0bd5d5285893",
   "metadata": {},
   "outputs": [],
   "source": [
    "five, six, sevent, eight = one, two, three, four\n",
    "five, six, sevent, eight"
   ]
  },
  {
   "cell_type": "code",
   "execution_count": null,
   "id": "63ecb6f7-b497-469d-9e5c-56f54ab56c11",
   "metadata": {},
   "outputs": [],
   "source": [
    "nine = [five, six, sevent, eight]\n",
    "nine"
   ]
  },
  {
   "cell_type": "code",
   "execution_count": null,
   "id": "38e29daf-15fa-4821-a5a8-836592ed5c55",
   "metadata": {},
   "outputs": [],
   "source": [
    "ten = {'one':one, 'two':two, 'nine':nine}\n",
    "ten"
   ]
  }
 ],
 "metadata": {
  "kernelspec": {
   "display_name": "Python - ML - Data Science",
   "language": "python",
   "name": "python3"
  },
  "language_info": {
   "codemirror_mode": {
    "name": "ipython",
    "version": 3
   },
   "file_extension": ".py",
   "mimetype": "text/x-python",
   "name": "python",
   "nbconvert_exporter": "python",
   "pygments_lexer": "ipython3",
   "version": "3.12.7"
  }
 },
 "nbformat": 4,
 "nbformat_minor": 5
}
