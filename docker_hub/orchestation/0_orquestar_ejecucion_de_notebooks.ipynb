{
 "cells": [
  {
   "cell_type": "markdown",
   "id": "92769198-71ad-477e-9225-22daa5b601bf",
   "metadata": {
    "editable": true,
    "slideshow": {
     "slide_type": ""
    },
    "tags": []
   },
   "source": [
    "# PASAR PARAMETROS Y PONER UNA CELDA NEUVA CON LOS VALORES PASADOS COMO PARAMETROS"
   ]
  },
  {
   "cell_type": "code",
   "execution_count": 1,
   "id": "74e1c823-ae91-4e6c-9323-52c573ec4cd8",
   "metadata": {
    "editable": true,
    "slideshow": {
     "slide_type": ""
    },
    "tags": []
   },
   "outputs": [
    {
     "name": "stderr",
     "output_type": "stream",
     "text": [
      "Passed unknown parameter: x\n",
      "Passed unknown parameter: y\n",
      "Input notebook does not contain a cell with tag 'parameters'\n"
     ]
    },
    {
     "name": "stdout",
     "output_type": "stream",
     "text": [
      "Ejecutando 1_sumar.ipynb con parámetros {'x': 10, 'y': 5}...\n"
     ]
    },
    {
     "data": {
      "application/vnd.jupyter.widget-view+json": {
       "model_id": "647f367270fb4cef8adb43345e8f88cc",
       "version_major": 2,
       "version_minor": 0
      },
      "text/plain": [
       "Executing:   0%|          | 0/3 [00:00<?, ?cell/s]"
      ]
     },
     "metadata": {},
     "output_type": "display_data"
    },
    {
     "data": {
      "text/html": [
       "Ejecutado correctamente, verifique el resultado en el siguiente link -> <a href='./notebooks_procesados/sumar_ejecutado.ipynb' target='_blank'>./notebooks_procesados/sumar_ejecutado.ipynb</a>"
      ],
      "text/plain": [
       "<IPython.core.display.HTML object>"
      ]
     },
     "metadata": {},
     "output_type": "display_data"
    },
    {
     "name": "stderr",
     "output_type": "stream",
     "text": [
      "Passed unknown parameter: x\n",
      "Passed unknown parameter: y\n",
      "Input notebook does not contain a cell with tag 'parameters'\n"
     ]
    },
    {
     "name": "stdout",
     "output_type": "stream",
     "text": [
      "\n",
      "Ejecutando 2_restar.ipynb con parámetros {'x': 10, 'y': 3}...\n"
     ]
    },
    {
     "data": {
      "application/vnd.jupyter.widget-view+json": {
       "model_id": "96a0bc6da6b044f7a4b14adc7e5b5be0",
       "version_major": 2,
       "version_minor": 0
      },
      "text/plain": [
       "Executing:   0%|          | 0/3 [00:00<?, ?cell/s]"
      ]
     },
     "metadata": {},
     "output_type": "display_data"
    },
    {
     "data": {
      "text/html": [
       "Ejecutado correctamente, verifique el resultado en el siguiente link -> <a href='./notebooks_procesados/restar_ejecutado.ipynb' target='_blank'>./notebooks_procesados/restar_ejecutado.ipynb</a>"
      ],
      "text/plain": [
       "<IPython.core.display.HTML object>"
      ]
     },
     "metadata": {},
     "output_type": "display_data"
    },
    {
     "name": "stderr",
     "output_type": "stream",
     "text": [
      "Passed unknown parameter: x\n",
      "Passed unknown parameter: y\n",
      "Input notebook does not contain a cell with tag 'parameters'\n"
     ]
    },
    {
     "name": "stdout",
     "output_type": "stream",
     "text": [
      "\n",
      "Ejecutando 3_multiplicar.ipynb con parámetros {'x': 4, 'y': 7}...\n"
     ]
    },
    {
     "data": {
      "application/vnd.jupyter.widget-view+json": {
       "model_id": "120628c76dec46d591ff23e58181d2e1",
       "version_major": 2,
       "version_minor": 0
      },
      "text/plain": [
       "Executing:   0%|          | 0/3 [00:00<?, ?cell/s]"
      ]
     },
     "metadata": {},
     "output_type": "display_data"
    },
    {
     "data": {
      "text/html": [
       "Ejecutado correctamente, verifique el resultado en el siguiente link -> <a href='./notebooks_procesados/multiplicar_ejecutado.ipynb' target='_blank'>./notebooks_procesados/multiplicar_ejecutado.ipynb</a>"
      ],
      "text/plain": [
       "<IPython.core.display.HTML object>"
      ]
     },
     "metadata": {},
     "output_type": "display_data"
    },
    {
     "name": "stderr",
     "output_type": "stream",
     "text": [
      "Passed unknown parameter: x\n",
      "Passed unknown parameter: y\n",
      "Input notebook does not contain a cell with tag 'parameters'\n"
     ]
    },
    {
     "name": "stdout",
     "output_type": "stream",
     "text": [
      "\n",
      "Ejecutando 4_dividir.ipynb con parámetros {'x': 20, 'y': 5}...\n"
     ]
    },
    {
     "data": {
      "application/vnd.jupyter.widget-view+json": {
       "model_id": "6172e13924f343eca5d072daa67ce588",
       "version_major": 2,
       "version_minor": 0
      },
      "text/plain": [
       "Executing:   0%|          | 0/3 [00:00<?, ?cell/s]"
      ]
     },
     "metadata": {},
     "output_type": "display_data"
    },
    {
     "data": {
      "text/html": [
       "Ejecutado correctamente, verifique el resultado en el siguiente link -> <a href='./notebooks_procesados/dividir_ejecutado.ipynb' target='_blank'>./notebooks_procesados/dividir_ejecutado.ipynb</a>"
      ],
      "text/plain": [
       "<IPython.core.display.HTML object>"
      ]
     },
     "metadata": {},
     "output_type": "display_data"
    },
    {
     "name": "stdout",
     "output_type": "stream",
     "text": [
      "\n"
     ]
    }
   ],
   "source": [
    "import os\n",
    "import papermill as pm\n",
    "from IPython.display import display, HTML\n",
    "\n",
    "def procesar_notebooks(notebooks, directorio_notebooks_procesados=\"./notebooks_procesados\"):\n",
    "    \"\"\"\n",
    "    Ejecuta una lista de notebooks de Jupyter con parámetros especificados y\n",
    "    guarda los resultados en el directorio de notebooks procesados.\n",
    "\n",
    "    Parámetros:\n",
    "    notebooks (list): Una lista de tuplas con el nombre del notebook, la ruta de salida y los parámetros a pasar.\n",
    "    directorio_notebooks_procesados (str): El directorio donde se guardarán los notebooks procesados.\n",
    "    \"\"\"\n",
    "    # Asegurarse de que el directorio de notebooks procesados exista\n",
    "    if not os.path.exists(directorio_notebooks_procesados):\n",
    "        os.makedirs(directorio_notebooks_procesados)  # Crea el directorio si no existe\n",
    "        print(f\"Directorio {directorio_notebooks_procesados} creado.\")\n",
    "\n",
    "    # Ejecutar cada notebook con sus parámetros específicos\n",
    "    for input_path, output_path, params in notebooks:\n",
    "        print(f\"Ejecutando {input_path} con parámetros {params}...\")\n",
    "        pm.execute_notebook(\n",
    "            input_path=input_path,\n",
    "            output_path=output_path,\n",
    "            parameters=params\n",
    "        )\n",
    "        # Crear el hipervínculo\n",
    "        display(HTML(f\"Ejecutado correctamente, verifique el resultado en el siguiente link -> <a href='{output_path}' target='_blank'>{output_path}</a>\"))\n",
    "        print()\n",
    "        \n",
    "directorio_procesados = \"./notebooks_procesados\"\n",
    "# Lista de notebooks con parámetros específicos\n",
    "notebooks_con_parametros = [\n",
    "    (\"1_sumar.ipynb\", f\"{directorio_procesados}/sumar_ejecutado.ipynb\", {\"x\": 10, \"y\": 5}),\n",
    "    (\"2_restar.ipynb\", f\"{directorio_procesados}/restar_ejecutado.ipynb\", {\"x\": 10, \"y\": 3}),\n",
    "    (\"3_multiplicar.ipynb\",f\"{directorio_procesados}/multiplicar_ejecutado.ipynb\", {\"x\": 4, \"y\": 7}),\n",
    "    (\"4_dividir.ipynb\", f\"{directorio_procesados}/dividir_ejecutado.ipynb\", {\"x\": 20, \"y\": 5}),\n",
    "]\n",
    "\n",
    "# Llamar a la función para ejecutar los notebooks\n",
    "procesar_notebooks(notebooks_con_parametros)"
   ]
  },
  {
   "cell_type": "markdown",
   "id": "c7aeaf5c-fd9b-4f81-993a-d84f37e4f26e",
   "metadata": {
    "editable": true,
    "slideshow": {
     "slide_type": ""
    },
    "tags": []
   },
   "source": [
    "# PASAR PARAMETROS Y ELIMINAR LA CELDA DONDE SE ESPERABAN LOS PARAMETROS Y ADICIONAR LA CELDA CON LOS PARAMETROS ADICONADOS"
   ]
  },
  {
   "cell_type": "code",
   "execution_count": 2,
   "id": "18375889-250e-4c01-9a06-c2e0687c5a54",
   "metadata": {
    "editable": true,
    "slideshow": {
     "slide_type": ""
    },
    "tags": []
   },
   "outputs": [
    {
     "name": "stderr",
     "output_type": "stream",
     "text": [
      "Passed unknown parameter: x\n",
      "Passed unknown parameter: y\n",
      "Input notebook does not contain a cell with tag 'parameters'\n"
     ]
    },
    {
     "name": "stdout",
     "output_type": "stream",
     "text": [
      "Ejecutando 1_sumar.ipynb con parámetros {'x': 10, 'y': 5}...\n"
     ]
    },
    {
     "data": {
      "application/vnd.jupyter.widget-view+json": {
       "model_id": "629ea2658c8f45c2bac2946e481b4ba1",
       "version_major": 2,
       "version_minor": 0
      },
      "text/plain": [
       "Executing:   0%|          | 0/3 [00:00<?, ?cell/s]"
      ]
     },
     "metadata": {},
     "output_type": "display_data"
    },
    {
     "data": {
      "text/html": [
       "Ejecutado correctamente, verifique el resultado en el siguiente link -> <a href='./notebooks_procesados/sumar_ejecutado.ipynb' target='_blank'>./notebooks_procesados/sumar_ejecutado.ipynb</a>"
      ],
      "text/plain": [
       "<IPython.core.display.HTML object>"
      ]
     },
     "metadata": {},
     "output_type": "display_data"
    },
    {
     "name": "stderr",
     "output_type": "stream",
     "text": [
      "Passed unknown parameter: x\n",
      "Passed unknown parameter: y\n",
      "Input notebook does not contain a cell with tag 'parameters'\n"
     ]
    },
    {
     "name": "stdout",
     "output_type": "stream",
     "text": [
      "\n",
      "Ejecutando 2_restar.ipynb con parámetros {'x': 10, 'y': 3}...\n"
     ]
    },
    {
     "data": {
      "application/vnd.jupyter.widget-view+json": {
       "model_id": "ffaec2cee16b482bbb8eca614513f6ab",
       "version_major": 2,
       "version_minor": 0
      },
      "text/plain": [
       "Executing:   0%|          | 0/3 [00:00<?, ?cell/s]"
      ]
     },
     "metadata": {},
     "output_type": "display_data"
    },
    {
     "data": {
      "text/html": [
       "Ejecutado correctamente, verifique el resultado en el siguiente link -> <a href='./notebooks_procesados/restar_ejecutado.ipynb' target='_blank'>./notebooks_procesados/restar_ejecutado.ipynb</a>"
      ],
      "text/plain": [
       "<IPython.core.display.HTML object>"
      ]
     },
     "metadata": {},
     "output_type": "display_data"
    },
    {
     "name": "stderr",
     "output_type": "stream",
     "text": [
      "Passed unknown parameter: x\n",
      "Passed unknown parameter: y\n",
      "Input notebook does not contain a cell with tag 'parameters'\n"
     ]
    },
    {
     "name": "stdout",
     "output_type": "stream",
     "text": [
      "\n",
      "Ejecutando 3_multiplicar.ipynb con parámetros {'x': 4, 'y': 7}...\n"
     ]
    },
    {
     "data": {
      "application/vnd.jupyter.widget-view+json": {
       "model_id": "d906b656944041f7901e083cdb1c8660",
       "version_major": 2,
       "version_minor": 0
      },
      "text/plain": [
       "Executing:   0%|          | 0/3 [00:00<?, ?cell/s]"
      ]
     },
     "metadata": {},
     "output_type": "display_data"
    },
    {
     "data": {
      "text/html": [
       "Ejecutado correctamente, verifique el resultado en el siguiente link -> <a href='./notebooks_procesados/multiplicar_ejecutado.ipynb' target='_blank'>./notebooks_procesados/multiplicar_ejecutado.ipynb</a>"
      ],
      "text/plain": [
       "<IPython.core.display.HTML object>"
      ]
     },
     "metadata": {},
     "output_type": "display_data"
    },
    {
     "name": "stderr",
     "output_type": "stream",
     "text": [
      "Passed unknown parameter: x\n",
      "Passed unknown parameter: y\n",
      "Input notebook does not contain a cell with tag 'parameters'\n"
     ]
    },
    {
     "name": "stdout",
     "output_type": "stream",
     "text": [
      "\n",
      "Ejecutando 4_dividir.ipynb con parámetros {'x': 20, 'y': 5}...\n"
     ]
    },
    {
     "data": {
      "application/vnd.jupyter.widget-view+json": {
       "model_id": "f9188a795a6d4bff966c2e814e4cbd11",
       "version_major": 2,
       "version_minor": 0
      },
      "text/plain": [
       "Executing:   0%|          | 0/3 [00:00<?, ?cell/s]"
      ]
     },
     "metadata": {},
     "output_type": "display_data"
    },
    {
     "data": {
      "text/html": [
       "Ejecutado correctamente, verifique el resultado en el siguiente link -> <a href='./notebooks_procesados/dividir_ejecutado.ipynb' target='_blank'>./notebooks_procesados/dividir_ejecutado.ipynb</a>"
      ],
      "text/plain": [
       "<IPython.core.display.HTML object>"
      ]
     },
     "metadata": {},
     "output_type": "display_data"
    },
    {
     "name": "stdout",
     "output_type": "stream",
     "text": [
      "\n"
     ]
    }
   ],
   "source": [
    "import os\n",
    "import papermill as pm\n",
    "from IPython.display import display, HTML\n",
    "import json\n",
    "\n",
    "def reemplazar_parametros(notebook_path, nuevos_parametros):\n",
    "    \"\"\"\n",
    "    Reemplaza la celda de parámetros en el notebook con los nuevos valores proporcionados.\n",
    "    Elimina la celda con tag 'parameters' después de reemplazar los valores.\n",
    "\n",
    "    Parámetros:\n",
    "    notebook_path (str): Ruta al archivo del notebook.\n",
    "    nuevos_parametros (dict): Diccionario con los nuevos valores de los parámetros a reemplazar.\n",
    "    \"\"\"\n",
    "    with open(notebook_path, 'r') as f:\n",
    "        notebook = json.load(f)\n",
    "    \n",
    "    # Buscar la celda con el tag 'parameters'\n",
    "    for cell in notebook['cells']:\n",
    "        if 'metadata' in cell and 'tags' in cell['metadata'] and 'parameters' in cell['metadata']['tags']:\n",
    "            # Reemplazar los parámetros en la celda\n",
    "            cell['source'] = \"\\n\".join([f\"{k} = {v}\" for k, v in nuevos_parametros.items()])\n",
    "            \n",
    "            # Esperar a eliminar la celda después de reemplazar los valores\n",
    "            break  # Ya hemos encontrado y modificado la celda, no necesitamos continuar buscando\n",
    "    \n",
    "    # Guardar el notebook modificado con los parámetros ya reemplazados\n",
    "    with open(notebook_path, 'w') as f:\n",
    "        json.dump(notebook, f, indent=4)\n",
    "\n",
    "    # Ahora eliminamos la celda después de que los valores hayan sido reemplazados\n",
    "    for cell in notebook['cells']:\n",
    "        if 'metadata' in cell and 'tags' in cell['metadata'] and 'parameters' in cell['metadata']['tags']:\n",
    "            notebook['cells'].remove(cell)  # Eliminar la celda después de reemplazar los valores\n",
    "            break\n",
    "\n",
    "    # Guardar el notebook modificado (con la celda de parámetros eliminada)\n",
    "    with open(notebook_path, 'w') as f:\n",
    "        json.dump(notebook, f, indent=4)\n",
    "\n",
    "def procesar_notebooks(notebooks, directorio_notebooks_procesados=\"./notebooks_procesados\"):\n",
    "    \"\"\"\n",
    "    Ejecuta una lista de notebooks de Jupyter con parámetros especificados y\n",
    "    guarda los resultados en el directorio de notebooks procesados.\n",
    "\n",
    "    Parámetros:\n",
    "    notebooks (list): Una lista de tuplas con el nombre del notebook, la ruta de salida y los parámetros a pasar.\n",
    "    directorio_notebooks_procesados (str): El directorio donde se guardarán los notebooks procesados.\n",
    "    \"\"\"\n",
    "    # Asegurarse de que el directorio de notebooks procesados exista\n",
    "    if not os.path.exists(directorio_notebooks_procesados):\n",
    "        os.makedirs(directorio_notebooks_procesados)  # Crea el directorio si no existe\n",
    "        print(f\"Directorio {directorio_notebooks_procesados} creado.\")\n",
    "\n",
    "    # Ejecutar cada notebook con sus parámetros específicos\n",
    "    for input_path, output_path, params in notebooks:\n",
    "        # Reemplazar los parámetros en el notebook antes de ejecutarlo\n",
    "        reemplazar_parametros(input_path, params)\n",
    "        \n",
    "        # Ejecutar el notebook con los parámetros actualizados\n",
    "        print(f\"Ejecutando {input_path} con parámetros {params}...\")\n",
    "        pm.execute_notebook(\n",
    "            input_path=input_path,\n",
    "            output_path=output_path,\n",
    "            parameters=params\n",
    "        )\n",
    "        \n",
    "        # Crear el hipervínculo\n",
    "        display(HTML(f\"Ejecutado correctamente, verifique el resultado en el siguiente link -> <a href='{output_path}' target='_blank'>{output_path}</a>\"))\n",
    "        print()\n",
    "\n",
    "# Directorio donde se almacenarán los notebooks procesados\n",
    "directorio_procesados = \"./notebooks_procesados\"\n",
    "\n",
    "# Lista de notebooks con parámetros específicos\n",
    "notebooks_con_parametros = [\n",
    "    (\"1_sumar.ipynb\", f\"{directorio_procesados}/sumar_ejecutado.ipynb\", {\"x\": 10, \"y\": 5}),\n",
    "    (\"2_restar.ipynb\", f\"{directorio_procesados}/restar_ejecutado.ipynb\", {\"x\": 10, \"y\": 3}),\n",
    "    (\"3_multiplicar.ipynb\", f\"{directorio_procesados}/multiplicar_ejecutado.ipynb\", {\"x\": 4, \"y\": 7}),\n",
    "    (\"4_dividir.ipynb\", f\"{directorio_procesados}/dividir_ejecutado.ipynb\", {\"x\": 20, \"y\": 5}),\n",
    "]\n",
    "\n",
    "# Llamar a la función para ejecutar los notebooks\n",
    "procesar_notebooks(notebooks_con_parametros)"
   ]
  }
 ],
 "metadata": {
  "kernelspec": {
   "display_name": "Python - ML - Data Science",
   "language": "python",
   "name": "python3"
  },
  "language_info": {
   "codemirror_mode": {
    "name": "ipython",
    "version": 3
   },
   "file_extension": ".py",
   "mimetype": "text/x-python",
   "name": "python",
   "nbconvert_exporter": "python",
   "pygments_lexer": "ipython3",
   "version": "3.12.7"
  }
 },
 "nbformat": 4,
 "nbformat_minor": 5
}
