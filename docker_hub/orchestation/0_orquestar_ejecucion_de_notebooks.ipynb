{
 "cells": [
  {
   "cell_type": "code",
   "execution_count": 10,
   "id": "74e1c823-ae91-4e6c-9323-52c573ec4cd8",
   "metadata": {
    "editable": true,
    "slideshow": {
     "slide_type": ""
    },
    "tags": []
   },
   "outputs": [
    {
     "name": "stderr",
     "output_type": "stream",
     "text": [
      "Passed unknown parameter: x\n",
      "Passed unknown parameter: y\n",
      "Input notebook does not contain a cell with tag 'parameters'\n"
     ]
    },
    {
     "name": "stdout",
     "output_type": "stream",
     "text": [
      "Ejecutando 1_sumar.ipynb con parámetros {'x': 10, 'y': 5}...\n"
     ]
    },
    {
     "data": {
      "application/vnd.jupyter.widget-view+json": {
       "model_id": "1f272498e9a841bba60514ac48ff81a1",
       "version_major": 2,
       "version_minor": 0
      },
      "text/plain": [
       "Executing:   0%|          | 0/3 [00:00<?, ?cell/s]"
      ]
     },
     "metadata": {},
     "output_type": "display_data"
    },
    {
     "data": {
      "text/html": [
       "Ejecutado correctamente, verifique el resultado en el siguiente link -> <a href='./notebooks_procesados/sumar_ejecutado.ipynb' target='_blank'>./notebooks_procesados/sumar_ejecutado.ipynb</a>"
      ],
      "text/plain": [
       "<IPython.core.display.HTML object>"
      ]
     },
     "metadata": {},
     "output_type": "display_data"
    },
    {
     "name": "stderr",
     "output_type": "stream",
     "text": [
      "Passed unknown parameter: x\n",
      "Passed unknown parameter: y\n",
      "Input notebook does not contain a cell with tag 'parameters'\n"
     ]
    },
    {
     "name": "stdout",
     "output_type": "stream",
     "text": [
      "\n",
      "Ejecutando 2_restar.ipynb con parámetros {'x': 10, 'y': 3}...\n"
     ]
    },
    {
     "data": {
      "application/vnd.jupyter.widget-view+json": {
       "model_id": "d927e9dc77b741838cfc32b25bef5b2a",
       "version_major": 2,
       "version_minor": 0
      },
      "text/plain": [
       "Executing:   0%|          | 0/3 [00:00<?, ?cell/s]"
      ]
     },
     "metadata": {},
     "output_type": "display_data"
    },
    {
     "data": {
      "text/html": [
       "Ejecutado correctamente, verifique el resultado en el siguiente link -> <a href='./notebooks_procesados/restar_ejecutado.ipynb' target='_blank'>./notebooks_procesados/restar_ejecutado.ipynb</a>"
      ],
      "text/plain": [
       "<IPython.core.display.HTML object>"
      ]
     },
     "metadata": {},
     "output_type": "display_data"
    },
    {
     "name": "stderr",
     "output_type": "stream",
     "text": [
      "Passed unknown parameter: x\n",
      "Passed unknown parameter: y\n",
      "Input notebook does not contain a cell with tag 'parameters'\n"
     ]
    },
    {
     "name": "stdout",
     "output_type": "stream",
     "text": [
      "\n",
      "Ejecutando 3_multiplicar.ipynb con parámetros {'x': 4, 'y': 7}...\n"
     ]
    },
    {
     "data": {
      "application/vnd.jupyter.widget-view+json": {
       "model_id": "ad8e5aa4715e4145bf815050046e5569",
       "version_major": 2,
       "version_minor": 0
      },
      "text/plain": [
       "Executing:   0%|          | 0/3 [00:00<?, ?cell/s]"
      ]
     },
     "metadata": {},
     "output_type": "display_data"
    },
    {
     "data": {
      "text/html": [
       "Ejecutado correctamente, verifique el resultado en el siguiente link -> <a href='./notebooks_procesados/multiplicar_ejecutado.ipynb' target='_blank'>./notebooks_procesados/multiplicar_ejecutado.ipynb</a>"
      ],
      "text/plain": [
       "<IPython.core.display.HTML object>"
      ]
     },
     "metadata": {},
     "output_type": "display_data"
    },
    {
     "name": "stderr",
     "output_type": "stream",
     "text": [
      "Passed unknown parameter: x\n",
      "Passed unknown parameter: y\n",
      "Input notebook does not contain a cell with tag 'parameters'\n"
     ]
    },
    {
     "name": "stdout",
     "output_type": "stream",
     "text": [
      "\n",
      "Ejecutando 4_dividir.ipynb con parámetros {'x': 20, 'y': 5}...\n"
     ]
    },
    {
     "data": {
      "application/vnd.jupyter.widget-view+json": {
       "model_id": "33c2854651cf427caa9d714e3e4f313f",
       "version_major": 2,
       "version_minor": 0
      },
      "text/plain": [
       "Executing:   0%|          | 0/3 [00:00<?, ?cell/s]"
      ]
     },
     "metadata": {},
     "output_type": "display_data"
    },
    {
     "data": {
      "text/html": [
       "Ejecutado correctamente, verifique el resultado en el siguiente link -> <a href='./notebooks_procesados/dividir_ejecutado.ipynb' target='_blank'>./notebooks_procesados/dividir_ejecutado.ipynb</a>"
      ],
      "text/plain": [
       "<IPython.core.display.HTML object>"
      ]
     },
     "metadata": {},
     "output_type": "display_data"
    },
    {
     "name": "stdout",
     "output_type": "stream",
     "text": [
      "\n"
     ]
    }
   ],
   "source": [
    "import os\n",
    "import papermill as pm\n",
    "from IPython.display import display, HTML\n",
    "\n",
    "def procesar_notebooks(notebooks, directorio_notebooks_procesados=\"./notebooks_procesados\"):\n",
    "    \"\"\"\n",
    "    Ejecuta una lista de notebooks de Jupyter con parámetros especificados y\n",
    "    guarda los resultados en el directorio de notebooks procesados.\n",
    "\n",
    "    Parámetros:\n",
    "    notebooks (list): Una lista de tuplas con el nombre del notebook, la ruta de salida y los parámetros a pasar.\n",
    "    directorio_notebooks_procesados (str): El directorio donde se guardarán los notebooks procesados.\n",
    "    \"\"\"\n",
    "    # Asegurarse de que el directorio de notebooks procesados exista\n",
    "    if not os.path.exists(directorio_notebooks_procesados):\n",
    "        os.makedirs(directorio_notebooks_procesados)  # Crea el directorio si no existe\n",
    "        print(f\"Directorio {directorio_notebooks_procesados} creado.\")\n",
    "\n",
    "    # Ejecutar cada notebook con sus parámetros específicos\n",
    "    for input_path, output_path, params in notebooks:\n",
    "        print(f\"Ejecutando {input_path} con parámetros {params}...\")\n",
    "        pm.execute_notebook(\n",
    "            input_path=input_path,\n",
    "            output_path=output_path,\n",
    "            parameters=params\n",
    "        )\n",
    "        # Crear el hipervínculo\n",
    "        display(HTML(f\"Ejecutado correctamente, verifique el resultado en el siguiente link -> <a href='{output_path}' target='_blank'>{output_path}</a>\"))\n",
    "        print()\n",
    "        \n",
    "directorio_procesados = \"./notebooks_procesados\"\n",
    "# Lista de notebooks con parámetros específicos\n",
    "notebooks_con_parametros = [\n",
    "    (\"1_sumar.ipynb\", f\"{directorio_procesados}/sumar_ejecutado.ipynb\", {\"x\": 10, \"y\": 5}),\n",
    "    (\"2_restar.ipynb\", f\"{directorio_procesados}/restar_ejecutado.ipynb\", {\"x\": 10, \"y\": 3}),\n",
    "    (\"3_multiplicar.ipynb\",f\"{directorio_procesados}/multiplicar_ejecutado.ipynb\", {\"x\": 4, \"y\": 7}),\n",
    "    (\"4_dividir.ipynb\", f\"{directorio_procesados}/dividir_ejecutado.ipynb\", {\"x\": 20, \"y\": 5}),\n",
    "]\n",
    "\n",
    "# Llamar a la función para ejecutar los notebooks\n",
    "procesar_notebooks(notebooks_con_parametros)"
   ]
  },
  {
   "cell_type": "code",
   "execution_count": null,
   "id": "df80459b-d4c3-40ff-90dd-ecb571203d71",
   "metadata": {
    "editable": true,
    "slideshow": {
     "slide_type": ""
    },
    "tags": [
     "injected-parameters"
    ]
   },
   "outputs": [],
   "source": []
  }
 ],
 "metadata": {
  "kernelspec": {
   "display_name": "Python - ML - Data Science",
   "language": "python",
   "name": "python3"
  },
  "language_info": {
   "codemirror_mode": {
    "name": "ipython",
    "version": 3
   },
   "file_extension": ".py",
   "mimetype": "text/x-python",
   "name": "python",
   "nbconvert_exporter": "python",
   "pygments_lexer": "ipython3",
   "version": "3.12.7"
  },
  "toc": {
   "base_numbering": 465465
  }
 },
 "nbformat": 4,
 "nbformat_minor": 5
}
