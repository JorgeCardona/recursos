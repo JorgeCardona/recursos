{
 "cells": [
  {
   "cell_type": "markdown",
   "id": "92769198-71ad-477e-9225-22daa5b601bf",
   "metadata": {
    "editable": true,
    "slideshow": {
     "slide_type": ""
    },
    "tags": []
   },
   "source": [
    "# PASAR PARAMETROS Y PONER UNA CELDA NEUVA CON LOS VALORES PASADOS COMO PARAMETROS"
   ]
  },
  {
   "cell_type": "code",
   "execution_count": 1,
   "id": "74e1c823-ae91-4e6c-9323-52c573ec4cd8",
   "metadata": {
    "editable": true,
    "slideshow": {
     "slide_type": ""
    },
    "tags": []
   },
   "outputs": [
    {
     "name": "stderr",
     "output_type": "stream",
     "text": [
      "Passed unknown parameter: x\n",
      "Passed unknown parameter: y\n"
     ]
    },
    {
     "name": "stdout",
     "output_type": "stream",
     "text": [
      "Ejecutando 1_sumar.ipynb con parámetros {'x': 10, 'y': 5}...\n"
     ]
    },
    {
     "data": {
      "application/vnd.jupyter.widget-view+json": {
       "model_id": "814af19f8b5549fea550d72cab4007be",
       "version_major": 2,
       "version_minor": 0
      },
      "text/plain": [
       "Executing:   0%|          | 0/4 [00:00<?, ?cell/s]"
      ]
     },
     "metadata": {},
     "output_type": "display_data"
    },
    {
     "data": {
      "text/html": [
       "Ejecutado correctamente, verifique el resultado en el siguiente link -> <a href='./notebooks_procesados/sumar_ejecutado.ipynb' target='_blank'>./notebooks_procesados/sumar_ejecutado.ipynb</a>"
      ],
      "text/plain": [
       "<IPython.core.display.HTML object>"
      ]
     },
     "metadata": {},
     "output_type": "display_data"
    },
    {
     "name": "stdout",
     "output_type": "stream",
     "text": [
      "\n",
      "Ejecutando 4_dividir.ipynb con parámetros {'x': 20, 'y': 0}...\n"
     ]
    },
    {
     "data": {
      "application/vnd.jupyter.widget-view+json": {
       "model_id": "8941d586618645869d863679cae66aad",
       "version_major": 2,
       "version_minor": 0
      },
      "text/plain": [
       "Executing:   0%|          | 0/4 [00:00<?, ?cell/s]"
      ]
     },
     "metadata": {},
     "output_type": "display_data"
    },
    {
     "name": "stdout",
     "output_type": "stream",
     "text": [
      "Error al ejecutar 4_dividir.ipynb: \n",
      "---------------------------------------------------------------------------\n",
      "Exception encountered at \"In [4]\":\n",
      "---------------------------------------------------------------------------\n",
      "ZeroDivisionError                         Traceback (most recent call last)\n",
      "Cell In[4], line 1\n",
      "----> 1 dividir(x,y)\n",
      "\n",
      "Cell In[3], line 2, in dividir(x, y)\n",
      "      1 def dividir(x,y):\n",
      "----> 2     return x/y\n",
      "\n",
      "ZeroDivisionError: division by zero\n",
      "\n",
      "\n",
      "Ejecutando 2_restar.ipynb con parámetros {'x': 10, 'y': 3}...\n"
     ]
    },
    {
     "data": {
      "application/vnd.jupyter.widget-view+json": {
       "model_id": "59676031efa44bf6a1a550805a4bbe2d",
       "version_major": 2,
       "version_minor": 0
      },
      "text/plain": [
       "Executing:   0%|          | 0/4 [00:00<?, ?cell/s]"
      ]
     },
     "metadata": {},
     "output_type": "display_data"
    },
    {
     "data": {
      "text/html": [
       "Ejecutado correctamente, verifique el resultado en el siguiente link -> <a href='./notebooks_procesados/restar_ejecutado.ipynb' target='_blank'>./notebooks_procesados/restar_ejecutado.ipynb</a>"
      ],
      "text/plain": [
       "<IPython.core.display.HTML object>"
      ]
     },
     "metadata": {},
     "output_type": "display_data"
    },
    {
     "name": "stdout",
     "output_type": "stream",
     "text": [
      "\n",
      "Ejecutando 3_multiplicar.ipynb con parámetros {'x': 4, 'y': 7}...\n"
     ]
    },
    {
     "data": {
      "application/vnd.jupyter.widget-view+json": {
       "model_id": "dc8a7f5e39a6464bbaaaa56d009446e1",
       "version_major": 2,
       "version_minor": 0
      },
      "text/plain": [
       "Executing:   0%|          | 0/4 [00:00<?, ?cell/s]"
      ]
     },
     "metadata": {},
     "output_type": "display_data"
    },
    {
     "data": {
      "text/html": [
       "Ejecutado correctamente, verifique el resultado en el siguiente link -> <a href='./notebooks_procesados/multiplicar_ejecutado.ipynb' target='_blank'>./notebooks_procesados/multiplicar_ejecutado.ipynb</a>"
      ],
      "text/plain": [
       "<IPython.core.display.HTML object>"
      ]
     },
     "metadata": {},
     "output_type": "display_data"
    },
    {
     "name": "stdout",
     "output_type": "stream",
     "text": [
      "\n"
     ]
    }
   ],
   "source": [
    "import os\n",
    "import papermill as pm\n",
    "from IPython.display import display, HTML\n",
    "\n",
    "def procesar_notebooks(notebooks, directorio_notebooks_procesados=\"./notebooks_procesados\"):\n",
    "    \"\"\"\n",
    "    Ejecuta una lista de notebooks de Jupyter con parámetros especificados y\n",
    "    guarda los resultados en el directorio de notebooks procesados.\n",
    "\n",
    "    Parámetros:\n",
    "    notebooks (list): Una lista de tuplas con el nombre del notebook, la ruta de salida y los parámetros a pasar.\n",
    "    directorio_notebooks_procesados (str): El directorio donde se guardarán los notebooks procesados.\n",
    "    \"\"\"\n",
    "    # Asegurarse de que el directorio de notebooks procesados exista\n",
    "    if not os.path.exists(directorio_notebooks_procesados):\n",
    "        os.makedirs(directorio_notebooks_procesados)  # Crea el directorio si no existe\n",
    "        print(f\"Directorio {directorio_notebooks_procesados} creado.\")\n",
    "\n",
    "    # Ejecutar cada notebook con sus parámetros específicos\n",
    "    for input_path, output_path, params in notebooks:\n",
    "        try:\n",
    "            print(f\"Ejecutando {input_path} con parámetros {params}...\")\n",
    "            pm.execute_notebook(\n",
    "                input_path=input_path,\n",
    "                output_path=output_path,\n",
    "                parameters=params\n",
    "            )\n",
    "            # Crear el hipervínculo\n",
    "            display(HTML(f\"Ejecutado correctamente, verifique el resultado en el siguiente link -> <a href='{output_path}' target='_blank'>{output_path}</a>\"))\n",
    "        except Exception as e:\n",
    "            print(f\"Error al ejecutar {input_path}: {e}\")\n",
    "        print()\n",
    "        \n",
    "directorio_procesados = \"./notebooks_procesados\"\n",
    "# Lista de notebooks con parámetros específicos\n",
    "notebooks_con_parametros = [\n",
    "    (\"1_sumar.ipynb\", f\"{directorio_procesados}/sumar_ejecutado.ipynb\", {\"x\": 10, \"y\": 5}),\n",
    "    (\"4_dividir.ipynb\", f\"{directorio_procesados}/dividir_ejecutado.ipynb\", {\"x\": 20, \"y\": 0}),\n",
    "    (\"2_restar.ipynb\", f\"{directorio_procesados}/restar_ejecutado.ipynb\", {\"x\": 10, \"y\": 3}),\n",
    "    (\"3_multiplicar.ipynb\", f\"{directorio_procesados}/multiplicar_ejecutado.ipynb\", {\"x\": 4, \"y\": 7}),\n",
    "]\n",
    "\n",
    "# Llamar a la función para ejecutar los notebooks\n",
    "procesar_notebooks(notebooks_con_parametros)\n"
   ]
  },
  {
   "cell_type": "markdown",
   "id": "c7aeaf5c-fd9b-4f81-993a-d84f37e4f26e",
   "metadata": {
    "editable": true,
    "slideshow": {
     "slide_type": ""
    },
    "tags": []
   },
   "source": [
    "# PASAR PARAMETROS Y ELIMINAR LA CELDA DONDE SE ESPERABAN LOS PARAMETROS Y ADICIONAR LA CELDA CON LOS PARAMETROS ADICONADOS"
   ]
  },
  {
   "cell_type": "code",
   "execution_count": 2,
   "id": "b3db294b-da54-4451-9ecd-cf3f4f520450",
   "metadata": {
    "editable": true,
    "slideshow": {
     "slide_type": ""
    },
    "tags": []
   },
   "outputs": [
    {
     "name": "stdout",
     "output_type": "stream",
     "text": [
      "Procesando el notebook 1_sumar.ipynb con parámetros {'x': 10, 'y': 5}...\n",
      "Ejecutando ./notebooks_procesados/sumar_ejecutado.ipynb...\n"
     ]
    },
    {
     "data": {
      "application/vnd.jupyter.widget-view+json": {
       "model_id": "5459ae630427491a8583df14d24e5ff2",
       "version_major": 2,
       "version_minor": 0
      },
      "text/plain": [
       "Executing:   0%|          | 0/4 [00:00<?, ?cell/s]"
      ]
     },
     "metadata": {},
     "output_type": "display_data"
    },
    {
     "data": {
      "text/html": [
       "Ejecutado correctamente, verifique el resultado en el siguiente link -> <a href='./notebooks_procesados/sumar_ejecutado.ipynb' target='_blank'>./notebooks_procesados/sumar_ejecutado.ipynb</a>"
      ],
      "text/plain": [
       "<IPython.core.display.HTML object>"
      ]
     },
     "metadata": {},
     "output_type": "display_data"
    },
    {
     "name": "stdout",
     "output_type": "stream",
     "text": [
      "\n",
      "Procesando el notebook 2_restar.ipynb con parámetros {'x': 10, 'y': 3}...\n",
      "Ejecutando ./notebooks_procesados/restar_ejecutado.ipynb...\n"
     ]
    },
    {
     "data": {
      "application/vnd.jupyter.widget-view+json": {
       "model_id": "34e7acdf9b194dfbb820096e5397fcca",
       "version_major": 2,
       "version_minor": 0
      },
      "text/plain": [
       "Executing:   0%|          | 0/4 [00:00<?, ?cell/s]"
      ]
     },
     "metadata": {},
     "output_type": "display_data"
    },
    {
     "data": {
      "text/html": [
       "Ejecutado correctamente, verifique el resultado en el siguiente link -> <a href='./notebooks_procesados/restar_ejecutado.ipynb' target='_blank'>./notebooks_procesados/restar_ejecutado.ipynb</a>"
      ],
      "text/plain": [
       "<IPython.core.display.HTML object>"
      ]
     },
     "metadata": {},
     "output_type": "display_data"
    },
    {
     "name": "stdout",
     "output_type": "stream",
     "text": [
      "\n",
      "Procesando el notebook 3_multiplicar.ipynb con parámetros {'x': 4, 'y': 7}...\n",
      "Ejecutando ./notebooks_procesados/multiplicar_ejecutado.ipynb...\n"
     ]
    },
    {
     "data": {
      "application/vnd.jupyter.widget-view+json": {
       "model_id": "827e977cf23f48bc980a56eb28618f6b",
       "version_major": 2,
       "version_minor": 0
      },
      "text/plain": [
       "Executing:   0%|          | 0/4 [00:00<?, ?cell/s]"
      ]
     },
     "metadata": {},
     "output_type": "display_data"
    },
    {
     "data": {
      "text/html": [
       "Ejecutado correctamente, verifique el resultado en el siguiente link -> <a href='./notebooks_procesados/multiplicar_ejecutado.ipynb' target='_blank'>./notebooks_procesados/multiplicar_ejecutado.ipynb</a>"
      ],
      "text/plain": [
       "<IPython.core.display.HTML object>"
      ]
     },
     "metadata": {},
     "output_type": "display_data"
    },
    {
     "name": "stdout",
     "output_type": "stream",
     "text": [
      "\n",
      "Procesando el notebook 4_dividir.ipynb con parámetros {'x': 20, 'y': 0}...\n",
      "Ejecutando ./notebooks_procesados/dividir_ejecutado.ipynb...\n"
     ]
    },
    {
     "data": {
      "application/vnd.jupyter.widget-view+json": {
       "model_id": "4c17572b05b746f6b2616d5fe59bfa9a",
       "version_major": 2,
       "version_minor": 0
      },
      "text/plain": [
       "Executing:   0%|          | 0/4 [00:00<?, ?cell/s]"
      ]
     },
     "metadata": {},
     "output_type": "display_data"
    },
    {
     "name": "stdout",
     "output_type": "stream",
     "text": [
      "Error al procesar 4_dividir.ipynb: \n",
      "---------------------------------------------------------------------------\n",
      "Exception encountered at \"In [4]\":\n",
      "---------------------------------------------------------------------------\n",
      "ZeroDivisionError                         Traceback (most recent call last)\n",
      "Cell In[4], line 1\n",
      "----> 1 dividir(x,y)\n",
      "\n",
      "Cell In[3], line 2, in dividir(x, y)\n",
      "      1 def dividir(x,y):\n",
      "----> 2     return x/y\n",
      "\n",
      "ZeroDivisionError: division by zero\n",
      "\n",
      "\n"
     ]
    }
   ],
   "source": [
    "import json\n",
    "import papermill as pm\n",
    "from IPython.display import display, HTML\n",
    "import os\n",
    "\n",
    "def reemplazar_parametros_en_nuevo_notebook(notebook_path, nuevos_parametros, output_path):\n",
    "    \"\"\"\n",
    "    Lee el notebook original, reemplaza los parámetros y guarda un nuevo notebook procesado sin la celda de parámetros.\n",
    "    \n",
    "    Parámetros:\n",
    "    notebook_path (str): Ruta al archivo original del notebook.\n",
    "    nuevos_parametros (dict): Diccionario con los nuevos valores de los parámetros a reemplazar.\n",
    "    output_path (str): Ruta donde se guardará el nuevo notebook con los parámetros reemplazados.\n",
    "    \"\"\"\n",
    "    with open(notebook_path, 'r') as f:\n",
    "        notebook = json.load(f)\n",
    "    \n",
    "    nuevo_notebook = notebook.copy()\n",
    "    \n",
    "    for cell in nuevo_notebook['cells']:\n",
    "        if 'metadata' in cell and 'tags' in cell['metadata'] and 'parameters' in cell['metadata']['tags']:\n",
    "            cell['source'] = \"\\n\".join([f\"{k} = {v}\" for k, v in nuevos_parametros.items()])\n",
    "\n",
    "    with open(output_path, 'w') as f:\n",
    "        json.dump(nuevo_notebook, f, indent=4)\n",
    "\n",
    "def procesar_notebooks(notebooks, directorio_notebooks_procesados=\"./notebooks_procesados\"):\n",
    "    \"\"\"\n",
    "    Ejecuta una lista de notebooks de Jupyter con parámetros especificados y\n",
    "    guarda los resultados en el directorio de notebooks procesados.\n",
    "    \n",
    "    Parámetros:\n",
    "    notebooks (list): Una lista de tuplas con el nombre del notebook, la ruta de salida y los parámetros a pasar.\n",
    "    directorio_notebooks_procesados (str): El directorio donde se guardarán los notebooks procesados.\n",
    "    \"\"\"\n",
    "    if not os.path.exists(directorio_notebooks_procesados):\n",
    "        os.makedirs(directorio_notebooks_procesados)\n",
    "        print(f\"Directorio {directorio_notebooks_procesados} creado.\")\n",
    "\n",
    "    for input_path, output_path, params in notebooks:\n",
    "        try:\n",
    "            print(f\"Procesando el notebook {input_path} con parámetros {params}...\")\n",
    "            reemplazar_parametros_en_nuevo_notebook(input_path, params, output_path)\n",
    "            \n",
    "            print(f\"Ejecutando {output_path}...\")\n",
    "            pm.execute_notebook(\n",
    "                input_path=output_path,\n",
    "                output_path=output_path,\n",
    "                parameters=params\n",
    "            )\n",
    "\n",
    "            with open(output_path, 'r') as f:\n",
    "                nuevo_notebook = json.load(f)\n",
    "\n",
    "            for i, cell in enumerate(nuevo_notebook['cells']):\n",
    "                if 'metadata' in cell and 'tags' in cell['metadata'] and 'parameters' in cell['metadata']['tags']:\n",
    "                    del nuevo_notebook['cells'][i]\n",
    "                    break\n",
    "\n",
    "            with open(output_path, 'w') as f:\n",
    "                json.dump(nuevo_notebook, f, indent=4)\n",
    "\n",
    "            display(HTML(f\"Ejecutado correctamente, verifique el resultado en el siguiente link -> <a href='{output_path}' target='_blank'>{output_path}</a>\"))\n",
    "        except Exception as e:\n",
    "            print(f\"Error al procesar {input_path}: {e}\")\n",
    "        print()\n",
    "\n",
    "directorio_procesados = \"./notebooks_procesados\"\n",
    "notebooks_con_parametros = [\n",
    "    (\"1_sumar.ipynb\", f\"{directorio_procesados}/sumar_ejecutado.ipynb\", {\"x\": 10, \"y\": 5}),\n",
    "    (\"2_restar.ipynb\", f\"{directorio_procesados}/restar_ejecutado.ipynb\", {\"x\": 10, \"y\": 3}),\n",
    "    (\"3_multiplicar.ipynb\", f\"{directorio_procesados}/multiplicar_ejecutado.ipynb\", {\"x\": 4, \"y\": 7}),\n",
    "    (\"4_dividir.ipynb\", f\"{directorio_procesados}/dividir_ejecutado.ipynb\", {\"x\": 20, \"y\": 0}),\n",
    "]\n",
    "\n",
    "procesar_notebooks(notebooks_con_parametros)\n"
   ]
  }
 ],
 "metadata": {
  "kernelspec": {
   "display_name": "Python - ML - Data Science",
   "language": "python",
   "name": "python3"
  },
  "language_info": {
   "codemirror_mode": {
    "name": "ipython",
    "version": 3
   },
   "file_extension": ".py",
   "mimetype": "text/x-python",
   "name": "python",
   "nbconvert_exporter": "python",
   "pygments_lexer": "ipython3",
   "version": "3.12.7"
  }
 },
 "nbformat": 4,
 "nbformat_minor": 5
}
