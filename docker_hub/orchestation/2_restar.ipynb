{
    "cells": [
        {
            "cell_type": "code",
            "execution_count": null,
            "id": "5869055a-e253-4a0b-a5a0-da5b4b12eba8",
            "metadata": {
                "editable": true,
                "slideshow": {
                    "slide_type": ""
                },
                "tags": []
            },
            "outputs": [],
            "source": [
                "def resta(x,y):\n",
                "    return x-y"
            ]
        },
        {
            "cell_type": "code",
            "execution_count": null,
            "id": "ae31bd56-1a08-440a-b95c-8b8f2f52e3b4",
            "metadata": {
                "editable": true,
                "slideshow": {
                    "slide_type": ""
                },
                "tags": []
            },
            "outputs": [],
            "source": [
                "resta(x,y)"
            ]
        }
    ],
    "metadata": {
        "kernelspec": {
            "display_name": "Python - ML - Data Science",
            "language": "python",
            "name": "python3"
        },
        "language_info": {
            "codemirror_mode": {
                "name": "ipython",
                "version": 3
            },
            "file_extension": ".py",
            "mimetype": "text/x-python",
            "name": "python",
            "nbconvert_exporter": "python",
            "pygments_lexer": "ipython3",
            "version": "3.12.7"
        }
    },
    "nbformat": 4,
    "nbformat_minor": 5
}