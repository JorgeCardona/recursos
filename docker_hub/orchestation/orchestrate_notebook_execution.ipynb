{
 "cells": [
  {
   "cell_type": "code",
   "execution_count": 1,
   "id": "640e86da-8204-4f68-a196-37fcf8869edb",
   "metadata": {},
   "outputs": [],
   "source": [
    "import os\n",
    "import papermill as pm\n",
    "from IPython.display import display, HTML\n",
    "\n",
    "def create_directory_if_not_exists(directory):\n",
    "    \"\"\"\n",
    "    Ensures that the specified directory exists. If it doesn't, the directory is created.\n",
    "\n",
    "    Parameters:\n",
    "    directory (str): The path of the directory to check or create.\n",
    "    \"\"\"\n",
    "    if not os.path.exists(directory):\n",
    "        os.makedirs(directory)  # Create the directory if it doesn't exist\n",
    "        print(f\"Directory {directory} created.\")\n",
    "\n",
    "def run_notebook_with_parameters(input_path, output_path, params, processed_notebook_dir=\"./processed_notebook\"):\n",
    "    \"\"\"\n",
    "    Executes a single Jupyter notebook with specified parameters and saves the result\n",
    "    in the processed notebooks directory.\n",
    "\n",
    "    Parameters:\n",
    "    input_path (str): The path to the input notebook to execute.\n",
    "    output_path (str): The path to save the processed notebook result.\n",
    "    params (dict): The parameters to pass to the notebook.\n",
    "    processed_notebooks_dir (str): The directory where the processed notebooks will be saved.\n",
    "    \"\"\"\n",
    "    # Ensure the processed notebooks directory exists\n",
    "    create_directory_if_not_exists(processed_notebook_dir)\n",
    "\n",
    "    try:\n",
    "        print(f\"Executing {input_path} with parameters {params}...\")\n",
    "        # Execute the notebook with the provided parameters\n",
    "        execution = pm.execute_notebook(\n",
    "            input_path=input_path,\n",
    "            output_path=output_path,\n",
    "            parameters=params\n",
    "        )\n",
    "        # Create a hyperlink for the result\n",
    "        display(HTML(f\"Execution successful, check the result at the following link -> <a href='{output_path}' target='_blank'>{output_path}</a>\"))\n",
    "    except Exception as e:\n",
    "        print(f\"Error executing {input_path}: {e}\")\n",
    "        execution = None\n",
    "        display(HTML(f\"Execution failed, check the error details and result at the following link -> <a href='{output_path}' target='_blank'>{output_path}</a>\"))\n",
    "    print()\n",
    "    return execution\n",
    "\n",
    "def extract_variable_data_from_notebook_cells(notebook_results):\n",
    "    \"\"\"\n",
    "    Extracts variable data from the notebook cells and outputs the variable name,\n",
    "    the operation (source), and the value associated with each variable.\n",
    "\n",
    "    Args:\n",
    "        notebook_results (dict): The notebook content in dictionary format.\n",
    "\n",
    "    Returns:\n",
    "        dict: A dictionary with cell execution count as keys and a dictionary of \n",
    "              'variable_operation', 'variable_name', and 'variable_value'.\n",
    "    \"\"\"\n",
    "    output_values = {}\n",
    "\n",
    "    for cell in notebook_results.get('cells', []):\n",
    "        # Process only code cells with outputs\n",
    "        if cell.get('cell_type') == 'code' and 'outputs' in cell:\n",
    "            for output in cell.get('outputs', []):\n",
    "                # Check if the output contains 'text/plain' data\n",
    "                text_plain = output.get('data', {}).get('text/plain')\n",
    "                if text_plain:\n",
    "                    source = cell.get('source', '').strip()\n",
    "                    variable_name = source.split(\"=\")[0].strip() if \"=\" in source else None\n",
    "                    output_values[f\"cell_{cell.get('execution_count')}\"] = {\n",
    "                        \"variable_operation\": source or None,\n",
    "                        \"variable_name\": variable_name,\n",
    "                        \"variable_value\": text_plain\n",
    "                    }\n",
    "\n",
    "    return output_values\n",
    "\n",
    "def display_notebook_variables_and_values(notebook, notebook_name):\n",
    "    \"\"\"\n",
    "    Displays variable details extracted from a notebook.\n",
    "\n",
    "    Args:\n",
    "        notebook (dict): The notebook content to process.\n",
    "        notebook_name (str): The name of the notebook being processed.\n",
    "\n",
    "    Returns:\n",
    "        None\n",
    "    \"\"\"\n",
    "    if notebook and isinstance(notebook, dict) and 'cells' in notebook:\n",
    "        # Extracting the data\n",
    "        output_values = extract_variable_data_from_notebook_cells(notebook)\n",
    "\n",
    "        print(f\"The Notebook Name is {notebook_name}\")\n",
    "        for key, value in output_values.items():\n",
    "            print(f\"The Cell Number is = {key}\")\n",
    "            print(f\"The variable_operation is = {value['variable_operation']}\")\n",
    "            print(f\"The variable_name is = {value['variable_name']}\")\n",
    "            print(f\"The variable_value is = {value['variable_value']}\")\n",
    "            print()\n",
    "    else:\n",
    "        print(\"Skipping invalid or empty notebook entry.\")\n",
    "        print()"
   ]
  },
  {
   "cell_type": "code",
   "execution_count": 2,
   "id": "2bb5d19c-7257-473a-8669-861a7950289b",
   "metadata": {
    "scrolled": true
   },
   "outputs": [
    {
     "name": "stderr",
     "output_type": "stream",
     "text": [
      "Passed unknown parameter: params\n"
     ]
    },
    {
     "name": "stdout",
     "output_type": "stream",
     "text": [
      "Executing 1_Add.ipynb with parameters {'params': [10, 5, 7]}...\n"
     ]
    },
    {
     "data": {
      "application/vnd.jupyter.widget-view+json": {
       "model_id": "e5b9e97289e74ca9ac88c5daf5581a7e",
       "version_major": 2,
       "version_minor": 0
      },
      "text/plain": [
       "Executing:   0%|          | 0/4 [00:00<?, ?cell/s]"
      ]
     },
     "metadata": {},
     "output_type": "display_data"
    },
    {
     "data": {
      "text/html": [
       "Execution successful, check the result at the following link -> <a href='./processed_notebook/sumar_ejecutado.ipynb' target='_blank'>./processed_notebook/sumar_ejecutado.ipynb</a>"
      ],
      "text/plain": [
       "<IPython.core.display.HTML object>"
      ]
     },
     "metadata": {},
     "output_type": "display_data"
    },
    {
     "name": "stdout",
     "output_type": "stream",
     "text": [
      "\n",
      "Executing 4_dividir.ipynb with parameters {'x': 20, 'y': 0}...\n"
     ]
    },
    {
     "data": {
      "application/vnd.jupyter.widget-view+json": {
       "model_id": "750aa75994e34a8e993410832c7edb8c",
       "version_major": 2,
       "version_minor": 0
      },
      "text/plain": [
       "Executing:   0%|          | 0/4 [00:00<?, ?cell/s]"
      ]
     },
     "metadata": {},
     "output_type": "display_data"
    },
    {
     "name": "stdout",
     "output_type": "stream",
     "text": [
      "Error executing 4_dividir.ipynb: \n",
      "---------------------------------------------------------------------------\n",
      "Exception encountered at \"In [4]\":\n",
      "---------------------------------------------------------------------------\n",
      "ZeroDivisionError                         Traceback (most recent call last)\n",
      "Cell In[4], line 1\n",
      "----> 1 dividir(x,y)\n",
      "\n",
      "Cell In[3], line 2, in dividir(x, y)\n",
      "      1 def dividir(x,y):\n",
      "----> 2     return x/y\n",
      "\n",
      "ZeroDivisionError: division by zero\n",
      "\n"
     ]
    },
    {
     "data": {
      "text/html": [
       "Execution failed, check the error details and result at the following link -> <a href='./processed_notebook/dividir_ejecutado.ipynb' target='_blank'>./processed_notebook/dividir_ejecutado.ipynb</a>"
      ],
      "text/plain": [
       "<IPython.core.display.HTML object>"
      ]
     },
     "metadata": {},
     "output_type": "display_data"
    },
    {
     "name": "stdout",
     "output_type": "stream",
     "text": [
      "\n",
      "Executing 2_restar.ipynb with parameters {'x': 10, 'y': 3}...\n"
     ]
    },
    {
     "data": {
      "application/vnd.jupyter.widget-view+json": {
       "model_id": "c7e4d84d2678481b9f6d205b97edd0a0",
       "version_major": 2,
       "version_minor": 0
      },
      "text/plain": [
       "Executing:   0%|          | 0/4 [00:00<?, ?cell/s]"
      ]
     },
     "metadata": {},
     "output_type": "display_data"
    },
    {
     "name": "stderr",
     "output_type": "stream",
     "text": [
      "Exception in thread Heartbeat:\n",
      "Traceback (most recent call last):\n",
      "  File \"/usr/local/lib/python3.12/threading.py\", line 1075, in _bootstrap_inner\n",
      "    self.run()\n",
      "  File \"/usr/local/lib/python3.12/site-packages/ipykernel/heartbeat.py\", line 99, in run\n",
      "    self._bind_socket()\n",
      "  File \"/usr/local/lib/python3.12/site-packages/ipykernel/heartbeat.py\", line 78, in _bind_socket\n",
      "    self._try_bind_socket()\n",
      "  File \"/usr/local/lib/python3.12/site-packages/ipykernel/heartbeat.py\", line 65, in _try_bind_socket\n",
      "    return self.socket.bind(f\"{self.transport}://{self.ip}\" + c + str(self.port))\n",
      "           ^^^^^^^^^^^^^^^^^^^^^^^^^^^^^^^^^^^^^^^^^^^^^^^^^^^^^^^^^^^^^^^^^^^^^^\n",
      "  File \"/usr/local/lib/python3.12/site-packages/zmq/sugar/socket.py\", line 311, in bind\n",
      "    super().bind(addr)\n",
      "  File \"_zmq.py\", line 917, in zmq.backend.cython._zmq.Socket.bind\n",
      "  File \"_zmq.py\", line 179, in zmq.backend.cython._zmq._check_rc\n",
      "zmq.error.ZMQError: Address already in use (addr='tcp://127.0.0.1:39109')\n"
     ]
    },
    {
     "data": {
      "text/html": [
       "Execution successful, check the result at the following link -> <a href='./processed_notebook/restar_ejecutado.ipynb' target='_blank'>./processed_notebook/restar_ejecutado.ipynb</a>"
      ],
      "text/plain": [
       "<IPython.core.display.HTML object>"
      ]
     },
     "metadata": {},
     "output_type": "display_data"
    },
    {
     "name": "stderr",
     "output_type": "stream",
     "text": [
      "Passed unknown parameter: inject_values\n"
     ]
    },
    {
     "name": "stdout",
     "output_type": "stream",
     "text": [
      "\n",
      "Executing 3_multiplicar.ipynb with parameters {'inject_values': {'x': [2, 3], 'y': [4, 5]}}...\n"
     ]
    },
    {
     "data": {
      "application/vnd.jupyter.widget-view+json": {
       "model_id": "737848d8594048fe803cd6554cf27262",
       "version_major": 2,
       "version_minor": 0
      },
      "text/plain": [
       "Executing:   0%|          | 0/8 [00:00<?, ?cell/s]"
      ]
     },
     "metadata": {},
     "output_type": "display_data"
    },
    {
     "data": {
      "text/html": [
       "Execution successful, check the result at the following link -> <a href='./processed_notebook/multiplicar_ejecutado.ipynb' target='_blank'>./processed_notebook/multiplicar_ejecutado.ipynb</a>"
      ],
      "text/plain": [
       "<IPython.core.display.HTML object>"
      ]
     },
     "metadata": {},
     "output_type": "display_data"
    },
    {
     "name": "stdout",
     "output_type": "stream",
     "text": [
      "\n"
     ]
    }
   ],
   "source": [
    "directorio_procesados = \"./processed_notebook\"\n",
    "notebooks_con_parametros = [\n",
    "    (\"1_Add.ipynb\", f\"{directorio_procesados}/sumar_ejecutado.ipynb\", {\"params\": [10, 5, 7]}),\n",
    "    (\"4_dividir.ipynb\", f\"{directorio_procesados}/dividir_ejecutado.ipynb\", {\"x\": 20, \"y\": 0}),\n",
    "    (\"2_restar.ipynb\", f\"{directorio_procesados}/restar_ejecutado.ipynb\", {\"x\": 10, \"y\": 3}),\n",
    "    (\"3_multiplicar.ipynb\", f\"{directorio_procesados}/multiplicar_ejecutado.ipynb\", {\"inject_values\": {'x':[2, 3], 'y':[4, 5]}}),\n",
    "]\n",
    "\n",
    "notebook_execution_results = list()\n",
    "\n",
    "for input_path, output_path, params in notebooks_con_parametros:\n",
    "    results = run_notebook_with_parameters(input_path, output_path, params)\n",
    "    notebook_execution_results.append({\"notebook_name\":input_path, \"notebook_output_data\": results})\n"
   ]
  },
  {
   "cell_type": "code",
   "execution_count": 3,
   "id": "1404623f-0705-43e6-a538-34b845ded15c",
   "metadata": {
    "scrolled": true
   },
   "outputs": [],
   "source": [
    "notebook_results = [notebook.get(\"notebook_output_data\") for notebook in notebook_execution_results]"
   ]
  },
  {
   "cell_type": "code",
   "execution_count": 4,
   "id": "901afa21-df9d-41c4-9060-8497a4ab423c",
   "metadata": {
    "scrolled": true
   },
   "outputs": [
    {
     "name": "stdout",
     "output_type": "stream",
     "text": [
      "The Notebook Name is notebook_name\n",
      "The Cell Number is = cell_3\n",
      "The variable_operation is = add(*params)\n",
      "The variable_name is = None\n",
      "The variable_value is = 22\n",
      "\n",
      "Skipping invalid or empty notebook entry.\n",
      "\n",
      "The Notebook Name is notebook_name\n",
      "The Cell Number is = cell_4\n",
      "The variable_operation is = resta(x,y)\n",
      "The variable_name is = None\n",
      "The variable_value is = 7\n",
      "\n",
      "The Notebook Name is notebook_name\n",
      "The Cell Number is = cell_4\n",
      "The variable_operation is = uno = multiplicar(x,y)\n",
      "uno\n",
      "The variable_name is = uno\n",
      "The variable_value is = 45\n",
      "\n",
      "The Cell Number is = cell_5\n",
      "The variable_operation is = dos = multiplicar(x,y)\n",
      "dos\n",
      "The variable_name is = dos\n",
      "The variable_value is = 45\n",
      "\n",
      "The Cell Number is = cell_6\n",
      "The variable_operation is = tres = multiplicar(x,y)\n",
      "tres\n",
      "The variable_name is = tres\n",
      "The variable_value is = 45\n",
      "\n",
      "The Cell Number is = cell_7\n",
      "The variable_operation is = uno\n",
      "dos\n",
      "tres\n",
      "The variable_name is = None\n",
      "The variable_value is = 45\n",
      "\n"
     ]
    }
   ],
   "source": [
    "for notebook in notebook_results:\n",
    "    display_notebook_variables_and_values(notebook, 'notebook_name')"
   ]
  },
  {
   "cell_type": "code",
   "execution_count": null,
   "id": "a8e802bc-f27e-4d1d-a4a2-913fb04f6aa8",
   "metadata": {},
   "outputs": [],
   "source": []
  }
 ],
 "metadata": {
  "kernelspec": {
   "display_name": "Python - ML - Data Science",
   "language": "python",
   "name": "python3"
  },
  "language_info": {
   "codemirror_mode": {
    "name": "ipython",
    "version": 3
   },
   "file_extension": ".py",
   "mimetype": "text/x-python",
   "name": "python",
   "nbconvert_exporter": "python",
   "pygments_lexer": "ipython3",
   "version": "3.12.7"
  }
 },
 "nbformat": 4,
 "nbformat_minor": 5
}
