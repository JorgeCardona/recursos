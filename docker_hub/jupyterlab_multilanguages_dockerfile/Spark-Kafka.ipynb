{
 "cells": [
  {
   "cell_type": "markdown",
   "id": "9cd0bb57-efb5-4298-8147-558ee4570112",
   "metadata": {},
   "source": [
    "# DEPENDENCIAS"
   ]
  },
  {
   "cell_type": "code",
   "execution_count": 1,
   "id": "a9cf8395-7cce-4af4-8f47-4aa0e30f4cd6",
   "metadata": {},
   "outputs": [],
   "source": [
    "import os\n",
    "\n",
    "# Directory where JARs are located\n",
    "jars_directory = \"/usr/local/spark/jars/\"\n",
    "\n",
    "# List of JAR filenames\n",
    "jar_files = [\n",
    "    \"commons-pool2-2.11.1.jar\",\n",
    "    \"kafka-clients-3.3.2.jar\",\n",
    "    \"spark-sql-kafka-0-10_2.12-3.4.1.jar\",\n",
    "    \"spark-token-provider-kafka-0-10_2.12-3.4.1.jar\"\n",
    "]\n",
    "\n",
    "dependencies = \",\".join([os.path.join(jars_directory, jar) for jar in jar_files])"
   ]
  },
  {
   "cell_type": "markdown",
   "id": "18600232-19bf-42b8-a191-a096ba535b08",
   "metadata": {},
   "source": [
    "# LECTURA"
   ]
  },
  {
   "cell_type": "code",
   "execution_count": 4,
   "id": "fbc3e9cb-e24c-4366-a0da-27cb057aba45",
   "metadata": {},
   "outputs": [
    {
     "name": "stderr",
     "output_type": "stream",
     "text": [
      "24/01/02 05:27:19 WARN AdminClientConfig: These configurations '[key.deserializer, value.deserializer, enable.auto.commit, max.poll.records, auto.offset.reset]' were supplied but are not used yet.\n",
      "24/01/02 05:27:20 WARN KafkaDataConsumer: KafkaDataConsumer is not running in UninterruptibleThread. It may hang when KafkaDataConsumer's methods are interrupted because of KAFKA-1894\n",
      "24/01/02 05:27:20 WARN KafkaDataConsumer: KafkaDataConsumer is not running in UninterruptibleThread. It may hang when KafkaDataConsumer's methods are interrupted because of KAFKA-1894\n",
      "24/01/02 05:27:21 WARN KafkaDataConsumer: KafkaDataConsumer is not running in UninterruptibleThread. It may hang when KafkaDataConsumer's methods are interrupted because of KAFKA-1894\n",
      "24/01/02 05:27:21 WARN KafkaDataConsumer: KafkaDataConsumer is not running in UninterruptibleThread. It may hang when KafkaDataConsumer's methods are interrupted because of KAFKA-1894\n",
      "24/01/02 05:27:21 WARN KafkaDataConsumer: KafkaDataConsumer is not running in UninterruptibleThread. It may hang when KafkaDataConsumer's methods are interrupted because of KAFKA-1894\n",
      "24/01/02 05:27:21 WARN KafkaDataConsumer: KafkaDataConsumer is not running in UninterruptibleThread. It may hang when KafkaDataConsumer's methods are interrupted because of KAFKA-1894\n",
      "24/01/02 05:27:21 WARN KafkaDataConsumer: KafkaDataConsumer is not running in UninterruptibleThread. It may hang when KafkaDataConsumer's methods are interrupted because of KAFKA-1894\n",
      "24/01/02 05:27:21 WARN KafkaDataConsumer: KafkaDataConsumer is not running in UninterruptibleThread. It may hang when KafkaDataConsumer's methods are interrupted because of KAFKA-1894\n",
      "24/01/02 05:27:21 WARN KafkaDataConsumer: KafkaDataConsumer is not running in UninterruptibleThread. It may hang when KafkaDataConsumer's methods are interrupted because of KAFKA-1894\n",
      "24/01/02 05:27:21 WARN KafkaDataConsumer: KafkaDataConsumer is not running in UninterruptibleThread. It may hang when KafkaDataConsumer's methods are interrupted because of KAFKA-1894\n",
      "24/01/02 05:27:21 WARN KafkaDataConsumer: KafkaDataConsumer is not running in UninterruptibleThread. It may hang when KafkaDataConsumer's methods are interrupted because of KAFKA-1894\n",
      "24/01/02 05:27:21 WARN KafkaDataConsumer: KafkaDataConsumer is not running in UninterruptibleThread. It may hang when KafkaDataConsumer's methods are interrupted because of KAFKA-1894\n",
      "24/01/02 05:27:21 WARN KafkaDataConsumer: KafkaDataConsumer is not running in UninterruptibleThread. It may hang when KafkaDataConsumer's methods are interrupted because of KAFKA-1894\n",
      "24/01/02 05:27:21 WARN KafkaDataConsumer: KafkaDataConsumer is not running in UninterruptibleThread. It may hang when KafkaDataConsumer's methods are interrupted because of KAFKA-1894\n",
      "24/01/02 05:27:21 WARN KafkaDataConsumer: KafkaDataConsumer is not running in UninterruptibleThread. It may hang when KafkaDataConsumer's methods are interrupted because of KAFKA-1894\n",
      "24/01/02 05:27:21 WARN KafkaDataConsumer: KafkaDataConsumer is not running in UninterruptibleThread. It may hang when KafkaDataConsumer's methods are interrupted because of KAFKA-1894\n",
      "24/01/02 05:27:21 WARN KafkaDataConsumer: KafkaDataConsumer is not running in UninterruptibleThread. It may hang when KafkaDataConsumer's methods are interrupted because of KAFKA-1894\n",
      "24/01/02 05:27:21 WARN KafkaDataConsumer: KafkaDataConsumer is not running in UninterruptibleThread. It may hang when KafkaDataConsumer's methods are interrupted because of KAFKA-1894\n",
      "24/01/02 05:27:21 WARN KafkaDataConsumer: KafkaDataConsumer is not running in UninterruptibleThread. It may hang when KafkaDataConsumer's methods are interrupted because of KAFKA-1894\n",
      "24/01/02 05:27:21 WARN KafkaDataConsumer: KafkaDataConsumer is not running in UninterruptibleThread. It may hang when KafkaDataConsumer's methods are interrupted because of KAFKA-1894\n",
      "24/01/02 05:27:21 WARN KafkaDataConsumer: KafkaDataConsumer is not running in UninterruptibleThread. It may hang when KafkaDataConsumer's methods are interrupted because of KAFKA-1894\n",
      "                                                                                \r"
     ]
    },
    {
     "name": "stdout",
     "output_type": "stream",
     "text": [
      "+--------+------+-------------+---------+------+-----------------------+-------------+\n",
      "|key     |value |topic        |partition|offset|timestamp              |timestampType|\n",
      "+--------+------+-------------+---------+------+-----------------------+-------------+\n",
      "|tiger   |feline|animals-topic|1        |0     |2024-01-02 05:16:34.262|0            |\n",
      "|tiger   |feline|animals-topic|1        |1     |2024-01-02 05:18:00.249|0            |\n",
      "|tiger   |feline|animals-topic|1        |2     |2024-01-02 05:18:12.788|0            |\n",
      "|tiger   |feline|animals-topic|1        |3     |2024-01-02 05:18:18.444|0            |\n",
      "|tiger   |feline|animals-topic|1        |4     |2024-01-02 05:18:22.265|0            |\n",
      "|tiger   |feline|animals-topic|1        |5     |2024-01-02 05:24:37.562|0            |\n",
      "|tiger   |feline|animals-topic|1        |6     |2024-01-02 05:27:09.911|0            |\n",
      "|lion    |feline|animals-topic|2        |0     |2024-01-02 05:16:34.263|0            |\n",
      "|elephant|mammal|animals-topic|2        |1     |2024-01-02 05:16:34.263|0            |\n",
      "|lion    |feline|animals-topic|2        |2     |2024-01-02 05:18:00.249|0            |\n",
      "|elephant|mammal|animals-topic|2        |3     |2024-01-02 05:18:00.249|0            |\n",
      "|elephant|mammal|animals-topic|2        |4     |2024-01-02 05:18:12.777|0            |\n",
      "|lion    |feline|animals-topic|2        |5     |2024-01-02 05:18:12.896|0            |\n",
      "|lion    |feline|animals-topic|2        |6     |2024-01-02 05:18:18.562|0            |\n",
      "|elephant|mammal|animals-topic|2        |7     |2024-01-02 05:18:18.645|0            |\n",
      "|elephant|mammal|animals-topic|2        |8     |2024-01-02 05:18:22.413|0            |\n",
      "|lion    |feline|animals-topic|2        |9     |2024-01-02 05:18:22.495|0            |\n",
      "|lion    |feline|animals-topic|2        |10    |2024-01-02 05:24:37.562|0            |\n",
      "|elephant|mammal|animals-topic|2        |11    |2024-01-02 05:24:37.636|0            |\n",
      "|lion    |feline|animals-topic|2        |12    |2024-01-02 05:27:09.789|0            |\n",
      "+--------+------+-------------+---------+------+-----------------------+-------------+\n",
      "only showing top 20 rows\n",
      "\n"
     ]
    }
   ],
   "source": [
    "from pyspark.sql import SparkSession\n",
    "from pyspark.sql.functions import udf\n",
    "from pyspark.sql.types import StringType\n",
    "\n",
    "# Create Spark session\n",
    "spark = SparkSession.builder \\\n",
    "    .appName(\"ReadKafkaAnimals\") \\\n",
    "    .config(\"spark.jars\", dependencies) \\\n",
    "    .getOrCreate()\n",
    "\n",
    "# Define the hexadecimal decoding function\n",
    "@udf(returnType=StringType())\n",
    "def decode_hex(value):\n",
    "    try:\n",
    "        if isinstance(value, str):\n",
    "            return bytes.fromhex(value).decode('utf-8')\n",
    "        elif isinstance(value, bytearray):\n",
    "            return bytes(value).decode('utf-8')\n",
    "        else:\n",
    "            return str(value)\n",
    "    except (ValueError, UnicodeDecodeError):\n",
    "        return str(value)\n",
    "\n",
    "# Configure Kafka connection\n",
    "kafka_bootstrap_servers = \"localhost:9092\"\n",
    "topic = \"animals-topic\"\n",
    "\n",
    "# Try to read data from Kafka\n",
    "try:\n",
    "    # Read data from Kafka\n",
    "    df_kafka = spark \\\n",
    "        .read \\\n",
    "        .format(\"kafka\") \\\n",
    "        .option(\"kafka.bootstrap.servers\", kafka_bootstrap_servers) \\\n",
    "        .option(\"subscribe\", topic) \\\n",
    "        .load()\n",
    "\n",
    "    # Decode hexadecimal values\n",
    "    df_decoded = df_kafka \\\n",
    "        .withColumn('key', decode_hex('key')) \\\n",
    "        .withColumn('value', decode_hex('value'))\n",
    "\n",
    "    # Show the DataFrame with decoded data\n",
    "    df_decoded.show(truncate=False)\n",
    "\n",
    "except Exception as e:\n",
    "    if \"UnknownTopicOrPartitionException\" in str(e):\n",
    "        print(f\"The topic '{topic}' does not exist in the Kafka cluster.\")\n",
    "    else:\n",
    "        print(f\"Unexpected error: {e}\")\n",
    "\n",
    "finally:\n",
    "    # Stop the Spark session\n",
    "    spark.stop()"
   ]
  },
  {
   "cell_type": "markdown",
   "id": "9b1164ba-56ed-4b7a-9f19-49940731cadd",
   "metadata": {},
   "source": [
    "# ESCRITURA"
   ]
  },
  {
   "cell_type": "code",
   "execution_count": 3,
   "id": "56f14306-a6e2-48c6-8fe8-7926efd1ff2e",
   "metadata": {},
   "outputs": [
    {
     "name": "stderr",
     "output_type": "stream",
     "text": [
      "                                                                                \r"
     ]
    },
    {
     "name": "stdout",
     "output_type": "stream",
     "text": [
      "Data written to Kafka topic (Animals).\n"
     ]
    }
   ],
   "source": [
    "from pyspark.sql import SparkSession\n",
    "import os\n",
    "\n",
    "# Configure Kafka connection\n",
    "kafka_bootstrap_servers = \"localhost:9092\"\n",
    "topic = \"animals-topic\"\n",
    "\n",
    "# Create Spark session and add JARs\n",
    "spark = SparkSession.builder \\\n",
    "    .appName(\"WriteKafkaAnimals\") \\\n",
    "    .config(\"spark.jars\", dependencies) \\\n",
    "    .getOrCreate()\n",
    "\n",
    "# Create a sample DataFrame with animal data\n",
    "data = [(\"lion\", \"feline\"), (\"elephant\", \"mammal\"), (\"tiger\", \"feline\")]\n",
    "columns = [\"name\", \"type\"]\n",
    "\n",
    "df_animals = spark.createDataFrame(data, columns)\n",
    "\n",
    "# Write the DataFrame to Kafka topic\n",
    "df_animals.selectExpr(\"name as key\", \"type as value\") \\\n",
    "    .write \\\n",
    "    .format(\"kafka\") \\\n",
    "    .option(\"kafka.bootstrap.servers\", kafka_bootstrap_servers) \\\n",
    "    .option(\"topic\", topic) \\\n",
    "    .save()\n",
    "\n",
    "# Print a message indicating that the data has been written to the Kafka topic\n",
    "print(\"Data written to Kafka topic (Animals).\")\n",
    "\n",
    "# Finally, stop the Spark session\n",
    "spark.stop()"
   ]
  },
  {
   "cell_type": "code",
   "execution_count": null,
   "id": "4ceb59e5-fa99-45f1-aac4-bc41d2deac7a",
   "metadata": {},
   "outputs": [],
   "source": []
  }
 ],
 "metadata": {
  "kernelspec": {
   "display_name": "Python 3 (ipykernel)",
   "language": "python",
   "name": "python3"
  },
  "language_info": {
   "codemirror_mode": {
    "name": "ipython",
    "version": 3
   },
   "file_extension": ".py",
   "mimetype": "text/x-python",
   "name": "python",
   "nbconvert_exporter": "python",
   "pygments_lexer": "ipython3",
   "version": "3.11.7"
  }
 },
 "nbformat": 4,
 "nbformat_minor": 5
}
